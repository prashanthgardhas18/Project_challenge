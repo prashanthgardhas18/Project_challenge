{
 "cells": [
  {
   "cell_type": "code",
   "execution_count": 0,
   "metadata": {
    "application/vnd.databricks.v1+cell": {
     "title": "Create the folder in DBFS to place the files",
     "showTitle": true,
     "inputWidgets": {},
     "nuid": "7a2c1965-7c79-472b-8266-dffa0fadebce"
    }
   },
   "outputs": [
    {
     "data": {
      "text/html": [
       "<style scoped>\n  .ansiout {\n    display: block;\n    unicode-bidi: embed;\n    white-space: pre-wrap;\n    word-wrap: break-word;\n    word-break: break-all;\n    font-family: \"Source Code Pro\", \"Menlo\", monospace;;\n    font-size: 13px;\n    color: #555;\n    margin-left: 4px;\n    line-height: 19px;\n  }\n</style>\n<div class=\"ansiout\">res0: Boolean = true\n</div>"
      ]
     },
     "metadata": {
      "application/vnd.databricks.v1+output": {
       "datasetInfos": [],
       "data": "<div class=\"ansiout\">res0: Boolean = true\n</div>",
       "removedWidgets": [],
       "addedWidgets": {},
       "metadata": {},
       "type": "html",
       "arguments": {}
      }
     },
     "output_type": "execute_result"
    }
   ],
   "source": [
    "%fs mkdirs dbfs:/FileStore/tables/airlines"
   ]
  },
  {
   "cell_type": "code",
   "execution_count": 0,
   "metadata": {
    "application/vnd.databricks.v1+cell": {
     "title": "Create the folder in DBFS to place the files",
     "showTitle": true,
     "inputWidgets": {},
     "nuid": "a720c17f-f5fc-4f10-b82a-ece234e32973"
    }
   },
   "outputs": [
    {
     "data": {
      "text/html": [
       "<style scoped>\n  .ansiout {\n    display: block;\n    unicode-bidi: embed;\n    white-space: pre-wrap;\n    word-wrap: break-word;\n    word-break: break-all;\n    font-family: \"Source Code Pro\", \"Menlo\", monospace;;\n    font-size: 13px;\n    color: #555;\n    margin-left: 4px;\n    line-height: 19px;\n  }\n</style>\n<div class=\"ansiout\">res1: Boolean = true\n</div>"
      ]
     },
     "metadata": {
      "application/vnd.databricks.v1+output": {
       "datasetInfos": [],
       "data": "<div class=\"ansiout\">res1: Boolean = true\n</div>",
       "removedWidgets": [],
       "addedWidgets": {},
       "metadata": {},
       "type": "html",
       "arguments": {}
      }
     },
     "output_type": "execute_result"
    }
   ],
   "source": [
    "%fs mkdirs dbfs:/FileStore/tables/airports"
   ]
  },
  {
   "cell_type": "code",
   "execution_count": 0,
   "metadata": {
    "application/vnd.databricks.v1+cell": {
     "title": "Create the folder in DBFS to place the files",
     "showTitle": true,
     "inputWidgets": {},
     "nuid": "9ebe1699-9dd9-4c3a-937d-26b67825d702"
    }
   },
   "outputs": [
    {
     "data": {
      "text/html": [
       "<style scoped>\n  .ansiout {\n    display: block;\n    unicode-bidi: embed;\n    white-space: pre-wrap;\n    word-wrap: break-word;\n    word-break: break-all;\n    font-family: \"Source Code Pro\", \"Menlo\", monospace;;\n    font-size: 13px;\n    color: #555;\n    margin-left: 4px;\n    line-height: 19px;\n  }\n</style>\n<div class=\"ansiout\">res2: Boolean = true\n</div>"
      ]
     },
     "metadata": {
      "application/vnd.databricks.v1+output": {
       "datasetInfos": [],
       "data": "<div class=\"ansiout\">res2: Boolean = true\n</div>",
       "removedWidgets": [],
       "addedWidgets": {},
       "metadata": {},
       "type": "html",
       "arguments": {}
      }
     },
     "output_type": "execute_result"
    }
   ],
   "source": [
    "%fs mkdirs dbfs:/FileStore/tables/flights"
   ]
  },
  {
   "cell_type": "code",
   "execution_count": 0,
   "metadata": {
    "application/vnd.databricks.v1+cell": {
     "title": "Load file into a dataframe",
     "showTitle": true,
     "inputWidgets": {},
     "nuid": "1c6e96f8-f9e8-4aa3-951e-eca790797dbd"
    }
   },
   "outputs": [
    {
     "data": {
      "text/html": [
       "<style scoped>\n  .ansiout {\n    display: block;\n    unicode-bidi: embed;\n    white-space: pre-wrap;\n    word-wrap: break-word;\n    word-break: break-all;\n    font-family: \"Source Code Pro\", \"Menlo\", monospace;;\n    font-size: 13px;\n    color: #555;\n    margin-left: 4px;\n    line-height: 19px;\n  }\n</style>\n<div class=\"ansiout\"></div>"
      ]
     },
     "metadata": {
      "application/vnd.databricks.v1+output": {
       "datasetInfos": [],
       "data": "<div class=\"ansiout\"></div>",
       "removedWidgets": [],
       "addedWidgets": {},
       "metadata": {},
       "type": "html",
       "arguments": {}
      }
     },
     "output_type": "execute_result"
    }
   ],
   "source": [
    "# Read data into Dataframes\n",
    "airlines_df = spark.read.format(\"CSV\") \\\n",
    "  .option(\"inferSchema\", \"FALSE\") \\\n",
    "  .option(\"header\", \"TRUE\") \\\n",
    "  .option(\"sep\", \",\") \\\n",
    "  .load(\"/FileStore/tables/airlines/*\");\n",
    "\n",
    "airports_df = spark.read.format(\"CSV\") \\\n",
    "  .option(\"inferSchema\", \"FALSE\") \\\n",
    "  .option(\"header\", \"TRUE\") \\\n",
    "  .option(\"sep\", \",\") \\\n",
    "  .load(\"/FileStore/tables/airports/*\");\n",
    "\n",
    "flights_df = spark.read.format(\"CSV\") \\\n",
    "  .option(\"inferSchema\", \"FALSE\") \\\n",
    "  .option(\"header\", \"TRUE\") \\\n",
    "  .option(\"sep\", \",\") \\\n",
    "  .load(\"/FileStore/tables/flights/*\")"
   ]
  },
  {
   "cell_type": "code",
   "execution_count": 0,
   "metadata": {
    "application/vnd.databricks.v1+cell": {
     "title": "Connect to snowflake database",
     "showTitle": true,
     "inputWidgets": {},
     "nuid": "e3039059-4267-4aa1-a0e5-3263b5652362"
    }
   },
   "outputs": [
    {
     "data": {
      "text/html": [
       "<style scoped>\n  .ansiout {\n    display: block;\n    unicode-bidi: embed;\n    white-space: pre-wrap;\n    word-wrap: break-word;\n    word-break: break-all;\n    font-family: \"Source Code Pro\", \"Menlo\", monospace;;\n    font-size: 13px;\n    color: #555;\n    margin-left: 4px;\n    line-height: 19px;\n  }\n</style>\n<div class=\"ansiout\"></div>"
      ]
     },
     "metadata": {
      "application/vnd.databricks.v1+output": {
       "datasetInfos": [],
       "data": "<div class=\"ansiout\"></div>",
       "removedWidgets": [],
       "addedWidgets": {},
       "metadata": {},
       "type": "html",
       "arguments": {}
      }
     },
     "output_type": "execute_result"
    }
   ],
   "source": [
    "# snowflake connection options\n",
    "sfoptions = {\n",
    "  \"sfUrl\": \"fm60853.us-east-2.aws.snowflakecomputing.com\",\n",
    "  \"sfUser\": \"PRASHANTHGARDHAS18\",\n",
    "  \"sfPassword\": \"**********\",\n",
    "  \"sfDatabase\": \"USER_PRASHANTHGARDHAS\",\n",
    "  \"sfSchema\": \"MY_SCHEMA\",\n",
    "  \"sfWarehouse\": \"INTERVIEW_WH\"\n",
    "}"
   ]
  },
  {
   "cell_type": "code",
   "execution_count": 0,
   "metadata": {
    "application/vnd.databricks.v1+cell": {
     "title": "Load data into snowflake tables",
     "showTitle": true,
     "inputWidgets": {},
     "nuid": "86363954-1389-4c41-9fea-4c50c287301e"
    }
   },
   "outputs": [
    {
     "data": {
      "text/html": [
       "<style scoped>\n  .ansiout {\n    display: block;\n    unicode-bidi: embed;\n    white-space: pre-wrap;\n    word-wrap: break-word;\n    word-break: break-all;\n    font-family: \"Source Code Pro\", \"Menlo\", monospace;;\n    font-size: 13px;\n    color: #555;\n    margin-left: 4px;\n    line-height: 19px;\n  }\n</style>\n<div class=\"ansiout\"></div>"
      ]
     },
     "metadata": {
      "application/vnd.databricks.v1+output": {
       "datasetInfos": [],
       "data": "<div class=\"ansiout\"></div>",
       "removedWidgets": [],
       "addedWidgets": {},
       "metadata": {},
       "type": "html",
       "arguments": {}
      }
     },
     "output_type": "execute_result"
    }
   ],
   "source": [
    "# write data into Snowflake tables\n",
    "airlines_df.write.format(\"snowflake\").options(**sfoptions).option(\"dbtable\",\"MY_SCHEMA.AIRLINES\").mode(\"append\").save()\n",
    "\n",
    "airports_df.write.format(\"snowflake\").options(**sfoptions).option(\"dbtable\",\"MY_SCHEMA.AIRPORTS\").mode(\"append\").save()\n",
    "\n",
    "flights_df.write.format(\"snowflake\").options(**sfoptions).option(\"dbtable\",\"MY_SCHEMA.FLIGHTS\").mode(\"append\").save()"
   ]
  },
  {
   "cell_type": "code",
   "execution_count": 0,
   "metadata": {
    "application/vnd.databricks.v1+cell": {
     "title": "Report1 - Total number of flights by airline and airport on a monthly basis",
     "showTitle": true,
     "inputWidgets": {},
     "nuid": "5737fb18-244e-4283-bf79-9f867229e4ae"
    }
   },
   "outputs": [
    {
     "data": {
      "text/html": [
       "<style scoped>\n  .ansiout {\n    display: block;\n    unicode-bidi: embed;\n    white-space: pre-wrap;\n    word-wrap: break-word;\n    word-break: break-all;\n    font-family: \"Source Code Pro\", \"Menlo\", monospace;;\n    font-size: 13px;\n    color: #555;\n    margin-left: 4px;\n    line-height: 19px;\n  }\n</style>\n<div class=\"ansiout\"></div>"
      ]
     },
     "metadata": {
      "application/vnd.databricks.v1+output": {
       "datasetInfos": [],
       "data": "<div class=\"ansiout\"></div>",
       "removedWidgets": [],
       "addedWidgets": {},
       "metadata": {},
       "type": "html",
       "arguments": {}
      }
     },
     "output_type": "execute_result"
    }
   ],
   "source": [
    "df1 = spark.read.format(\"snowflake\").options(**sfoptions).option(\"dbtable\",\"view_report_1\").load();\n",
    "\n",
    "df1.createOrReplaceTempView(\"view_report_1\");"
   ]
  },
  {
   "cell_type": "code",
   "execution_count": 0,
   "metadata": {
    "application/vnd.databricks.v1+cell": {
     "title": "Report2 - On time percentage of each airline for the year 2015",
     "showTitle": true,
     "inputWidgets": {},
     "nuid": "f8f6b131-ef98-414d-95b6-19a1787c14d6"
    }
   },
   "outputs": [
    {
     "data": {
      "text/html": [
       "<style scoped>\n  .ansiout {\n    display: block;\n    unicode-bidi: embed;\n    white-space: pre-wrap;\n    word-wrap: break-word;\n    word-break: break-all;\n    font-family: \"Source Code Pro\", \"Menlo\", monospace;;\n    font-size: 13px;\n    color: #555;\n    margin-left: 4px;\n    line-height: 19px;\n  }\n</style>\n<div class=\"ansiout\"></div>"
      ]
     },
     "metadata": {
      "application/vnd.databricks.v1+output": {
       "datasetInfos": [],
       "data": "<div class=\"ansiout\"></div>",
       "removedWidgets": [],
       "addedWidgets": {},
       "metadata": {},
       "type": "html",
       "arguments": {}
      }
     },
     "output_type": "execute_result"
    }
   ],
   "source": [
    "df2 = spark.read.format(\"snowflake\").options(**sfoptions).option(\"dbtable\",\"view_report_2\").load();\n",
    "\n",
    "df2.createOrReplaceTempView(\"view_report_2\");"
   ]
  },
  {
   "cell_type": "code",
   "execution_count": 0,
   "metadata": {
    "application/vnd.databricks.v1+cell": {
     "title": "Report3 - Airlines with the largest number of delays",
     "showTitle": true,
     "inputWidgets": {},
     "nuid": "660f5500-a2ec-4ae9-a9da-979e90b93c37"
    }
   },
   "outputs": [
    {
     "data": {
      "text/html": [
       "<style scoped>\n  .ansiout {\n    display: block;\n    unicode-bidi: embed;\n    white-space: pre-wrap;\n    word-wrap: break-word;\n    word-break: break-all;\n    font-family: \"Source Code Pro\", \"Menlo\", monospace;;\n    font-size: 13px;\n    color: #555;\n    margin-left: 4px;\n    line-height: 19px;\n  }\n</style>\n<div class=\"ansiout\"></div>"
      ]
     },
     "metadata": {
      "application/vnd.databricks.v1+output": {
       "datasetInfos": [],
       "data": "<div class=\"ansiout\"></div>",
       "removedWidgets": [],
       "addedWidgets": {},
       "metadata": {},
       "type": "html",
       "arguments": {}
      }
     },
     "output_type": "execute_result"
    }
   ],
   "source": [
    "df3 = spark.read.format(\"snowflake\").options(**sfoptions).option(\"dbtable\",\"view_report_3\").load();\n",
    "\n",
    "df3.createOrReplaceTempView(\"view_report_3\");"
   ]
  },
  {
   "cell_type": "code",
   "execution_count": 0,
   "metadata": {
    "application/vnd.databricks.v1+cell": {
     "title": "Report4 - Cancellation reasons by airport",
     "showTitle": true,
     "inputWidgets": {},
     "nuid": "8069ad9e-166e-49ff-8086-44be8a7e409d"
    }
   },
   "outputs": [
    {
     "data": {
      "text/html": [
       "<style scoped>\n  .ansiout {\n    display: block;\n    unicode-bidi: embed;\n    white-space: pre-wrap;\n    word-wrap: break-word;\n    word-break: break-all;\n    font-family: \"Source Code Pro\", \"Menlo\", monospace;;\n    font-size: 13px;\n    color: #555;\n    margin-left: 4px;\n    line-height: 19px;\n  }\n</style>\n<div class=\"ansiout\"></div>"
      ]
     },
     "metadata": {
      "application/vnd.databricks.v1+output": {
       "datasetInfos": [],
       "data": "<div class=\"ansiout\"></div>",
       "removedWidgets": [],
       "addedWidgets": {},
       "metadata": {},
       "type": "html",
       "arguments": {}
      }
     },
     "output_type": "execute_result"
    }
   ],
   "source": [
    "df4 = spark.read.format(\"snowflake\").options(**sfoptions).option(\"dbtable\",\"view_report_4\").load();\n",
    "\n",
    "df4.createOrReplaceTempView(\"view_report_4\");"
   ]
  },
  {
   "cell_type": "code",
   "execution_count": 0,
   "metadata": {
    "application/vnd.databricks.v1+cell": {
     "title": "Report5 - Delay reasons by airport",
     "showTitle": true,
     "inputWidgets": {},
     "nuid": "acba1f77-e5e4-414a-9bdc-1237508dc96e"
    }
   },
   "outputs": [
    {
     "data": {
      "text/html": [
       "<style scoped>\n  .ansiout {\n    display: block;\n    unicode-bidi: embed;\n    white-space: pre-wrap;\n    word-wrap: break-word;\n    word-break: break-all;\n    font-family: \"Source Code Pro\", \"Menlo\", monospace;;\n    font-size: 13px;\n    color: #555;\n    margin-left: 4px;\n    line-height: 19px;\n  }\n</style>\n<div class=\"ansiout\"></div>"
      ]
     },
     "metadata": {
      "application/vnd.databricks.v1+output": {
       "datasetInfos": [],
       "data": "<div class=\"ansiout\"></div>",
       "removedWidgets": [],
       "addedWidgets": {},
       "metadata": {},
       "type": "html",
       "arguments": {}
      }
     },
     "output_type": "execute_result"
    }
   ],
   "source": [
    "df5 = spark.read.format(\"snowflake\").options(**sfoptions).option(\"dbtable\",\"view_report_5\").load();\n",
    "\n",
    "df5.createOrReplaceTempView(\"view_report_5\");"
   ]
  },
  {
   "cell_type": "code",
   "execution_count": 0,
   "metadata": {
    "application/vnd.databricks.v1+cell": {
     "title": "Report6 - Airline with the most unique routes",
     "showTitle": true,
     "inputWidgets": {},
     "nuid": "2a9033dd-f5ad-418f-8c3f-b82892b0a8f0"
    }
   },
   "outputs": [
    {
     "data": {
      "text/html": [
       "<style scoped>\n  .ansiout {\n    display: block;\n    unicode-bidi: embed;\n    white-space: pre-wrap;\n    word-wrap: break-word;\n    word-break: break-all;\n    font-family: \"Source Code Pro\", \"Menlo\", monospace;;\n    font-size: 13px;\n    color: #555;\n    margin-left: 4px;\n    line-height: 19px;\n  }\n</style>\n<div class=\"ansiout\"></div>"
      ]
     },
     "metadata": {
      "application/vnd.databricks.v1+output": {
       "datasetInfos": [],
       "data": "<div class=\"ansiout\"></div>",
       "removedWidgets": [],
       "addedWidgets": {},
       "metadata": {},
       "type": "html",
       "arguments": {}
      }
     },
     "output_type": "execute_result"
    }
   ],
   "source": [
    "df6 = spark.read.format(\"snowflake\").options(**sfoptions).option(\"dbtable\",\"view_report_6\").load();\n",
    "\n",
    "df6.createOrReplaceTempView(\"view_report_6\");"
   ]
  },
  {
   "cell_type": "code",
   "execution_count": 0,
   "metadata": {
    "application/vnd.databricks.v1+cell": {
     "title": "",
     "showTitle": false,
     "inputWidgets": {},
     "nuid": "3bcee222-49fb-49b9-9b49-9b1e72d85bb2"
    }
   },
   "outputs": [
    {
     "data": {
      "text/html": [
       "<style scoped>\n  .table-result-container {\n    max-height: 300px;\n    overflow: auto;\n  }\n  table, th, td {\n    border: 1px solid black;\n    border-collapse: collapse;\n  }\n  th, td {\n    padding: 5px;\n  }\n  th {\n    text-align: left;\n  }\n</style><div class='table-result-container'><table class='table-result'><thead style='background-color: white'><tr><th>AIRLINE</th><th>AIRPORT</th><th>MONTH</th><th>NUMBER_OF_FLIGHTS</th></tr></thead><tbody><tr><td>WN</td><td>San Diego International Airport (Lindbergh Field)</td><td>8</td><td>2881</td></tr><tr><td>WN</td><td>Bob Hope Airport (Hollywood Burbank Airport)</td><td>8</td><td>1256</td></tr><tr><td>AA</td><td>McCarran International Airport</td><td>8</td><td>1356</td></tr><tr><td>B6</td><td>Fort Lauderdale-Hollywood International Airport</td><td>8</td><td>1585</td></tr><tr><td>WN</td><td>Tulsa International Airport</td><td>8</td><td>386</td></tr><tr><td>F9</td><td>Chicago O'Hare International Airport</td><td>8</td><td>476</td></tr><tr><td>WN</td><td>Richmond International Airport</td><td>8</td><td>121</td></tr><tr><td>EV</td><td>Baton Rouge Metropolitan Airport</td><td>8</td><td>589</td></tr><tr><td>UA</td><td>San Diego International Airport (Lindbergh Field)</td><td>8</td><td>775</td></tr><tr><td>MQ</td><td>Cleveland Hopkins International Airport</td><td>8</td><td>160</td></tr><tr><td>DL</td><td>San Diego International Airport (Lindbergh Field)</td><td>8</td><td>643</td></tr><tr><td>OO</td><td>Duluth International Airport</td><td>8</td><td>135</td></tr><tr><td>AS</td><td>Honolulu International Airport</td><td>8</td><td>225</td></tr><tr><td>UA</td><td>Seattle-Tacoma International Airport</td><td>8</td><td>921</td></tr><tr><td>OO</td><td>Bill and Hillary Clinton National Airport (Adams Field)</td><td>8</td><td>111</td></tr><tr><td>MQ</td><td>Tulsa International Airport</td><td>8</td><td>170</td></tr><tr><td>EV</td><td>Harrisburg International Airport</td><td>8</td><td>51</td></tr><tr><td>EV</td><td>General Wayne A. Downing Peoria International Airport</td><td>8</td><td>283</td></tr><tr><td>HA</td><td>Oakland International Airport</td><td>8</td><td>89</td></tr><tr><td>MQ</td><td>Laredo International Airport</td><td>8</td><td>72</td></tr><tr><td>MQ</td><td>Jackson-Evers International Airport</td><td>8</td><td>60</td></tr><tr><td>B6</td><td>Portland International Jetport</td><td>8</td><td>155</td></tr><tr><td>AS</td><td>Philadelphia International Airport</td><td>8</td><td>31</td></tr><tr><td>UA</td><td>Boise Airport (Boise Air Terminal)</td><td>8</td><td>52</td></tr><tr><td>F9</td><td>Kansas City International Airport</td><td>8</td><td>31</td></tr><tr><td>UA</td><td>Lihue Airport</td><td>8</td><td>96</td></tr><tr><td>B6</td><td>Charlotte Douglas International Airport</td><td>8</td><td>124</td></tr><tr><td>MQ</td><td>Fort Smith Regional Airport</td><td>8</td><td>23</td></tr><tr><td>B6</td><td>Reno/Tahoe International Airport</td><td>8</td><td>31</td></tr><tr><td>EV</td><td>Stewart International Airport</td><td>8</td><td>1</td></tr><tr><td>WN</td><td>Indianapolis International Airport</td><td>8</td><td>896</td></tr><tr><td>DL</td><td>Sarasota-Bradenton International Airport</td><td>8</td><td>163</td></tr><tr><td>OO</td><td>Dickinson Theodore Roosevelt Regional Airport</td><td>8</td><td>61</td></tr><tr><td>EV</td><td>Ronald Reagan Washington National Airport</td><td>8</td><td>246</td></tr><tr><td>WN</td><td>Greater Rochester International Airport</td><td>8</td><td>158</td></tr><tr><td>NK</td><td>Niagara Falls International Airport</td><td>8</td><td>27</td></tr><tr><td>WN</td><td>Jacksonville International Airport</td><td>8</td><td>384</td></tr><tr><td>F9</td><td>Eppley Airfield</td><td>8</td><td>18</td></tr><tr><td>UA</td><td>Fort Lauderdale-Hollywood International Airport</td><td>8</td><td>347</td></tr><tr><td>OO</td><td>Devils Lake Regional Airport</td><td>8</td><td>48</td></tr><tr><td>F9</td><td>McGhee Tyson Airport</td><td>8</td><td>13</td></tr><tr><td>EV</td><td>Mobile Regional Airport</td><td>1</td><td>355</td></tr><tr><td>OO</td><td>Santa Barbara Municipal Airport (Santa Barbara Airport)</td><td>1</td><td>575</td></tr><tr><td>UA</td><td>Denver International Airport</td><td>1</td><td>3772</td></tr><tr><td>US</td><td>Ronald Reagan Washington National Airport</td><td>1</td><td>1672</td></tr><tr><td>B6</td><td>Fort Lauderdale-Hollywood International Airport</td><td>1</td><td>1660</td></tr><tr><td>AS</td><td>Los Angeles International Airport</td><td>1</td><td>592</td></tr><tr><td>WN</td><td>Orlando International Airport</td><td>1</td><td>3362</td></tr><tr><td>WN</td><td>Minneapolis-Saint Paul International Airport</td><td>1</td><td>647</td></tr><tr><td>AA</td><td>Nashville International Airport</td><td>1</td><td>291</td></tr><tr><td>AA</td><td>Louisville International Airport (Standiford Field)</td><td>1</td><td>27</td></tr><tr><td>WN</td><td>Spokane International Airport</td><td>1</td><td>256</td></tr><tr><td>OO</td><td>Rhinelander-Oneida County Airport</td><td>1</td><td>89</td></tr><tr><td>EV</td><td>Bill and Hillary Clinton National Airport (Adams Field)</td><td>1</td><td>249</td></tr><tr><td>NK</td><td>Hartsfield-Jackson Atlanta International Airport</td><td>1</td><td>248</td></tr><tr><td>MQ</td><td>Abilene Regional Airport</td><td>1</td><td>239</td></tr><tr><td>OO</td><td>Great Falls International Airport</td><td>1</td><td>146</td></tr><tr><td>AA</td><td>Minneapolis-Saint Paul International Airport</td><td>1</td><td>353</td></tr><tr><td>US</td><td>Hartsfield-Jackson Atlanta International Airport</td><td>1</td><td>513</td></tr><tr><td>OO</td><td>Bill and Hillary Clinton National Airport (Adams Field)</td><td>1</td><td>57</td></tr><tr><td>OO</td><td>Fort Wayne International Airport</td><td>1</td><td>89</td></tr><tr><td>EV</td><td>Albert J. Ellis Airport</td><td>1</td><td>112</td></tr><tr><td>F9</td><td>Raleigh-Durham International Airport</td><td>1</td><td>19</td></tr><tr><td>DL</td><td>Norfolk International Airport</td><td>1</td><td>189</td></tr><tr><td>F9</td><td>Minneapolis-Saint Paul International Airport</td><td>1</td><td>72</td></tr><tr><td>EV</td><td>Meridian Regional Airport</td><td>1</td><td>84</td></tr><tr><td>WN</td><td>Greenville-Spartanburg International Airport</td><td>1</td><td>120</td></tr><tr><td>US</td><td>Norfolk International Airport</td><td>1</td><td>79</td></tr><tr><td>UA</td><td>Cyril E. King Airport</td><td>1</td><td>70</td></tr><tr><td>AA</td><td>McAllen-Miller International Airport (McAllen Miller International)</td><td>1</td><td>151</td></tr><tr><td>B6</td><td>Phoenix Sky Harbor International Airport</td><td>1</td><td>61</td></tr><tr><td>F9</td><td>Portland International Airport</td><td>1</td><td>49</td></tr><tr><td>AA</td><td>Birmingham-Shuttlesworth International Airport</td><td>1</td><td>58</td></tr><tr><td>OO</td><td>Norfolk International Airport</td><td>1</td><td>49</td></tr><tr><td>EV</td><td>Dickinson Theodore Roosevelt Regional Airport</td><td>1</td><td>54</td></tr><tr><td>DL</td><td>Portland International Jetport</td><td>1</td><td>29</td></tr><tr><td>B6</td><td>Denver International Airport</td><td>1</td><td>80</td></tr><tr><td>NK</td><td>Portland International Airport</td><td>1</td><td>35</td></tr><tr><td>MQ</td><td>Bismarck Municipal Airport</td><td>1</td><td>62</td></tr><tr><td>DL</td><td>Augusta Regional Airport (Bush Field)</td><td>1</td><td>39</td></tr><tr><td>NK</td><td>Rafael Hernández Airport</td><td>1</td><td>13</td></tr><tr><td>DL</td><td>Shreveport Regional Airport</td><td>1</td><td>23</td></tr><tr><td>UA</td><td>St. Louis International Airport at Lambert Field</td><td>1</td><td>4</td></tr><tr><td>US</td><td>Gen. Edward Lawrence Logan International Airport</td><td>1</td><td>1418</td></tr><tr><td>US</td><td>Orlando International Airport</td><td>1</td><td>791</td></tr><tr><td>WN</td><td>Indianapolis International Airport</td><td>1</td><td>826</td></tr><tr><td>NK</td><td>Philadelphia International Airport</td><td>1</td><td>62</td></tr><tr><td>UA</td><td>Bradley International Airport</td><td>1</td><td>72</td></tr><tr><td>OO</td><td>Dane County Regional Airport</td><td>1</td><td>162</td></tr><tr><td>EV</td><td>Billings Logan International Airport</td><td>1</td><td>2</td></tr><tr><td>OO</td><td>Cedar City Regional Airport</td><td>2</td><td>48</td></tr><tr><td>DL</td><td>Daytona Beach International Airport</td><td>2</td><td>123</td></tr><tr><td>UA</td><td>Honolulu International Airport</td><td>2</td><td>351</td></tr><tr><td>DL</td><td>St. Louis International Airport at Lambert Field</td><td>2</td><td>286</td></tr><tr><td>UA</td><td>Denver International Airport</td><td>2</td><td>3577</td></tr><tr><td>OO</td><td>Mammoth Yosemite Airport</td><td>2</td><td>41</td></tr><tr><td>AS</td><td>Norman Y. Mineta San José International Airport</td><td>2</td><td>384</td></tr><tr><td>MQ</td><td>Eppley Airfield</td><td>2</td><td>52</td></tr><tr><td>DL</td><td>Sacramento International Airport</td><td>2</td><td>115</td></tr><tr><td>AA</td><td>Baltimore-Washington International Airport</td><td>2</td><td>191</td></tr><tr><td>F9</td><td>Denver International Airport</td><td>2</td><td>1618</td></tr><tr><td>OO</td><td>Phoenix Sky Harbor International Airport</td><td>2</td><td>1451</td></tr><tr><td>MQ</td><td>Springfield-Branson National Airport</td><td>2</td><td>318</td></tr><tr><td>OO</td><td>San Diego International Airport (Lindbergh Field)</td><td>2</td><td>647</td></tr><tr><td>AS</td><td>Honolulu International Airport</td><td>2</td><td>160</td></tr><tr><td>OO</td><td>Pocatello Regional Airport</td><td>2</td><td>52</td></tr><tr><td>AS</td><td>Juneau International Airport</td><td>2</td><td>276</td></tr><tr><td>UA</td><td>Baltimore-Washington International Airport</td><td>2</td><td>186</td></tr><tr><td>MQ</td><td>Wichita Falls Municipal Airport/Sheppard AFB</td><td>2</td><td>84</td></tr><tr><td>EV</td><td>Will Rogers World Airport</td><td>2</td><td>158</td></tr><tr><td>MQ</td><td>Pittsburgh International Airport</td><td>2</td><td>44</td></tr><tr><td>OO</td><td>St. Louis International Airport at Lambert Field</td><td>2</td><td>120</td></tr><tr><td>MQ</td><td>Lubbock Preston Smith International Airport</td><td>2</td><td>112</td></tr><tr><td>OO</td><td>Memphis International Airport</td><td>2</td><td>74</td></tr><tr><td>WN</td><td>Ontario International Airport</td><td>2</td><td>802</td></tr><tr><td>EV</td><td>Albuquerque International Sunport</td><td>2</td><td>72</td></tr><tr><td>DL</td><td>Northwest Arkansas Regional Airport</td><td>2</td><td>37</td></tr><tr><td>AA</td><td>Washington Dulles International Airport</td><td>2</td><td>187</td></tr><tr><td>DL</td><td>Norman Y. Mineta San José International Airport</td><td>2</td><td>44</td></tr><tr><td>US</td><td>San Antonio International Airport</td><td>2</td><td>48</td></tr><tr><td>OO</td><td>Spokane International Airport</td><td>2</td><td>196</td></tr><tr><td>DL</td><td>William P. Hobby Airport</td><td>2</td><td>181</td></tr><tr><td>AS</td><td>Petersburg James A. Johnson Airport</td><td>2</td><td>56</td></tr><tr><td>OO</td><td>Bismarck Municipal Airport</td><td>2</td><td>178</td></tr><tr><td>MQ</td><td>Birmingham-Shuttlesworth International Airport</td><td>2</td><td>80</td></tr><tr><td>MQ</td><td>Texarkana Regional Airport (Webb Field)</td><td>2</td><td>80</td></tr><tr><td>OO</td><td>LaGuardia Airport (Marine Air Terminal)</td><td>2</td><td>7</td></tr><tr><td>AS</td><td>Ted Stevens Anchorage International Airport</td><td>3</td><td>1014</td></tr><tr><td>OO</td><td>Minneapolis-Saint Paul International Airport</td><td>3</td><td>2075</td></tr><tr><td>WN</td><td>Ronald Reagan Washington National Airport</td><td>3</td><td>1340</td></tr><tr><td>WN</td><td>Pittsburgh International Airport</td><td>3</td><td>892</td></tr><tr><td>UA</td><td>Chicago O'Hare International Airport</td><td>3</td><td>5760</td></tr><tr><td>DL</td><td>Denver International Airport</td><td>3</td><td>685</td></tr><tr><td>WN</td><td>Theodore Francis Green State Airport</td><td>3</td><td>611</td></tr><tr><td>AA</td><td>Gen. Edward Lawrence Logan International Airport</td><td>3</td><td>882</td></tr><tr><td>EV</td><td>Detroit Metropolitan Airport</td><td>3</td><td>2580</td></tr><tr><td>B6</td><td>Charleston International Airport/Charleston AFB</td><td>3</td><td>163</td></tr><tr><td>OO</td><td>Albuquerque International Sunport</td><td>3</td><td>316</td></tr><tr><td>MQ</td><td>Central Wisconsin Airport</td><td>3</td><td>82</td></tr><tr><td>DL</td><td>Phoenix Sky Harbor International Airport</td><td>3</td><td>734</td></tr><tr><td>OO</td><td>Sloulin Field International Airport</td><td>3</td><td>172</td></tr><tr><td>EV</td><td>Jackson-Evers International Airport</td><td>3</td><td>331</td></tr><tr><td>US</td><td>Portland International Airport</td><td>3</td><td>161</td></tr><tr><td>DL</td><td>Mobile Regional Airport</td><td>3</td><td>57</td></tr><tr><td>WN</td><td>Minneapolis-Saint Paul International Airport</td><td>3</td><td>670</td></tr><tr><td>DL</td><td>George Bush Intercontinental Airport</td><td>3</td><td>253</td></tr><tr><td>EV</td><td>Syracuse Hancock International Airport</td><td>3</td><td>168</td></tr><tr><td>AS</td><td>Chicago O'Hare International Airport</td><td>3</td><td>162</td></tr><tr><td>EV</td><td>Albuquerque International Sunport</td><td>3</td><td>81</td></tr><tr><td>F9</td><td>Portland International Airport</td><td>3</td><td>58</td></tr><tr><td>B6</td><td>San Francisco International Airport</td><td>3</td><td>451</td></tr><tr><td>HA</td><td>McCarran International Airport</td><td>3</td><td>75</td></tr><tr><td>EV</td><td>Chattanooga Metropolitan Airport (Lovell Field)</td><td>3</td><td>203</td></tr><tr><td>B6</td><td>Seattle-Tacoma International Airport</td><td>3</td><td>151</td></tr><tr><td>US</td><td>Honolulu International Airport</td><td>3</td><td>81</td></tr><tr><td>WN</td><td>Washington Dulles International Airport</td><td>3</td><td>212</td></tr><tr><td>EV</td><td>Bismarck Municipal Airport</td><td>3</td><td>31</td></tr><tr><td>EV</td><td>Southwest Georgia Regional Airport</td><td>3</td><td>88</td></tr><tr><td>MQ</td><td>Central Nebraska Regional Airport</td><td>3</td><td>62</td></tr><tr><td>DL</td><td>Manchester-Boston Regional Airport</td><td>3</td><td>31</td></tr><tr><td>OO</td><td>Raleigh-Durham International Airport</td><td>3</td><td>24</td></tr><tr><td>AS</td><td>Albuquerque International Sunport</td><td>3</td><td>31</td></tr><tr><td>F9</td><td>San Diego International Airport (Lindbergh Field)</td><td>3</td><td>61</td></tr><tr><td>AA</td><td>Gunnison-Crested Butte Regional Airport</td><td>3</td><td>31</td></tr><tr><td>OO</td><td>General Wayne A. Downing Peoria International Airport</td><td>3</td><td>8</td></tr><tr><td>F9</td><td>Fort Lauderdale-Hollywood International Airport</td><td>2</td><td>100</td></tr><tr><td>EV</td><td>Chattanooga Metropolitan Airport (Lovell Field)</td><td>2</td><td>126</td></tr><tr><td>OO</td><td>Dickinson Theodore Roosevelt Regional Airport</td><td>2</td><td>50</td></tr><tr><td>EV</td><td>Blue Grass Airport</td><td>2</td><td>238</td></tr><tr><td>AS</td><td>Tucson International Airport</td><td>2</td><td>32</td></tr><tr><td>EV</td><td>Greater Binghamton Airport</td><td>2</td><td>38</td></tr><tr><td>EV</td><td>Philadelphia International Airport</td><td>2</td><td>19</td></tr><tr><td>UA</td><td>Rafael Hernández Airport</td><td>2</td><td>17</td></tr><tr><td>WN</td><td>San Antonio International Airport</td><td>3</td><td>1294</td></tr><tr><td>B6</td><td>LaGuardia Airport (Marine Air Terminal)</td><td>3</td><td>589</td></tr><tr><td>DL</td><td>Newark Liberty International Airport</td><td>3</td><td>419</td></tr><tr><td>MQ</td><td>Abilene Regional Airport</td><td>3</td><td>244</td></tr><tr><td>EV</td><td>El Paso International Airport</td><td>3</td><td>233</td></tr><tr><td>US</td><td>John Wayne Airport (Orange County Airport)</td><td>3</td><td>124</td></tr><tr><td>US</td><td>Norman Y. Mineta San José International Airport</td><td>3</td><td>123</td></tr><tr><td>DL</td><td>Louis Armstrong New Orleans International Airport</td><td>3</td><td>809</td></tr><tr><td>OO</td><td>Bill and Hillary Clinton National Airport (Adams Field)</td><td>3</td><td>67</td></tr><tr><td>EV</td><td>Sioux Falls Regional Airport</td><td>3</td><td>208</td></tr><tr><td>OO</td><td>Jamestown Regional Airport</td><td>3</td><td>75</td></tr><tr><td>EV</td><td>Valdosta Regional Airport</td><td>3</td><td>89</td></tr><tr><td>AS</td><td>Ontario International Airport</td><td>3</td><td>47</td></tr><tr><td>OO</td><td>Minot International Airport</td><td>3</td><td>59</td></tr><tr><td>WN</td><td>Gerald R. Ford International Airport</td><td>3</td><td>220</td></tr><tr><td>UA</td><td>Gunnison-Crested Butte Regional Airport</td><td>3</td><td>4</td></tr><tr><td>EV</td><td>Fort Wayne International Airport</td><td>3</td><td>81</td></tr><tr><td>HA</td><td>Los Angeles International Airport</td><td>3</td><td>124</td></tr><tr><td>EV</td><td>Nashville International Airport</td><td>6</td><td>272</td></tr><tr><td>WN</td><td>Phoenix Sky Harbor International Airport</td><td>6</td><td>5035</td></tr><tr><td>EV</td><td>Cleveland Hopkins International Airport</td><td>6</td><td>899</td></tr><tr><td>OO</td><td>Dallas/Fort Worth International Airport</td><td>6</td><td>418</td></tr><tr><td>DL</td><td>Huntsville International Airport</td><td>6</td><td>142</td></tr><tr><td>NK</td><td>Minneapolis-Saint Paul International Airport</td><td>6</td><td>300</td></tr><tr><td>EV</td><td>Cherry Capital Airport</td><td>6</td><td>86</td></tr><tr><td>B6</td><td>Pittsburgh International Airport</td><td>6</td><td>145</td></tr><tr><td>F9</td><td>Piedmont Triad International Airport</td><td>6</td><td>17</td></tr><tr><td>HA</td><td>Oakland International Airport</td><td>6</td><td>88</td></tr><tr><td>NK</td><td>Hartsfield-Jackson Atlanta International Airport</td><td>6</td><td>369</td></tr><tr><td>EV</td><td>Gen. Edward Lawrence Logan International Airport</td><td>6</td><td>226</td></tr><tr><td>EV</td><td>Jacksonville International Airport</td><td>6</td><td>130</td></tr><tr><td>EV</td><td>Rick Husband Amarillo International Airport</td><td>6</td><td>128</td></tr><tr><td>AA</td><td>Tucson International Airport</td><td>6</td><td>243</td></tr><tr><td>OO</td><td>Chippewa Valley Regional Airport</td><td>6</td><td>60</td></tr><tr><td>US</td><td>Detroit Metropolitan Airport</td><td>6</td><td>282</td></tr><tr><td>MQ</td><td>Will Rogers World Airport</td><td>6</td><td>281</td></tr><tr><td>OO</td><td>Great Falls International Airport</td><td>6</td><td>207</td></tr><tr><td>OO</td><td>Shreveport Regional Airport</td><td>6</td><td>26</td></tr><tr><td>OO</td><td>Sitka Rocky Gutierrez Airport</td><td>6</td><td>30</td></tr><tr><td>AA</td><td>Bradley International Airport</td><td>6</td><td>93</td></tr><tr><td>OO</td><td>Sioux Falls Regional Airport</td><td>6</td><td>241</td></tr><tr><td>EV</td><td>Central Wisconsin Airport</td><td>6</td><td>57</td></tr><tr><td>OO</td><td>Capital Region International Airport ( Lansing Capital City)</td><td>6</td><td>68</td></tr><tr><td>DL</td><td>Cherry Capital Airport</td><td>6</td><td>76</td></tr><tr><td>F9</td><td>Dallas/Fort Worth International Airport</td><td>6</td><td>112</td></tr><tr><td>UA</td><td>Albany International Airport</td><td>6</td><td>80</td></tr><tr><td>DL</td><td>Juneau International Airport</td><td>6</td><td>30</td></tr><tr><td>OO</td><td>Ronald Reagan Washington National Airport</td><td>7</td><td>164</td></tr><tr><td>WN</td><td>Austin-Bergstrom International Airport</td><td>7</td><td>1740</td></tr><tr><td>AA</td><td>San Francisco International Airport</td><td>7</td><td>1449</td></tr><tr><td>DL</td><td>General Mitchell International Airport</td><td>7</td><td>471</td></tr><tr><td>DL</td><td>Chicago O'Hare International Airport</td><td>7</td><td>680</td></tr><tr><td>UA</td><td>Austin-Bergstrom International Airport</td><td>7</td><td>463</td></tr><tr><td>DL</td><td>Savannah/Hilton Head International Airport</td><td>7</td><td>320</td></tr><tr><td>HA</td><td>Lihue Airport</td><td>7</td><td>741</td></tr><tr><td>B6</td><td>Raleigh-Durham International Airport</td><td>7</td><td>244</td></tr><tr><td>NK</td><td>Orlando International Airport</td><td>7</td><td>390</td></tr><tr><td>WN</td><td>Pittsburgh International Airport</td><td>7</td><td>881</td></tr><tr><td>EV</td><td>The Eastern Iowa Airport</td><td>7</td><td>226</td></tr><tr><td>EV</td><td>Laredo International Airport</td><td>7</td><td>120</td></tr><tr><td>AS</td><td>Yakutat Airport</td><td>7</td><td>62</td></tr><tr><td>DL</td><td>Portland International Airport</td><td>7</td><td>711</td></tr><tr><td>DL</td><td>Sarasota-Bradenton International Airport</td><td>7</td><td>178</td></tr><tr><td>WN</td><td>St. Louis International Airport at Lambert Field</td><td>7</td><td>2760</td></tr><tr><td>AA</td><td>Memphis International Airport</td><td>7</td><td>79</td></tr><tr><td>OO</td><td>Shreveport Regional Airport</td><td>7</td><td>61</td></tr><tr><td>F9</td><td>Southwest Florida International Airport</td><td>7</td><td>92</td></tr><tr><td>OO</td><td>Flagstaff Pulliam Airport</td><td>7</td><td>182</td></tr><tr><td>F9</td><td>John Wayne Airport (Orange County Airport)</td><td>7</td><td>62</td></tr><tr><td>WN</td><td>Bishop International Airport</td><td>7</td><td>124</td></tr><tr><td>EV</td><td>Killeen-Fort Hood Regional Airport</td><td>7</td><td>315</td></tr><tr><td>OO</td><td>Louisville International Airport (Standiford Field)</td><td>7</td><td>23</td></tr><tr><td>DL</td><td>Akron-Canton Regional Airport</td><td>7</td><td>116</td></tr><tr><td>EV</td><td>Palm Beach International Airport</td><td>7</td><td>13</td></tr><tr><td>DL</td><td>Reno/Tahoe International Airport</td><td>7</td><td>92</td></tr><tr><td>OO</td><td>Friedman Memorial Airport</td><td>7</td><td>131</td></tr><tr><td>F9</td><td>Kansas City International Airport</td><td>7</td><td>31</td></tr><tr><td>DL</td><td>Sioux Falls Regional Airport</td><td>7</td><td>31</td></tr><tr><td>DL</td><td>Juneau International Airport</td><td>7</td><td>31</td></tr><tr><td>OO</td><td>Grand Forks International Airport</td><td>7</td><td>33</td></tr><tr><td>EV</td><td>Dallas Love Field</td><td>7</td><td>8</td></tr><tr><td>AA</td><td>Kansas City International Airport</td><td>6</td><td>292</td></tr><tr><td>US</td><td>San Francisco International Airport</td><td>6</td><td>503</td></tr><tr><td>B6</td><td>Bradley International Airport</td><td>7</td><td>269</td></tr><tr><td>EV</td><td>Portland International Jetport</td><td>7</td><td>227</td></tr><tr><td>F9</td><td>Louis Armstrong New Orleans International Airport</td><td>7</td><td>62</td></tr><tr><td>UA</td><td>Washington Dulles International Airport</td><td>4</td><td>1655</td></tr><tr><td>UA</td><td>Southwest Florida International Airport</td><td>4</td><td>310</td></tr><tr><td>US</td><td>Greater Rochester International Airport</td><td>4</td><td>30</td></tr><tr><td>OO</td><td>McCarran International Airport</td><td>4</td><td>302</td></tr><tr><td>OO</td><td>Natrona County International Airport</td><td>4</td><td>195</td></tr><tr><td>DL</td><td>Eppley Airfield</td><td>4</td><td>195</td></tr><tr><td>US</td><td>Denver International Airport</td><td>4</td><td>363</td></tr><tr><td>UA</td><td>McCarran International Airport</td><td>4</td><td>1074</td></tr><tr><td>AS</td><td>Los Angeles International Airport</td><td>4</td><td>665</td></tr><tr><td>MQ</td><td>Cleveland Hopkins International Airport</td><td>4</td><td>232</td></tr><tr><td>UA</td><td>Raleigh-Durham International Airport</td><td>4</td><td>75</td></tr><tr><td>OO</td><td>Albuquerque International Sunport</td><td>4</td><td>318</td></tr><tr><td>NK</td><td>LaGuardia Airport (Marine Air Terminal)</td><td>4</td><td>330</td></tr><tr><td>OO</td><td>Midland International Airport</td><td>4</td><td>135</td></tr><tr><td>F9</td><td>Cleveland Hopkins International Airport</td><td>4</td><td>266</td></tr><tr><td>DL</td><td>Buffalo Niagara International Airport</td><td>4</td><td>217</td></tr><tr><td>DL</td><td>Portland International Jetport</td><td>4</td><td>55</td></tr><tr><td>EV</td><td>Chattanooga Metropolitan Airport (Lovell Field)</td><td>4</td><td>200</td></tr><tr><td>B6</td><td>Norman Y. Mineta San José International Airport</td><td>4</td><td>48</td></tr><tr><td>AA</td><td>Kansas City International Airport</td><td>4</td><td>266</td></tr><tr><td>OO</td><td>Pittsburgh International Airport</td><td>4</td><td>60</td></tr><tr><td>EV</td><td>Lake Charles Regional Airport</td><td>4</td><td>105</td></tr><tr><td>DL</td><td>Ted Stevens Anchorage International Airport</td><td>4</td><td>113</td></tr><tr><td>MQ</td><td>Charleston International Airport/Charleston AFB</td><td>4</td><td>120</td></tr><tr><td>US</td><td>Spokane International Airport</td><td>4</td><td>60</td></tr><tr><td>DL</td><td>Kahului Airport</td><td>4</td><td>90</td></tr><tr><td>DL</td><td>Norman Y. Mineta San José International Airport</td><td>4</td><td>77</td></tr><tr><td>F9</td><td>Central Illinois Regional Airport at Bloomington-Normal</td><td>4</td><td>8</td></tr><tr><td>OO</td><td>LaGuardia Airport (Marine Air Terminal)</td><td>4</td><td>11</td></tr><tr><td>US</td><td>Ted Stevens Anchorage International Airport</td><td>4</td><td>30</td></tr><tr><td>EV</td><td>Tucson International Airport</td><td>4</td><td>56</td></tr><tr><td>AS</td><td>Wrangell Airport</td><td>4</td><td>60</td></tr><tr><td>AS</td><td>Philadelphia International Airport</td><td>4</td><td>30</td></tr><tr><td>B6</td><td>Stewart International Airport</td><td>4</td><td>61</td></tr><tr><td>MQ</td><td>Sawyer International Airport</td><td>4</td><td>26</td></tr><tr><td>US</td><td>Kona International Airport at Keahole</td><td>4</td><td>22</td></tr><tr><td>UA</td><td>Augusta Regional Airport (Bush Field)</td><td>4</td><td>1</td></tr><tr><td>WN</td><td>Phoenix Sky Harbor International Airport</td><td>5</td><td>5029</td></tr><tr><td>OO</td><td>Salt Lake City International Airport</td><td>5</td><td>4133</td></tr><tr><td>DL</td><td>Will Rogers World Airport</td><td>5</td><td>123</td></tr><tr><td>NK</td><td>Detroit Metropolitan Airport</td><td>5</td><td>630</td></tr><tr><td>B6</td><td>Fort Lauderdale-Hollywood International Airport</td><td>5</td><td>1576</td></tr><tr><td>EV</td><td>Northwest Arkansas Regional Airport</td><td>5</td><td>284</td></tr><tr><td>OO</td><td>Monterey Regional Airport (Monterey Peninsula Airport)</td><td>5</td><td>262</td></tr><tr><td>US</td><td>Richmond International Airport</td><td>5</td><td>126</td></tr><tr><td>EV</td><td>Albert J. Ellis Airport</td><td>5</td><td>105</td></tr><tr><td>OO</td><td>Pittsburgh International Airport</td><td>5</td><td>62</td></tr><tr><td>US</td><td>Buffalo Niagara International Airport</td><td>5</td><td>114</td></tr><tr><td>EV</td><td>Nashville International Airport</td><td>5</td><td>261</td></tr><tr><td>EV</td><td>Bill and Hillary Clinton National Airport (Adams Field)</td><td>5</td><td>356</td></tr><tr><td>EV</td><td>Fort Smith Regional Airport</td><td>5</td><td>144</td></tr><tr><td>WN</td><td>Detroit Metropolitan Airport</td><td>5</td><td>575</td></tr><tr><td>EV</td><td>Dane County Regional Airport</td><td>5</td><td>235</td></tr><tr><td>UA</td><td>Gen. Edward Lawrence Logan International Airport</td><td>5</td><td>1139</td></tr><tr><td>EV</td><td>Minneapolis-Saint Paul International Airport</td><td>5</td><td>770</td></tr><tr><td>DL</td><td>Birmingham-Shuttlesworth International Airport</td><td>5</td><td>284</td></tr><tr><td>VX</td><td>McCarran International Airport</td><td>5</td><td>335</td></tr><tr><td>AA</td><td>Kona International Airport at Keahole</td><td>5</td><td>48</td></tr><tr><td>DL</td><td>Washington Dulles International Airport</td><td>5</td><td>221</td></tr><tr><td>WN</td><td>Bishop International Airport</td><td>5</td><td>150</td></tr><tr><td>VX</td><td>John F. Kennedy International Airport (New York International Airport)</td><td>5</td><td>315</td></tr><tr><td>F9</td><td>McCarran International Airport</td><td>5</td><td>455</td></tr><tr><td>EV</td><td>Coastal Carolina Regional Airport (Craven County Regional)</td><td>5</td><td>48</td></tr><tr><td>OO</td><td>Rapid City Regional Airport</td><td>5</td><td>223</td></tr><tr><td>MQ</td><td>Albuquerque International Sunport</td><td>5</td><td>58</td></tr><tr><td>DL</td><td>Daytona Beach International Airport</td><td>5</td><td>152</td></tr><tr><td>OO</td><td>Houghton County Memorial Airport</td><td>5</td><td>62</td></tr><tr><td>B6</td><td>Seattle-Tacoma International Airport</td><td>5</td><td>178</td></tr><tr><td>F9</td><td>Fort Lauderdale-Hollywood International Airport</td><td>5</td><td>66</td></tr><tr><td>F9</td><td>Ronald Reagan Washington National Airport</td><td>5</td><td>90</td></tr><tr><td>DL</td><td>El Paso International Airport</td><td>5</td><td>57</td></tr><tr><td>AS</td><td>Kodiak Airport</td><td>5</td><td>62</td></tr><tr><td>EV</td><td>Palm Beach International Airport</td><td>5</td><td>22</td></tr><tr><td>AA</td><td>Northwest Arkansas Regional Airport</td><td>5</td><td>4</td></tr><tr><td>DL</td><td>Bismarck Municipal Airport</td><td>5</td><td>35</td></tr><tr><td>EV</td><td>Minot International Airport</td><td>6</td><td>2</td></tr><tr><td>AS</td><td>Seattle-Tacoma International Airport</td><td>8</td><td>5243</td></tr><tr><td>B6</td><td>Gen. Edward Lawrence Logan International Airport</td><td>8</td><td>3731</td></tr><tr><td>UA</td><td>George Bush Intercontinental Airport</td><td>8</td><td>4912</td></tr><tr><td>DL</td><td>LaGuardia Airport (Marine Air Terminal)</td><td>8</td><td>2116</td></tr><tr><td>DL</td><td>Los Angeles International Airport</td><td>8</td><td>2721</td></tr><tr><td>OO</td><td>Cincinnati/Northern Kentucky International Airport</td><td>8</td><td>437</td></tr><tr><td>UA</td><td>Chicago O'Hare International Airport</td><td>8</td><td>5868</td></tr><tr><td>UA</td><td>Hartsfield-Jackson Atlanta International Airport</td><td>8</td><td>317</td></tr><tr><td>DL</td><td>Destin-Fort Walton Beach Airport/Eglin AFB</td><td>8</td><td>195</td></tr><tr><td>WN</td><td>Southwest Florida International Airport</td><td>8</td><td>369</td></tr><tr><td>MQ</td><td>St. Louis International Airport at Lambert Field</td><td>8</td><td>87</td></tr><tr><td>MQ</td><td>Evansville Regional Airport</td><td>8</td><td>146</td></tr><tr><td>B6</td><td>Rafael Hernández Airport</td><td>8</td><td>103</td></tr><tr><td>OO</td><td>Montrose Regional Airport</td><td>8</td><td>62</td></tr><tr><td>EV</td><td>Grand Junction Regional Airport (Walker Field)</td><td>8</td><td>31</td></tr><tr><td>NK</td><td>LaGuardia Airport (Marine Air Terminal)</td><td>8</td><td>341</td></tr><tr><td>AS</td><td>Yakutat Airport</td><td>8</td><td>62</td></tr><tr><td>EV</td><td>Green Bay-Austin Straubel International Airport</td><td>8</td><td>181</td></tr><tr><td>OO</td><td>Cherry Capital Airport</td><td>8</td><td>34</td></tr><tr><td>WN</td><td>Wichita Dwight D. Eisenhower National Airport (Wichita Mid-Continent Airport)</td><td>8</td><td>142</td></tr><tr><td>OO</td><td>Bishop International Airport</td><td>8</td><td>77</td></tr><tr><td>B6</td><td>McCarran International Airport</td><td>8</td><td>411</td></tr><tr><td>AS</td><td>John Wayne Airport (Orange County Airport)</td><td>8</td><td>326</td></tr><tr><td>MQ</td><td>Bishop International Airport</td><td>8</td><td>91</td></tr><tr><td>OO</td><td>Muskegon County Airport</td><td>8</td><td>62</td></tr><tr><td>OO</td><td>Louisville International Airport (Standiford Field)</td><td>8</td><td>34</td></tr><tr><td>EV</td><td>Bishop International Airport</td><td>8</td><td>88</td></tr><tr><td>OO</td><td>Washington Dulles International Airport</td><td>8</td><td>29</td></tr><tr><td>EV</td><td>Hattiesburg-Laurel Regional Airport</td><td>8</td><td>52</td></tr><tr><td>OO</td><td>Jamestown Regional Airport</td><td>8</td><td>74</td></tr><tr><td>MQ</td><td>Eppley Airfield</td><td>8</td><td>62</td></tr><tr><td>OO</td><td>Corpus Christi International Airport</td><td>8</td><td>28</td></tr><tr><td>UA</td><td>Gen. Edward Lawrence Logan International Airport</td><td>8</td><td>1198</td></tr><tr><td>VX</td><td>Los Angeles International Airport</td><td>8</td><td>1192</td></tr><tr><td>WN</td><td>Akron-Canton Regional Airport</td><td>8</td><td>283</td></tr><tr><td>DL</td><td>Luis Muñoz Marín International Airport</td><td>8</td><td>278</td></tr><tr><td>F9</td><td>Dallas/Fort Worth International Airport</td><td>8</td><td>124</td></tr><tr><td>DL</td><td>Albuquerque International Sunport</td><td>8</td><td>153</td></tr><tr><td>B6</td><td>Cleveland Hopkins International Airport</td><td>8</td><td>93</td></tr><tr><td>B6</td><td>Dallas/Fort Worth International Airport</td><td>8</td><td>57</td></tr><tr><td>OO</td><td>Cleveland Hopkins International Airport</td><td>8</td><td>20</td></tr><tr><td>UA</td><td>Norman Y. Mineta San José International Airport</td><td>8</td><td>138</td></tr><tr><td>B6</td><td>Henry E. Rohlsen Airport</td><td>8</td><td>31</td></tr><tr><td>B6</td><td>Tampa International Airport</td><td>8</td><td>490</td></tr><tr><td>OO</td><td>Idaho Falls Regional Airport</td><td>8</td><td>253</td></tr><tr><td>OO</td><td>Sacramento International Airport</td><td>8</td><td>567</td></tr><tr><td>OO</td><td>Grand Junction Regional Airport (Walker Field)</td><td>8</td><td>175</td></tr><tr><td>MQ</td><td>Savannah/Hilton Head International Airport</td><td>8</td><td>60</td></tr><tr><td>DL</td><td>Kona International Airport at Keahole</td><td>8</td><td>31</td></tr><tr><td>OO</td><td>Rapid City Regional Airport</td><td>1</td><td>121</td></tr><tr><td>EV</td><td>Brownsville/South Padre Island International Airport</td><td>1</td><td>203</td></tr><tr><td>WN</td><td>Los Angeles International Airport</td><td>1</td><td>3289</td></tr><tr><td>EV</td><td>Newark Liberty International Airport</td><td>1</td><td>2675</td></tr><tr><td>OO</td><td>Hays Regional Airport</td><td>1</td><td>53</td></tr><tr><td>OO</td><td>Bemidji Regional Airport</td><td>1</td><td>62</td></tr><tr><td>AA</td><td>Seattle-Tacoma International Airport</td><td>1</td><td>371</td></tr><tr><td>US</td><td>Kahului Airport</td><td>1</td><td>51</td></tr><tr><td>NK</td><td>Myrtle Beach International Airport</td><td>1</td><td>155</td></tr><tr><td>EV</td><td>Louisville International Airport (Standiford Field)</td><td>1</td><td>218</td></tr><tr><td>OO</td><td>Houghton County Memorial Airport</td><td>1</td><td>60</td></tr><tr><td>EV</td><td>Charlotte Douglas International Airport</td><td>1</td><td>343</td></tr><tr><td>F9</td><td>Phoenix Sky Harbor International Airport</td><td>1</td><td>229</td></tr><tr><td>OO</td><td>Des Moines International Airport</td><td>1</td><td>161</td></tr><tr><td>UA</td><td>Cleveland Hopkins International Airport</td><td>1</td><td>695</td></tr><tr><td>EV</td><td>Asheville Regional Airport</td><td>1</td><td>114</td></tr><tr><td>DL</td><td>Tucson International Airport</td><td>1</td><td>73</td></tr><tr><td>MQ</td><td>Columbia Regional Airport</td><td>1</td><td>124</td></tr><tr><td>US</td><td>Austin-Bergstrom International Airport</td><td>1</td><td>72</td></tr><tr><td>US</td><td>Cleveland Hopkins International Airport</td><td>1</td><td>145</td></tr><tr><td>OO</td><td>Portland International Airport</td><td>1</td><td>507</td></tr><tr><td>EV</td><td>Westchester County Airport</td><td>1</td><td>299</td></tr><tr><td>AA</td><td>Palm Springs International Airport</td><td>1</td><td>119</td></tr><tr><td>B6</td><td>William P. Hobby Airport</td><td>1</td><td>66</td></tr><tr><td>OO</td><td>Cleveland Hopkins International Airport</td><td>1</td><td>56</td></tr><tr><td>UA</td><td>Norman Y. Mineta San José International Airport</td><td>1</td><td>63</td></tr><tr><td>UA</td><td>Bozeman Yellowstone International Airport (Gallatin Field Airport)</td><td>1</td><td>41</td></tr><tr><td>OO</td><td>Memphis International Airport</td><td>1</td><td>97</td></tr><tr><td>EV</td><td>Valley International Airport</td><td>1</td><td>114</td></tr><tr><td>US</td><td>Portland International Jetport</td><td>1</td><td>31</td></tr><tr><td>DL</td><td>James M. Cox Dayton International Airport</td><td>1</td><td>125</td></tr><tr><td>US</td><td>Eppley Airfield</td><td>1</td><td>54</td></tr><tr><td>MQ</td><td>Santa Fe Municipal Airport</td><td>1</td><td>62</td></tr><tr><td>DL</td><td>Bismarck Municipal Airport</td><td>1</td><td>29</td></tr><tr><td>US</td><td>Kansas City International Airport</td><td>1</td><td>204</td></tr><tr><td>B6</td><td>Philadelphia International Airport</td><td>1</td><td>135</td></tr><tr><td>AS</td><td>Petersburg James A. Johnson Airport</td><td>1</td><td>62</td></tr><tr><td>EV</td><td>General Mitchell International Airport</td><td>1</td><td>227</td></tr><tr><td>EV</td><td>Fayetteville Regional Airport</td><td>1</td><td>126</td></tr><tr><td>DL</td><td>Wilkes-Barre/Scranton International Airport</td><td>1</td><td>4</td></tr><tr><td>DL</td><td>Des Moines International Airport</td><td>1</td><td>78</td></tr><tr><td>UA</td><td>McCarran International Airport</td><td>2</td><td>990</td></tr><tr><td>EV</td><td>Greater Rochester International Airport</td><td>2</td><td>118</td></tr><tr><td>UA</td><td>Fort Lauderdale-Hollywood International Airport</td><td>2</td><td>516</td></tr><tr><td>F9</td><td>Will Rogers World Airport</td><td>2</td><td>24</td></tr><tr><td>EV</td><td>George Bush Intercontinental Airport</td><td>2</td><td>5278</td></tr><tr><td>NK</td><td>Detroit Metropolitan Airport</td><td>2</td><td>648</td></tr><tr><td>UA</td><td>Philadelphia International Airport</td><td>2</td><td>258</td></tr><tr><td>DL</td><td>Honolulu International Airport</td><td>2</td><td>227</td></tr><tr><td>VX</td><td>San Francisco International Airport</td><td>2</td><td>1200</td></tr><tr><td>AS</td><td>Kona International Airport at Keahole</td><td>2</td><td>120</td></tr><tr><td>WN</td><td>Boise Airport (Boise Air Terminal)</td><td>2</td><td>244</td></tr><tr><td>AS</td><td>Los Angeles International Airport</td><td>2</td><td>557</td></tr><tr><td>DL</td><td>Lehigh Valley International Airport</td><td>2</td><td>25</td></tr><tr><td>US</td><td>Denver International Airport</td><td>2</td><td>333</td></tr><tr><td>EV</td><td>Albany International Airport</td><td>2</td><td>75</td></tr><tr><td>OO</td><td>Billings Logan International Airport</td><td>2</td><td>87</td></tr><tr><td>EV</td><td>Savannah/Hilton Head International Airport</td><td>2</td><td>172</td></tr><tr><td>OO</td><td>Hartsfield-Jackson Atlanta International Airport</td><td>2</td><td>379</td></tr><tr><td>US</td><td>Ted Stevens Anchorage International Airport</td><td>2</td><td>25</td></tr><tr><td>UA</td><td>Ronald Reagan Washington National Airport</td><td>2</td><td>303</td></tr><tr><td>MQ</td><td>Mobile Regional Airport</td><td>2</td><td>52</td></tr><tr><td>US</td><td>Salt Lake City International Airport</td><td>2</td><td>206</td></tr><tr><td>MQ</td><td>Manhattan Regional Airport</td><td>2</td><td>121</td></tr><tr><td>NK</td><td>Baltimore-Washington International Airport</td><td>2</td><td>144</td></tr><tr><td>US</td><td>Albany International Airport</td><td>2</td><td>56</td></tr><tr><td>DL</td><td>Hector International Airport</td><td>2</td><td>55</td></tr><tr><td>F9</td><td>Hartsfield-Jackson Atlanta International Airport</td><td>2</td><td>161</td></tr><tr><td>EV</td><td>Grand Junction Regional Airport (Walker Field)</td><td>2</td><td>15</td></tr><tr><td>OO</td><td>Appleton International Airport</td><td>2</td><td>23</td></tr><tr><td>MQ</td><td>William P. Hobby Airport</td><td>2</td><td>56</td></tr><tr><td>EV</td><td>Burlington International Airport</td><td>2</td><td>95</td></tr><tr><td>US</td><td>Greater Rochester International Airport</td><td>2</td><td>28</td></tr><tr><td>DL</td><td>Washington Dulles International Airport</td><td>2</td><td>178</td></tr><tr><td>B6</td><td>Rafael Hernández Airport</td><td>2</td><td>56</td></tr><tr><td>HA</td><td>Seattle-Tacoma International Airport</td><td>2</td><td>56</td></tr><tr><td>DL</td><td>Tri-Cities Airport</td><td>2</td><td>27</td></tr><tr><td>DL</td><td>Tampa International Airport</td><td>3</td><td>1110</td></tr><tr><td>B6</td><td>Orlando International Airport</td><td>3</td><td>1703</td></tr><tr><td>MQ</td><td>Ronald Reagan Washington National Airport</td><td>3</td><td>143</td></tr><tr><td>UA</td><td>Gen. Edward Lawrence Logan International Airport</td><td>3</td><td>983</td></tr><tr><td>EV</td><td>Northwest Arkansas Regional Airport</td><td>3</td><td>356</td></tr><tr><td>WN</td><td>San Francisco International Airport</td><td>3</td><td>1338</td></tr><tr><td>UA</td><td>San Antonio International Airport</td><td>3</td><td>230</td></tr><tr><td>EV</td><td>Brownsville/South Padre Island International Airport</td><td>3</td><td>212</td></tr><tr><td>NK</td><td>San Diego International Airport (Lindbergh Field)</td><td>3</td><td>155</td></tr><tr><td>OO</td><td>Port Columbus International Airport</td><td>3</td><td>89</td></tr><tr><td>WN</td><td>Jacksonville International Airport</td><td>3</td><td>415</td></tr><tr><td>OO</td><td>Durango-La Plata County Airport</td><td>3</td><td>111</td></tr><tr><td>OO</td><td>Oakland International Airport</td><td>3</td><td>233</td></tr><tr><td>AA</td><td>Reno/Tahoe International Airport</td><td>3</td><td>91</td></tr><tr><td>OO</td><td>Bismarck Municipal Airport</td><td>3</td><td>174</td></tr><tr><td>EV</td><td>Louis Armstrong New Orleans International Airport</td><td>3</td><td>104</td></tr><tr><td>EV</td><td>General Mitchell International Airport</td><td>3</td><td>249</td></tr><tr><td>AA</td><td>Denver International Airport</td><td>3</td><td>496</td></tr><tr><td>F9</td><td>LaGuardia Airport (Marine Air Terminal)</td><td>3</td><td>90</td></tr><tr><td>DL</td><td>Key West International Airport</td><td>3</td><td>124</td></tr><tr><td>AA</td><td>Port Columbus International Airport</td><td>3</td><td>124</td></tr><tr><td>MQ</td><td>Gainesville Regional Airport</td><td>3</td><td>62</td></tr><tr><td>WN</td><td>Pensacola International Airport (Pensacola Gulf Coast Regional Airport)</td><td>3</td><td>88</td></tr><tr><td>OO</td><td>Memphis International Airport</td><td>3</td><td>100</td></tr><tr><td>EV</td><td>Northwest Florida Beaches International Airport</td><td>3</td><td>62</td></tr><tr><td>UA</td><td>Des Moines International Airport</td><td>3</td><td>58</td></tr><tr><td>EV</td><td>Dickinson Theodore Roosevelt Regional Airport</td><td>3</td><td>76</td></tr><tr><td>OO</td><td>Capital Region International Airport ( Lansing Capital City)</td><td>3</td><td>24</td></tr><tr><td>OO</td><td>St. George Regional Airport</td><td>2</td><td>136</td></tr><tr><td>US</td><td>Cleveland Hopkins International Airport</td><td>3</td><td>169</td></tr><tr><td>DL</td><td>Myrtle Beach International Airport</td><td>3</td><td>31</td></tr><tr><td>MQ</td><td>Durango-La Plata County Airport</td><td>3</td><td>39</td></tr><tr><td>F9</td><td>Des Moines International Airport</td><td>3</td><td>13</td></tr><tr><td>UA</td><td>Raleigh-Durham International Airport</td><td>2</td><td>50</td></tr><tr><td>EV</td><td>Charlotte Douglas International Airport</td><td>6</td><td>399</td></tr><tr><td>AA</td><td>Orlando International Airport</td><td>6</td><td>836</td></tr><tr><td>EV</td><td>Chicago O'Hare International Airport</td><td>6</td><td>3947</td></tr><tr><td>OO</td><td>Tri-Cities Airport</td><td>6</td><td>172</td></tr><tr><td>US</td><td>Oakland International Airport</td><td>6</td><td>60</td></tr><tr><td>WN</td><td>San Antonio International Airport</td><td>6</td><td>1353</td></tr><tr><td>UA</td><td>Philadelphia International Airport</td><td>6</td><td>370</td></tr><tr><td>AA</td><td>John Wayne Airport (Orange County Airport)</td><td>6</td><td>401</td></tr><tr><td>EV</td><td>San Antonio International Airport</td><td>6</td><td>66</td></tr><tr><td>F9</td><td>Eppley Airfield</td><td>6</td><td>17</td></tr><tr><td>WN</td><td>Birmingham-Shuttlesworth International Airport</td><td>6</td><td>383</td></tr><tr><td>WN</td><td>Boise Airport (Boise Air Terminal)</td><td>6</td><td>289</td></tr><tr><td>EV</td><td>Springfield-Branson National Airport</td><td>6</td><td>175</td></tr><tr><td>DL</td><td>Jacksonville International Airport</td><td>6</td><td>398</td></tr><tr><td>OO</td><td>Flagstaff Pulliam Airport</td><td>6</td><td>173</td></tr><tr><td>OO</td><td>Houghton County Memorial Airport</td><td>6</td><td>60</td></tr><tr><td>AS</td><td>Wiley Post-Will Rogers Memorial Airport</td><td>6</td><td>78</td></tr><tr><td>OO</td><td>El Paso International Airport</td><td>6</td><td>153</td></tr><tr><td>OO</td><td>Range Regional Airport (Chisholm-Hibbing Airport)</td><td>6</td><td>81</td></tr><tr><td>DL</td><td>Glacier Park International Airport</td><td>6</td><td>60</td></tr><tr><td>MQ</td><td>Waterloo Regional Airport</td><td>6</td><td>56</td></tr><tr><td>DL</td><td>Wilmington International Airport</td><td>6</td><td>31</td></tr><tr><td>B6</td><td>Denver International Airport</td><td>6</td><td>93</td></tr><tr><td>OO</td><td>Jackson Hole Airport</td><td>6</td><td>45</td></tr><tr><td>OO</td><td>Southwest Oregon Regional Airport (North Bend Municipal)</td><td>6</td><td>32</td></tr><tr><td>MQ</td><td>Toledo Express Airport</td><td>6</td><td>90</td></tr><tr><td>F9</td><td>Detroit Metropolitan Airport</td><td>6</td><td>77</td></tr><tr><td>B6</td><td>Worcester Regional Airport</td><td>6</td><td>60</td></tr><tr><td>EV</td><td>McAllen-Miller International Airport (McAllen Miller International)</td><td>6</td><td>88</td></tr><tr><td>F9</td><td>Sioux Falls Regional Airport</td><td>6</td><td>13</td></tr><tr><td>DL</td><td>Kahului Airport</td><td>6</td><td>90</td></tr><tr><td>EV</td><td>Wichita Falls Municipal Airport/Sheppard AFB</td><td>6</td><td>9</td></tr><tr><td>OO</td><td>Syracuse Hancock International Airport</td><td>6</td><td>3</td></tr><tr><td>OO</td><td>Hays Regional Airport</td><td>6</td><td>52</td></tr><tr><td>MQ</td><td>Sawyer International Airport</td><td>6</td><td>26</td></tr><tr><td>EV</td><td>Brownsville/South Padre Island International Airport</td><td>7</td><td>236</td></tr><tr><td>AA</td><td>Charlotte Douglas International Airport</td><td>7</td><td>7912</td></tr><tr><td>MQ</td><td>Raleigh-Durham International Airport</td><td>7</td><td>294</td></tr><tr><td>AA</td><td>McCarran International Airport</td><td>7</td><td>1375</td></tr><tr><td>B6</td><td>Seattle-Tacoma International Airport</td><td>7</td><td>337</td></tr><tr><td>OO</td><td>City of Colorado Springs Municipal Airport</td><td>7</td><td>458</td></tr><tr><td>NK</td><td>Denver International Airport</td><td>7</td><td>403</td></tr><tr><td>MQ</td><td>Columbia Regional Airport</td><td>7</td><td>121</td></tr><tr><td>EV</td><td>Gerald R. Ford International Airport</td><td>7</td><td>155</td></tr><tr><td>DL</td><td>Missoula International Airport</td><td>7</td><td>97</td></tr><tr><td>WN</td><td>Port Columbus International Airport</td><td>7</td><td>1001</td></tr><tr><td>EV</td><td>Cincinnati/Northern Kentucky International Airport</td><td>7</td><td>258</td></tr><tr><td>EV</td><td>Wilmington International Airport</td><td>7</td><td>167</td></tr><tr><td>B6</td><td>Rafael Hernández Airport</td><td>7</td><td>124</td></tr><tr><td>OO</td><td>Sloulin Field International Airport</td><td>7</td><td>218</td></tr><tr><td>WN</td><td>Memphis International Airport</td><td>7</td><td>301</td></tr><tr><td>OO</td><td>Abraham Lincoln Capital Airport</td><td>7</td><td>93</td></tr><tr><td>EV</td><td>Midland International Airport</td><td>7</td><td>188</td></tr><tr><td>OO</td><td>Monterey Regional Airport (Monterey Peninsula Airport)</td><td>7</td><td>303</td></tr><tr><td>AS</td><td>San Francisco International Airport</td><td>7</td><td>488</td></tr><tr><td>EV</td><td>Greenville-Spartanburg International Airport</td><td>7</td><td>235</td></tr><tr><td>VX</td><td>Chicago O'Hare International Airport</td><td>7</td><td>152</td></tr><tr><td>DL</td><td>Sacramento International Airport</td><td>7</td><td>225</td></tr><tr><td>MQ</td><td>Pittsburgh International Airport</td><td>7</td><td>56</td></tr><tr><td>EV</td><td>Louisville International Airport (Standiford Field)</td><td>7</td><td>135</td></tr><tr><td>AA</td><td>Ontario International Airport</td><td>7</td><td>264</td></tr><tr><td>MQ</td><td>Chattanooga Metropolitan Airport (Lovell Field)</td><td>7</td><td>30</td></tr><tr><td>EV</td><td>Key West International Airport</td><td>7</td><td>31</td></tr><tr><td>OO</td><td>Bemidji Regional Airport</td><td>7</td><td>62</td></tr><tr><td>DL</td><td>Manchester-Boston Regional Airport</td><td>7</td><td>51</td></tr><tr><td>DL</td><td>Lehigh Valley International Airport</td><td>7</td><td>31</td></tr><tr><td>EV</td><td>Phoenix Sky Harbor International Airport</td><td>7</td><td>2</td></tr><tr><td>OO</td><td>Indianapolis International Airport</td><td>7</td><td>23</td></tr><tr><td>AA</td><td>Tampa International Airport</td><td>6</td><td>475</td></tr><tr><td>UA</td><td>Harrisburg International Airport</td><td>6</td><td>52</td></tr><tr><td>F9</td><td>Des Moines International Airport</td><td>6</td><td>17</td></tr><tr><td>AA</td><td>El Paso International Airport</td><td>7</td><td>124</td></tr><tr><td>VX</td><td>Portland International Airport</td><td>7</td><td>31</td></tr><tr><td>WN</td><td>Denver International Airport</td><td>5</td><td>5123</td></tr><tr><td>DL</td><td>General Mitchell International Airport</td><td>5</td><td>412</td></tr><tr><td>AA</td><td>Dallas/Fort Worth International Airport</td><td>5</td><td>12125</td></tr><tr><td>DL</td><td>Minneapolis-Saint Paul International Airport</td><td>5</td><td>5231</td></tr><tr><td>UA</td><td>Cleveland Hopkins International Airport</td><td>5</td><td>616</td></tr><tr><td>EV</td><td>Denver International Airport</td><td>5</td><td>641</td></tr><tr><td>EV</td><td>George Bush Intercontinental Airport</td><td>5</td><td>5970</td></tr><tr><td>OO</td><td>Los Angeles International Airport</td><td>5</td><td>3552</td></tr><tr><td>DL</td><td>Salt Lake City International Airport</td><td>5</td><td>2896</td></tr><tr><td>F9</td><td>George Bush Intercontinental Airport</td><td>5</td><td>150</td></tr><tr><td>DL</td><td>Detroit Metropolitan Airport</td><td>5</td><td>4966</td></tr><tr><td>HA</td><td>Honolulu International Airport</td><td>5</td><td>2785</td></tr><tr><td>US</td><td>Miami International Airport</td><td>5</td><td>304</td></tr><tr><td>OO</td><td>Northwest Arkansas Regional Airport</td><td>5</td><td>118</td></tr><tr><td>OO</td><td>George Bush Intercontinental Airport</td><td>5</td><td>1525</td></tr><tr><td>NK</td><td>Portland International Airport</td><td>5</td><td>93</td></tr><tr><td>DL</td><td>Northwest Florida Beaches International Airport</td><td>5</td><td>184</td></tr><tr><td>EV</td><td>Tulsa International Airport</td><td>5</td><td>209</td></tr><tr><td>NK</td><td>George Bush Intercontinental Airport</td><td>5</td><td>521</td></tr><tr><td>B6</td><td>Cyril E. King Airport</td><td>5</td><td>67</td></tr><tr><td>VX</td><td>San Francisco International Airport</td><td>5</td><td>1437</td></tr><tr><td>F9</td><td>San Francisco International Airport</td><td>5</td><td>185</td></tr><tr><td>UA</td><td>Kona International Airport at Keahole</td><td>5</td><td>102</td></tr><tr><td>EV</td><td>Mobile Regional Airport</td><td>5</td><td>330</td></tr><tr><td>EV</td><td>Wilmington International Airport</td><td>5</td><td>83</td></tr><tr><td>AA</td><td>Louis Armstrong New Orleans International Airport</td><td>5</td><td>269</td></tr><tr><td>AA</td><td>Southwest Florida International Airport</td><td>5</td><td>160</td></tr><tr><td>AA</td><td>Raleigh-Durham International Airport</td><td>5</td><td>361</td></tr><tr><td>EV</td><td>Capital Region International Airport ( Lansing Capital City)</td><td>5</td><td>100</td></tr><tr><td>EV</td><td>City of Colorado Springs Municipal Airport</td><td>5</td><td>55</td></tr><tr><td>MQ</td><td>Quad City International Airport</td><td>5</td><td>160</td></tr><tr><td>MQ</td><td>Lake Charles Regional Airport</td><td>5</td><td>62</td></tr><tr><td>MQ</td><td>El Paso International Airport</td><td>5</td><td>61</td></tr><tr><td>DL</td><td>Norman Y. Mineta San José International Airport</td><td>5</td><td>110</td></tr><tr><td>MQ</td><td>Garden City Regional Airport</td><td>5</td><td>37</td></tr><tr><td>MQ</td><td>Chattanooga Metropolitan Airport (Lovell Field)</td><td>5</td><td>114</td></tr><tr><td>UA</td><td>Palm Springs International Airport</td><td>5</td><td>16</td></tr><tr><td>EV</td><td>East Texas Regional Airport</td><td>5</td><td>31</td></tr><tr><td>UA</td><td>Sarasota-Bradenton International Airport</td><td>5</td><td>37</td></tr><tr><td>AS</td><td>Philadelphia International Airport</td><td>5</td><td>31</td></tr><tr><td>AS</td><td>Washington Dulles International Airport</td><td>5</td><td>31</td></tr><tr><td>B6</td><td>Ted Stevens Anchorage International Airport</td><td>5</td><td>36</td></tr><tr><td>UA</td><td>Reno/Tahoe International Airport</td><td>5</td><td>57</td></tr><tr><td>US</td><td>Norfolk International Airport</td><td>4</td><td>4</td></tr><tr><td>DL</td><td>Kansas City International Airport</td><td>4</td><td>462</td></tr><tr><td>EV</td><td>Hartsfield-Jackson Atlanta International Airport</td><td>4</td><td>5284</td></tr><tr><td>EV</td><td>Central Illinois Regional Airport at Bloomington-Normal</td><td>4</td><td>86</td></tr><tr><td>WN</td><td>Ronald Reagan Washington National Airport</td><td>4</td><td>1297</td></tr><tr><td>EV</td><td>Golden Triangle Regional Airport</td><td>4</td><td>84</td></tr><tr><td>UA</td><td>San Antonio International Airport</td><td>4</td><td>150</td></tr><tr><td>WN</td><td>Tucson International Airport</td><td>4</td><td>393</td></tr><tr><td>OO</td><td>San Diego International Airport (Lindbergh Field)</td><td>4</td><td>609</td></tr><tr><td>EV</td><td>Richmond International Airport</td><td>4</td><td>478</td></tr><tr><td>AS</td><td>Dallas/Fort Worth International Airport</td><td>4</td><td>120</td></tr><tr><td>AS</td><td>Juneau International Airport</td><td>4</td><td>301</td></tr><tr><td>DL</td><td>Cincinnati/Northern Kentucky International Airport</td><td>4</td><td>556</td></tr><tr><td>AA</td><td>Nashville International Airport</td><td>4</td><td>313</td></tr><tr><td>EV</td><td>Louis Armstrong New Orleans International Airport</td><td>4</td><td>96</td></tr><tr><td>OO</td><td>Kansas City International Airport</td><td>4</td><td>187</td></tr><tr><td>VX</td><td>Ronald Reagan Washington National Airport</td><td>4</td><td>112</td></tr><tr><td>US</td><td>Palm Beach International Airport</td><td>4</td><td>318</td></tr><tr><td>MQ</td><td>Gulfport-Biloxi International Airport</td><td>4</td><td>86</td></tr><tr><td>AS</td><td>Ronald Reagan Washington National Airport</td><td>4</td><td>120</td></tr><tr><td>DL</td><td>Pittsburgh International Airport</td><td>4</td><td>284</td></tr><tr><td>B6</td><td>Denver International Airport</td><td>4</td><td>86</td></tr><tr><td>NK</td><td>Myrtle Beach International Airport</td><td>4</td><td>330</td></tr><tr><td>F9</td><td>Tampa International Airport</td><td>4</td><td>151</td></tr><tr><td>AA</td><td>Port Columbus International Airport</td><td>4</td><td>150</td></tr><tr><td>OO</td><td>Appleton International Airport</td><td>4</td><td>33</td></tr><tr><td>OO</td><td>Will Rogers World Airport</td><td>4</td><td>202</td></tr><tr><td>DL</td><td>Bill and Hillary Clinton National Airport (Adams Field)</td><td>4</td><td>170</td></tr><tr><td>OO</td><td>Helena Regional Airport</td><td>4</td><td>136</td></tr><tr><td>DL</td><td>Tri-Cities Regional Airport</td><td>4</td><td>55</td></tr><tr><td>EV</td><td>Dothan Regional Airport</td><td>4</td><td>115</td></tr><tr><td>WN</td><td>Rick Husband Amarillo International Airport</td><td>4</td><td>139</td></tr><tr><td>MQ</td><td>Bishop International Airport</td><td>4</td><td>86</td></tr><tr><td>OO</td><td>Dickinson Theodore Roosevelt Regional Airport</td><td>4</td><td>72</td></tr><tr><td>UA</td><td>Richmond International Airport</td><td>4</td><td>26</td></tr><tr><td>US</td><td>Lihue Airport</td><td>4</td><td>22</td></tr><tr><td>MQ</td><td>Santa Fe Municipal Airport</td><td>4</td><td>51</td></tr><tr><td>EV</td><td>Rapid City Regional Airport</td><td>4</td><td>4</td></tr><tr><td>OO</td><td>San Francisco International Airport</td><td>8</td><td>3146</td></tr><tr><td>EV</td><td>Gerald R. Ford International Airport</td><td>8</td><td>167</td></tr><tr><td>WN</td><td>McCarran International Airport</td><td>8</td><td>6498</td></tr><tr><td>AA</td><td>Ontario International Airport</td><td>8</td><td>258</td></tr><tr><td>UA</td><td>Luis Muñoz Marín International Airport</td><td>8</td><td>183</td></tr><tr><td>AA</td><td>Baltimore-Washington International Airport</td><td>8</td><td>596</td></tr><tr><td>B6</td><td>Luis Muñoz Marín International Airport</td><td>8</td><td>1034</td></tr><tr><td>AA</td><td>San Diego International Airport (Lindbergh Field)</td><td>8</td><td>831</td></tr><tr><td>MQ</td><td>Miami International Airport</td><td>8</td><td>492</td></tr><tr><td>OO</td><td>Portland International Airport</td><td>8</td><td>446</td></tr><tr><td>OO</td><td>Midland International Airport</td><td>8</td><td>130</td></tr><tr><td>AA</td><td>Newark Liberty International Airport</td><td>8</td><td>732</td></tr><tr><td>DL</td><td>John Wayne Airport (Orange County Airport)</td><td>8</td><td>249</td></tr><tr><td>OO</td><td>Louis Armstrong New Orleans International Airport</td><td>8</td><td>105</td></tr><tr><td>NK</td><td>Luis Muñoz Marín International Airport</td><td>8</td><td>62</td></tr><tr><td>WN</td><td>Albuquerque International Sunport</td><td>8</td><td>1030</td></tr><tr><td>B6</td><td>Barnstable Municipal Airport</td><td>8</td><td>31</td></tr><tr><td>DL</td><td>Spokane International Airport</td><td>8</td><td>191</td></tr><tr><td>B6</td><td>Seattle-Tacoma International Airport</td><td>8</td><td>312</td></tr><tr><td>AS</td><td>Newark Liberty International Airport</td><td>8</td><td>62</td></tr><tr><td>B6</td><td>Norman Y. Mineta San José International Airport</td><td>8</td><td>62</td></tr><tr><td>DL</td><td>Will Rogers World Airport</td><td>8</td><td>161</td></tr><tr><td>B6</td><td>John F. Kennedy International Airport (New York International Airport)</td><td>8</td><td>4007</td></tr><tr><td>UA</td><td>Phoenix Sky Harbor International Airport</td><td>8</td><td>361</td></tr><tr><td>DL</td><td>Norfolk International Airport</td><td>8</td><td>273</td></tr><tr><td>EV</td><td>Raleigh-Durham International Airport</td><td>8</td><td>253</td></tr><tr><td>B6</td><td>Washington Dulles International Airport</td><td>8</td><td>181</td></tr><tr><td>NK</td><td>Phoenix Sky Harbor International Airport</td><td>8</td><td>62</td></tr><tr><td>AA</td><td>Theodore Francis Green State Airport</td><td>8</td><td>106</td></tr><tr><td>B6</td><td>Bradley International Airport</td><td>8</td><td>273</td></tr><tr><td>EV</td><td>Melbourne International Airport</td><td>8</td><td>13</td></tr><tr><td>DL</td><td>Wichita Dwight D. Eisenhower National Airport (Wichita Mid-Continent Airport)</td><td>8</td><td>92</td></tr><tr><td>US</td><td>Phoenix Sky Harbor International Airport</td><td>1</td><td>4447</td></tr><tr><td>B6</td><td>Tampa International Airport</td><td>1</td><td>531</td></tr><tr><td>AA</td><td>Miami International Airport</td><td>1</td><td>4330</td></tr><tr><td>US</td><td>Pittsburgh International Airport</td><td>1</td><td>396</td></tr><tr><td>B6</td><td>Newark Liberty International Airport</td><td>1</td><td>621</td></tr><tr><td>UA</td><td>San Diego International Airport (Lindbergh Field)</td><td>1</td><td>570</td></tr><tr><td>WN</td><td>Dallas Love Field</td><td>1</td><td>4466</td></tr><tr><td>MQ</td><td>General Mitchell International Airport</td><td>1</td><td>10</td></tr><tr><td>HA</td><td>Hilo International Airport</td><td>1</td><td>492</td></tr><tr><td>F9</td><td>Cleveland Hopkins International Airport</td><td>1</td><td>284</td></tr><tr><td>DL</td><td>Eppley Airfield</td><td>1</td><td>162</td></tr><tr><td>DL</td><td>McCarran International Airport</td><td>1</td><td>836</td></tr><tr><td>AS</td><td>Tucson International Airport</td><td>1</td><td>32</td></tr><tr><td>EV</td><td>Tulsa International Airport</td><td>1</td><td>374</td></tr><tr><td>UA</td><td>Pittsburgh International Airport</td><td>1</td><td>144</td></tr><tr><td>EV</td><td>Capital Region International Airport ( Lansing Capital City)</td><td>1</td><td>77</td></tr><tr><td>MQ</td><td>Richmond International Airport</td><td>1</td><td>87</td></tr><tr><td>MQ</td><td>Lafayette Regional Airport</td><td>1</td><td>115</td></tr><tr><td>OO</td><td>Canyonlands Field</td><td>1</td><td>54</td></tr><tr><td>EV</td><td>Lehigh Valley International Airport</td><td>1</td><td>139</td></tr><tr><td>B6</td><td>Theodore Francis Green State Airport</td><td>1</td><td>93</td></tr><tr><td>OO</td><td>McClellan-Palomar Airport</td><td>1</td><td>204</td></tr><tr><td>AS</td><td>Gen. Edward Lawrence Logan International Airport</td><td>1</td><td>108</td></tr><tr><td>NK</td><td>Kansas City International Airport</td><td>1</td><td>131</td></tr><tr><td>AS</td><td>Ralph Wien Memorial Airport</td><td>1</td><td>61</td></tr><tr><td>VX</td><td>Orlando International Airport</td><td>1</td><td>31</td></tr><tr><td>UA</td><td>Will Rogers World Airport</td><td>1</td><td>25</td></tr><tr><td>DL</td><td>City of Colorado Springs Municipal Airport</td><td>1</td><td>27</td></tr><tr><td>F9</td><td>Spokane International Airport</td><td>1</td><td>5</td></tr><tr><td>US</td><td>Theodore Francis Green State Airport</td><td>1</td><td>102</td></tr><tr><td>UA</td><td>Minneapolis-Saint Paul International Airport</td><td>1</td><td>160</td></tr><tr><td>DL</td><td>Spokane International Airport</td><td>1</td><td>110</td></tr><tr><td>EV</td><td>Rochester International Airport</td><td>1</td><td>60</td></tr><tr><td>MQ</td><td>Buffalo Niagara International Airport</td><td>1</td><td>66</td></tr><tr><td>DL</td><td>Indianapolis International Airport</td><td>1</td><td>383</td></tr><tr><td>DL</td><td>Eagle County Regional Airport</td><td>1</td><td>32</td></tr><tr><td>OO</td><td>Helena Regional Airport</td><td>1</td><td>110</td></tr><tr><td>US</td><td>John F. Kennedy International Airport (New York International Airport)</td><td>1</td><td>250</td></tr><tr><td>MQ</td><td>Laredo International Airport</td><td>1</td><td>124</td></tr><tr><td>MQ</td><td>Birmingham-Shuttlesworth International Airport</td><td>1</td><td>93</td></tr><tr><td>MQ</td><td>Joplin Regional Airport</td><td>1</td><td>62</td></tr><tr><td>AA</td><td>Jackson Hole Airport</td><td>1</td><td>36</td></tr><tr><td>F9</td><td>St. Louis International Airport at Lambert Field</td><td>1</td><td>92</td></tr><tr><td>AA</td><td>Bill and Hillary Clinton National Airport (Adams Field)</td><td>1</td><td>9</td></tr><tr><td>DL</td><td>Appleton International Airport</td><td>1</td><td>38</td></tr><tr><td>EV</td><td>Durango-La Plata County Airport</td><td>1</td><td>17</td></tr><tr><td>EV</td><td>Charlottesville-Albemarle Airport</td><td>1</td><td>85</td></tr><tr><td>WN</td><td>Kansas City International Airport</td><td>4</td><td>1919</td></tr><tr><td>WN</td><td>St. Louis International Airport at Lambert Field</td><td>4</td><td>2538</td></tr><tr><td>DL</td><td>Louisville International Airport (Standiford Field)</td><td>4</td><td>261</td></tr><tr><td>AA</td><td>LaGuardia Airport (Marine Air Terminal)</td><td>4</td><td>1196</td></tr><tr><td>MQ</td><td>LaGuardia Airport (Marine Air Terminal)</td><td>4</td><td>1319</td></tr><tr><td>NK</td><td>Fort Lauderdale-Hollywood International Airport</td><td>4</td><td>1040</td></tr><tr><td>MQ</td><td>Bismarck Municipal Airport</td><td>4</td><td>60</td></tr><tr><td>AA</td><td>Fresno Yosemite International Airport</td><td>4</td><td>56</td></tr><tr><td>OO</td><td>Tri-Cities Airport</td><td>4</td><td>174</td></tr><tr><td>NK</td><td>McCarran International Airport</td><td>4</td><td>781</td></tr><tr><td>OO</td><td>Canyonlands Field</td><td>4</td><td>51</td></tr><tr><td>MQ</td><td>Norfolk International Airport</td><td>4</td><td>163</td></tr><tr><td>US</td><td>Luis Muñoz Marín International Airport</td><td>4</td><td>199</td></tr><tr><td>DL</td><td>Gulfport-Biloxi International Airport</td><td>4</td><td>131</td></tr><tr><td>OO</td><td>Grand Forks International Airport</td><td>4</td><td>56</td></tr><tr><td>DL</td><td>Dane County Regional Airport</td><td>4</td><td>233</td></tr><tr><td>US</td><td>Southwest Florida International Airport</td><td>4</td><td>342</td></tr><tr><td>MQ</td><td>Memphis International Airport</td><td>4</td><td>146</td></tr><tr><td>EV</td><td>Midland International Airport</td><td>4</td><td>182</td></tr><tr><td>VX</td><td>Dallas Love Field</td><td>4</td><td>370</td></tr><tr><td>EV</td><td>Easterwood Airport</td><td>4</td><td>61</td></tr><tr><td>B6</td><td>Worcester Regional Airport</td><td>4</td><td>60</td></tr><tr><td>OO</td><td>Hartsfield-Jackson Atlanta International Airport</td><td>4</td><td>337</td></tr><tr><td>MQ</td><td>Toledo Express Airport</td><td>4</td><td>86</td></tr><tr><td>AA</td><td>Ontario International Airport</td><td>4</td><td>120</td></tr><tr><td>OO</td><td>McGhee Tyson Airport</td><td>4</td><td>3</td></tr><tr><td>AS</td><td>Fort Lauderdale-Hollywood International Airport</td><td>4</td><td>30</td></tr><tr><td>WN</td><td>Pensacola International Airport (Pensacola Gulf Coast Regional Airport)</td><td>4</td><td>92</td></tr><tr><td>UA</td><td>Reno/Tahoe International Airport</td><td>4</td><td>54</td></tr><tr><td>AS</td><td>Bellingham International Airport</td><td>4</td><td>92</td></tr><tr><td>DL</td><td>Missoula International Airport</td><td>4</td><td>36</td></tr><tr><td>DL</td><td>Roanoke Regional Airport (Woodrum Field)</td><td>4</td><td>30</td></tr><tr><td>B6</td><td>Rafael Hernández Airport</td><td>4</td><td>60</td></tr><tr><td>OO</td><td>Aberdeen Regional Airport</td><td>4</td><td>60</td></tr><tr><td>F9</td><td>Raleigh-Durham International Airport</td><td>4</td><td>19</td></tr><tr><td>F9</td><td>Des Moines International Airport</td><td>4</td><td>13</td></tr><tr><td>DL</td><td>Newport News/Williamsburg International Airport</td><td>4</td><td>25</td></tr><tr><td>DL</td><td>Boise Airport (Boise Air Terminal)</td><td>4</td><td>114</td></tr><tr><td>OO</td><td>Dane County Regional Airport</td><td>4</td><td>152</td></tr><tr><td>DL</td><td>Melbourne International Airport</td><td>4</td><td>120</td></tr><tr><td>OO</td><td>Ontario International Airport</td><td>3</td><td>390</td></tr><tr><td>UA</td><td>Tampa International Airport</td><td>3</td><td>636</td></tr><tr><td>AA</td><td>Los Angeles International Airport</td><td>3</td><td>2815</td></tr><tr><td>VX</td><td>San Francisco International Airport</td><td>3</td><td>1379</td></tr><tr><td>AA</td><td>San Antonio International Airport</td><td>3</td><td>480</td></tr><tr><td>DL</td><td>Cleveland Hopkins International Airport</td><td>3</td><td>210</td></tr><tr><td>WN</td><td>Port Columbus International Airport</td><td>3</td><td>948</td></tr><tr><td>WN</td><td>Kansas City International Airport</td><td>3</td><td>1909</td></tr><tr><td>WN</td><td>Louisville International Airport (Standiford Field)</td><td>3</td><td>363</td></tr><tr><td>F9</td><td>Miami International Airport</td><td>3</td><td>188</td></tr><tr><td>DL</td><td>Sacramento International Airport</td><td>3</td><td>133</td></tr><tr><td>WN</td><td>James M. Cox Dayton International Airport</td><td>3</td><td>162</td></tr><tr><td>HA</td><td>Lihue Airport</td><td>3</td><td>645</td></tr><tr><td>OO</td><td>Lewiston-Nez Perce County Airport</td><td>3</td><td>49</td></tr><tr><td>MQ</td><td>Sawyer International Airport</td><td>3</td><td>27</td></tr><tr><td>NK</td><td>Los Angeles International Airport</td><td>3</td><td>279</td></tr><tr><td>AS</td><td>Norman Y. Mineta San José International Airport</td><td>3</td><td>342</td></tr><tr><td>WN</td><td>Birmingham-Shuttlesworth International Airport</td><td>3</td><td>387</td></tr><tr><td>DL</td><td>Augusta Regional Airport (Bush Field)</td><td>3</td><td>64</td></tr><tr><td>VX</td><td>Fort Lauderdale-Hollywood International Airport</td><td>3</td><td>166</td></tr><tr><td>DL</td><td>Destin-Fort Walton Beach Airport/Eglin AFB</td><td>3</td><td>183</td></tr><tr><td>VX</td><td>Ronald Reagan Washington National Airport</td><td>3</td><td>115</td></tr><tr><td>VX</td><td>Washington Dulles International Airport</td><td>3</td><td>114</td></tr><tr><td>DL</td><td>Savannah/Hilton Head International Airport</td><td>3</td><td>278</td></tr><tr><td>DL</td><td>Akron-Canton Regional Airport</td><td>3</td><td>151</td></tr><tr><td>MQ</td><td>Destin-Fort Walton Beach Airport/Eglin AFB</td><td>3</td><td>95</td></tr><tr><td>AS</td><td>Ralph Wien Memorial Airport</td><td>3</td><td>62</td></tr><tr><td>B6</td><td>Savannah/Hilton Head International Airport</td><td>3</td><td>93</td></tr><tr><td>AA</td><td>Salt Lake City International Airport</td><td>3</td><td>213</td></tr><tr><td>OO</td><td>Dickinson Theodore Roosevelt Regional Airport</td><td>3</td><td>62</td></tr><tr><td>HA</td><td>Oakland International Airport</td><td>3</td><td>62</td></tr><tr><td>OO</td><td>Appleton International Airport</td><td>3</td><td>49</td></tr><tr><td>MQ</td><td>Hector International Airport</td><td>3</td><td>119</td></tr><tr><td>OO</td><td>McClellan-Palomar Airport</td><td>3</td><td>209</td></tr><tr><td>EV</td><td>Appleton International Airport</td><td>3</td><td>206</td></tr><tr><td>B6</td><td>Salt Lake City International Airport</td><td>3</td><td>127</td></tr><tr><td>MQ</td><td>Greenville-Spartanburg International Airport</td><td>3</td><td>62</td></tr><tr><td>DL</td><td>Lehigh Valley International Airport</td><td>3</td><td>31</td></tr><tr><td>OO</td><td>Louisville International Airport (Standiford Field)</td><td>3</td><td>51</td></tr><tr><td>VX</td><td>Newark Liberty International Airport</td><td>3</td><td>170</td></tr><tr><td>AA</td><td>McAllen-Miller International Airport (McAllen Miller International)</td><td>3</td><td>155</td></tr><tr><td>F9</td><td>Wilmington Airport</td><td>3</td><td>27</td></tr><tr><td>B6</td><td>Norman Y. Mineta San José International Airport</td><td>3</td><td>19</td></tr><tr><td>EV</td><td>Waco Regional Airport</td><td>3</td><td>30</td></tr><tr><td>US</td><td>Seattle-Tacoma International Airport</td><td>3</td><td>258</td></tr><tr><td>F9</td><td>Los Angeles International Airport</td><td>3</td><td>66</td></tr><tr><td>MQ</td><td>Kalamazoo/Battle Creek International Airport</td><td>3</td><td>120</td></tr><tr><td>NK</td><td>McCarran International Airport</td><td>2</td><td>671</td></tr><tr><td>B6</td><td>Detroit Metropolitan Airport</td><td>2</td><td>81</td></tr><tr><td>WN</td><td>Philadelphia International Airport</td><td>2</td><td>692</td></tr><tr><td>AA</td><td>Ronald Reagan Washington National Airport</td><td>2</td><td>835</td></tr><tr><td>AA</td><td>Miami International Airport</td><td>2</td><td>3906</td></tr><tr><td>AA</td><td>Salt Lake City International Airport</td><td>2</td><td>160</td></tr><tr><td>US</td><td>Ronald Reagan Washington National Airport</td><td>2</td><td>1600</td></tr><tr><td>WN</td><td>Southwest Florida International Airport</td><td>2</td><td>798</td></tr><tr><td>B6</td><td>Westchester County Airport</td><td>2</td><td>302</td></tr><tr><td>UA</td><td>Reno/Tahoe International Airport</td><td>2</td><td>56</td></tr><tr><td>AS</td><td>Palm Springs International Airport</td><td>2</td><td>204</td></tr><tr><td>WN</td><td>Theodore Francis Green State Airport</td><td>2</td><td>441</td></tr><tr><td>AA</td><td>McCarran International Airport</td><td>2</td><td>787</td></tr><tr><td>WN</td><td>Norman Y. Mineta San José International Airport</td><td>2</td><td>1684</td></tr><tr><td>AA</td><td>James M. Cox Dayton International Airport</td><td>2</td><td>82</td></tr><tr><td>F9</td><td>Chicago O'Hare International Airport</td><td>2</td><td>261</td></tr><tr><td>EV</td><td>Birmingham-Shuttlesworth International Airport</td><td>2</td><td>304</td></tr><tr><td>AA</td><td>Cyril E. King Airport</td><td>2</td><td>103</td></tr><tr><td>OO</td><td>Will Rogers World Airport</td><td>2</td><td>173</td></tr><tr><td>WN</td><td>Tulsa International Airport</td><td>2</td><td>342</td></tr><tr><td>B6</td><td>Palm Beach International Airport</td><td>2</td><td>661</td></tr><tr><td>US</td><td>Honolulu International Airport</td><td>2</td><td>52</td></tr><tr><td>DL</td><td>Tucson International Airport</td><td>2</td><td>73</td></tr><tr><td>DL</td><td>Buffalo Niagara International Airport</td><td>2</td><td>157</td></tr><tr><td>OO</td><td>General Mitchell International Airport</td><td>2</td><td>560</td></tr><tr><td>F9</td><td>Orlando International Airport</td><td>2</td><td>397</td></tr><tr><td>DL</td><td>Yampa Valley Airport (Yampa Valley Regional)</td><td>2</td><td>26</td></tr><tr><td>AS</td><td>Yakutat Airport</td><td>2</td><td>56</td></tr><tr><td>EV</td><td>St. Louis International Airport at Lambert Field</td><td>2</td><td>261</td></tr><tr><td>EV</td><td>Lubbock Preston Smith International Airport</td><td>2</td><td>132</td></tr><tr><td>AS</td><td>Oakland International Airport</td><td>2</td><td>180</td></tr><tr><td>MQ</td><td>San Angelo Regional Airport (Mathis Field)</td><td>2</td><td>108</td></tr><tr><td>DL</td><td>Duluth International Airport</td><td>2</td><td>23</td></tr><tr><td>UA</td><td>Yampa Valley Airport (Yampa Valley Regional)</td><td>2</td><td>38</td></tr><tr><td>EV</td><td>Dothan Regional Airport</td><td>2</td><td>106</td></tr><tr><td>OO</td><td>Lewiston-Nez Perce County Airport</td><td>2</td><td>48</td></tr><tr><td>OO</td><td>Delta County Airport</td><td>2</td><td>48</td></tr><tr><td>EV</td><td>Louis Armstrong New Orleans International Airport</td><td>2</td><td>25</td></tr><tr><td>AA</td><td>Kona International Airport at Keahole</td><td>2</td><td>31</td></tr><tr><td>OO</td><td>Northwest Arkansas Regional Airport</td><td>2</td><td>64</td></tr><tr><td>AA</td><td>Detroit Metropolitan Airport</td><td>2</td><td>221</td></tr><tr><td>VX</td><td>Fort Lauderdale-Hollywood International Airport</td><td>2</td><td>147</td></tr><tr><td>MQ</td><td>Syracuse Hancock International Airport</td><td>2</td><td>56</td></tr><tr><td>UA</td><td>Sarasota-Bradenton International Airport</td><td>2</td><td>51</td></tr><tr><td>OO</td><td>Southwest Oregon Regional Airport (North Bend Municipal)</td><td>2</td><td>16</td></tr><tr><td>OO</td><td>Gunnison-Crested Butte Regional Airport</td><td>2</td><td>8</td></tr><tr><td>OO</td><td>Louisville International Airport (Standiford Field)</td><td>2</td><td>11</td></tr><tr><td>EV</td><td>Ithaca Tompkins Regional Airport</td><td>2</td><td>6</td></tr><tr><td>EV</td><td>Dallas/Fort Worth International Airport</td><td>6</td><td>2537</td></tr><tr><td>US</td><td>Louis Armstrong New Orleans International Airport</td><td>6</td><td>178</td></tr><tr><td>OO</td><td>Eugene Airport (Mahlon Sweet Field)</td><td>6</td><td>348</td></tr><tr><td>NK</td><td>Myrtle Beach International Airport</td><td>6</td><td>389</td></tr><tr><td>UA</td><td>Seattle-Tacoma International Airport</td><td>6</td><td>1000</td></tr><tr><td>WN</td><td>Indianapolis International Airport</td><td>6</td><td>982</td></tr><tr><td>US</td><td>Chicago O'Hare International Airport</td><td>6</td><td>578</td></tr><tr><td>MQ</td><td>Rick Husband Amarillo International Airport</td><td>6</td><td>146</td></tr><tr><td>EV</td><td>Shreveport Regional Airport</td><td>6</td><td>529</td></tr><tr><td>OO</td><td>San Antonio International Airport</td><td>6</td><td>388</td></tr><tr><td>F9</td><td>Los Angeles International Airport</td><td>6</td><td>141</td></tr><tr><td>EV</td><td>Palm Beach International Airport</td><td>6</td><td>22</td></tr><tr><td>EV</td><td>Baton Rouge Metropolitan Airport</td><td>6</td><td>585</td></tr><tr><td>EV</td><td>The Eastern Iowa Airport</td><td>6</td><td>178</td></tr><tr><td>WN</td><td>Rick Husband Amarillo International Airport</td><td>6</td><td>138</td></tr><tr><td>AS</td><td>Spokane International Airport</td><td>6</td><td>120</td></tr><tr><td>DL</td><td>Nashville International Airport</td><td>6</td><td>442</td></tr><tr><td>DL</td><td>Louis Armstrong New Orleans International Airport</td><td>6</td><td>596</td></tr><tr><td>DL</td><td>Asheville Regional Airport</td><td>6</td><td>58</td></tr><tr><td>AA</td><td>Kona International Airport at Keahole</td><td>6</td><td>60</td></tr><tr><td>F9</td><td>Tampa International Airport</td><td>6</td><td>119</td></tr><tr><td>AA</td><td>Lihue Airport</td><td>6</td><td>60</td></tr><tr><td>DL</td><td>Washington Dulles International Airport</td><td>6</td><td>226</td></tr><tr><td>EV</td><td>Green Bay-Austin Straubel International Airport</td><td>6</td><td>162</td></tr><tr><td>UA</td><td>Spokane International Airport</td><td>6</td><td>56</td></tr><tr><td>EV</td><td>Meridian Regional Airport</td><td>6</td><td>82</td></tr><tr><td>OO</td><td>Asheville Regional Airport</td><td>6</td><td>91</td></tr><tr><td>F9</td><td>General Mitchell International Airport</td><td>6</td><td>30</td></tr><tr><td>OO</td><td>Chippewa County International Airport</td><td>6</td><td>22</td></tr><tr><td>OO</td><td>John Wayne Airport (Orange County Airport)</td><td>6</td><td>246</td></tr><tr><td>EV</td><td>Bangor International Airport</td><td>6</td><td>13</td></tr><tr><td>OO</td><td>McAllen-Miller International Airport (McAllen Miller International)</td><td>6</td><td>82</td></tr><tr><td>EV</td><td>Kalamazoo/Battle Creek International Airport</td><td>6</td><td>2</td></tr><tr><td>VX</td><td>Orlando International Airport</td><td>6</td><td>30</td></tr><tr><td>DL</td><td>Albany International Airport</td><td>7</td><td>121</td></tr><tr><td>WN</td><td>Theodore Francis Green State Airport</td><td>7</td><td>569</td></tr><tr><td>WN</td><td>McCarran International Airport</td><td>7</td><td>6600</td></tr><tr><td>WN</td><td>Newark Liberty International Airport</td><td>7</td><td>518</td></tr><tr><td>MQ</td><td>Toledo Express Airport</td><td>7</td><td>91</td></tr><tr><td>MQ</td><td>Greater Rochester International Airport</td><td>7</td><td>124</td></tr><tr><td>WN</td><td>James M. Cox Dayton International Airport</td><td>7</td><td>158</td></tr><tr><td>AS</td><td>Orlando International Airport</td><td>7</td><td>58</td></tr><tr><td>NK</td><td>George Bush Intercontinental Airport</td><td>7</td><td>527</td></tr><tr><td>DL</td><td>Gen. Edward Lawrence Logan International Airport</td><td>7</td><td>1294</td></tr><tr><td>OO</td><td>Billings Logan International Airport</td><td>7</td><td>126</td></tr><tr><td>DL</td><td>Palm Beach International Airport</td><td>7</td><td>512</td></tr><tr><td>EV</td><td>General Wayne A. Downing Peoria International Airport</td><td>7</td><td>264</td></tr><tr><td>MQ</td><td>William P. Hobby Airport</td><td>7</td><td>125</td></tr><tr><td>MQ</td><td>Bismarck Municipal Airport</td><td>7</td><td>62</td></tr><tr><td>UA</td><td>Albuquerque International Sunport</td><td>7</td><td>51</td></tr><tr><td>OO</td><td>Lubbock Preston Smith International Airport</td><td>7</td><td>60</td></tr><tr><td>F9</td><td>Miami International Airport</td><td>7</td><td>186</td></tr><tr><td>WN</td><td>Rick Husband Amarillo International Airport</td><td>7</td><td>143</td></tr><tr><td>B6</td><td>McCarran International Airport</td><td>7</td><td>413</td></tr><tr><td>OO</td><td>James M. Cox Dayton International Airport</td><td>7</td><td>171</td></tr><tr><td>AA</td><td>Lubbock Preston Smith International Airport</td><td>7</td><td>31</td></tr><tr><td>AA</td><td>Detroit Metropolitan Airport</td><td>7</td><td>537</td></tr><tr><td>AS</td><td>Kodiak Airport</td><td>7</td><td>58</td></tr><tr><td>UA</td><td>Buffalo Niagara International Airport</td><td>7</td><td>105</td></tr><tr><td>EV</td><td>Des Moines International Airport</td><td>7</td><td>120</td></tr><tr><td>OO</td><td>Jacksonville International Airport</td><td>7</td><td>32</td></tr><tr><td>EV</td><td>Wilkes-Barre/Scranton International Airport</td><td>7</td><td>146</td></tr><tr><td>AS</td><td>Baltimore-Washington International Airport</td><td>7</td><td>31</td></tr><tr><td>EV</td><td>Newport News/Williamsburg International Airport</td><td>7</td><td>118</td></tr><tr><td>EV</td><td>Capital Region International Airport ( Lansing Capital City)</td><td>7</td><td>89</td></tr><tr><td>OO</td><td>Southwest Florida International Airport</td><td>7</td><td>4</td></tr><tr><td>DL</td><td>Evansville Regional Airport</td><td>7</td><td>42</td></tr><tr><td>AS</td><td>Petersburg James A. Johnson Airport</td><td>7</td><td>62</td></tr><tr><td>F9</td><td>Salt Lake City International Airport</td><td>7</td><td>96</td></tr><tr><td>EV</td><td>Denver International Airport</td><td>7</td><td>13</td></tr><tr><td>B6</td><td>Phoenix Sky Harbor International Airport</td><td>7</td><td>62</td></tr><tr><td>OO</td><td>Palm Beach International Airport</td><td>7</td><td>13</td></tr><tr><td>US</td><td>Charlotte Douglas International Airport</td><td>5</td><td>7517</td></tr><tr><td>WN</td><td>Tampa International Airport</td><td>5</td><td>2502</td></tr><tr><td>WN</td><td>Baltimore-Washington International Airport</td><td>5</td><td>6130</td></tr><tr><td>EV</td><td>Des Moines International Airport</td><td>5</td><td>112</td></tr><tr><td>WN</td><td>Sacramento International Airport</td><td>5</td><td>1901</td></tr><tr><td>US</td><td>Pittsburgh International Airport</td><td>5</td><td>403</td></tr><tr><td>UA</td><td>Newark Liberty International Airport</td><td>5</td><td>3994</td></tr><tr><td>WN</td><td>Gen. Edward Lawrence Logan International Airport</td><td>5</td><td>839</td></tr><tr><td>UA</td><td>Southwest Florida International Airport</td><td>5</td><td>184</td></tr><tr><td>WN</td><td>John Wayne Airport (Orange County Airport)</td><td>5</td><td>1488</td></tr><tr><td>WN</td><td>Philadelphia International Airport</td><td>5</td><td>743</td></tr><tr><td>US</td><td>George Bush Intercontinental Airport</td><td>5</td><td>414</td></tr><tr><td>UA</td><td>Seattle-Tacoma International Airport</td><td>5</td><td>875</td></tr><tr><td>MQ</td><td>Port Columbus International Airport</td><td>5</td><td>442</td></tr><tr><td>WN</td><td>Norfolk International Airport</td><td>5</td><td>210</td></tr><tr><td>OO</td><td>Albuquerque International Sunport</td><td>5</td><td>347</td></tr><tr><td>EV</td><td>Roanoke Regional Airport (Woodrum Field)</td><td>5</td><td>200</td></tr><tr><td>AA</td><td>Austin-Bergstrom International Airport</td><td>5</td><td>684</td></tr><tr><td>OO</td><td>St. George Regional Airport</td><td>5</td><td>181</td></tr><tr><td>EV</td><td>Lehigh Valley International Airport</td><td>5</td><td>182</td></tr><tr><td>OO</td><td>Will Rogers World Airport</td><td>5</td><td>206</td></tr><tr><td>US</td><td>Salt Lake City International Airport</td><td>5</td><td>213</td></tr><tr><td>F9</td><td>Washington Dulles International Airport</td><td>5</td><td>217</td></tr><tr><td>B6</td><td>Oakland International Airport</td><td>5</td><td>131</td></tr><tr><td>EV</td><td>Washington Dulles International Airport</td><td>5</td><td>173</td></tr><tr><td>US</td><td>Nashville International Airport</td><td>5</td><td>107</td></tr><tr><td>UA</td><td>Rafael Hernández Airport</td><td>5</td><td>29</td></tr><tr><td>DL</td><td>Missoula International Airport</td><td>5</td><td>34</td></tr><tr><td>DL</td><td>Bozeman Yellowstone International Airport (Gallatin Field Airport)</td><td>5</td><td>88</td></tr><tr><td>EV</td><td>Easterwood Airport</td><td>5</td><td>80</td></tr><tr><td>DL</td><td>Newport News/Williamsburg International Airport</td><td>5</td><td>31</td></tr><tr><td>OO</td><td>Blue Grass Airport</td><td>5</td><td>30</td></tr><tr><td>DL</td><td>Evansville Regional Airport</td><td>5</td><td>33</td></tr><tr><td>EV</td><td>Fort Wayne International Airport</td><td>5</td><td>26</td></tr><tr><td>F9</td><td>Bozeman Yellowstone International Airport (Gallatin Field Airport)</td><td>5</td><td>17</td></tr><tr><td>MQ</td><td>Tallahassee International Airport</td><td>5</td><td>79</td></tr><tr><td>OO</td><td>Minot International Airport</td><td>5</td><td>141</td></tr><tr><td>MQ</td><td>Pensacola International Airport (Pensacola Gulf Coast Regional Airport)</td><td>5</td><td>12</td></tr><tr><td>MQ</td><td>Midland International Airport</td><td>5</td><td>119</td></tr><tr><td>US</td><td>Oakland International Airport</td><td>5</td><td>70</td></tr><tr><td>AS</td><td>Tucson International Airport</td><td>5</td><td>31</td></tr><tr><td>OO</td><td>La Crosse Regional Airport</td><td>5</td><td>4</td></tr><tr><td>OO</td><td>LaGuardia Airport (Marine Air Terminal)</td><td>5</td><td>9</td></tr><tr><td>OO</td><td>Southwest Florida International Airport</td><td>5</td><td>7</td></tr><tr><td>OO</td><td>Friedman Memorial Airport</td><td>5</td><td>21</td></tr><tr><td>OO</td><td>MBS International Airport</td><td>5</td><td>176</td></tr><tr><td>OO</td><td>Albany International Airport</td><td>2</td><td>1</td></tr><tr><td>F9</td><td>George Bush Intercontinental Airport</td><td>8</td><td>155</td></tr><tr><td>MQ</td><td>Killeen-Fort Hood Regional Airport</td><td>8</td><td>105</td></tr><tr><td>HA</td><td>Kona International Airport at Keahole</td><td>8</td><td>787</td></tr><tr><td>HA</td><td>Lihue Airport</td><td>8</td><td>739</td></tr><tr><td>DL</td><td>Memphis International Airport</td><td>8</td><td>411</td></tr><tr><td>WN</td><td>Bradley International Airport</td><td>8</td><td>504</td></tr><tr><td>UA</td><td>McCarran International Airport</td><td>8</td><td>1051</td></tr><tr><td>OO</td><td>Kansas City International Airport</td><td>8</td><td>157</td></tr><tr><td>AS</td><td>Ketchikan International Airport</td><td>8</td><td>239</td></tr><tr><td>DL</td><td>Jackson Hole Airport</td><td>8</td><td>143</td></tr><tr><td>AS</td><td>Hartsfield-Jackson Atlanta International Airport</td><td>8</td><td>40</td></tr><tr><td>EV</td><td>Newport News/Williamsburg International Airport</td><td>8</td><td>119</td></tr><tr><td>DL</td><td>Gerald R. Ford International Airport</td><td>8</td><td>281</td></tr><tr><td>F9</td><td>Trenton Mercer Airport</td><td>8</td><td>279</td></tr><tr><td>EV</td><td>Killeen-Fort Hood Regional Airport</td><td>8</td><td>267</td></tr><tr><td>HA</td><td>Phoenix Sky Harbor International Airport</td><td>8</td><td>31</td></tr><tr><td>HA</td><td>Sacramento International Airport</td><td>8</td><td>31</td></tr><tr><td>MQ</td><td>Baltimore-Washington International Airport</td><td>8</td><td>119</td></tr></tbody></table>Showing the first 1000 rows.</div>"
      ]
     },
     "metadata": {
      "application/vnd.databricks.v1+output": {
       "overflow": true,
       "datasetInfos": [],
       "data": [
        [
         "WN",
         "San Diego International Airport (Lindbergh Field)",
         "8",
         "2881"
        ],
        [
         "WN",
         "Bob Hope Airport (Hollywood Burbank Airport)",
         "8",
         "1256"
        ],
        [
         "AA",
         "McCarran International Airport",
         "8",
         "1356"
        ],
        [
         "B6",
         "Fort Lauderdale-Hollywood International Airport",
         "8",
         "1585"
        ],
        [
         "WN",
         "Tulsa International Airport",
         "8",
         "386"
        ],
        [
         "F9",
         "Chicago O'Hare International Airport",
         "8",
         "476"
        ],
        [
         "WN",
         "Richmond International Airport",
         "8",
         "121"
        ],
        [
         "EV",
         "Baton Rouge Metropolitan Airport",
         "8",
         "589"
        ],
        [
         "UA",
         "San Diego International Airport (Lindbergh Field)",
         "8",
         "775"
        ],
        [
         "MQ",
         "Cleveland Hopkins International Airport",
         "8",
         "160"
        ],
        [
         "DL",
         "San Diego International Airport (Lindbergh Field)",
         "8",
         "643"
        ],
        [
         "OO",
         "Duluth International Airport",
         "8",
         "135"
        ],
        [
         "AS",
         "Honolulu International Airport",
         "8",
         "225"
        ],
        [
         "UA",
         "Seattle-Tacoma International Airport",
         "8",
         "921"
        ],
        [
         "OO",
         "Bill and Hillary Clinton National Airport (Adams Field)",
         "8",
         "111"
        ],
        [
         "MQ",
         "Tulsa International Airport",
         "8",
         "170"
        ],
        [
         "EV",
         "Harrisburg International Airport",
         "8",
         "51"
        ],
        [
         "EV",
         "General Wayne A. Downing Peoria International Airport",
         "8",
         "283"
        ],
        [
         "HA",
         "Oakland International Airport",
         "8",
         "89"
        ],
        [
         "MQ",
         "Laredo International Airport",
         "8",
         "72"
        ],
        [
         "MQ",
         "Jackson-Evers International Airport",
         "8",
         "60"
        ],
        [
         "B6",
         "Portland International Jetport",
         "8",
         "155"
        ],
        [
         "AS",
         "Philadelphia International Airport",
         "8",
         "31"
        ],
        [
         "UA",
         "Boise Airport (Boise Air Terminal)",
         "8",
         "52"
        ],
        [
         "F9",
         "Kansas City International Airport",
         "8",
         "31"
        ],
        [
         "UA",
         "Lihue Airport",
         "8",
         "96"
        ],
        [
         "B6",
         "Charlotte Douglas International Airport",
         "8",
         "124"
        ],
        [
         "MQ",
         "Fort Smith Regional Airport",
         "8",
         "23"
        ],
        [
         "B6",
         "Reno/Tahoe International Airport",
         "8",
         "31"
        ],
        [
         "EV",
         "Stewart International Airport",
         "8",
         "1"
        ],
        [
         "WN",
         "Indianapolis International Airport",
         "8",
         "896"
        ],
        [
         "DL",
         "Sarasota-Bradenton International Airport",
         "8",
         "163"
        ],
        [
         "OO",
         "Dickinson Theodore Roosevelt Regional Airport",
         "8",
         "61"
        ],
        [
         "EV",
         "Ronald Reagan Washington National Airport",
         "8",
         "246"
        ],
        [
         "WN",
         "Greater Rochester International Airport",
         "8",
         "158"
        ],
        [
         "NK",
         "Niagara Falls International Airport",
         "8",
         "27"
        ],
        [
         "WN",
         "Jacksonville International Airport",
         "8",
         "384"
        ],
        [
         "F9",
         "Eppley Airfield",
         "8",
         "18"
        ],
        [
         "UA",
         "Fort Lauderdale-Hollywood International Airport",
         "8",
         "347"
        ],
        [
         "OO",
         "Devils Lake Regional Airport",
         "8",
         "48"
        ],
        [
         "F9",
         "McGhee Tyson Airport",
         "8",
         "13"
        ],
        [
         "EV",
         "Mobile Regional Airport",
         "1",
         "355"
        ],
        [
         "OO",
         "Santa Barbara Municipal Airport (Santa Barbara Airport)",
         "1",
         "575"
        ],
        [
         "UA",
         "Denver International Airport",
         "1",
         "3772"
        ],
        [
         "US",
         "Ronald Reagan Washington National Airport",
         "1",
         "1672"
        ],
        [
         "B6",
         "Fort Lauderdale-Hollywood International Airport",
         "1",
         "1660"
        ],
        [
         "AS",
         "Los Angeles International Airport",
         "1",
         "592"
        ],
        [
         "WN",
         "Orlando International Airport",
         "1",
         "3362"
        ],
        [
         "WN",
         "Minneapolis-Saint Paul International Airport",
         "1",
         "647"
        ],
        [
         "AA",
         "Nashville International Airport",
         "1",
         "291"
        ],
        [
         "AA",
         "Louisville International Airport (Standiford Field)",
         "1",
         "27"
        ],
        [
         "WN",
         "Spokane International Airport",
         "1",
         "256"
        ],
        [
         "OO",
         "Rhinelander-Oneida County Airport",
         "1",
         "89"
        ],
        [
         "EV",
         "Bill and Hillary Clinton National Airport (Adams Field)",
         "1",
         "249"
        ],
        [
         "NK",
         "Hartsfield-Jackson Atlanta International Airport",
         "1",
         "248"
        ],
        [
         "MQ",
         "Abilene Regional Airport",
         "1",
         "239"
        ],
        [
         "OO",
         "Great Falls International Airport",
         "1",
         "146"
        ],
        [
         "AA",
         "Minneapolis-Saint Paul International Airport",
         "1",
         "353"
        ],
        [
         "US",
         "Hartsfield-Jackson Atlanta International Airport",
         "1",
         "513"
        ],
        [
         "OO",
         "Bill and Hillary Clinton National Airport (Adams Field)",
         "1",
         "57"
        ],
        [
         "OO",
         "Fort Wayne International Airport",
         "1",
         "89"
        ],
        [
         "EV",
         "Albert J. Ellis Airport",
         "1",
         "112"
        ],
        [
         "F9",
         "Raleigh-Durham International Airport",
         "1",
         "19"
        ],
        [
         "DL",
         "Norfolk International Airport",
         "1",
         "189"
        ],
        [
         "F9",
         "Minneapolis-Saint Paul International Airport",
         "1",
         "72"
        ],
        [
         "EV",
         "Meridian Regional Airport",
         "1",
         "84"
        ],
        [
         "WN",
         "Greenville-Spartanburg International Airport",
         "1",
         "120"
        ],
        [
         "US",
         "Norfolk International Airport",
         "1",
         "79"
        ],
        [
         "UA",
         "Cyril E. King Airport",
         "1",
         "70"
        ],
        [
         "AA",
         "McAllen-Miller International Airport (McAllen Miller International)",
         "1",
         "151"
        ],
        [
         "B6",
         "Phoenix Sky Harbor International Airport",
         "1",
         "61"
        ],
        [
         "F9",
         "Portland International Airport",
         "1",
         "49"
        ],
        [
         "AA",
         "Birmingham-Shuttlesworth International Airport",
         "1",
         "58"
        ],
        [
         "OO",
         "Norfolk International Airport",
         "1",
         "49"
        ],
        [
         "EV",
         "Dickinson Theodore Roosevelt Regional Airport",
         "1",
         "54"
        ],
        [
         "DL",
         "Portland International Jetport",
         "1",
         "29"
        ],
        [
         "B6",
         "Denver International Airport",
         "1",
         "80"
        ],
        [
         "NK",
         "Portland International Airport",
         "1",
         "35"
        ],
        [
         "MQ",
         "Bismarck Municipal Airport",
         "1",
         "62"
        ],
        [
         "DL",
         "Augusta Regional Airport (Bush Field)",
         "1",
         "39"
        ],
        [
         "NK",
         "Rafael Hernández Airport",
         "1",
         "13"
        ],
        [
         "DL",
         "Shreveport Regional Airport",
         "1",
         "23"
        ],
        [
         "UA",
         "St. Louis International Airport at Lambert Field",
         "1",
         "4"
        ],
        [
         "US",
         "Gen. Edward Lawrence Logan International Airport",
         "1",
         "1418"
        ],
        [
         "US",
         "Orlando International Airport",
         "1",
         "791"
        ],
        [
         "WN",
         "Indianapolis International Airport",
         "1",
         "826"
        ],
        [
         "NK",
         "Philadelphia International Airport",
         "1",
         "62"
        ],
        [
         "UA",
         "Bradley International Airport",
         "1",
         "72"
        ],
        [
         "OO",
         "Dane County Regional Airport",
         "1",
         "162"
        ],
        [
         "EV",
         "Billings Logan International Airport",
         "1",
         "2"
        ],
        [
         "OO",
         "Cedar City Regional Airport",
         "2",
         "48"
        ],
        [
         "DL",
         "Daytona Beach International Airport",
         "2",
         "123"
        ],
        [
         "UA",
         "Honolulu International Airport",
         "2",
         "351"
        ],
        [
         "DL",
         "St. Louis International Airport at Lambert Field",
         "2",
         "286"
        ],
        [
         "UA",
         "Denver International Airport",
         "2",
         "3577"
        ],
        [
         "OO",
         "Mammoth Yosemite Airport",
         "2",
         "41"
        ],
        [
         "AS",
         "Norman Y. Mineta San José International Airport",
         "2",
         "384"
        ],
        [
         "MQ",
         "Eppley Airfield",
         "2",
         "52"
        ],
        [
         "DL",
         "Sacramento International Airport",
         "2",
         "115"
        ],
        [
         "AA",
         "Baltimore-Washington International Airport",
         "2",
         "191"
        ],
        [
         "F9",
         "Denver International Airport",
         "2",
         "1618"
        ],
        [
         "OO",
         "Phoenix Sky Harbor International Airport",
         "2",
         "1451"
        ],
        [
         "MQ",
         "Springfield-Branson National Airport",
         "2",
         "318"
        ],
        [
         "OO",
         "San Diego International Airport (Lindbergh Field)",
         "2",
         "647"
        ],
        [
         "AS",
         "Honolulu International Airport",
         "2",
         "160"
        ],
        [
         "OO",
         "Pocatello Regional Airport",
         "2",
         "52"
        ],
        [
         "AS",
         "Juneau International Airport",
         "2",
         "276"
        ],
        [
         "UA",
         "Baltimore-Washington International Airport",
         "2",
         "186"
        ],
        [
         "MQ",
         "Wichita Falls Municipal Airport/Sheppard AFB",
         "2",
         "84"
        ],
        [
         "EV",
         "Will Rogers World Airport",
         "2",
         "158"
        ],
        [
         "MQ",
         "Pittsburgh International Airport",
         "2",
         "44"
        ],
        [
         "OO",
         "St. Louis International Airport at Lambert Field",
         "2",
         "120"
        ],
        [
         "MQ",
         "Lubbock Preston Smith International Airport",
         "2",
         "112"
        ],
        [
         "OO",
         "Memphis International Airport",
         "2",
         "74"
        ],
        [
         "WN",
         "Ontario International Airport",
         "2",
         "802"
        ],
        [
         "EV",
         "Albuquerque International Sunport",
         "2",
         "72"
        ],
        [
         "DL",
         "Northwest Arkansas Regional Airport",
         "2",
         "37"
        ],
        [
         "AA",
         "Washington Dulles International Airport",
         "2",
         "187"
        ],
        [
         "DL",
         "Norman Y. Mineta San José International Airport",
         "2",
         "44"
        ],
        [
         "US",
         "San Antonio International Airport",
         "2",
         "48"
        ],
        [
         "OO",
         "Spokane International Airport",
         "2",
         "196"
        ],
        [
         "DL",
         "William P. Hobby Airport",
         "2",
         "181"
        ],
        [
         "AS",
         "Petersburg James A. Johnson Airport",
         "2",
         "56"
        ],
        [
         "OO",
         "Bismarck Municipal Airport",
         "2",
         "178"
        ],
        [
         "MQ",
         "Birmingham-Shuttlesworth International Airport",
         "2",
         "80"
        ],
        [
         "MQ",
         "Texarkana Regional Airport (Webb Field)",
         "2",
         "80"
        ],
        [
         "OO",
         "LaGuardia Airport (Marine Air Terminal)",
         "2",
         "7"
        ],
        [
         "AS",
         "Ted Stevens Anchorage International Airport",
         "3",
         "1014"
        ],
        [
         "OO",
         "Minneapolis-Saint Paul International Airport",
         "3",
         "2075"
        ],
        [
         "WN",
         "Ronald Reagan Washington National Airport",
         "3",
         "1340"
        ],
        [
         "WN",
         "Pittsburgh International Airport",
         "3",
         "892"
        ],
        [
         "UA",
         "Chicago O'Hare International Airport",
         "3",
         "5760"
        ],
        [
         "DL",
         "Denver International Airport",
         "3",
         "685"
        ],
        [
         "WN",
         "Theodore Francis Green State Airport",
         "3",
         "611"
        ],
        [
         "AA",
         "Gen. Edward Lawrence Logan International Airport",
         "3",
         "882"
        ],
        [
         "EV",
         "Detroit Metropolitan Airport",
         "3",
         "2580"
        ],
        [
         "B6",
         "Charleston International Airport/Charleston AFB",
         "3",
         "163"
        ],
        [
         "OO",
         "Albuquerque International Sunport",
         "3",
         "316"
        ],
        [
         "MQ",
         "Central Wisconsin Airport",
         "3",
         "82"
        ],
        [
         "DL",
         "Phoenix Sky Harbor International Airport",
         "3",
         "734"
        ],
        [
         "OO",
         "Sloulin Field International Airport",
         "3",
         "172"
        ],
        [
         "EV",
         "Jackson-Evers International Airport",
         "3",
         "331"
        ],
        [
         "US",
         "Portland International Airport",
         "3",
         "161"
        ],
        [
         "DL",
         "Mobile Regional Airport",
         "3",
         "57"
        ],
        [
         "WN",
         "Minneapolis-Saint Paul International Airport",
         "3",
         "670"
        ],
        [
         "DL",
         "George Bush Intercontinental Airport",
         "3",
         "253"
        ],
        [
         "EV",
         "Syracuse Hancock International Airport",
         "3",
         "168"
        ],
        [
         "AS",
         "Chicago O'Hare International Airport",
         "3",
         "162"
        ],
        [
         "EV",
         "Albuquerque International Sunport",
         "3",
         "81"
        ],
        [
         "F9",
         "Portland International Airport",
         "3",
         "58"
        ],
        [
         "B6",
         "San Francisco International Airport",
         "3",
         "451"
        ],
        [
         "HA",
         "McCarran International Airport",
         "3",
         "75"
        ],
        [
         "EV",
         "Chattanooga Metropolitan Airport (Lovell Field)",
         "3",
         "203"
        ],
        [
         "B6",
         "Seattle-Tacoma International Airport",
         "3",
         "151"
        ],
        [
         "US",
         "Honolulu International Airport",
         "3",
         "81"
        ],
        [
         "WN",
         "Washington Dulles International Airport",
         "3",
         "212"
        ],
        [
         "EV",
         "Bismarck Municipal Airport",
         "3",
         "31"
        ],
        [
         "EV",
         "Southwest Georgia Regional Airport",
         "3",
         "88"
        ],
        [
         "MQ",
         "Central Nebraska Regional Airport",
         "3",
         "62"
        ],
        [
         "DL",
         "Manchester-Boston Regional Airport",
         "3",
         "31"
        ],
        [
         "OO",
         "Raleigh-Durham International Airport",
         "3",
         "24"
        ],
        [
         "AS",
         "Albuquerque International Sunport",
         "3",
         "31"
        ],
        [
         "F9",
         "San Diego International Airport (Lindbergh Field)",
         "3",
         "61"
        ],
        [
         "AA",
         "Gunnison-Crested Butte Regional Airport",
         "3",
         "31"
        ],
        [
         "OO",
         "General Wayne A. Downing Peoria International Airport",
         "3",
         "8"
        ],
        [
         "F9",
         "Fort Lauderdale-Hollywood International Airport",
         "2",
         "100"
        ],
        [
         "EV",
         "Chattanooga Metropolitan Airport (Lovell Field)",
         "2",
         "126"
        ],
        [
         "OO",
         "Dickinson Theodore Roosevelt Regional Airport",
         "2",
         "50"
        ],
        [
         "EV",
         "Blue Grass Airport",
         "2",
         "238"
        ],
        [
         "AS",
         "Tucson International Airport",
         "2",
         "32"
        ],
        [
         "EV",
         "Greater Binghamton Airport",
         "2",
         "38"
        ],
        [
         "EV",
         "Philadelphia International Airport",
         "2",
         "19"
        ],
        [
         "UA",
         "Rafael Hernández Airport",
         "2",
         "17"
        ],
        [
         "WN",
         "San Antonio International Airport",
         "3",
         "1294"
        ],
        [
         "B6",
         "LaGuardia Airport (Marine Air Terminal)",
         "3",
         "589"
        ],
        [
         "DL",
         "Newark Liberty International Airport",
         "3",
         "419"
        ],
        [
         "MQ",
         "Abilene Regional Airport",
         "3",
         "244"
        ],
        [
         "EV",
         "El Paso International Airport",
         "3",
         "233"
        ],
        [
         "US",
         "John Wayne Airport (Orange County Airport)",
         "3",
         "124"
        ],
        [
         "US",
         "Norman Y. Mineta San José International Airport",
         "3",
         "123"
        ],
        [
         "DL",
         "Louis Armstrong New Orleans International Airport",
         "3",
         "809"
        ],
        [
         "OO",
         "Bill and Hillary Clinton National Airport (Adams Field)",
         "3",
         "67"
        ],
        [
         "EV",
         "Sioux Falls Regional Airport",
         "3",
         "208"
        ],
        [
         "OO",
         "Jamestown Regional Airport",
         "3",
         "75"
        ],
        [
         "EV",
         "Valdosta Regional Airport",
         "3",
         "89"
        ],
        [
         "AS",
         "Ontario International Airport",
         "3",
         "47"
        ],
        [
         "OO",
         "Minot International Airport",
         "3",
         "59"
        ],
        [
         "WN",
         "Gerald R. Ford International Airport",
         "3",
         "220"
        ],
        [
         "UA",
         "Gunnison-Crested Butte Regional Airport",
         "3",
         "4"
        ],
        [
         "EV",
         "Fort Wayne International Airport",
         "3",
         "81"
        ],
        [
         "HA",
         "Los Angeles International Airport",
         "3",
         "124"
        ],
        [
         "EV",
         "Nashville International Airport",
         "6",
         "272"
        ],
        [
         "WN",
         "Phoenix Sky Harbor International Airport",
         "6",
         "5035"
        ],
        [
         "EV",
         "Cleveland Hopkins International Airport",
         "6",
         "899"
        ],
        [
         "OO",
         "Dallas/Fort Worth International Airport",
         "6",
         "418"
        ],
        [
         "DL",
         "Huntsville International Airport",
         "6",
         "142"
        ],
        [
         "NK",
         "Minneapolis-Saint Paul International Airport",
         "6",
         "300"
        ],
        [
         "EV",
         "Cherry Capital Airport",
         "6",
         "86"
        ],
        [
         "B6",
         "Pittsburgh International Airport",
         "6",
         "145"
        ],
        [
         "F9",
         "Piedmont Triad International Airport",
         "6",
         "17"
        ],
        [
         "HA",
         "Oakland International Airport",
         "6",
         "88"
        ],
        [
         "NK",
         "Hartsfield-Jackson Atlanta International Airport",
         "6",
         "369"
        ],
        [
         "EV",
         "Gen. Edward Lawrence Logan International Airport",
         "6",
         "226"
        ],
        [
         "EV",
         "Jacksonville International Airport",
         "6",
         "130"
        ],
        [
         "EV",
         "Rick Husband Amarillo International Airport",
         "6",
         "128"
        ],
        [
         "AA",
         "Tucson International Airport",
         "6",
         "243"
        ],
        [
         "OO",
         "Chippewa Valley Regional Airport",
         "6",
         "60"
        ],
        [
         "US",
         "Detroit Metropolitan Airport",
         "6",
         "282"
        ],
        [
         "MQ",
         "Will Rogers World Airport",
         "6",
         "281"
        ],
        [
         "OO",
         "Great Falls International Airport",
         "6",
         "207"
        ],
        [
         "OO",
         "Shreveport Regional Airport",
         "6",
         "26"
        ],
        [
         "OO",
         "Sitka Rocky Gutierrez Airport",
         "6",
         "30"
        ],
        [
         "AA",
         "Bradley International Airport",
         "6",
         "93"
        ],
        [
         "OO",
         "Sioux Falls Regional Airport",
         "6",
         "241"
        ],
        [
         "EV",
         "Central Wisconsin Airport",
         "6",
         "57"
        ],
        [
         "OO",
         "Capital Region International Airport ( Lansing Capital City)",
         "6",
         "68"
        ],
        [
         "DL",
         "Cherry Capital Airport",
         "6",
         "76"
        ],
        [
         "F9",
         "Dallas/Fort Worth International Airport",
         "6",
         "112"
        ],
        [
         "UA",
         "Albany International Airport",
         "6",
         "80"
        ],
        [
         "DL",
         "Juneau International Airport",
         "6",
         "30"
        ],
        [
         "OO",
         "Ronald Reagan Washington National Airport",
         "7",
         "164"
        ],
        [
         "WN",
         "Austin-Bergstrom International Airport",
         "7",
         "1740"
        ],
        [
         "AA",
         "San Francisco International Airport",
         "7",
         "1449"
        ],
        [
         "DL",
         "General Mitchell International Airport",
         "7",
         "471"
        ],
        [
         "DL",
         "Chicago O'Hare International Airport",
         "7",
         "680"
        ],
        [
         "UA",
         "Austin-Bergstrom International Airport",
         "7",
         "463"
        ],
        [
         "DL",
         "Savannah/Hilton Head International Airport",
         "7",
         "320"
        ],
        [
         "HA",
         "Lihue Airport",
         "7",
         "741"
        ],
        [
         "B6",
         "Raleigh-Durham International Airport",
         "7",
         "244"
        ],
        [
         "NK",
         "Orlando International Airport",
         "7",
         "390"
        ],
        [
         "WN",
         "Pittsburgh International Airport",
         "7",
         "881"
        ],
        [
         "EV",
         "The Eastern Iowa Airport",
         "7",
         "226"
        ],
        [
         "EV",
         "Laredo International Airport",
         "7",
         "120"
        ],
        [
         "AS",
         "Yakutat Airport",
         "7",
         "62"
        ],
        [
         "DL",
         "Portland International Airport",
         "7",
         "711"
        ],
        [
         "DL",
         "Sarasota-Bradenton International Airport",
         "7",
         "178"
        ],
        [
         "WN",
         "St. Louis International Airport at Lambert Field",
         "7",
         "2760"
        ],
        [
         "AA",
         "Memphis International Airport",
         "7",
         "79"
        ],
        [
         "OO",
         "Shreveport Regional Airport",
         "7",
         "61"
        ],
        [
         "F9",
         "Southwest Florida International Airport",
         "7",
         "92"
        ],
        [
         "OO",
         "Flagstaff Pulliam Airport",
         "7",
         "182"
        ],
        [
         "F9",
         "John Wayne Airport (Orange County Airport)",
         "7",
         "62"
        ],
        [
         "WN",
         "Bishop International Airport",
         "7",
         "124"
        ],
        [
         "EV",
         "Killeen-Fort Hood Regional Airport",
         "7",
         "315"
        ],
        [
         "OO",
         "Louisville International Airport (Standiford Field)",
         "7",
         "23"
        ],
        [
         "DL",
         "Akron-Canton Regional Airport",
         "7",
         "116"
        ],
        [
         "EV",
         "Palm Beach International Airport",
         "7",
         "13"
        ],
        [
         "DL",
         "Reno/Tahoe International Airport",
         "7",
         "92"
        ],
        [
         "OO",
         "Friedman Memorial Airport",
         "7",
         "131"
        ],
        [
         "F9",
         "Kansas City International Airport",
         "7",
         "31"
        ],
        [
         "DL",
         "Sioux Falls Regional Airport",
         "7",
         "31"
        ],
        [
         "DL",
         "Juneau International Airport",
         "7",
         "31"
        ],
        [
         "OO",
         "Grand Forks International Airport",
         "7",
         "33"
        ],
        [
         "EV",
         "Dallas Love Field",
         "7",
         "8"
        ],
        [
         "AA",
         "Kansas City International Airport",
         "6",
         "292"
        ],
        [
         "US",
         "San Francisco International Airport",
         "6",
         "503"
        ],
        [
         "B6",
         "Bradley International Airport",
         "7",
         "269"
        ],
        [
         "EV",
         "Portland International Jetport",
         "7",
         "227"
        ],
        [
         "F9",
         "Louis Armstrong New Orleans International Airport",
         "7",
         "62"
        ],
        [
         "UA",
         "Washington Dulles International Airport",
         "4",
         "1655"
        ],
        [
         "UA",
         "Southwest Florida International Airport",
         "4",
         "310"
        ],
        [
         "US",
         "Greater Rochester International Airport",
         "4",
         "30"
        ],
        [
         "OO",
         "McCarran International Airport",
         "4",
         "302"
        ],
        [
         "OO",
         "Natrona County International Airport",
         "4",
         "195"
        ],
        [
         "DL",
         "Eppley Airfield",
         "4",
         "195"
        ],
        [
         "US",
         "Denver International Airport",
         "4",
         "363"
        ],
        [
         "UA",
         "McCarran International Airport",
         "4",
         "1074"
        ],
        [
         "AS",
         "Los Angeles International Airport",
         "4",
         "665"
        ],
        [
         "MQ",
         "Cleveland Hopkins International Airport",
         "4",
         "232"
        ],
        [
         "UA",
         "Raleigh-Durham International Airport",
         "4",
         "75"
        ],
        [
         "OO",
         "Albuquerque International Sunport",
         "4",
         "318"
        ],
        [
         "NK",
         "LaGuardia Airport (Marine Air Terminal)",
         "4",
         "330"
        ],
        [
         "OO",
         "Midland International Airport",
         "4",
         "135"
        ],
        [
         "F9",
         "Cleveland Hopkins International Airport",
         "4",
         "266"
        ],
        [
         "DL",
         "Buffalo Niagara International Airport",
         "4",
         "217"
        ],
        [
         "DL",
         "Portland International Jetport",
         "4",
         "55"
        ],
        [
         "EV",
         "Chattanooga Metropolitan Airport (Lovell Field)",
         "4",
         "200"
        ],
        [
         "B6",
         "Norman Y. Mineta San José International Airport",
         "4",
         "48"
        ],
        [
         "AA",
         "Kansas City International Airport",
         "4",
         "266"
        ],
        [
         "OO",
         "Pittsburgh International Airport",
         "4",
         "60"
        ],
        [
         "EV",
         "Lake Charles Regional Airport",
         "4",
         "105"
        ],
        [
         "DL",
         "Ted Stevens Anchorage International Airport",
         "4",
         "113"
        ],
        [
         "MQ",
         "Charleston International Airport/Charleston AFB",
         "4",
         "120"
        ],
        [
         "US",
         "Spokane International Airport",
         "4",
         "60"
        ],
        [
         "DL",
         "Kahului Airport",
         "4",
         "90"
        ],
        [
         "DL",
         "Norman Y. Mineta San José International Airport",
         "4",
         "77"
        ],
        [
         "F9",
         "Central Illinois Regional Airport at Bloomington-Normal",
         "4",
         "8"
        ],
        [
         "OO",
         "LaGuardia Airport (Marine Air Terminal)",
         "4",
         "11"
        ],
        [
         "US",
         "Ted Stevens Anchorage International Airport",
         "4",
         "30"
        ],
        [
         "EV",
         "Tucson International Airport",
         "4",
         "56"
        ],
        [
         "AS",
         "Wrangell Airport",
         "4",
         "60"
        ],
        [
         "AS",
         "Philadelphia International Airport",
         "4",
         "30"
        ],
        [
         "B6",
         "Stewart International Airport",
         "4",
         "61"
        ],
        [
         "MQ",
         "Sawyer International Airport",
         "4",
         "26"
        ],
        [
         "US",
         "Kona International Airport at Keahole",
         "4",
         "22"
        ],
        [
         "UA",
         "Augusta Regional Airport (Bush Field)",
         "4",
         "1"
        ],
        [
         "WN",
         "Phoenix Sky Harbor International Airport",
         "5",
         "5029"
        ],
        [
         "OO",
         "Salt Lake City International Airport",
         "5",
         "4133"
        ],
        [
         "DL",
         "Will Rogers World Airport",
         "5",
         "123"
        ],
        [
         "NK",
         "Detroit Metropolitan Airport",
         "5",
         "630"
        ],
        [
         "B6",
         "Fort Lauderdale-Hollywood International Airport",
         "5",
         "1576"
        ],
        [
         "EV",
         "Northwest Arkansas Regional Airport",
         "5",
         "284"
        ],
        [
         "OO",
         "Monterey Regional Airport (Monterey Peninsula Airport)",
         "5",
         "262"
        ],
        [
         "US",
         "Richmond International Airport",
         "5",
         "126"
        ],
        [
         "EV",
         "Albert J. Ellis Airport",
         "5",
         "105"
        ],
        [
         "OO",
         "Pittsburgh International Airport",
         "5",
         "62"
        ],
        [
         "US",
         "Buffalo Niagara International Airport",
         "5",
         "114"
        ],
        [
         "EV",
         "Nashville International Airport",
         "5",
         "261"
        ],
        [
         "EV",
         "Bill and Hillary Clinton National Airport (Adams Field)",
         "5",
         "356"
        ],
        [
         "EV",
         "Fort Smith Regional Airport",
         "5",
         "144"
        ],
        [
         "WN",
         "Detroit Metropolitan Airport",
         "5",
         "575"
        ],
        [
         "EV",
         "Dane County Regional Airport",
         "5",
         "235"
        ],
        [
         "UA",
         "Gen. Edward Lawrence Logan International Airport",
         "5",
         "1139"
        ],
        [
         "EV",
         "Minneapolis-Saint Paul International Airport",
         "5",
         "770"
        ],
        [
         "DL",
         "Birmingham-Shuttlesworth International Airport",
         "5",
         "284"
        ],
        [
         "VX",
         "McCarran International Airport",
         "5",
         "335"
        ],
        [
         "AA",
         "Kona International Airport at Keahole",
         "5",
         "48"
        ],
        [
         "DL",
         "Washington Dulles International Airport",
         "5",
         "221"
        ],
        [
         "WN",
         "Bishop International Airport",
         "5",
         "150"
        ],
        [
         "VX",
         "John F. Kennedy International Airport (New York International Airport)",
         "5",
         "315"
        ],
        [
         "F9",
         "McCarran International Airport",
         "5",
         "455"
        ],
        [
         "EV",
         "Coastal Carolina Regional Airport (Craven County Regional)",
         "5",
         "48"
        ],
        [
         "OO",
         "Rapid City Regional Airport",
         "5",
         "223"
        ],
        [
         "MQ",
         "Albuquerque International Sunport",
         "5",
         "58"
        ],
        [
         "DL",
         "Daytona Beach International Airport",
         "5",
         "152"
        ],
        [
         "OO",
         "Houghton County Memorial Airport",
         "5",
         "62"
        ],
        [
         "B6",
         "Seattle-Tacoma International Airport",
         "5",
         "178"
        ],
        [
         "F9",
         "Fort Lauderdale-Hollywood International Airport",
         "5",
         "66"
        ],
        [
         "F9",
         "Ronald Reagan Washington National Airport",
         "5",
         "90"
        ],
        [
         "DL",
         "El Paso International Airport",
         "5",
         "57"
        ],
        [
         "AS",
         "Kodiak Airport",
         "5",
         "62"
        ],
        [
         "EV",
         "Palm Beach International Airport",
         "5",
         "22"
        ],
        [
         "AA",
         "Northwest Arkansas Regional Airport",
         "5",
         "4"
        ],
        [
         "DL",
         "Bismarck Municipal Airport",
         "5",
         "35"
        ],
        [
         "EV",
         "Minot International Airport",
         "6",
         "2"
        ],
        [
         "AS",
         "Seattle-Tacoma International Airport",
         "8",
         "5243"
        ],
        [
         "B6",
         "Gen. Edward Lawrence Logan International Airport",
         "8",
         "3731"
        ],
        [
         "UA",
         "George Bush Intercontinental Airport",
         "8",
         "4912"
        ],
        [
         "DL",
         "LaGuardia Airport (Marine Air Terminal)",
         "8",
         "2116"
        ],
        [
         "DL",
         "Los Angeles International Airport",
         "8",
         "2721"
        ],
        [
         "OO",
         "Cincinnati/Northern Kentucky International Airport",
         "8",
         "437"
        ],
        [
         "UA",
         "Chicago O'Hare International Airport",
         "8",
         "5868"
        ],
        [
         "UA",
         "Hartsfield-Jackson Atlanta International Airport",
         "8",
         "317"
        ],
        [
         "DL",
         "Destin-Fort Walton Beach Airport/Eglin AFB",
         "8",
         "195"
        ],
        [
         "WN",
         "Southwest Florida International Airport",
         "8",
         "369"
        ],
        [
         "MQ",
         "St. Louis International Airport at Lambert Field",
         "8",
         "87"
        ],
        [
         "MQ",
         "Evansville Regional Airport",
         "8",
         "146"
        ],
        [
         "B6",
         "Rafael Hernández Airport",
         "8",
         "103"
        ],
        [
         "OO",
         "Montrose Regional Airport",
         "8",
         "62"
        ],
        [
         "EV",
         "Grand Junction Regional Airport (Walker Field)",
         "8",
         "31"
        ],
        [
         "NK",
         "LaGuardia Airport (Marine Air Terminal)",
         "8",
         "341"
        ],
        [
         "AS",
         "Yakutat Airport",
         "8",
         "62"
        ],
        [
         "EV",
         "Green Bay-Austin Straubel International Airport",
         "8",
         "181"
        ],
        [
         "OO",
         "Cherry Capital Airport",
         "8",
         "34"
        ],
        [
         "WN",
         "Wichita Dwight D. Eisenhower National Airport (Wichita Mid-Continent Airport)",
         "8",
         "142"
        ],
        [
         "OO",
         "Bishop International Airport",
         "8",
         "77"
        ],
        [
         "B6",
         "McCarran International Airport",
         "8",
         "411"
        ],
        [
         "AS",
         "John Wayne Airport (Orange County Airport)",
         "8",
         "326"
        ],
        [
         "MQ",
         "Bishop International Airport",
         "8",
         "91"
        ],
        [
         "OO",
         "Muskegon County Airport",
         "8",
         "62"
        ],
        [
         "OO",
         "Louisville International Airport (Standiford Field)",
         "8",
         "34"
        ],
        [
         "EV",
         "Bishop International Airport",
         "8",
         "88"
        ],
        [
         "OO",
         "Washington Dulles International Airport",
         "8",
         "29"
        ],
        [
         "EV",
         "Hattiesburg-Laurel Regional Airport",
         "8",
         "52"
        ],
        [
         "OO",
         "Jamestown Regional Airport",
         "8",
         "74"
        ],
        [
         "MQ",
         "Eppley Airfield",
         "8",
         "62"
        ],
        [
         "OO",
         "Corpus Christi International Airport",
         "8",
         "28"
        ],
        [
         "UA",
         "Gen. Edward Lawrence Logan International Airport",
         "8",
         "1198"
        ],
        [
         "VX",
         "Los Angeles International Airport",
         "8",
         "1192"
        ],
        [
         "WN",
         "Akron-Canton Regional Airport",
         "8",
         "283"
        ],
        [
         "DL",
         "Luis Muñoz Marín International Airport",
         "8",
         "278"
        ],
        [
         "F9",
         "Dallas/Fort Worth International Airport",
         "8",
         "124"
        ],
        [
         "DL",
         "Albuquerque International Sunport",
         "8",
         "153"
        ],
        [
         "B6",
         "Cleveland Hopkins International Airport",
         "8",
         "93"
        ],
        [
         "B6",
         "Dallas/Fort Worth International Airport",
         "8",
         "57"
        ],
        [
         "OO",
         "Cleveland Hopkins International Airport",
         "8",
         "20"
        ],
        [
         "UA",
         "Norman Y. Mineta San José International Airport",
         "8",
         "138"
        ],
        [
         "B6",
         "Henry E. Rohlsen Airport",
         "8",
         "31"
        ],
        [
         "B6",
         "Tampa International Airport",
         "8",
         "490"
        ],
        [
         "OO",
         "Idaho Falls Regional Airport",
         "8",
         "253"
        ],
        [
         "OO",
         "Sacramento International Airport",
         "8",
         "567"
        ],
        [
         "OO",
         "Grand Junction Regional Airport (Walker Field)",
         "8",
         "175"
        ],
        [
         "MQ",
         "Savannah/Hilton Head International Airport",
         "8",
         "60"
        ],
        [
         "DL",
         "Kona International Airport at Keahole",
         "8",
         "31"
        ],
        [
         "OO",
         "Rapid City Regional Airport",
         "1",
         "121"
        ],
        [
         "EV",
         "Brownsville/South Padre Island International Airport",
         "1",
         "203"
        ],
        [
         "WN",
         "Los Angeles International Airport",
         "1",
         "3289"
        ],
        [
         "EV",
         "Newark Liberty International Airport",
         "1",
         "2675"
        ],
        [
         "OO",
         "Hays Regional Airport",
         "1",
         "53"
        ],
        [
         "OO",
         "Bemidji Regional Airport",
         "1",
         "62"
        ],
        [
         "AA",
         "Seattle-Tacoma International Airport",
         "1",
         "371"
        ],
        [
         "US",
         "Kahului Airport",
         "1",
         "51"
        ],
        [
         "NK",
         "Myrtle Beach International Airport",
         "1",
         "155"
        ],
        [
         "EV",
         "Louisville International Airport (Standiford Field)",
         "1",
         "218"
        ],
        [
         "OO",
         "Houghton County Memorial Airport",
         "1",
         "60"
        ],
        [
         "EV",
         "Charlotte Douglas International Airport",
         "1",
         "343"
        ],
        [
         "F9",
         "Phoenix Sky Harbor International Airport",
         "1",
         "229"
        ],
        [
         "OO",
         "Des Moines International Airport",
         "1",
         "161"
        ],
        [
         "UA",
         "Cleveland Hopkins International Airport",
         "1",
         "695"
        ],
        [
         "EV",
         "Asheville Regional Airport",
         "1",
         "114"
        ],
        [
         "DL",
         "Tucson International Airport",
         "1",
         "73"
        ],
        [
         "MQ",
         "Columbia Regional Airport",
         "1",
         "124"
        ],
        [
         "US",
         "Austin-Bergstrom International Airport",
         "1",
         "72"
        ],
        [
         "US",
         "Cleveland Hopkins International Airport",
         "1",
         "145"
        ],
        [
         "OO",
         "Portland International Airport",
         "1",
         "507"
        ],
        [
         "EV",
         "Westchester County Airport",
         "1",
         "299"
        ],
        [
         "AA",
         "Palm Springs International Airport",
         "1",
         "119"
        ],
        [
         "B6",
         "William P. Hobby Airport",
         "1",
         "66"
        ],
        [
         "OO",
         "Cleveland Hopkins International Airport",
         "1",
         "56"
        ],
        [
         "UA",
         "Norman Y. Mineta San José International Airport",
         "1",
         "63"
        ],
        [
         "UA",
         "Bozeman Yellowstone International Airport (Gallatin Field Airport)",
         "1",
         "41"
        ],
        [
         "OO",
         "Memphis International Airport",
         "1",
         "97"
        ],
        [
         "EV",
         "Valley International Airport",
         "1",
         "114"
        ],
        [
         "US",
         "Portland International Jetport",
         "1",
         "31"
        ],
        [
         "DL",
         "James M. Cox Dayton International Airport",
         "1",
         "125"
        ],
        [
         "US",
         "Eppley Airfield",
         "1",
         "54"
        ],
        [
         "MQ",
         "Santa Fe Municipal Airport",
         "1",
         "62"
        ],
        [
         "DL",
         "Bismarck Municipal Airport",
         "1",
         "29"
        ],
        [
         "US",
         "Kansas City International Airport",
         "1",
         "204"
        ],
        [
         "B6",
         "Philadelphia International Airport",
         "1",
         "135"
        ],
        [
         "AS",
         "Petersburg James A. Johnson Airport",
         "1",
         "62"
        ],
        [
         "EV",
         "General Mitchell International Airport",
         "1",
         "227"
        ],
        [
         "EV",
         "Fayetteville Regional Airport",
         "1",
         "126"
        ],
        [
         "DL",
         "Wilkes-Barre/Scranton International Airport",
         "1",
         "4"
        ],
        [
         "DL",
         "Des Moines International Airport",
         "1",
         "78"
        ],
        [
         "UA",
         "McCarran International Airport",
         "2",
         "990"
        ],
        [
         "EV",
         "Greater Rochester International Airport",
         "2",
         "118"
        ],
        [
         "UA",
         "Fort Lauderdale-Hollywood International Airport",
         "2",
         "516"
        ],
        [
         "F9",
         "Will Rogers World Airport",
         "2",
         "24"
        ],
        [
         "EV",
         "George Bush Intercontinental Airport",
         "2",
         "5278"
        ],
        [
         "NK",
         "Detroit Metropolitan Airport",
         "2",
         "648"
        ],
        [
         "UA",
         "Philadelphia International Airport",
         "2",
         "258"
        ],
        [
         "DL",
         "Honolulu International Airport",
         "2",
         "227"
        ],
        [
         "VX",
         "San Francisco International Airport",
         "2",
         "1200"
        ],
        [
         "AS",
         "Kona International Airport at Keahole",
         "2",
         "120"
        ],
        [
         "WN",
         "Boise Airport (Boise Air Terminal)",
         "2",
         "244"
        ],
        [
         "AS",
         "Los Angeles International Airport",
         "2",
         "557"
        ],
        [
         "DL",
         "Lehigh Valley International Airport",
         "2",
         "25"
        ],
        [
         "US",
         "Denver International Airport",
         "2",
         "333"
        ],
        [
         "EV",
         "Albany International Airport",
         "2",
         "75"
        ],
        [
         "OO",
         "Billings Logan International Airport",
         "2",
         "87"
        ],
        [
         "EV",
         "Savannah/Hilton Head International Airport",
         "2",
         "172"
        ],
        [
         "OO",
         "Hartsfield-Jackson Atlanta International Airport",
         "2",
         "379"
        ],
        [
         "US",
         "Ted Stevens Anchorage International Airport",
         "2",
         "25"
        ],
        [
         "UA",
         "Ronald Reagan Washington National Airport",
         "2",
         "303"
        ],
        [
         "MQ",
         "Mobile Regional Airport",
         "2",
         "52"
        ],
        [
         "US",
         "Salt Lake City International Airport",
         "2",
         "206"
        ],
        [
         "MQ",
         "Manhattan Regional Airport",
         "2",
         "121"
        ],
        [
         "NK",
         "Baltimore-Washington International Airport",
         "2",
         "144"
        ],
        [
         "US",
         "Albany International Airport",
         "2",
         "56"
        ],
        [
         "DL",
         "Hector International Airport",
         "2",
         "55"
        ],
        [
         "F9",
         "Hartsfield-Jackson Atlanta International Airport",
         "2",
         "161"
        ],
        [
         "EV",
         "Grand Junction Regional Airport (Walker Field)",
         "2",
         "15"
        ],
        [
         "OO",
         "Appleton International Airport",
         "2",
         "23"
        ],
        [
         "MQ",
         "William P. Hobby Airport",
         "2",
         "56"
        ],
        [
         "EV",
         "Burlington International Airport",
         "2",
         "95"
        ],
        [
         "US",
         "Greater Rochester International Airport",
         "2",
         "28"
        ],
        [
         "DL",
         "Washington Dulles International Airport",
         "2",
         "178"
        ],
        [
         "B6",
         "Rafael Hernández Airport",
         "2",
         "56"
        ],
        [
         "HA",
         "Seattle-Tacoma International Airport",
         "2",
         "56"
        ],
        [
         "DL",
         "Tri-Cities Airport",
         "2",
         "27"
        ],
        [
         "DL",
         "Tampa International Airport",
         "3",
         "1110"
        ],
        [
         "B6",
         "Orlando International Airport",
         "3",
         "1703"
        ],
        [
         "MQ",
         "Ronald Reagan Washington National Airport",
         "3",
         "143"
        ],
        [
         "UA",
         "Gen. Edward Lawrence Logan International Airport",
         "3",
         "983"
        ],
        [
         "EV",
         "Northwest Arkansas Regional Airport",
         "3",
         "356"
        ],
        [
         "WN",
         "San Francisco International Airport",
         "3",
         "1338"
        ],
        [
         "UA",
         "San Antonio International Airport",
         "3",
         "230"
        ],
        [
         "EV",
         "Brownsville/South Padre Island International Airport",
         "3",
         "212"
        ],
        [
         "NK",
         "San Diego International Airport (Lindbergh Field)",
         "3",
         "155"
        ],
        [
         "OO",
         "Port Columbus International Airport",
         "3",
         "89"
        ],
        [
         "WN",
         "Jacksonville International Airport",
         "3",
         "415"
        ],
        [
         "OO",
         "Durango-La Plata County Airport",
         "3",
         "111"
        ],
        [
         "OO",
         "Oakland International Airport",
         "3",
         "233"
        ],
        [
         "AA",
         "Reno/Tahoe International Airport",
         "3",
         "91"
        ],
        [
         "OO",
         "Bismarck Municipal Airport",
         "3",
         "174"
        ],
        [
         "EV",
         "Louis Armstrong New Orleans International Airport",
         "3",
         "104"
        ],
        [
         "EV",
         "General Mitchell International Airport",
         "3",
         "249"
        ],
        [
         "AA",
         "Denver International Airport",
         "3",
         "496"
        ],
        [
         "F9",
         "LaGuardia Airport (Marine Air Terminal)",
         "3",
         "90"
        ],
        [
         "DL",
         "Key West International Airport",
         "3",
         "124"
        ],
        [
         "AA",
         "Port Columbus International Airport",
         "3",
         "124"
        ],
        [
         "MQ",
         "Gainesville Regional Airport",
         "3",
         "62"
        ],
        [
         "WN",
         "Pensacola International Airport (Pensacola Gulf Coast Regional Airport)",
         "3",
         "88"
        ],
        [
         "OO",
         "Memphis International Airport",
         "3",
         "100"
        ],
        [
         "EV",
         "Northwest Florida Beaches International Airport",
         "3",
         "62"
        ],
        [
         "UA",
         "Des Moines International Airport",
         "3",
         "58"
        ],
        [
         "EV",
         "Dickinson Theodore Roosevelt Regional Airport",
         "3",
         "76"
        ],
        [
         "OO",
         "Capital Region International Airport ( Lansing Capital City)",
         "3",
         "24"
        ],
        [
         "OO",
         "St. George Regional Airport",
         "2",
         "136"
        ],
        [
         "US",
         "Cleveland Hopkins International Airport",
         "3",
         "169"
        ],
        [
         "DL",
         "Myrtle Beach International Airport",
         "3",
         "31"
        ],
        [
         "MQ",
         "Durango-La Plata County Airport",
         "3",
         "39"
        ],
        [
         "F9",
         "Des Moines International Airport",
         "3",
         "13"
        ],
        [
         "UA",
         "Raleigh-Durham International Airport",
         "2",
         "50"
        ],
        [
         "EV",
         "Charlotte Douglas International Airport",
         "6",
         "399"
        ],
        [
         "AA",
         "Orlando International Airport",
         "6",
         "836"
        ],
        [
         "EV",
         "Chicago O'Hare International Airport",
         "6",
         "3947"
        ],
        [
         "OO",
         "Tri-Cities Airport",
         "6",
         "172"
        ],
        [
         "US",
         "Oakland International Airport",
         "6",
         "60"
        ],
        [
         "WN",
         "San Antonio International Airport",
         "6",
         "1353"
        ],
        [
         "UA",
         "Philadelphia International Airport",
         "6",
         "370"
        ],
        [
         "AA",
         "John Wayne Airport (Orange County Airport)",
         "6",
         "401"
        ],
        [
         "EV",
         "San Antonio International Airport",
         "6",
         "66"
        ],
        [
         "F9",
         "Eppley Airfield",
         "6",
         "17"
        ],
        [
         "WN",
         "Birmingham-Shuttlesworth International Airport",
         "6",
         "383"
        ],
        [
         "WN",
         "Boise Airport (Boise Air Terminal)",
         "6",
         "289"
        ],
        [
         "EV",
         "Springfield-Branson National Airport",
         "6",
         "175"
        ],
        [
         "DL",
         "Jacksonville International Airport",
         "6",
         "398"
        ],
        [
         "OO",
         "Flagstaff Pulliam Airport",
         "6",
         "173"
        ],
        [
         "OO",
         "Houghton County Memorial Airport",
         "6",
         "60"
        ],
        [
         "AS",
         "Wiley Post-Will Rogers Memorial Airport",
         "6",
         "78"
        ],
        [
         "OO",
         "El Paso International Airport",
         "6",
         "153"
        ],
        [
         "OO",
         "Range Regional Airport (Chisholm-Hibbing Airport)",
         "6",
         "81"
        ],
        [
         "DL",
         "Glacier Park International Airport",
         "6",
         "60"
        ],
        [
         "MQ",
         "Waterloo Regional Airport",
         "6",
         "56"
        ],
        [
         "DL",
         "Wilmington International Airport",
         "6",
         "31"
        ],
        [
         "B6",
         "Denver International Airport",
         "6",
         "93"
        ],
        [
         "OO",
         "Jackson Hole Airport",
         "6",
         "45"
        ],
        [
         "OO",
         "Southwest Oregon Regional Airport (North Bend Municipal)",
         "6",
         "32"
        ],
        [
         "MQ",
         "Toledo Express Airport",
         "6",
         "90"
        ],
        [
         "F9",
         "Detroit Metropolitan Airport",
         "6",
         "77"
        ],
        [
         "B6",
         "Worcester Regional Airport",
         "6",
         "60"
        ],
        [
         "EV",
         "McAllen-Miller International Airport (McAllen Miller International)",
         "6",
         "88"
        ],
        [
         "F9",
         "Sioux Falls Regional Airport",
         "6",
         "13"
        ],
        [
         "DL",
         "Kahului Airport",
         "6",
         "90"
        ],
        [
         "EV",
         "Wichita Falls Municipal Airport/Sheppard AFB",
         "6",
         "9"
        ],
        [
         "OO",
         "Syracuse Hancock International Airport",
         "6",
         "3"
        ],
        [
         "OO",
         "Hays Regional Airport",
         "6",
         "52"
        ],
        [
         "MQ",
         "Sawyer International Airport",
         "6",
         "26"
        ],
        [
         "EV",
         "Brownsville/South Padre Island International Airport",
         "7",
         "236"
        ],
        [
         "AA",
         "Charlotte Douglas International Airport",
         "7",
         "7912"
        ],
        [
         "MQ",
         "Raleigh-Durham International Airport",
         "7",
         "294"
        ],
        [
         "AA",
         "McCarran International Airport",
         "7",
         "1375"
        ],
        [
         "B6",
         "Seattle-Tacoma International Airport",
         "7",
         "337"
        ],
        [
         "OO",
         "City of Colorado Springs Municipal Airport",
         "7",
         "458"
        ],
        [
         "NK",
         "Denver International Airport",
         "7",
         "403"
        ],
        [
         "MQ",
         "Columbia Regional Airport",
         "7",
         "121"
        ],
        [
         "EV",
         "Gerald R. Ford International Airport",
         "7",
         "155"
        ],
        [
         "DL",
         "Missoula International Airport",
         "7",
         "97"
        ],
        [
         "WN",
         "Port Columbus International Airport",
         "7",
         "1001"
        ],
        [
         "EV",
         "Cincinnati/Northern Kentucky International Airport",
         "7",
         "258"
        ],
        [
         "EV",
         "Wilmington International Airport",
         "7",
         "167"
        ],
        [
         "B6",
         "Rafael Hernández Airport",
         "7",
         "124"
        ],
        [
         "OO",
         "Sloulin Field International Airport",
         "7",
         "218"
        ],
        [
         "WN",
         "Memphis International Airport",
         "7",
         "301"
        ],
        [
         "OO",
         "Abraham Lincoln Capital Airport",
         "7",
         "93"
        ],
        [
         "EV",
         "Midland International Airport",
         "7",
         "188"
        ],
        [
         "OO",
         "Monterey Regional Airport (Monterey Peninsula Airport)",
         "7",
         "303"
        ],
        [
         "AS",
         "San Francisco International Airport",
         "7",
         "488"
        ],
        [
         "EV",
         "Greenville-Spartanburg International Airport",
         "7",
         "235"
        ],
        [
         "VX",
         "Chicago O'Hare International Airport",
         "7",
         "152"
        ],
        [
         "DL",
         "Sacramento International Airport",
         "7",
         "225"
        ],
        [
         "MQ",
         "Pittsburgh International Airport",
         "7",
         "56"
        ],
        [
         "EV",
         "Louisville International Airport (Standiford Field)",
         "7",
         "135"
        ],
        [
         "AA",
         "Ontario International Airport",
         "7",
         "264"
        ],
        [
         "MQ",
         "Chattanooga Metropolitan Airport (Lovell Field)",
         "7",
         "30"
        ],
        [
         "EV",
         "Key West International Airport",
         "7",
         "31"
        ],
        [
         "OO",
         "Bemidji Regional Airport",
         "7",
         "62"
        ],
        [
         "DL",
         "Manchester-Boston Regional Airport",
         "7",
         "51"
        ],
        [
         "DL",
         "Lehigh Valley International Airport",
         "7",
         "31"
        ],
        [
         "EV",
         "Phoenix Sky Harbor International Airport",
         "7",
         "2"
        ],
        [
         "OO",
         "Indianapolis International Airport",
         "7",
         "23"
        ],
        [
         "AA",
         "Tampa International Airport",
         "6",
         "475"
        ],
        [
         "UA",
         "Harrisburg International Airport",
         "6",
         "52"
        ],
        [
         "F9",
         "Des Moines International Airport",
         "6",
         "17"
        ],
        [
         "AA",
         "El Paso International Airport",
         "7",
         "124"
        ],
        [
         "VX",
         "Portland International Airport",
         "7",
         "31"
        ],
        [
         "WN",
         "Denver International Airport",
         "5",
         "5123"
        ],
        [
         "DL",
         "General Mitchell International Airport",
         "5",
         "412"
        ],
        [
         "AA",
         "Dallas/Fort Worth International Airport",
         "5",
         "12125"
        ],
        [
         "DL",
         "Minneapolis-Saint Paul International Airport",
         "5",
         "5231"
        ],
        [
         "UA",
         "Cleveland Hopkins International Airport",
         "5",
         "616"
        ],
        [
         "EV",
         "Denver International Airport",
         "5",
         "641"
        ],
        [
         "EV",
         "George Bush Intercontinental Airport",
         "5",
         "5970"
        ],
        [
         "OO",
         "Los Angeles International Airport",
         "5",
         "3552"
        ],
        [
         "DL",
         "Salt Lake City International Airport",
         "5",
         "2896"
        ],
        [
         "F9",
         "George Bush Intercontinental Airport",
         "5",
         "150"
        ],
        [
         "DL",
         "Detroit Metropolitan Airport",
         "5",
         "4966"
        ],
        [
         "HA",
         "Honolulu International Airport",
         "5",
         "2785"
        ],
        [
         "US",
         "Miami International Airport",
         "5",
         "304"
        ],
        [
         "OO",
         "Northwest Arkansas Regional Airport",
         "5",
         "118"
        ],
        [
         "OO",
         "George Bush Intercontinental Airport",
         "5",
         "1525"
        ],
        [
         "NK",
         "Portland International Airport",
         "5",
         "93"
        ],
        [
         "DL",
         "Northwest Florida Beaches International Airport",
         "5",
         "184"
        ],
        [
         "EV",
         "Tulsa International Airport",
         "5",
         "209"
        ],
        [
         "NK",
         "George Bush Intercontinental Airport",
         "5",
         "521"
        ],
        [
         "B6",
         "Cyril E. King Airport",
         "5",
         "67"
        ],
        [
         "VX",
         "San Francisco International Airport",
         "5",
         "1437"
        ],
        [
         "F9",
         "San Francisco International Airport",
         "5",
         "185"
        ],
        [
         "UA",
         "Kona International Airport at Keahole",
         "5",
         "102"
        ],
        [
         "EV",
         "Mobile Regional Airport",
         "5",
         "330"
        ],
        [
         "EV",
         "Wilmington International Airport",
         "5",
         "83"
        ],
        [
         "AA",
         "Louis Armstrong New Orleans International Airport",
         "5",
         "269"
        ],
        [
         "AA",
         "Southwest Florida International Airport",
         "5",
         "160"
        ],
        [
         "AA",
         "Raleigh-Durham International Airport",
         "5",
         "361"
        ],
        [
         "EV",
         "Capital Region International Airport ( Lansing Capital City)",
         "5",
         "100"
        ],
        [
         "EV",
         "City of Colorado Springs Municipal Airport",
         "5",
         "55"
        ],
        [
         "MQ",
         "Quad City International Airport",
         "5",
         "160"
        ],
        [
         "MQ",
         "Lake Charles Regional Airport",
         "5",
         "62"
        ],
        [
         "MQ",
         "El Paso International Airport",
         "5",
         "61"
        ],
        [
         "DL",
         "Norman Y. Mineta San José International Airport",
         "5",
         "110"
        ],
        [
         "MQ",
         "Garden City Regional Airport",
         "5",
         "37"
        ],
        [
         "MQ",
         "Chattanooga Metropolitan Airport (Lovell Field)",
         "5",
         "114"
        ],
        [
         "UA",
         "Palm Springs International Airport",
         "5",
         "16"
        ],
        [
         "EV",
         "East Texas Regional Airport",
         "5",
         "31"
        ],
        [
         "UA",
         "Sarasota-Bradenton International Airport",
         "5",
         "37"
        ],
        [
         "AS",
         "Philadelphia International Airport",
         "5",
         "31"
        ],
        [
         "AS",
         "Washington Dulles International Airport",
         "5",
         "31"
        ],
        [
         "B6",
         "Ted Stevens Anchorage International Airport",
         "5",
         "36"
        ],
        [
         "UA",
         "Reno/Tahoe International Airport",
         "5",
         "57"
        ],
        [
         "US",
         "Norfolk International Airport",
         "4",
         "4"
        ],
        [
         "DL",
         "Kansas City International Airport",
         "4",
         "462"
        ],
        [
         "EV",
         "Hartsfield-Jackson Atlanta International Airport",
         "4",
         "5284"
        ],
        [
         "EV",
         "Central Illinois Regional Airport at Bloomington-Normal",
         "4",
         "86"
        ],
        [
         "WN",
         "Ronald Reagan Washington National Airport",
         "4",
         "1297"
        ],
        [
         "EV",
         "Golden Triangle Regional Airport",
         "4",
         "84"
        ],
        [
         "UA",
         "San Antonio International Airport",
         "4",
         "150"
        ],
        [
         "WN",
         "Tucson International Airport",
         "4",
         "393"
        ],
        [
         "OO",
         "San Diego International Airport (Lindbergh Field)",
         "4",
         "609"
        ],
        [
         "EV",
         "Richmond International Airport",
         "4",
         "478"
        ],
        [
         "AS",
         "Dallas/Fort Worth International Airport",
         "4",
         "120"
        ],
        [
         "AS",
         "Juneau International Airport",
         "4",
         "301"
        ],
        [
         "DL",
         "Cincinnati/Northern Kentucky International Airport",
         "4",
         "556"
        ],
        [
         "AA",
         "Nashville International Airport",
         "4",
         "313"
        ],
        [
         "EV",
         "Louis Armstrong New Orleans International Airport",
         "4",
         "96"
        ],
        [
         "OO",
         "Kansas City International Airport",
         "4",
         "187"
        ],
        [
         "VX",
         "Ronald Reagan Washington National Airport",
         "4",
         "112"
        ],
        [
         "US",
         "Palm Beach International Airport",
         "4",
         "318"
        ],
        [
         "MQ",
         "Gulfport-Biloxi International Airport",
         "4",
         "86"
        ],
        [
         "AS",
         "Ronald Reagan Washington National Airport",
         "4",
         "120"
        ],
        [
         "DL",
         "Pittsburgh International Airport",
         "4",
         "284"
        ],
        [
         "B6",
         "Denver International Airport",
         "4",
         "86"
        ],
        [
         "NK",
         "Myrtle Beach International Airport",
         "4",
         "330"
        ],
        [
         "F9",
         "Tampa International Airport",
         "4",
         "151"
        ],
        [
         "AA",
         "Port Columbus International Airport",
         "4",
         "150"
        ],
        [
         "OO",
         "Appleton International Airport",
         "4",
         "33"
        ],
        [
         "OO",
         "Will Rogers World Airport",
         "4",
         "202"
        ],
        [
         "DL",
         "Bill and Hillary Clinton National Airport (Adams Field)",
         "4",
         "170"
        ],
        [
         "OO",
         "Helena Regional Airport",
         "4",
         "136"
        ],
        [
         "DL",
         "Tri-Cities Regional Airport",
         "4",
         "55"
        ],
        [
         "EV",
         "Dothan Regional Airport",
         "4",
         "115"
        ],
        [
         "WN",
         "Rick Husband Amarillo International Airport",
         "4",
         "139"
        ],
        [
         "MQ",
         "Bishop International Airport",
         "4",
         "86"
        ],
        [
         "OO",
         "Dickinson Theodore Roosevelt Regional Airport",
         "4",
         "72"
        ],
        [
         "UA",
         "Richmond International Airport",
         "4",
         "26"
        ],
        [
         "US",
         "Lihue Airport",
         "4",
         "22"
        ],
        [
         "MQ",
         "Santa Fe Municipal Airport",
         "4",
         "51"
        ],
        [
         "EV",
         "Rapid City Regional Airport",
         "4",
         "4"
        ],
        [
         "OO",
         "San Francisco International Airport",
         "8",
         "3146"
        ],
        [
         "EV",
         "Gerald R. Ford International Airport",
         "8",
         "167"
        ],
        [
         "WN",
         "McCarran International Airport",
         "8",
         "6498"
        ],
        [
         "AA",
         "Ontario International Airport",
         "8",
         "258"
        ],
        [
         "UA",
         "Luis Muñoz Marín International Airport",
         "8",
         "183"
        ],
        [
         "AA",
         "Baltimore-Washington International Airport",
         "8",
         "596"
        ],
        [
         "B6",
         "Luis Muñoz Marín International Airport",
         "8",
         "1034"
        ],
        [
         "AA",
         "San Diego International Airport (Lindbergh Field)",
         "8",
         "831"
        ],
        [
         "MQ",
         "Miami International Airport",
         "8",
         "492"
        ],
        [
         "OO",
         "Portland International Airport",
         "8",
         "446"
        ],
        [
         "OO",
         "Midland International Airport",
         "8",
         "130"
        ],
        [
         "AA",
         "Newark Liberty International Airport",
         "8",
         "732"
        ],
        [
         "DL",
         "John Wayne Airport (Orange County Airport)",
         "8",
         "249"
        ],
        [
         "OO",
         "Louis Armstrong New Orleans International Airport",
         "8",
         "105"
        ],
        [
         "NK",
         "Luis Muñoz Marín International Airport",
         "8",
         "62"
        ],
        [
         "WN",
         "Albuquerque International Sunport",
         "8",
         "1030"
        ],
        [
         "B6",
         "Barnstable Municipal Airport",
         "8",
         "31"
        ],
        [
         "DL",
         "Spokane International Airport",
         "8",
         "191"
        ],
        [
         "B6",
         "Seattle-Tacoma International Airport",
         "8",
         "312"
        ],
        [
         "AS",
         "Newark Liberty International Airport",
         "8",
         "62"
        ],
        [
         "B6",
         "Norman Y. Mineta San José International Airport",
         "8",
         "62"
        ],
        [
         "DL",
         "Will Rogers World Airport",
         "8",
         "161"
        ],
        [
         "B6",
         "John F. Kennedy International Airport (New York International Airport)",
         "8",
         "4007"
        ],
        [
         "UA",
         "Phoenix Sky Harbor International Airport",
         "8",
         "361"
        ],
        [
         "DL",
         "Norfolk International Airport",
         "8",
         "273"
        ],
        [
         "EV",
         "Raleigh-Durham International Airport",
         "8",
         "253"
        ],
        [
         "B6",
         "Washington Dulles International Airport",
         "8",
         "181"
        ],
        [
         "NK",
         "Phoenix Sky Harbor International Airport",
         "8",
         "62"
        ],
        [
         "AA",
         "Theodore Francis Green State Airport",
         "8",
         "106"
        ],
        [
         "B6",
         "Bradley International Airport",
         "8",
         "273"
        ],
        [
         "EV",
         "Melbourne International Airport",
         "8",
         "13"
        ],
        [
         "DL",
         "Wichita Dwight D. Eisenhower National Airport (Wichita Mid-Continent Airport)",
         "8",
         "92"
        ],
        [
         "US",
         "Phoenix Sky Harbor International Airport",
         "1",
         "4447"
        ],
        [
         "B6",
         "Tampa International Airport",
         "1",
         "531"
        ],
        [
         "AA",
         "Miami International Airport",
         "1",
         "4330"
        ],
        [
         "US",
         "Pittsburgh International Airport",
         "1",
         "396"
        ],
        [
         "B6",
         "Newark Liberty International Airport",
         "1",
         "621"
        ],
        [
         "UA",
         "San Diego International Airport (Lindbergh Field)",
         "1",
         "570"
        ],
        [
         "WN",
         "Dallas Love Field",
         "1",
         "4466"
        ],
        [
         "MQ",
         "General Mitchell International Airport",
         "1",
         "10"
        ],
        [
         "HA",
         "Hilo International Airport",
         "1",
         "492"
        ],
        [
         "F9",
         "Cleveland Hopkins International Airport",
         "1",
         "284"
        ],
        [
         "DL",
         "Eppley Airfield",
         "1",
         "162"
        ],
        [
         "DL",
         "McCarran International Airport",
         "1",
         "836"
        ],
        [
         "AS",
         "Tucson International Airport",
         "1",
         "32"
        ],
        [
         "EV",
         "Tulsa International Airport",
         "1",
         "374"
        ],
        [
         "UA",
         "Pittsburgh International Airport",
         "1",
         "144"
        ],
        [
         "EV",
         "Capital Region International Airport ( Lansing Capital City)",
         "1",
         "77"
        ],
        [
         "MQ",
         "Richmond International Airport",
         "1",
         "87"
        ],
        [
         "MQ",
         "Lafayette Regional Airport",
         "1",
         "115"
        ],
        [
         "OO",
         "Canyonlands Field",
         "1",
         "54"
        ],
        [
         "EV",
         "Lehigh Valley International Airport",
         "1",
         "139"
        ],
        [
         "B6",
         "Theodore Francis Green State Airport",
         "1",
         "93"
        ],
        [
         "OO",
         "McClellan-Palomar Airport",
         "1",
         "204"
        ],
        [
         "AS",
         "Gen. Edward Lawrence Logan International Airport",
         "1",
         "108"
        ],
        [
         "NK",
         "Kansas City International Airport",
         "1",
         "131"
        ],
        [
         "AS",
         "Ralph Wien Memorial Airport",
         "1",
         "61"
        ],
        [
         "VX",
         "Orlando International Airport",
         "1",
         "31"
        ],
        [
         "UA",
         "Will Rogers World Airport",
         "1",
         "25"
        ],
        [
         "DL",
         "City of Colorado Springs Municipal Airport",
         "1",
         "27"
        ],
        [
         "F9",
         "Spokane International Airport",
         "1",
         "5"
        ],
        [
         "US",
         "Theodore Francis Green State Airport",
         "1",
         "102"
        ],
        [
         "UA",
         "Minneapolis-Saint Paul International Airport",
         "1",
         "160"
        ],
        [
         "DL",
         "Spokane International Airport",
         "1",
         "110"
        ],
        [
         "EV",
         "Rochester International Airport",
         "1",
         "60"
        ],
        [
         "MQ",
         "Buffalo Niagara International Airport",
         "1",
         "66"
        ],
        [
         "DL",
         "Indianapolis International Airport",
         "1",
         "383"
        ],
        [
         "DL",
         "Eagle County Regional Airport",
         "1",
         "32"
        ],
        [
         "OO",
         "Helena Regional Airport",
         "1",
         "110"
        ],
        [
         "US",
         "John F. Kennedy International Airport (New York International Airport)",
         "1",
         "250"
        ],
        [
         "MQ",
         "Laredo International Airport",
         "1",
         "124"
        ],
        [
         "MQ",
         "Birmingham-Shuttlesworth International Airport",
         "1",
         "93"
        ],
        [
         "MQ",
         "Joplin Regional Airport",
         "1",
         "62"
        ],
        [
         "AA",
         "Jackson Hole Airport",
         "1",
         "36"
        ],
        [
         "F9",
         "St. Louis International Airport at Lambert Field",
         "1",
         "92"
        ],
        [
         "AA",
         "Bill and Hillary Clinton National Airport (Adams Field)",
         "1",
         "9"
        ],
        [
         "DL",
         "Appleton International Airport",
         "1",
         "38"
        ],
        [
         "EV",
         "Durango-La Plata County Airport",
         "1",
         "17"
        ],
        [
         "EV",
         "Charlottesville-Albemarle Airport",
         "1",
         "85"
        ],
        [
         "WN",
         "Kansas City International Airport",
         "4",
         "1919"
        ],
        [
         "WN",
         "St. Louis International Airport at Lambert Field",
         "4",
         "2538"
        ],
        [
         "DL",
         "Louisville International Airport (Standiford Field)",
         "4",
         "261"
        ],
        [
         "AA",
         "LaGuardia Airport (Marine Air Terminal)",
         "4",
         "1196"
        ],
        [
         "MQ",
         "LaGuardia Airport (Marine Air Terminal)",
         "4",
         "1319"
        ],
        [
         "NK",
         "Fort Lauderdale-Hollywood International Airport",
         "4",
         "1040"
        ],
        [
         "MQ",
         "Bismarck Municipal Airport",
         "4",
         "60"
        ],
        [
         "AA",
         "Fresno Yosemite International Airport",
         "4",
         "56"
        ],
        [
         "OO",
         "Tri-Cities Airport",
         "4",
         "174"
        ],
        [
         "NK",
         "McCarran International Airport",
         "4",
         "781"
        ],
        [
         "OO",
         "Canyonlands Field",
         "4",
         "51"
        ],
        [
         "MQ",
         "Norfolk International Airport",
         "4",
         "163"
        ],
        [
         "US",
         "Luis Muñoz Marín International Airport",
         "4",
         "199"
        ],
        [
         "DL",
         "Gulfport-Biloxi International Airport",
         "4",
         "131"
        ],
        [
         "OO",
         "Grand Forks International Airport",
         "4",
         "56"
        ],
        [
         "DL",
         "Dane County Regional Airport",
         "4",
         "233"
        ],
        [
         "US",
         "Southwest Florida International Airport",
         "4",
         "342"
        ],
        [
         "MQ",
         "Memphis International Airport",
         "4",
         "146"
        ],
        [
         "EV",
         "Midland International Airport",
         "4",
         "182"
        ],
        [
         "VX",
         "Dallas Love Field",
         "4",
         "370"
        ],
        [
         "EV",
         "Easterwood Airport",
         "4",
         "61"
        ],
        [
         "B6",
         "Worcester Regional Airport",
         "4",
         "60"
        ],
        [
         "OO",
         "Hartsfield-Jackson Atlanta International Airport",
         "4",
         "337"
        ],
        [
         "MQ",
         "Toledo Express Airport",
         "4",
         "86"
        ],
        [
         "AA",
         "Ontario International Airport",
         "4",
         "120"
        ],
        [
         "OO",
         "McGhee Tyson Airport",
         "4",
         "3"
        ],
        [
         "AS",
         "Fort Lauderdale-Hollywood International Airport",
         "4",
         "30"
        ],
        [
         "WN",
         "Pensacola International Airport (Pensacola Gulf Coast Regional Airport)",
         "4",
         "92"
        ],
        [
         "UA",
         "Reno/Tahoe International Airport",
         "4",
         "54"
        ],
        [
         "AS",
         "Bellingham International Airport",
         "4",
         "92"
        ],
        [
         "DL",
         "Missoula International Airport",
         "4",
         "36"
        ],
        [
         "DL",
         "Roanoke Regional Airport (Woodrum Field)",
         "4",
         "30"
        ],
        [
         "B6",
         "Rafael Hernández Airport",
         "4",
         "60"
        ],
        [
         "OO",
         "Aberdeen Regional Airport",
         "4",
         "60"
        ],
        [
         "F9",
         "Raleigh-Durham International Airport",
         "4",
         "19"
        ],
        [
         "F9",
         "Des Moines International Airport",
         "4",
         "13"
        ],
        [
         "DL",
         "Newport News/Williamsburg International Airport",
         "4",
         "25"
        ],
        [
         "DL",
         "Boise Airport (Boise Air Terminal)",
         "4",
         "114"
        ],
        [
         "OO",
         "Dane County Regional Airport",
         "4",
         "152"
        ],
        [
         "DL",
         "Melbourne International Airport",
         "4",
         "120"
        ],
        [
         "OO",
         "Ontario International Airport",
         "3",
         "390"
        ],
        [
         "UA",
         "Tampa International Airport",
         "3",
         "636"
        ],
        [
         "AA",
         "Los Angeles International Airport",
         "3",
         "2815"
        ],
        [
         "VX",
         "San Francisco International Airport",
         "3",
         "1379"
        ],
        [
         "AA",
         "San Antonio International Airport",
         "3",
         "480"
        ],
        [
         "DL",
         "Cleveland Hopkins International Airport",
         "3",
         "210"
        ],
        [
         "WN",
         "Port Columbus International Airport",
         "3",
         "948"
        ],
        [
         "WN",
         "Kansas City International Airport",
         "3",
         "1909"
        ],
        [
         "WN",
         "Louisville International Airport (Standiford Field)",
         "3",
         "363"
        ],
        [
         "F9",
         "Miami International Airport",
         "3",
         "188"
        ],
        [
         "DL",
         "Sacramento International Airport",
         "3",
         "133"
        ],
        [
         "WN",
         "James M. Cox Dayton International Airport",
         "3",
         "162"
        ],
        [
         "HA",
         "Lihue Airport",
         "3",
         "645"
        ],
        [
         "OO",
         "Lewiston-Nez Perce County Airport",
         "3",
         "49"
        ],
        [
         "MQ",
         "Sawyer International Airport",
         "3",
         "27"
        ],
        [
         "NK",
         "Los Angeles International Airport",
         "3",
         "279"
        ],
        [
         "AS",
         "Norman Y. Mineta San José International Airport",
         "3",
         "342"
        ],
        [
         "WN",
         "Birmingham-Shuttlesworth International Airport",
         "3",
         "387"
        ],
        [
         "DL",
         "Augusta Regional Airport (Bush Field)",
         "3",
         "64"
        ],
        [
         "VX",
         "Fort Lauderdale-Hollywood International Airport",
         "3",
         "166"
        ],
        [
         "DL",
         "Destin-Fort Walton Beach Airport/Eglin AFB",
         "3",
         "183"
        ],
        [
         "VX",
         "Ronald Reagan Washington National Airport",
         "3",
         "115"
        ],
        [
         "VX",
         "Washington Dulles International Airport",
         "3",
         "114"
        ],
        [
         "DL",
         "Savannah/Hilton Head International Airport",
         "3",
         "278"
        ],
        [
         "DL",
         "Akron-Canton Regional Airport",
         "3",
         "151"
        ],
        [
         "MQ",
         "Destin-Fort Walton Beach Airport/Eglin AFB",
         "3",
         "95"
        ],
        [
         "AS",
         "Ralph Wien Memorial Airport",
         "3",
         "62"
        ],
        [
         "B6",
         "Savannah/Hilton Head International Airport",
         "3",
         "93"
        ],
        [
         "AA",
         "Salt Lake City International Airport",
         "3",
         "213"
        ],
        [
         "OO",
         "Dickinson Theodore Roosevelt Regional Airport",
         "3",
         "62"
        ],
        [
         "HA",
         "Oakland International Airport",
         "3",
         "62"
        ],
        [
         "OO",
         "Appleton International Airport",
         "3",
         "49"
        ],
        [
         "MQ",
         "Hector International Airport",
         "3",
         "119"
        ],
        [
         "OO",
         "McClellan-Palomar Airport",
         "3",
         "209"
        ],
        [
         "EV",
         "Appleton International Airport",
         "3",
         "206"
        ],
        [
         "B6",
         "Salt Lake City International Airport",
         "3",
         "127"
        ],
        [
         "MQ",
         "Greenville-Spartanburg International Airport",
         "3",
         "62"
        ],
        [
         "DL",
         "Lehigh Valley International Airport",
         "3",
         "31"
        ],
        [
         "OO",
         "Louisville International Airport (Standiford Field)",
         "3",
         "51"
        ],
        [
         "VX",
         "Newark Liberty International Airport",
         "3",
         "170"
        ],
        [
         "AA",
         "McAllen-Miller International Airport (McAllen Miller International)",
         "3",
         "155"
        ],
        [
         "F9",
         "Wilmington Airport",
         "3",
         "27"
        ],
        [
         "B6",
         "Norman Y. Mineta San José International Airport",
         "3",
         "19"
        ],
        [
         "EV",
         "Waco Regional Airport",
         "3",
         "30"
        ],
        [
         "US",
         "Seattle-Tacoma International Airport",
         "3",
         "258"
        ],
        [
         "F9",
         "Los Angeles International Airport",
         "3",
         "66"
        ],
        [
         "MQ",
         "Kalamazoo/Battle Creek International Airport",
         "3",
         "120"
        ],
        [
         "NK",
         "McCarran International Airport",
         "2",
         "671"
        ],
        [
         "B6",
         "Detroit Metropolitan Airport",
         "2",
         "81"
        ],
        [
         "WN",
         "Philadelphia International Airport",
         "2",
         "692"
        ],
        [
         "AA",
         "Ronald Reagan Washington National Airport",
         "2",
         "835"
        ],
        [
         "AA",
         "Miami International Airport",
         "2",
         "3906"
        ],
        [
         "AA",
         "Salt Lake City International Airport",
         "2",
         "160"
        ],
        [
         "US",
         "Ronald Reagan Washington National Airport",
         "2",
         "1600"
        ],
        [
         "WN",
         "Southwest Florida International Airport",
         "2",
         "798"
        ],
        [
         "B6",
         "Westchester County Airport",
         "2",
         "302"
        ],
        [
         "UA",
         "Reno/Tahoe International Airport",
         "2",
         "56"
        ],
        [
         "AS",
         "Palm Springs International Airport",
         "2",
         "204"
        ],
        [
         "WN",
         "Theodore Francis Green State Airport",
         "2",
         "441"
        ],
        [
         "AA",
         "McCarran International Airport",
         "2",
         "787"
        ],
        [
         "WN",
         "Norman Y. Mineta San José International Airport",
         "2",
         "1684"
        ],
        [
         "AA",
         "James M. Cox Dayton International Airport",
         "2",
         "82"
        ],
        [
         "F9",
         "Chicago O'Hare International Airport",
         "2",
         "261"
        ],
        [
         "EV",
         "Birmingham-Shuttlesworth International Airport",
         "2",
         "304"
        ],
        [
         "AA",
         "Cyril E. King Airport",
         "2",
         "103"
        ],
        [
         "OO",
         "Will Rogers World Airport",
         "2",
         "173"
        ],
        [
         "WN",
         "Tulsa International Airport",
         "2",
         "342"
        ],
        [
         "B6",
         "Palm Beach International Airport",
         "2",
         "661"
        ],
        [
         "US",
         "Honolulu International Airport",
         "2",
         "52"
        ],
        [
         "DL",
         "Tucson International Airport",
         "2",
         "73"
        ],
        [
         "DL",
         "Buffalo Niagara International Airport",
         "2",
         "157"
        ],
        [
         "OO",
         "General Mitchell International Airport",
         "2",
         "560"
        ],
        [
         "F9",
         "Orlando International Airport",
         "2",
         "397"
        ],
        [
         "DL",
         "Yampa Valley Airport (Yampa Valley Regional)",
         "2",
         "26"
        ],
        [
         "AS",
         "Yakutat Airport",
         "2",
         "56"
        ],
        [
         "EV",
         "St. Louis International Airport at Lambert Field",
         "2",
         "261"
        ],
        [
         "EV",
         "Lubbock Preston Smith International Airport",
         "2",
         "132"
        ],
        [
         "AS",
         "Oakland International Airport",
         "2",
         "180"
        ],
        [
         "MQ",
         "San Angelo Regional Airport (Mathis Field)",
         "2",
         "108"
        ],
        [
         "DL",
         "Duluth International Airport",
         "2",
         "23"
        ],
        [
         "UA",
         "Yampa Valley Airport (Yampa Valley Regional)",
         "2",
         "38"
        ],
        [
         "EV",
         "Dothan Regional Airport",
         "2",
         "106"
        ],
        [
         "OO",
         "Lewiston-Nez Perce County Airport",
         "2",
         "48"
        ],
        [
         "OO",
         "Delta County Airport",
         "2",
         "48"
        ],
        [
         "EV",
         "Louis Armstrong New Orleans International Airport",
         "2",
         "25"
        ],
        [
         "AA",
         "Kona International Airport at Keahole",
         "2",
         "31"
        ],
        [
         "OO",
         "Northwest Arkansas Regional Airport",
         "2",
         "64"
        ],
        [
         "AA",
         "Detroit Metropolitan Airport",
         "2",
         "221"
        ],
        [
         "VX",
         "Fort Lauderdale-Hollywood International Airport",
         "2",
         "147"
        ],
        [
         "MQ",
         "Syracuse Hancock International Airport",
         "2",
         "56"
        ],
        [
         "UA",
         "Sarasota-Bradenton International Airport",
         "2",
         "51"
        ],
        [
         "OO",
         "Southwest Oregon Regional Airport (North Bend Municipal)",
         "2",
         "16"
        ],
        [
         "OO",
         "Gunnison-Crested Butte Regional Airport",
         "2",
         "8"
        ],
        [
         "OO",
         "Louisville International Airport (Standiford Field)",
         "2",
         "11"
        ],
        [
         "EV",
         "Ithaca Tompkins Regional Airport",
         "2",
         "6"
        ],
        [
         "EV",
         "Dallas/Fort Worth International Airport",
         "6",
         "2537"
        ],
        [
         "US",
         "Louis Armstrong New Orleans International Airport",
         "6",
         "178"
        ],
        [
         "OO",
         "Eugene Airport (Mahlon Sweet Field)",
         "6",
         "348"
        ],
        [
         "NK",
         "Myrtle Beach International Airport",
         "6",
         "389"
        ],
        [
         "UA",
         "Seattle-Tacoma International Airport",
         "6",
         "1000"
        ],
        [
         "WN",
         "Indianapolis International Airport",
         "6",
         "982"
        ],
        [
         "US",
         "Chicago O'Hare International Airport",
         "6",
         "578"
        ],
        [
         "MQ",
         "Rick Husband Amarillo International Airport",
         "6",
         "146"
        ],
        [
         "EV",
         "Shreveport Regional Airport",
         "6",
         "529"
        ],
        [
         "OO",
         "San Antonio International Airport",
         "6",
         "388"
        ],
        [
         "F9",
         "Los Angeles International Airport",
         "6",
         "141"
        ],
        [
         "EV",
         "Palm Beach International Airport",
         "6",
         "22"
        ],
        [
         "EV",
         "Baton Rouge Metropolitan Airport",
         "6",
         "585"
        ],
        [
         "EV",
         "The Eastern Iowa Airport",
         "6",
         "178"
        ],
        [
         "WN",
         "Rick Husband Amarillo International Airport",
         "6",
         "138"
        ],
        [
         "AS",
         "Spokane International Airport",
         "6",
         "120"
        ],
        [
         "DL",
         "Nashville International Airport",
         "6",
         "442"
        ],
        [
         "DL",
         "Louis Armstrong New Orleans International Airport",
         "6",
         "596"
        ],
        [
         "DL",
         "Asheville Regional Airport",
         "6",
         "58"
        ],
        [
         "AA",
         "Kona International Airport at Keahole",
         "6",
         "60"
        ],
        [
         "F9",
         "Tampa International Airport",
         "6",
         "119"
        ],
        [
         "AA",
         "Lihue Airport",
         "6",
         "60"
        ],
        [
         "DL",
         "Washington Dulles International Airport",
         "6",
         "226"
        ],
        [
         "EV",
         "Green Bay-Austin Straubel International Airport",
         "6",
         "162"
        ],
        [
         "UA",
         "Spokane International Airport",
         "6",
         "56"
        ],
        [
         "EV",
         "Meridian Regional Airport",
         "6",
         "82"
        ],
        [
         "OO",
         "Asheville Regional Airport",
         "6",
         "91"
        ],
        [
         "F9",
         "General Mitchell International Airport",
         "6",
         "30"
        ],
        [
         "OO",
         "Chippewa County International Airport",
         "6",
         "22"
        ],
        [
         "OO",
         "John Wayne Airport (Orange County Airport)",
         "6",
         "246"
        ],
        [
         "EV",
         "Bangor International Airport",
         "6",
         "13"
        ],
        [
         "OO",
         "McAllen-Miller International Airport (McAllen Miller International)",
         "6",
         "82"
        ],
        [
         "EV",
         "Kalamazoo/Battle Creek International Airport",
         "6",
         "2"
        ],
        [
         "VX",
         "Orlando International Airport",
         "6",
         "30"
        ],
        [
         "DL",
         "Albany International Airport",
         "7",
         "121"
        ],
        [
         "WN",
         "Theodore Francis Green State Airport",
         "7",
         "569"
        ],
        [
         "WN",
         "McCarran International Airport",
         "7",
         "6600"
        ],
        [
         "WN",
         "Newark Liberty International Airport",
         "7",
         "518"
        ],
        [
         "MQ",
         "Toledo Express Airport",
         "7",
         "91"
        ],
        [
         "MQ",
         "Greater Rochester International Airport",
         "7",
         "124"
        ],
        [
         "WN",
         "James M. Cox Dayton International Airport",
         "7",
         "158"
        ],
        [
         "AS",
         "Orlando International Airport",
         "7",
         "58"
        ],
        [
         "NK",
         "George Bush Intercontinental Airport",
         "7",
         "527"
        ],
        [
         "DL",
         "Gen. Edward Lawrence Logan International Airport",
         "7",
         "1294"
        ],
        [
         "OO",
         "Billings Logan International Airport",
         "7",
         "126"
        ],
        [
         "DL",
         "Palm Beach International Airport",
         "7",
         "512"
        ],
        [
         "EV",
         "General Wayne A. Downing Peoria International Airport",
         "7",
         "264"
        ],
        [
         "MQ",
         "William P. Hobby Airport",
         "7",
         "125"
        ],
        [
         "MQ",
         "Bismarck Municipal Airport",
         "7",
         "62"
        ],
        [
         "UA",
         "Albuquerque International Sunport",
         "7",
         "51"
        ],
        [
         "OO",
         "Lubbock Preston Smith International Airport",
         "7",
         "60"
        ],
        [
         "F9",
         "Miami International Airport",
         "7",
         "186"
        ],
        [
         "WN",
         "Rick Husband Amarillo International Airport",
         "7",
         "143"
        ],
        [
         "B6",
         "McCarran International Airport",
         "7",
         "413"
        ],
        [
         "OO",
         "James M. Cox Dayton International Airport",
         "7",
         "171"
        ],
        [
         "AA",
         "Lubbock Preston Smith International Airport",
         "7",
         "31"
        ],
        [
         "AA",
         "Detroit Metropolitan Airport",
         "7",
         "537"
        ],
        [
         "AS",
         "Kodiak Airport",
         "7",
         "58"
        ],
        [
         "UA",
         "Buffalo Niagara International Airport",
         "7",
         "105"
        ],
        [
         "EV",
         "Des Moines International Airport",
         "7",
         "120"
        ],
        [
         "OO",
         "Jacksonville International Airport",
         "7",
         "32"
        ],
        [
         "EV",
         "Wilkes-Barre/Scranton International Airport",
         "7",
         "146"
        ],
        [
         "AS",
         "Baltimore-Washington International Airport",
         "7",
         "31"
        ],
        [
         "EV",
         "Newport News/Williamsburg International Airport",
         "7",
         "118"
        ],
        [
         "EV",
         "Capital Region International Airport ( Lansing Capital City)",
         "7",
         "89"
        ],
        [
         "OO",
         "Southwest Florida International Airport",
         "7",
         "4"
        ],
        [
         "DL",
         "Evansville Regional Airport",
         "7",
         "42"
        ],
        [
         "AS",
         "Petersburg James A. Johnson Airport",
         "7",
         "62"
        ],
        [
         "F9",
         "Salt Lake City International Airport",
         "7",
         "96"
        ],
        [
         "EV",
         "Denver International Airport",
         "7",
         "13"
        ],
        [
         "B6",
         "Phoenix Sky Harbor International Airport",
         "7",
         "62"
        ],
        [
         "OO",
         "Palm Beach International Airport",
         "7",
         "13"
        ],
        [
         "US",
         "Charlotte Douglas International Airport",
         "5",
         "7517"
        ],
        [
         "WN",
         "Tampa International Airport",
         "5",
         "2502"
        ],
        [
         "WN",
         "Baltimore-Washington International Airport",
         "5",
         "6130"
        ],
        [
         "EV",
         "Des Moines International Airport",
         "5",
         "112"
        ],
        [
         "WN",
         "Sacramento International Airport",
         "5",
         "1901"
        ],
        [
         "US",
         "Pittsburgh International Airport",
         "5",
         "403"
        ],
        [
         "UA",
         "Newark Liberty International Airport",
         "5",
         "3994"
        ],
        [
         "WN",
         "Gen. Edward Lawrence Logan International Airport",
         "5",
         "839"
        ],
        [
         "UA",
         "Southwest Florida International Airport",
         "5",
         "184"
        ],
        [
         "WN",
         "John Wayne Airport (Orange County Airport)",
         "5",
         "1488"
        ],
        [
         "WN",
         "Philadelphia International Airport",
         "5",
         "743"
        ],
        [
         "US",
         "George Bush Intercontinental Airport",
         "5",
         "414"
        ],
        [
         "UA",
         "Seattle-Tacoma International Airport",
         "5",
         "875"
        ],
        [
         "MQ",
         "Port Columbus International Airport",
         "5",
         "442"
        ],
        [
         "WN",
         "Norfolk International Airport",
         "5",
         "210"
        ],
        [
         "OO",
         "Albuquerque International Sunport",
         "5",
         "347"
        ],
        [
         "EV",
         "Roanoke Regional Airport (Woodrum Field)",
         "5",
         "200"
        ],
        [
         "AA",
         "Austin-Bergstrom International Airport",
         "5",
         "684"
        ],
        [
         "OO",
         "St. George Regional Airport",
         "5",
         "181"
        ],
        [
         "EV",
         "Lehigh Valley International Airport",
         "5",
         "182"
        ],
        [
         "OO",
         "Will Rogers World Airport",
         "5",
         "206"
        ],
        [
         "US",
         "Salt Lake City International Airport",
         "5",
         "213"
        ],
        [
         "F9",
         "Washington Dulles International Airport",
         "5",
         "217"
        ],
        [
         "B6",
         "Oakland International Airport",
         "5",
         "131"
        ],
        [
         "EV",
         "Washington Dulles International Airport",
         "5",
         "173"
        ],
        [
         "US",
         "Nashville International Airport",
         "5",
         "107"
        ],
        [
         "UA",
         "Rafael Hernández Airport",
         "5",
         "29"
        ],
        [
         "DL",
         "Missoula International Airport",
         "5",
         "34"
        ],
        [
         "DL",
         "Bozeman Yellowstone International Airport (Gallatin Field Airport)",
         "5",
         "88"
        ],
        [
         "EV",
         "Easterwood Airport",
         "5",
         "80"
        ],
        [
         "DL",
         "Newport News/Williamsburg International Airport",
         "5",
         "31"
        ],
        [
         "OO",
         "Blue Grass Airport",
         "5",
         "30"
        ],
        [
         "DL",
         "Evansville Regional Airport",
         "5",
         "33"
        ],
        [
         "EV",
         "Fort Wayne International Airport",
         "5",
         "26"
        ],
        [
         "F9",
         "Bozeman Yellowstone International Airport (Gallatin Field Airport)",
         "5",
         "17"
        ],
        [
         "MQ",
         "Tallahassee International Airport",
         "5",
         "79"
        ],
        [
         "OO",
         "Minot International Airport",
         "5",
         "141"
        ],
        [
         "MQ",
         "Pensacola International Airport (Pensacola Gulf Coast Regional Airport)",
         "5",
         "12"
        ],
        [
         "MQ",
         "Midland International Airport",
         "5",
         "119"
        ],
        [
         "US",
         "Oakland International Airport",
         "5",
         "70"
        ],
        [
         "AS",
         "Tucson International Airport",
         "5",
         "31"
        ],
        [
         "OO",
         "La Crosse Regional Airport",
         "5",
         "4"
        ],
        [
         "OO",
         "LaGuardia Airport (Marine Air Terminal)",
         "5",
         "9"
        ],
        [
         "OO",
         "Southwest Florida International Airport",
         "5",
         "7"
        ],
        [
         "OO",
         "Friedman Memorial Airport",
         "5",
         "21"
        ],
        [
         "OO",
         "MBS International Airport",
         "5",
         "176"
        ],
        [
         "OO",
         "Albany International Airport",
         "2",
         "1"
        ],
        [
         "F9",
         "George Bush Intercontinental Airport",
         "8",
         "155"
        ],
        [
         "MQ",
         "Killeen-Fort Hood Regional Airport",
         "8",
         "105"
        ],
        [
         "HA",
         "Kona International Airport at Keahole",
         "8",
         "787"
        ],
        [
         "HA",
         "Lihue Airport",
         "8",
         "739"
        ],
        [
         "DL",
         "Memphis International Airport",
         "8",
         "411"
        ],
        [
         "WN",
         "Bradley International Airport",
         "8",
         "504"
        ],
        [
         "UA",
         "McCarran International Airport",
         "8",
         "1051"
        ],
        [
         "OO",
         "Kansas City International Airport",
         "8",
         "157"
        ],
        [
         "AS",
         "Ketchikan International Airport",
         "8",
         "239"
        ],
        [
         "DL",
         "Jackson Hole Airport",
         "8",
         "143"
        ],
        [
         "AS",
         "Hartsfield-Jackson Atlanta International Airport",
         "8",
         "40"
        ],
        [
         "EV",
         "Newport News/Williamsburg International Airport",
         "8",
         "119"
        ],
        [
         "DL",
         "Gerald R. Ford International Airport",
         "8",
         "281"
        ],
        [
         "F9",
         "Trenton Mercer Airport",
         "8",
         "279"
        ],
        [
         "EV",
         "Killeen-Fort Hood Regional Airport",
         "8",
         "267"
        ],
        [
         "HA",
         "Phoenix Sky Harbor International Airport",
         "8",
         "31"
        ],
        [
         "HA",
         "Sacramento International Airport",
         "8",
         "31"
        ],
        [
         "MQ",
         "Baltimore-Washington International Airport",
         "8",
         "119"
        ]
       ],
       "plotOptions": {
        "displayType": "plotlyBar",
        "customPlotOptions": {},
        "pivotColumns": null,
        "pivotAggregation": null,
        "xColumns": null,
        "yColumns": null
       },
       "columnCustomDisplayInfos": {},
       "aggType": "",
       "isJsonSchema": true,
       "removedWidgets": [],
       "aggSchema": [],
       "schema": [
        {
         "name": "AIRLINE",
         "type": "\"string\"",
         "metadata": "{}"
        },
        {
         "name": "AIRPORT",
         "type": "\"string\"",
         "metadata": "{}"
        },
        {
         "name": "MONTH",
         "type": "\"decimal(38,0)\"",
         "metadata": "{}"
        },
        {
         "name": "NUMBER_OF_FLIGHTS",
         "type": "\"decimal(18,0)\"",
         "metadata": "{}"
        }
       ],
       "aggError": "",
       "aggData": [],
       "addedWidgets": {},
       "metadata": {},
       "dbfsResultPath": null,
       "type": "table",
       "aggOverflow": false,
       "aggSeriesLimitReached": false,
       "arguments": {}
      }
     },
     "output_type": "execute_result"
    }
   ],
   "source": [
    "%sql\n",
    "select * from view_report_1;"
   ]
  },
  {
   "cell_type": "code",
   "execution_count": 0,
   "metadata": {
    "application/vnd.databricks.v1+cell": {
     "title": "",
     "showTitle": false,
     "inputWidgets": {},
     "nuid": "7a70248a-1ff0-4cca-b8ba-f531007a3c31"
    }
   },
   "outputs": [
    {
     "data": {
      "text/html": [
       "<style scoped>\n  .table-result-container {\n    max-height: 300px;\n    overflow: auto;\n  }\n  table, th, td {\n    border: 1px solid black;\n    border-collapse: collapse;\n  }\n  th, td {\n    padding: 5px;\n  }\n  th {\n    text-align: left;\n  }\n</style><div class='table-result-container'><table class='table-result'><thead style='background-color: white'><tr><th>AIRLINE</th><th>PERCENTAGE</th></tr></thead><tbody><tr><td>EV</td><td>10.095400</td></tr><tr><td>DL</td><td>14.930700</td></tr><tr><td>B6</td><td>4.564500</td></tr><tr><td>VX</td><td>1.028800</td></tr><tr><td>AA</td><td>10.836700</td></tr><tr><td>AS</td><td>2.942600</td></tr><tr><td>WN</td><td>21.556300</td></tr><tr><td>HA</td><td>1.315900</td></tr><tr><td>OO</td><td>10.126500</td></tr><tr><td>MQ</td><td>5.359900</td></tr><tr><td>UA</td><td>8.721800</td></tr><tr><td>US</td><td>5.068300</td></tr><tr><td>NK</td><td>1.948300</td></tr><tr><td>F9</td><td>1.504300</td></tr></tbody></table></div>"
      ]
     },
     "metadata": {
      "application/vnd.databricks.v1+output": {
       "overflow": false,
       "datasetInfos": [],
       "data": [
        [
         "EV",
         "10.095400"
        ],
        [
         "DL",
         "14.930700"
        ],
        [
         "B6",
         "4.564500"
        ],
        [
         "VX",
         "1.028800"
        ],
        [
         "AA",
         "10.836700"
        ],
        [
         "AS",
         "2.942600"
        ],
        [
         "WN",
         "21.556300"
        ],
        [
         "HA",
         "1.315900"
        ],
        [
         "OO",
         "10.126500"
        ],
        [
         "MQ",
         "5.359900"
        ],
        [
         "UA",
         "8.721800"
        ],
        [
         "US",
         "5.068300"
        ],
        [
         "NK",
         "1.948300"
        ],
        [
         "F9",
         "1.504300"
        ]
       ],
       "plotOptions": {
        "displayType": "plotlyBar",
        "customPlotOptions": {},
        "pivotColumns": null,
        "pivotAggregation": null,
        "xColumns": null,
        "yColumns": null
       },
       "columnCustomDisplayInfos": {},
       "aggType": "",
       "isJsonSchema": true,
       "removedWidgets": [],
       "aggSchema": [],
       "schema": [
        {
         "name": "AIRLINE",
         "type": "\"string\"",
         "metadata": "{}"
        },
        {
         "name": "PERCENTAGE",
         "type": "\"decimal(27,6)\"",
         "metadata": "{}"
        }
       ],
       "aggError": "",
       "aggData": [],
       "addedWidgets": {},
       "metadata": {},
       "dbfsResultPath": null,
       "type": "table",
       "aggOverflow": false,
       "aggSeriesLimitReached": false,
       "arguments": {}
      }
     },
     "output_type": "execute_result"
    }
   ],
   "source": [
    "%sql\n",
    "select * from view_report_2;"
   ]
  },
  {
   "cell_type": "code",
   "execution_count": 0,
   "metadata": {
    "application/vnd.databricks.v1+cell": {
     "title": "",
     "showTitle": false,
     "inputWidgets": {},
     "nuid": "f3073458-6b6f-4abf-a4ce-dc7b7aaad96b"
    }
   },
   "outputs": [
    {
     "data": {
      "text/html": [
       "<style scoped>\n  .table-result-container {\n    max-height: 300px;\n    overflow: auto;\n  }\n  table, th, td {\n    border: 1px solid black;\n    border-collapse: collapse;\n  }\n  th, td {\n    padding: 5px;\n  }\n  th {\n    text-align: left;\n  }\n</style><div class='table-result-container'><table class='table-result'><thead style='background-color: white'><tr><th>AIRLINE</th><th>DEPARTURE_DELAY</th></tr></thead><tbody><tr><td>EV</td><td>1210</td></tr><tr><td>DL</td><td>1289</td></tr><tr><td>B6</td><td>942</td></tr><tr><td>AA</td><td>1988</td></tr><tr><td>VX</td><td>644</td></tr><tr><td>AS</td><td>963</td></tr><tr><td>WN</td><td>665</td></tr><tr><td>HA</td><td>1433</td></tr><tr><td>OO</td><td>956</td></tr><tr><td>MQ</td><td>1171</td></tr><tr><td>US</td><td>759</td></tr><tr><td>UA</td><td>1314</td></tr><tr><td>NK</td><td>836</td></tr><tr><td>F9</td><td>1112</td></tr></tbody></table></div>"
      ]
     },
     "metadata": {
      "application/vnd.databricks.v1+output": {
       "overflow": false,
       "datasetInfos": [],
       "data": [
        [
         "EV",
         "1210"
        ],
        [
         "DL",
         "1289"
        ],
        [
         "B6",
         "942"
        ],
        [
         "AA",
         "1988"
        ],
        [
         "VX",
         "644"
        ],
        [
         "AS",
         "963"
        ],
        [
         "WN",
         "665"
        ],
        [
         "HA",
         "1433"
        ],
        [
         "OO",
         "956"
        ],
        [
         "MQ",
         "1171"
        ],
        [
         "US",
         "759"
        ],
        [
         "UA",
         "1314"
        ],
        [
         "NK",
         "836"
        ],
        [
         "F9",
         "1112"
        ]
       ],
       "plotOptions": {
        "displayType": "plotlyBar",
        "customPlotOptions": {},
        "pivotColumns": null,
        "pivotAggregation": null,
        "xColumns": null,
        "yColumns": null
       },
       "columnCustomDisplayInfos": {},
       "aggType": "",
       "isJsonSchema": true,
       "removedWidgets": [],
       "aggSchema": [],
       "schema": [
        {
         "name": "AIRLINE",
         "type": "\"string\"",
         "metadata": "{}"
        },
        {
         "name": "DEPARTURE_DELAY",
         "type": "\"decimal(38,0)\"",
         "metadata": "{}"
        }
       ],
       "aggError": "",
       "aggData": [],
       "addedWidgets": {},
       "metadata": {},
       "dbfsResultPath": null,
       "type": "table",
       "aggOverflow": false,
       "aggSeriesLimitReached": false,
       "arguments": {}
      }
     },
     "output_type": "execute_result"
    }
   ],
   "source": [
    "%sql\n",
    "select * from view_report_3;"
   ]
  },
  {
   "cell_type": "code",
   "execution_count": 0,
   "metadata": {
    "application/vnd.databricks.v1+cell": {
     "title": "",
     "showTitle": false,
     "inputWidgets": {},
     "nuid": "d83709c0-94c1-44af-8661-19c9c02dc131"
    }
   },
   "outputs": [
    {
     "data": {
      "text/html": [
       "<style scoped>\n  .table-result-container {\n    max-height: 300px;\n    overflow: auto;\n  }\n  table, th, td {\n    border: 1px solid black;\n    border-collapse: collapse;\n  }\n  th, td {\n    padding: 5px;\n  }\n  th {\n    text-align: left;\n  }\n</style><div class='table-result-container'><table class='table-result'><thead style='background-color: white'><tr><th>AIRPORT</th><th>CANCELLATION_REASON</th><th>TOTAL</th></tr></thead><tbody><tr><td>Los Angeles International Airport</td><td>Airline/Carrier</td><td>1066</td></tr><tr><td>Port Columbus International Airport</td><td>Weather</td><td>196</td></tr><tr><td>Bradley International Airport</td><td>Weather</td><td>245</td></tr><tr><td>Dallas Love Field</td><td>National Air System</td><td>55</td></tr><tr><td>Jacksonville International Airport</td><td>Airline/Carrier</td><td>39</td></tr><tr><td>Missoula International Airport</td><td>National Air System</td><td>4</td></tr><tr><td>La Crosse Regional Airport</td><td>Weather</td><td>20</td></tr><tr><td>Augusta Regional Airport (Bush Field)</td><td>Airline/Carrier</td><td>6</td></tr><tr><td>Friedman Memorial Airport</td><td>Weather</td><td>35</td></tr><tr><td>Valley International Airport</td><td>Airline/Carrier</td><td>9</td></tr><tr><td>Lafayette Regional Airport</td><td>Airline/Carrier</td><td>27</td></tr><tr><td>Westchester County Airport</td><td>Weather</td><td>141</td></tr><tr><td>Columbia Metropolitan Airport</td><td>National Air System</td><td>17</td></tr><tr><td>Arcata Airport</td><td>Airline/Carrier</td><td>10</td></tr><tr><td>Cincinnati/Northern Kentucky International Airport</td><td>Weather</td><td>183</td></tr><tr><td>Indianapolis International Airport</td><td>Weather</td><td>147</td></tr><tr><td>Richmond International Airport</td><td>Weather</td><td>166</td></tr><tr><td>Mercedita Airport</td><td>Weather</td><td>6</td></tr><tr><td>Greater Rochester International Airport</td><td>Weather</td><td>59</td></tr><tr><td>San Angelo Regional Airport (Mathis Field)</td><td>Weather</td><td>46</td></tr><tr><td>Central Nebraska Regional Airport</td><td>National Air System</td><td>1</td></tr><tr><td>Roswell International Air Center</td><td>Airline/Carrier</td><td>4</td></tr><tr><td>Golden Triangle Regional Airport</td><td>Weather</td><td>8</td></tr><tr><td>Ithaca Tompkins Regional Airport</td><td>Airline/Carrier</td><td>2</td></tr><tr><td>Sawyer International Airport</td><td>National Air System</td><td>2</td></tr><tr><td>Louis Armstrong New Orleans International Airport</td><td>Security</td><td>3</td></tr><tr><td>Niagara Falls International Airport</td><td>National Air System</td><td>1</td></tr><tr><td>San Angelo Regional Airport (Mathis Field)</td><td>Airline/Carrier</td><td>21</td></tr><tr><td>Alpena County Regional Airport</td><td>Airline/Carrier</td><td>9</td></tr><tr><td>Piedmont Triad International Airport</td><td>Weather</td><td>72</td></tr><tr><td>Rock Springs-Sweetwater County Airport</td><td>National Air System</td><td>1</td></tr><tr><td>LaGuardia Airport (Marine Air Terminal)</td><td>Weather</td><td>2080</td></tr><tr><td>Dane County Regional Airport</td><td>Weather</td><td>109</td></tr><tr><td>Detroit Metropolitan Airport</td><td>Weather</td><td>534</td></tr><tr><td>Austin-Bergstrom International Airport</td><td>Airline/Carrier</td><td>145</td></tr><tr><td>St. Louis International Airport at Lambert Field</td><td>National Air System</td><td>115</td></tr><tr><td>The Eastern Iowa Airport</td><td>National Air System</td><td>45</td></tr><tr><td>Westchester County Airport</td><td>Airline/Carrier</td><td>36</td></tr><tr><td>Raleigh-Durham International Airport</td><td>Weather</td><td>341</td></tr><tr><td>Sacramento International Airport</td><td>National Air System</td><td>20</td></tr><tr><td>Southwest Georgia Regional Airport</td><td>Weather</td><td>4</td></tr><tr><td>Santa Barbara Municipal Airport (Santa Barbara Airport)</td><td>Weather</td><td>31</td></tr><tr><td>Long Beach Airport (Daugherty Field)</td><td>Weather</td><td>12</td></tr><tr><td>Sioux Falls Regional Airport</td><td>Weather</td><td>64</td></tr><tr><td>Pensacola International Airport (Pensacola Gulf Coast Regional Airport)</td><td>Airline/Carrier</td><td>15</td></tr><tr><td>Missoula International Airport</td><td>Weather</td><td>5</td></tr><tr><td>Pittsburgh International Airport</td><td>Airline/Carrier</td><td>136</td></tr><tr><td>Arcata Airport</td><td>Weather</td><td>22</td></tr><tr><td>Hector International Airport</td><td>National Air System</td><td>26</td></tr><tr><td>Harrisburg International Airport</td><td>Weather</td><td>24</td></tr><tr><td>Shreveport Regional Airport</td><td>Airline/Carrier</td><td>65</td></tr><tr><td>McGhee Tyson Airport</td><td>Airline/Carrier</td><td>48</td></tr><tr><td>Gulfport-Biloxi International Airport</td><td>Airline/Carrier</td><td>11</td></tr><tr><td>Wilkes-Barre/Scranton International Airport</td><td>National Air System</td><td>5</td></tr><tr><td>Duluth International Airport</td><td>National Air System</td><td>2</td></tr><tr><td>Asheville Regional Airport</td><td>Weather</td><td>14</td></tr><tr><td>Akron-Canton Regional Airport</td><td>Airline/Carrier</td><td>8</td></tr><tr><td>Fairbanks International Airport</td><td>Weather</td><td>3</td></tr><tr><td>Monroe Regional Airport</td><td>National Air System</td><td>6</td></tr><tr><td>Hays Regional Airport</td><td>Airline/Carrier</td><td>1</td></tr><tr><td>Brownsville/South Padre Island International Airport</td><td>National Air System</td><td>10</td></tr><tr><td>Natrona County International Airport</td><td>Airline/Carrier</td><td>7</td></tr><tr><td>Valley International Airport</td><td>National Air System</td><td>7</td></tr><tr><td>Sarasota-Bradenton International Airport</td><td>Airline/Carrier</td><td>8</td></tr><tr><td>Alpena County Regional Airport</td><td>National Air System</td><td>1</td></tr><tr><td>Adak Airport</td><td>Weather</td><td>2</td></tr><tr><td>Bert Mooney Airport</td><td>National Air System</td><td>2</td></tr><tr><td>Sawyer International Airport</td><td>Weather</td><td>2</td></tr><tr><td>Friedman Memorial Airport</td><td>National Air System</td><td>2</td></tr><tr><td>Tampa International Airport</td><td>Weather</td><td>325</td></tr><tr><td>Burlington International Airport</td><td>Weather</td><td>23</td></tr><tr><td>Chicago O'Hare International Airport</td><td>Airline/Carrier</td><td>1269</td></tr><tr><td>John F. Kennedy International Airport (New York International Airport)</td><td>Airline/Carrier</td><td>247</td></tr><tr><td>Santa Fe Municipal Airport</td><td>Weather</td><td>27</td></tr><tr><td>Los Angeles International Airport</td><td>Weather</td><td>489</td></tr><tr><td>Tyler Pounds Regional Airport</td><td>Airline/Carrier</td><td>33</td></tr><tr><td>Bishop International Airport</td><td>Weather</td><td>40</td></tr><tr><td>Burlington International Airport</td><td>Airline/Carrier</td><td>7</td></tr><tr><td>Fort Wayne International Airport</td><td>Airline/Carrier</td><td>39</td></tr><tr><td>Quad City International Airport</td><td>National Air System</td><td>31</td></tr><tr><td>Manchester-Boston Regional Airport</td><td>Airline/Carrier</td><td>26</td></tr><tr><td>Sioux Falls Regional Airport</td><td>National Air System</td><td>24</td></tr><tr><td>Green Bay-Austin Straubel International Airport</td><td>National Air System</td><td>50</td></tr><tr><td>Santa Barbara Municipal Airport (Santa Barbara Airport)</td><td>Airline/Carrier</td><td>54</td></tr><tr><td>Cherry Capital Airport</td><td>National Air System</td><td>30</td></tr><tr><td>Hector International Airport</td><td>Weather</td><td>39</td></tr><tr><td>Brownsville/South Padre Island International Airport</td><td>Airline/Carrier</td><td>39</td></tr><tr><td>University Park Airport</td><td>Airline/Carrier</td><td>2</td></tr><tr><td>San Francisco International Airport</td><td>National Air System</td><td>263</td></tr><tr><td>Boise Airport (Boise Air Terminal)</td><td>Weather</td><td>40</td></tr><tr><td>Wilkes-Barre/Scranton International Airport</td><td>Airline/Carrier</td><td>2</td></tr><tr><td>Asheville Regional Airport</td><td>National Air System</td><td>11</td></tr><tr><td>Lake Charles Regional Airport</td><td>National Air System</td><td>6</td></tr><tr><td>Albuquerque International Sunport</td><td>National Air System</td><td>10</td></tr><tr><td>Reno/Tahoe International Airport</td><td>National Air System</td><td>6</td></tr><tr><td>Brunswick Golden Isles Airport</td><td>Weather</td><td>2</td></tr><tr><td>Great Falls International Airport</td><td>Weather</td><td>7</td></tr><tr><td>Newport News/Williamsburg International Airport</td><td>National Air System</td><td>2</td></tr><tr><td>Grand Junction Regional Airport (Walker Field)</td><td>National Air System</td><td>6</td></tr><tr><td>Billings Logan International Airport</td><td>Airline/Carrier</td><td>5</td></tr><tr><td>Orlando International Airport</td><td>Airline/Carrier</td><td>319</td></tr><tr><td>Sacramento International Airport</td><td>Weather</td><td>85</td></tr><tr><td>Hartsfield-Jackson Atlanta International Airport</td><td>Airline/Carrier</td><td>574</td></tr><tr><td>William P. Hobby Airport</td><td>Airline/Carrier</td><td>259</td></tr><tr><td>Norman Y. Mineta San José International Airport</td><td>Airline/Carrier</td><td>282</td></tr><tr><td>Gen. Edward Lawrence Logan International Airport</td><td>National Air System</td><td>294</td></tr><tr><td>Southwest Florida International Airport</td><td>National Air System</td><td>18</td></tr><tr><td>San Francisco International Airport</td><td>Weather</td><td>611</td></tr><tr><td>Buffalo Niagara International Airport</td><td>National Air System</td><td>70</td></tr><tr><td>City of Colorado Springs Municipal Airport</td><td>Airline/Carrier</td><td>30</td></tr><tr><td>Green Bay-Austin Straubel International Airport</td><td>Weather</td><td>56</td></tr><tr><td>Dallas Love Field</td><td>Weather</td><td>374</td></tr><tr><td>Kalamazoo/Battle Creek International Airport</td><td>National Air System</td><td>21</td></tr><tr><td>Blue Grass Airport</td><td>Airline/Carrier</td><td>29</td></tr><tr><td>Northwest Florida Beaches International Airport</td><td>National Air System</td><td>3</td></tr><tr><td>Durango-La Plata County Airport</td><td>Airline/Carrier</td><td>12</td></tr><tr><td>Pensacola International Airport (Pensacola Gulf Coast Regional Airport)</td><td>Weather</td><td>73</td></tr><tr><td>Charleston International Airport/Charleston AFB</td><td>Weather</td><td>108</td></tr><tr><td>Jamestown Regional Airport</td><td>Weather</td><td>14</td></tr><tr><td>Wichita Dwight D. Eisenhower National Airport (Wichita Mid-Continent Airport)</td><td>Weather</td><td>74</td></tr><tr><td>Ralph Wien Memorial Airport</td><td>Airline/Carrier</td><td>3</td></tr><tr><td>Syracuse Hancock International Airport</td><td>National Air System</td><td>58</td></tr><tr><td>Myrtle Beach International Airport</td><td>Airline/Carrier</td><td>22</td></tr><tr><td>Texarkana Regional Airport (Webb Field)</td><td>Weather</td><td>40</td></tr><tr><td>Key West International Airport</td><td>Airline/Carrier</td><td>9</td></tr><tr><td>Hattiesburg-Laurel Regional Airport</td><td>Airline/Carrier</td><td>6</td></tr><tr><td>Gainesville Regional Airport</td><td>Weather</td><td>8</td></tr><tr><td>Rick Husband Amarillo International Airport</td><td>Airline/Carrier</td><td>29</td></tr><tr><td>Henry E. Rohlsen Airport</td><td>National Air System</td><td>1</td></tr><tr><td>Dickinson Theodore Roosevelt Regional Airport</td><td>Airline/Carrier</td><td>4</td></tr><tr><td>Waterloo Regional Airport</td><td>Airline/Carrier</td><td>7</td></tr><tr><td>Bemidji Regional Airport</td><td>Weather</td><td>2</td></tr><tr><td>Lihue Airport</td><td>National Air System</td><td>1</td></tr><tr><td>Guam International Airport</td><td>Airline/Carrier</td><td>1</td></tr><tr><td>Kona International Airport at Keahole</td><td>Weather</td><td>2</td></tr><tr><td>Sitka Rocky Gutierrez Airport</td><td>National Air System</td><td>1</td></tr><tr><td>San Francisco International Airport</td><td>Security</td><td>1</td></tr><tr><td>Jack Brooks Regional Airport (Southeast Texas Regional)</td><td>National Air System</td><td>1</td></tr><tr><td>Barnstable Municipal Airport</td><td>Airline/Carrier</td><td>1</td></tr><tr><td>Bozeman Yellowstone International Airport (Gallatin Field Airport)</td><td>Airline/Carrier</td><td>13</td></tr><tr><td>Port Columbus International Airport</td><td>Airline/Carrier</td><td>126</td></tr><tr><td>Green Bay-Austin Straubel International Airport</td><td>Airline/Carrier</td><td>15</td></tr><tr><td>Tri-Cities Airport</td><td>Airline/Carrier</td><td>13</td></tr><tr><td>Ronald Reagan Washington National Airport</td><td>National Air System</td><td>359</td></tr><tr><td>Bishop International Airport</td><td>National Air System</td><td>25</td></tr><tr><td>Ronald Reagan Washington National Airport</td><td>Weather</td><td>1014</td></tr><tr><td>Newark Liberty International Airport</td><td>National Air System</td><td>1346</td></tr><tr><td>Killeen-Fort Hood Regional Airport</td><td>Airline/Carrier</td><td>43</td></tr><tr><td>Barkley Regional Airport</td><td>National Air System</td><td>2</td></tr><tr><td>McCarran International Airport</td><td>Weather</td><td>295</td></tr><tr><td>Greenville-Spartanburg International Airport</td><td>National Air System</td><td>44</td></tr><tr><td>MBS International Airport</td><td>Weather</td><td>36</td></tr><tr><td>Greater Rochester International Airport</td><td>Airline/Carrier</td><td>36</td></tr><tr><td>Corpus Christi International Airport</td><td>Weather</td><td>63</td></tr><tr><td>Alexandria International Airport</td><td>Airline/Carrier</td><td>13</td></tr><tr><td>South Bend International Airport (South Bend Regional)</td><td>Airline/Carrier</td><td>22</td></tr><tr><td>Honolulu International Airport</td><td>National Air System</td><td>3</td></tr><tr><td>Golden Triangle Regional Airport</td><td>Airline/Carrier</td><td>5</td></tr><tr><td>Honolulu International Airport</td><td>Weather</td><td>7</td></tr><tr><td>San Antonio International Airport</td><td>National Air System</td><td>13</td></tr><tr><td>Houghton County Memorial Airport</td><td>Airline/Carrier</td><td>5</td></tr><tr><td>Roanoke Regional Airport (Woodrum Field)</td><td>Weather</td><td>33</td></tr><tr><td>Newport News/Williamsburg International Airport</td><td>Airline/Carrier</td><td>4</td></tr><tr><td>McClellan-Palomar Airport</td><td>Airline/Carrier</td><td>5</td></tr><tr><td>McClellan-Palomar Airport</td><td>Weather</td><td>7</td></tr><tr><td>Glacier Park International Airport</td><td>National Air System</td><td>3</td></tr><tr><td>Mobile Regional Airport</td><td>Airline/Carrier</td><td>18</td></tr><tr><td>Eagle County Regional Airport</td><td>Airline/Carrier</td><td>6</td></tr><tr><td>Boise Airport (Boise Air Terminal)</td><td>National Air System</td><td>4</td></tr><tr><td>Kahului Airport</td><td>Weather</td><td>2</td></tr><tr><td>Tri-Cities Regional Airport</td><td>National Air System</td><td>2</td></tr><tr><td>Nashville International Airport</td><td>National Air System</td><td>169</td></tr><tr><td>Des Moines International Airport</td><td>Airline/Carrier</td><td>49</td></tr><tr><td>Miami International Airport</td><td>Airline/Carrier</td><td>231</td></tr><tr><td>Appleton International Airport</td><td>Weather</td><td>18</td></tr><tr><td>Indianapolis International Airport</td><td>National Air System</td><td>127</td></tr><tr><td>Bob Hope Airport (Hollywood Burbank Airport)</td><td>National Air System</td><td>9</td></tr><tr><td>Myrtle Beach International Airport</td><td>National Air System</td><td>15</td></tr><tr><td>Des Moines International Airport</td><td>Weather</td><td>105</td></tr><tr><td>Atlantic City International Airport</td><td>Airline/Carrier</td><td>14</td></tr><tr><td>Syracuse Hancock International Airport</td><td>Airline/Carrier</td><td>22</td></tr><tr><td>Alexandria International Airport</td><td>Weather</td><td>54</td></tr><tr><td>Syracuse Hancock International Airport</td><td>Weather</td><td>42</td></tr><tr><td>The Eastern Iowa Airport</td><td>Airline/Carrier</td><td>42</td></tr><tr><td>Garden City Regional Airport</td><td>Weather</td><td>15</td></tr><tr><td>McAllen-Miller International Airport (McAllen Miller International)</td><td>National Air System</td><td>10</td></tr><tr><td>Meridian Regional Airport</td><td>Airline/Carrier</td><td>12</td></tr><tr><td>Fresno Yosemite International Airport</td><td>National Air System</td><td>2</td></tr><tr><td>Gillette-Campbell County Airport</td><td>Airline/Carrier</td><td>3</td></tr><tr><td>Lake Charles Regional Airport</td><td>Airline/Carrier</td><td>5</td></tr><tr><td>Charlottesville-Albemarle Airport</td><td>Security</td><td>1</td></tr><tr><td>Theodore Francis Green State Airport</td><td>Weather</td><td>164</td></tr><tr><td>Ronald Reagan Washington National Airport</td><td>Airline/Carrier</td><td>445</td></tr><tr><td>George Bush Intercontinental Airport</td><td>Airline/Carrier</td><td>422</td></tr><tr><td>Westchester County Airport</td><td>National Air System</td><td>62</td></tr><tr><td>Boise Airport (Boise Air Terminal)</td><td>Airline/Carrier</td><td>29</td></tr><tr><td>John F. Kennedy International Airport (New York International Airport)</td><td>National Air System</td><td>459</td></tr><tr><td>Lincoln Airport (Lincoln Municipal)</td><td>National Air System</td><td>20</td></tr><tr><td>Wiley Post-Will Rogers Memorial Airport</td><td>Weather</td><td>20</td></tr><tr><td>Meadows Field</td><td>Airline/Carrier</td><td>16</td></tr><tr><td>Range Regional Airport (Chisholm-Hibbing Airport)</td><td>Weather</td><td>10</td></tr><tr><td>Midland International Airport</td><td>Airline/Carrier</td><td>49</td></tr><tr><td>Delta County Airport</td><td>Weather</td><td>4</td></tr><tr><td>Palm Springs International Airport</td><td>Weather</td><td>26</td></tr><tr><td>Greenville-Spartanburg International Airport</td><td>Weather</td><td>60</td></tr><tr><td>Alexandria International Airport</td><td>National Air System</td><td>7</td></tr><tr><td>Glacier Park International Airport</td><td>Weather</td><td>5</td></tr><tr><td>Toledo Express Airport</td><td>Weather</td><td>21</td></tr><tr><td>Southwest Georgia Regional Airport</td><td>National Air System</td><td>2</td></tr><tr><td>Killeen-Fort Hood Regional Airport</td><td>Weather</td><td>91</td></tr><tr><td>Ralph Wien Memorial Airport</td><td>Weather</td><td>12</td></tr><tr><td>Rhinelander-Oneida County Airport</td><td>Airline/Carrier</td><td>5</td></tr><tr><td>Wrangell Airport</td><td>Weather</td><td>3</td></tr><tr><td>Rick Husband Amarillo International Airport</td><td>Weather</td><td>73</td></tr><tr><td>MBS International Airport</td><td>Airline/Carrier</td><td>9</td></tr><tr><td>Lincoln Airport (Lincoln Municipal)</td><td>Airline/Carrier</td><td>7</td></tr><tr><td>Bob Hope Airport (Hollywood Burbank Airport)</td><td>Weather</td><td>29</td></tr><tr><td>Capital Region International Airport ( Lansing Capital City)</td><td>National Air System</td><td>10</td></tr><tr><td>St. George Regional Airport</td><td>Airline/Carrier</td><td>3</td></tr><tr><td>Valdez Airport</td><td>Weather</td><td>6</td></tr><tr><td>University Park Airport</td><td>Weather</td><td>7</td></tr><tr><td>Lubbock Preston Smith International Airport</td><td>Airline/Carrier</td><td>10</td></tr><tr><td>Texarkana Regional Airport (Webb Field)</td><td>National Air System</td><td>1</td></tr><tr><td>Brainerd Lakes Regional Airport</td><td>Airline/Carrier</td><td>2</td></tr><tr><td>Bemidji Regional Airport</td><td>Airline/Carrier</td><td>1</td></tr><tr><td>Pocatello Regional Airport</td><td>Weather</td><td>1</td></tr><tr><td>William P. Hobby Airport</td><td>Security</td><td>1</td></tr><tr><td>San Diego International Airport (Lindbergh Field)</td><td>Airline/Carrier</td><td>320</td></tr><tr><td>Oakland International Airport</td><td>Airline/Carrier</td><td>399</td></tr><tr><td>Tucson International Airport</td><td>Weather</td><td>56</td></tr><tr><td>Buffalo Niagara International Airport</td><td>Airline/Carrier</td><td>65</td></tr><tr><td>Destin-Fort Walton Beach Airport/Eglin AFB</td><td>Airline/Carrier</td><td>22</td></tr><tr><td>Northwest Arkansas Regional Airport</td><td>National Air System</td><td>72</td></tr><tr><td>Richmond International Airport</td><td>National Air System</td><td>102</td></tr><tr><td>Appleton International Airport</td><td>National Air System</td><td>33</td></tr><tr><td>John F. Kennedy International Airport (New York International Airport)</td><td>Weather</td><td>1089</td></tr><tr><td>Albuquerque International Sunport</td><td>Weather</td><td>94</td></tr><tr><td>Gulfport-Biloxi International Airport</td><td>National Air System</td><td>13</td></tr><tr><td>San Antonio International Airport</td><td>Weather</td><td>153</td></tr><tr><td>Kansas City International Airport</td><td>National Air System</td><td>51</td></tr><tr><td>Santa Maria Public Airport (Capt G. Allan Hancock Field)</td><td>National Air System</td><td>1</td></tr><tr><td>Sioux Gateway Airport</td><td>Weather</td><td>9</td></tr><tr><td>San Luis Obispo County Regional Airport (McChesney Field)</td><td>Airline/Carrier</td><td>23</td></tr><tr><td>Petersburg James A. Johnson Airport</td><td>Airline/Carrier</td><td>6</td></tr><tr><td>Del Norte County Airport (Jack McNamara Field)</td><td>Airline/Carrier</td><td>2</td></tr><tr><td>La Crosse Regional Airport</td><td>Airline/Carrier</td><td>9</td></tr><tr><td>Capital Region International Airport ( Lansing Capital City)</td><td>Weather</td><td>17</td></tr><tr><td>Redding Municipal Airport</td><td>National Air System</td><td>1</td></tr><tr><td>Santa Maria Public Airport (Capt G. Allan Hancock Field)</td><td>Airline/Carrier</td><td>2</td></tr><tr><td>Ford Airport</td><td>Airline/Carrier</td><td>1</td></tr><tr><td>General Mitchell International Airport</td><td>Security</td><td>1</td></tr><tr><td>Laramie Regional Airport</td><td>National Air System</td><td>1</td></tr><tr><td>Greater Binghamton Airport</td><td>Weather</td><td>1</td></tr><tr><td>Toledo Express Airport</td><td>National Air System</td><td>19</td></tr><tr><td>Gulfport-Biloxi International Airport</td><td>Weather</td><td>45</td></tr><tr><td>Reno/Tahoe International Airport</td><td>Airline/Carrier</td><td>64</td></tr><tr><td>Orlando International Airport</td><td>Weather</td><td>596</td></tr><tr><td>Ontario International Airport</td><td>Airline/Carrier</td><td>81</td></tr><tr><td>Norfolk International Airport</td><td>National Air System</td><td>72</td></tr><tr><td>Sioux Gateway Airport</td><td>National Air System</td><td>10</td></tr><tr><td>Chippewa Valley Regional Airport</td><td>Weather</td><td>17</td></tr><tr><td>Eugene Airport (Mahlon Sweet Field)</td><td>Airline/Carrier</td><td>27</td></tr><tr><td>Midland International Airport</td><td>National Air System</td><td>20</td></tr><tr><td>Sitka Rocky Gutierrez Airport</td><td>Airline/Carrier</td><td>6</td></tr><tr><td>Santa Fe Municipal Airport</td><td>National Air System</td><td>5</td></tr><tr><td>Pellston Regional Airport of Emmet County</td><td>Airline/Carrier</td><td>12</td></tr><tr><td>Gustavus Airport</td><td>Weather</td><td>1</td></tr><tr><td>University Park Airport</td><td>National Air System</td><td>7</td></tr><tr><td>Dallas Love Field</td><td>Airline/Carrier</td><td>222</td></tr><tr><td>Houghton County Memorial Airport</td><td>Weather</td><td>29</td></tr><tr><td>Pittsburgh International Airport</td><td>National Air System</td><td>47</td></tr><tr><td>Santa Fe Municipal Airport</td><td>Airline/Carrier</td><td>19</td></tr><tr><td>Columbus Metropolitan Airport</td><td>Weather</td><td>3</td></tr><tr><td>Rick Husband Amarillo International Airport</td><td>National Air System</td><td>7</td></tr><tr><td>Rafael Hernández Airport</td><td>Weather</td><td>5</td></tr><tr><td>Tri-Cities Regional Airport</td><td>Airline/Carrier</td><td>8</td></tr><tr><td>Augusta Regional Airport (Bush Field)</td><td>Weather</td><td>4</td></tr><tr><td>Albert J. Ellis Airport</td><td>Weather</td><td>7</td></tr><tr><td>Canyonlands Field</td><td>Weather</td><td>1</td></tr><tr><td>Stewart International Airport</td><td>Weather</td><td>4</td></tr><tr><td>Melbourne International Airport</td><td>Weather</td><td>1</td></tr><tr><td>Southwest Florida International Airport</td><td>Weather</td><td>184</td></tr><tr><td>San Antonio International Airport</td><td>Airline/Carrier</td><td>100</td></tr><tr><td>Monterey Regional Airport (Monterey Peninsula Airport)</td><td>Airline/Carrier</td><td>34</td></tr><tr><td>Miami International Airport</td><td>Weather</td><td>417</td></tr><tr><td>Luis Muñoz Marín International Airport</td><td>Weather</td><td>104</td></tr><tr><td>Orlando International Airport</td><td>National Air System</td><td>82</td></tr><tr><td>Lawton-Fort Sill Regional Airport</td><td>Airline/Carrier</td><td>29</td></tr><tr><td>Gunnison-Crested Butte Regional Airport</td><td>Airline/Carrier</td><td>2</td></tr><tr><td>Abraham Lincoln Capital Airport</td><td>Weather</td><td>34</td></tr><tr><td>Huntsville International Airport</td><td>Airline/Carrier</td><td>19</td></tr><tr><td>Kona International Airport at Keahole</td><td>Airline/Carrier</td><td>32</td></tr><tr><td>Phoenix Sky Harbor International Airport</td><td>National Air System</td><td>50</td></tr><tr><td>Muskegon County Airport</td><td>Weather</td><td>31</td></tr><tr><td>Cyril E. King Airport</td><td>Airline/Carrier</td><td>22</td></tr><tr><td>Northeast Florida Regional Airport (St. Augustine Airport)</td><td>Weather</td><td>4</td></tr><tr><td>Ontario International Airport</td><td>Weather</td><td>50</td></tr><tr><td>Los Angeles International Airport</td><td>National Air System</td><td>213</td></tr><tr><td>Trenton Mercer Airport</td><td>Weather</td><td>22</td></tr><tr><td>Chippewa Valley Regional Airport</td><td>Airline/Carrier</td><td>6</td></tr><tr><td>Deadhorse Airport (Prudhoe Bay Airport)</td><td>Weather</td><td>12</td></tr><tr><td>Grand Forks International Airport</td><td>Airline/Carrier</td><td>1</td></tr><tr><td>Trenton Mercer Airport</td><td>Airline/Carrier</td><td>17</td></tr><tr><td>Missoula International Airport</td><td>Airline/Carrier</td><td>5</td></tr><tr><td>Billings Logan International Airport</td><td>Weather</td><td>2</td></tr><tr><td>Chattanooga Metropolitan Airport (Lovell Field)</td><td>National Air System</td><td>9</td></tr><tr><td>Gillette-Campbell County Airport</td><td>Weather</td><td>5</td></tr><tr><td>Petersburg James A. Johnson Airport</td><td>Weather</td><td>2</td></tr><tr><td>Dothan Regional Airport</td><td>National Air System</td><td>6</td></tr><tr><td>Capital Region International Airport ( Lansing Capital City)</td><td>Airline/Carrier</td><td>3</td></tr><tr><td>Minneapolis-Saint Paul International Airport</td><td>Weather</td><td>307</td></tr><tr><td>George Bush Intercontinental Airport</td><td>Weather</td><td>944</td></tr><tr><td>Denver International Airport</td><td>Airline/Carrier</td><td>448</td></tr><tr><td>Piedmont Triad International Airport</td><td>National Air System</td><td>85</td></tr><tr><td>Kalamazoo/Battle Creek International Airport</td><td>Weather</td><td>45</td></tr><tr><td>Merle K. (Mudhole) Smith Airport</td><td>Airline/Carrier</td><td>5</td></tr><tr><td>Long Island MacArthur Airport</td><td>Weather</td><td>113</td></tr><tr><td>Norfolk International Airport</td><td>Weather</td><td>109</td></tr><tr><td>Eppley Airfield</td><td>Airline/Carrier</td><td>59</td></tr><tr><td>Springfield-Branson National Airport</td><td>National Air System</td><td>27</td></tr><tr><td>Evansville Regional Airport</td><td>Weather</td><td>48</td></tr><tr><td>Albuquerque International Sunport</td><td>Airline/Carrier</td><td>56</td></tr><tr><td>Minot International Airport</td><td>Airline/Carrier</td><td>11</td></tr><tr><td>Destin-Fort Walton Beach Airport/Eglin AFB</td><td>National Air System</td><td>5</td></tr><tr><td>Montrose Regional Airport</td><td>Airline/Carrier</td><td>8</td></tr><tr><td>Charlottesville-Albemarle Airport</td><td>Airline/Carrier</td><td>37</td></tr><tr><td>El Paso International Airport</td><td>Weather</td><td>51</td></tr><tr><td>Redmond Municipal Airport (Roberts Field)</td><td>National Air System</td><td>3</td></tr><tr><td>Central Illinois Regional Airport at Bloomington-Normal</td><td>Airline/Carrier</td><td>12</td></tr><tr><td>Bishop International Airport</td><td>Airline/Carrier</td><td>15</td></tr><tr><td>Sloulin Field International Airport</td><td>National Air System</td><td>8</td></tr><tr><td>Hilo International Airport</td><td>Airline/Carrier</td><td>8</td></tr><tr><td>Joplin Regional Airport</td><td>Weather</td><td>18</td></tr><tr><td>Deadhorse Airport (Prudhoe Bay Airport)</td><td>Airline/Carrier</td><td>3</td></tr><tr><td>Northwest Florida Beaches International Airport</td><td>Weather</td><td>11</td></tr><tr><td>University of Illinois - Willard Airport</td><td>Airline/Carrier</td><td>15</td></tr><tr><td>Daytona Beach International Airport</td><td>Weather</td><td>3</td></tr><tr><td>Southwest Oregon Regional Airport (North Bend Municipal)</td><td>Airline/Carrier</td><td>2</td></tr><tr><td>Plattsburgh International Airport</td><td>Weather</td><td>1</td></tr><tr><td>Sawyer International Airport</td><td>Airline/Carrier</td><td>2</td></tr><tr><td>Fort Lauderdale-Hollywood International Airport</td><td>Weather</td><td>452</td></tr><tr><td>Raleigh-Durham International Airport</td><td>Airline/Carrier</td><td>182</td></tr><tr><td>Baltimore-Washington International Airport</td><td>Weather</td><td>962</td></tr><tr><td>Will Rogers World Airport</td><td>Airline/Carrier</td><td>73</td></tr><tr><td>Barkley Regional Airport</td><td>Weather</td><td>24</td></tr><tr><td>Ted Stevens Anchorage International Airport</td><td>Airline/Carrier</td><td>50</td></tr><tr><td>Cherry Capital Airport</td><td>Weather</td><td>31</td></tr><tr><td>Appleton International Airport</td><td>Airline/Carrier</td><td>11</td></tr><tr><td>Austin-Bergstrom International Airport</td><td>National Air System</td><td>17</td></tr><tr><td>Elmira/Corning Regional Airport</td><td>Weather</td><td>16</td></tr><tr><td>Lubbock Preston Smith International Airport</td><td>Weather</td><td>91</td></tr><tr><td>Redmond Municipal Airport (Roberts Field)</td><td>Airline/Carrier</td><td>6</td></tr><tr><td>Northwest Florida Beaches International Airport</td><td>Airline/Carrier</td><td>3</td></tr><tr><td>Tri-Cities Airport</td><td>Weather</td><td>4</td></tr><tr><td>Albert J. Ellis Airport</td><td>Airline/Carrier</td><td>4</td></tr><tr><td>Brainerd Lakes Regional Airport</td><td>Weather</td><td>2</td></tr><tr><td>Meadows Field</td><td>Weather</td><td>13</td></tr><tr><td>Yuma International Airport</td><td>Airline/Carrier</td><td>15</td></tr><tr><td>Palm Springs International Airport</td><td>National Air System</td><td>3</td></tr><tr><td>South Bend International Airport (South Bend Regional)</td><td>Weather</td><td>32</td></tr><tr><td>Dallas/Fort Worth International Airport</td><td>National Air System</td><td>110</td></tr><tr><td>Natrona County International Airport</td><td>National Air System</td><td>5</td></tr><tr><td>Lea County Regional Airport</td><td>Weather</td><td>8</td></tr><tr><td>Devils Lake Regional Airport</td><td>National Air System</td><td>21</td></tr><tr><td>Stewart International Airport</td><td>Airline/Carrier</td><td>8</td></tr><tr><td>Valdosta Regional Airport</td><td>Weather</td><td>4</td></tr><tr><td>Columbus Metropolitan Airport</td><td>Airline/Carrier</td><td>3</td></tr><tr><td>Greater Binghamton Airport</td><td>Airline/Carrier</td><td>1</td></tr><tr><td>Bangor International Airport</td><td>Airline/Carrier</td><td>2</td></tr><tr><td>Orlando International Airport</td><td>Security</td><td>1</td></tr><tr><td>Gunnison-Crested Butte Regional Airport</td><td>National Air System</td><td>3</td></tr><tr><td>Aberdeen Regional Airport</td><td>Weather</td><td>1</td></tr><tr><td>LaGuardia Airport (Marine Air Terminal)</td><td>Security</td><td>1</td></tr><tr><td>Eppley Airfield</td><td>Weather</td><td>98</td></tr><tr><td>Laramie Regional Airport</td><td>Airline/Carrier</td><td>7</td></tr><tr><td>Tallahassee International Airport</td><td>Airline/Carrier</td><td>12</td></tr><tr><td>Wilmington International Airport</td><td>Weather</td><td>9</td></tr><tr><td>Baton Rouge Metropolitan Airport</td><td>Airline/Carrier</td><td>58</td></tr><tr><td>Chicago O'Hare International Airport</td><td>National Air System</td><td>1853</td></tr><tr><td>Central Nebraska Regional Airport</td><td>Weather</td><td>18</td></tr><tr><td>Rafael Hernández Airport</td><td>National Air System</td><td>2</td></tr><tr><td>Bill and Hillary Clinton National Airport (Adams Field)</td><td>Airline/Carrier</td><td>58</td></tr><tr><td>Theodore Francis Green State Airport</td><td>Airline/Carrier</td><td>36</td></tr><tr><td>Washington Dulles International Airport</td><td>Weather</td><td>177</td></tr><tr><td>Louisville International Airport (Standiford Field)</td><td>National Air System</td><td>59</td></tr><tr><td>Yeager Airport</td><td>Weather</td><td>21</td></tr><tr><td>Springfield-Branson National Airport</td><td>Airline/Carrier</td><td>20</td></tr><tr><td>Abraham Lincoln Capital Airport</td><td>Airline/Carrier</td><td>15</td></tr><tr><td>MBS International Airport</td><td>National Air System</td><td>6</td></tr><tr><td>Atlantic City International Airport</td><td>National Air System</td><td>6</td></tr><tr><td>Waco Regional Airport</td><td>Airline/Carrier</td><td>22</td></tr><tr><td>Albert J. Ellis Airport</td><td>National Air System</td><td>1</td></tr><tr><td>Arnold Palmer Regional Airport</td><td>Weather</td><td>14</td></tr><tr><td>Key West International Airport</td><td>Weather</td><td>7</td></tr><tr><td>Garden City Regional Airport</td><td>Airline/Carrier</td><td>6</td></tr><tr><td>St. Cloud Regional Airport</td><td>Weather</td><td>4</td></tr><tr><td>Nantucket Memorial Airport</td><td>Airline/Carrier</td><td>1</td></tr><tr><td>Indianapolis International Airport</td><td>Airline/Carrier</td><td>86</td></tr><tr><td>Luis Muñoz Marín International Airport</td><td>Airline/Carrier</td><td>60</td></tr><tr><td>Tampa International Airport</td><td>National Air System</td><td>52</td></tr><tr><td>Louis Armstrong New Orleans International Airport</td><td>National Air System</td><td>28</td></tr><tr><td>Charlotte Douglas International Airport</td><td>Weather</td><td>659</td></tr><tr><td>Cherry Capital Airport</td><td>Airline/Carrier</td><td>10</td></tr><tr><td>Savannah/Hilton Head International Airport</td><td>Airline/Carrier</td><td>26</td></tr><tr><td>Charlottesville-Albemarle Airport</td><td>National Air System</td><td>14</td></tr><tr><td>Austin-Bergstrom International Airport</td><td>Weather</td><td>214</td></tr><tr><td>Columbia Regional Airport</td><td>Weather</td><td>25</td></tr><tr><td>Lake Charles Regional Airport</td><td>Weather</td><td>31</td></tr><tr><td>Chattanooga Metropolitan Airport (Lovell Field)</td><td>Airline/Carrier</td><td>23</td></tr><tr><td>Yeager Airport</td><td>National Air System</td><td>10</td></tr><tr><td>General Wayne A. Downing Peoria International Airport</td><td>National Air System</td><td>33</td></tr><tr><td>Jackson-Evers International Airport</td><td>Airline/Carrier</td><td>30</td></tr><tr><td>Bert Mooney Airport</td><td>Weather</td><td>9</td></tr><tr><td>Albany International Airport</td><td>Airline/Carrier</td><td>18</td></tr><tr><td>Wilmington International Airport</td><td>Airline/Carrier</td><td>4</td></tr><tr><td>La Crosse Regional Airport</td><td>National Air System</td><td>19</td></tr><tr><td>Juneau International Airport</td><td>Airline/Carrier</td><td>12</td></tr><tr><td>Northeast Florida Regional Airport (St. Augustine Airport)</td><td>Airline/Carrier</td><td>6</td></tr><tr><td>Kalamazoo/Battle Creek International Airport</td><td>Airline/Carrier</td><td>14</td></tr><tr><td>Rock Springs-Sweetwater County Airport</td><td>Weather</td><td>6</td></tr><tr><td>Idaho Falls Regional Airport</td><td>Weather</td><td>9</td></tr><tr><td>Yampa Valley Airport (Yampa Valley Regional)</td><td>Weather</td><td>5</td></tr><tr><td>Flagstaff Pulliam Airport</td><td>Weather</td><td>14</td></tr><tr><td>Garden City Regional Airport</td><td>National Air System</td><td>1</td></tr><tr><td>Chippewa County International Airport</td><td>Weather</td><td>5</td></tr><tr><td>Blue Grass Airport</td><td>Weather</td><td>83</td></tr><tr><td>James M. Cox Dayton International Airport</td><td>National Air System</td><td>98</td></tr><tr><td>Wilkes-Barre/Scranton International Airport</td><td>Weather</td><td>18</td></tr><tr><td>Manhattan Regional Airport</td><td>National Air System</td><td>15</td></tr><tr><td>Sioux Falls Regional Airport</td><td>Airline/Carrier</td><td>38</td></tr><tr><td>John Wayne Airport (Orange County Airport)</td><td>Airline/Carrier</td><td>152</td></tr><tr><td>Palm Beach International Airport</td><td>Airline/Carrier</td><td>51</td></tr><tr><td>Lihue Airport</td><td>Airline/Carrier</td><td>33</td></tr><tr><td>Long Beach Airport (Daugherty Field)</td><td>Airline/Carrier</td><td>38</td></tr><tr><td>Louisville International Airport (Standiford Field)</td><td>Airline/Carrier</td><td>26</td></tr><tr><td>Durango-La Plata County Airport</td><td>Weather</td><td>23</td></tr><tr><td>Evansville Regional Airport</td><td>Airline/Carrier</td><td>23</td></tr><tr><td>Gen. Edward Lawrence Logan International Airport</td><td>Weather</td><td>1827</td></tr><tr><td>San Luis Obispo County Regional Airport (McChesney Field)</td><td>National Air System</td><td>11</td></tr><tr><td>Juneau International Airport</td><td>Weather</td><td>18</td></tr><tr><td>South Bend International Airport (South Bend Regional)</td><td>National Air System</td><td>23</td></tr><tr><td>Portland International Jetport</td><td>Weather</td><td>46</td></tr><tr><td>Rochester International Airport</td><td>National Air System</td><td>16</td></tr><tr><td>Portland International Jetport</td><td>Airline/Carrier</td><td>24</td></tr><tr><td>Portland International Airport</td><td>Weather</td><td>53</td></tr><tr><td>Charlottesville-Albemarle Airport</td><td>Weather</td><td>37</td></tr><tr><td>Rochester International Airport</td><td>Weather</td><td>29</td></tr><tr><td>Montgomery Regional Airport</td><td>Airline/Carrier</td><td>12</td></tr><tr><td>Rogue Valley International Airport</td><td>National Air System</td><td>3</td></tr><tr><td>Huntsville International Airport</td><td>National Air System</td><td>17</td></tr><tr><td>Santa Maria Public Airport (Capt G. Allan Hancock Field)</td><td>Weather</td><td>3</td></tr><tr><td>Shreveport Regional Airport</td><td>National Air System</td><td>11</td></tr><tr><td>Easterwood Airport</td><td>Airline/Carrier</td><td>10</td></tr><tr><td>Elmira/Corning Regional Airport</td><td>National Air System</td><td>6</td></tr><tr><td>Coastal Carolina Regional Airport (Craven County Regional)</td><td>Airline/Carrier</td><td>3</td></tr><tr><td>Jackson Hole Airport</td><td>National Air System</td><td>11</td></tr><tr><td>Eagle County Regional Airport</td><td>Weather</td><td>16</td></tr><tr><td>Delta County Airport</td><td>National Air System</td><td>5</td></tr><tr><td>Helena Regional Airport</td><td>National Air System</td><td>1</td></tr><tr><td>Gen. Edward Lawrence Logan International Airport</td><td>Airline/Carrier</td><td>362</td></tr><tr><td>Newark Liberty International Airport</td><td>Airline/Carrier</td><td>323</td></tr><tr><td>Detroit Metropolitan Airport</td><td>Airline/Carrier</td><td>324</td></tr><tr><td>Minneapolis-Saint Paul International Airport</td><td>National Air System</td><td>86</td></tr><tr><td>Baton Rouge Metropolitan Airport</td><td>National Air System</td><td>25</td></tr><tr><td>Tulsa International Airport</td><td>Airline/Carrier</td><td>48</td></tr><tr><td>Oakland International Airport</td><td>Weather</td><td>45</td></tr><tr><td>Tallahassee International Airport</td><td>Weather</td><td>25</td></tr><tr><td>Manhattan Regional Airport</td><td>Weather</td><td>35</td></tr><tr><td>Wichita Dwight D. Eisenhower National Airport (Wichita Mid-Continent Airport)</td><td>Airline/Carrier</td><td>43</td></tr><tr><td>Laredo International Airport</td><td>National Air System</td><td>9</td></tr><tr><td>Tulsa International Airport</td><td>National Air System</td><td>34</td></tr><tr><td>Ketchikan International Airport</td><td>Weather</td><td>14</td></tr><tr><td>Evansville Regional Airport</td><td>National Air System</td><td>24</td></tr><tr><td>Lehigh Valley International Airport</td><td>National Air System</td><td>3</td></tr><tr><td>Akron-Canton Regional Airport</td><td>National Air System</td><td>22</td></tr><tr><td>Monroe Regional Airport</td><td>Airline/Carrier</td><td>31</td></tr><tr><td>Abraham Lincoln Capital Airport</td><td>National Air System</td><td>3</td></tr><tr><td>Fayetteville Regional Airport</td><td>Weather</td><td>7</td></tr><tr><td>Columbia Regional Airport</td><td>National Air System</td><td>7</td></tr><tr><td>Corpus Christi International Airport</td><td>National Air System</td><td>15</td></tr><tr><td>Barkley Regional Airport</td><td>Airline/Carrier</td><td>6</td></tr><tr><td>Jackson Hole Airport</td><td>Airline/Carrier</td><td>11</td></tr><tr><td>Minot International Airport</td><td>National Air System</td><td>2</td></tr><tr><td>Lea County Regional Airport</td><td>National Air System</td><td>6</td></tr><tr><td>Montrose Regional Airport</td><td>Weather</td><td>15</td></tr><tr><td>Montrose Regional Airport</td><td>National Air System</td><td>2</td></tr><tr><td>Del Norte County Airport (Jack McNamara Field)</td><td>Weather</td><td>14</td></tr><tr><td>Ford Airport</td><td>Weather</td><td>6</td></tr><tr><td>Worcester Regional Airport</td><td>National Air System</td><td>1</td></tr><tr><td>Salt Lake City International Airport</td><td>Weather</td><td>158</td></tr><tr><td>Philadelphia International Airport</td><td>Weather</td><td>728</td></tr><tr><td>Lawton-Fort Sill Regional Airport</td><td>Weather</td><td>45</td></tr><tr><td>Flagstaff Pulliam Airport</td><td>Airline/Carrier</td><td>9</td></tr><tr><td>Wichita Falls Municipal Airport/Sheppard AFB</td><td>Weather</td><td>32</td></tr><tr><td>Helena Regional Airport</td><td>Airline/Carrier</td><td>3</td></tr><tr><td>Lafayette Regional Airport</td><td>National Air System</td><td>18</td></tr><tr><td>Baltimore-Washington International Airport</td><td>National Air System</td><td>133</td></tr><tr><td>Kahului Airport</td><td>Airline/Carrier</td><td>99</td></tr><tr><td>Duluth International Airport</td><td>Airline/Carrier</td><td>7</td></tr><tr><td>Jack Brooks Regional Airport (Southeast Texas Regional)</td><td>Airline/Carrier</td><td>28</td></tr><tr><td>City of Colorado Springs Municipal Airport</td><td>National Air System</td><td>11</td></tr><tr><td>Rogue Valley International Airport</td><td>Airline/Carrier</td><td>11</td></tr><tr><td>Nashville International Airport</td><td>Airline/Carrier</td><td>160</td></tr><tr><td>Newport News/Williamsburg International Airport</td><td>Weather</td><td>16</td></tr><tr><td>Bradley International Airport</td><td>National Air System</td><td>39</td></tr><tr><td>Rafael Hernández Airport</td><td>Airline/Carrier</td><td>3</td></tr><tr><td>Falls International Airport</td><td>Weather</td><td>2</td></tr><tr><td>Bellingham International Airport</td><td>Airline/Carrier</td><td>1</td></tr><tr><td>Cyril E. King Airport</td><td>Weather</td><td>20</td></tr><tr><td>Yakutat Airport</td><td>Airline/Carrier</td><td>4</td></tr><tr><td>Rochester International Airport</td><td>Airline/Carrier</td><td>9</td></tr><tr><td>Asheville Regional Airport</td><td>Airline/Carrier</td><td>15</td></tr><tr><td>Manhattan Regional Airport</td><td>Airline/Carrier</td><td>8</td></tr><tr><td>Nome Airport</td><td>Airline/Carrier</td><td>3</td></tr><tr><td>Pueblo Memorial Airport</td><td>Weather</td><td>5</td></tr><tr><td>Southwest Oregon Regional Airport (North Bend Municipal)</td><td>Weather</td><td>2</td></tr><tr><td>Long Beach Airport (Daugherty Field)</td><td>National Air System</td><td>4</td></tr><tr><td>Mammoth Yosemite Airport</td><td>Airline/Carrier</td><td>1</td></tr><tr><td>St. Cloud Regional Airport</td><td>Airline/Carrier</td><td>1</td></tr><tr><td>Central Wisconsin Airport</td><td>Airline/Carrier</td><td>2</td></tr><tr><td>Yuma International Airport</td><td>National Air System</td><td>1</td></tr><tr><td>St. Louis International Airport at Lambert Field</td><td>Weather</td><td>313</td></tr><tr><td>Fort Smith Regional Airport</td><td>Airline/Carrier</td><td>23</td></tr><tr><td>Hector International Airport</td><td>Airline/Carrier</td><td>25</td></tr><tr><td>William P. Hobby Airport</td><td>Weather</td><td>357</td></tr><tr><td>Reno/Tahoe International Airport</td><td>Weather</td><td>29</td></tr><tr><td>Memphis International Airport</td><td>Weather</td><td>146</td></tr><tr><td>Atlantic City International Airport</td><td>Weather</td><td>19</td></tr><tr><td>Pellston Regional Airport of Emmet County</td><td>Weather</td><td>4</td></tr><tr><td>Piedmont Triad International Airport</td><td>Airline/Carrier</td><td>80</td></tr><tr><td>Palm Beach International Airport</td><td>Weather</td><td>225</td></tr><tr><td>Waco Regional Airport</td><td>Weather</td><td>44</td></tr><tr><td>Cleveland Hopkins International Airport</td><td>National Air System</td><td>249</td></tr><tr><td>Louis Armstrong New Orleans International Airport</td><td>Airline/Carrier</td><td>123</td></tr><tr><td>Detroit Metropolitan Airport</td><td>National Air System</td><td>188</td></tr><tr><td>Honolulu International Airport</td><td>Airline/Carrier</td><td>141</td></tr><tr><td>Rapid City Regional Airport</td><td>Airline/Carrier</td><td>11</td></tr><tr><td>Memphis International Airport</td><td>Airline/Carrier</td><td>49</td></tr><tr><td>Savannah/Hilton Head International Airport</td><td>Weather</td><td>59</td></tr><tr><td>Bethel Airport</td><td>Airline/Carrier</td><td>5</td></tr><tr><td>Monterey Regional Airport (Monterey Peninsula Airport)</td><td>Weather</td><td>52</td></tr><tr><td>Albany International Airport</td><td>Weather</td><td>72</td></tr><tr><td>Birmingham-Shuttlesworth International Airport</td><td>National Air System</td><td>28</td></tr><tr><td>Ketchikan International Airport</td><td>Airline/Carrier</td><td>11</td></tr><tr><td>James M. Cox Dayton International Airport</td><td>Weather</td><td>107</td></tr><tr><td>Southwest Florida International Airport</td><td>Airline/Carrier</td><td>74</td></tr><tr><td>Columbia Metropolitan Airport</td><td>Weather</td><td>32</td></tr><tr><td>Grand Junction Regional Airport (Walker Field)</td><td>Weather</td><td>15</td></tr><tr><td>Montgomery Regional Airport</td><td>National Air System</td><td>3</td></tr><tr><td>Albany International Airport</td><td>National Air System</td><td>8</td></tr><tr><td>Dubuque Regional Airport</td><td>Weather</td><td>22</td></tr><tr><td>Bozeman Yellowstone International Airport (Gallatin Field Airport)</td><td>Weather</td><td>7</td></tr><tr><td>Coastal Carolina Regional Airport (Craven County Regional)</td><td>Weather</td><td>2</td></tr><tr><td>Yakutat Airport</td><td>Weather</td><td>1</td></tr><tr><td>Pocatello Regional Airport</td><td>Airline/Carrier</td><td>1</td></tr><tr><td>Dallas/Fort Worth International Airport</td><td>Airline/Carrier</td><td>1248</td></tr><tr><td>San Diego International Airport (Lindbergh Field)</td><td>Weather</td><td>168</td></tr><tr><td>Phoenix Sky Harbor International Airport</td><td>Weather</td><td>277</td></tr><tr><td>Will Rogers World Airport</td><td>Weather</td><td>122</td></tr><tr><td>Denver International Airport</td><td>National Air System</td><td>180</td></tr><tr><td>Newark Liberty International Airport</td><td>Weather</td><td>1032</td></tr><tr><td>Philadelphia International Airport</td><td>Airline/Carrier</td><td>183</td></tr><tr><td>Chattanooga Metropolitan Airport (Lovell Field)</td><td>Weather</td><td>31</td></tr><tr><td>Alpena County Regional Airport</td><td>Weather</td><td>7</td></tr><tr><td>Memphis International Airport</td><td>National Air System</td><td>103</td></tr><tr><td>Tyler Pounds Regional Airport</td><td>National Air System</td><td>8</td></tr><tr><td>Raleigh-Durham International Airport</td><td>National Air System</td><td>148</td></tr><tr><td>Richmond International Airport</td><td>Airline/Carrier</td><td>96</td></tr><tr><td>Lincoln Airport (Lincoln Municipal)</td><td>Weather</td><td>28</td></tr><tr><td>Dane County Regional Airport</td><td>National Air System</td><td>73</td></tr><tr><td>Huntsville International Airport</td><td>Weather</td><td>36</td></tr><tr><td>Burlington International Airport</td><td>National Air System</td><td>32</td></tr><tr><td>Charleston International Airport/Charleston AFB</td><td>National Air System</td><td>59</td></tr><tr><td>Sacramento International Airport</td><td>Airline/Carrier</td><td>170</td></tr><tr><td>Killeen-Fort Hood Regional Airport</td><td>National Air System</td><td>10</td></tr><tr><td>Greater Rochester International Airport</td><td>National Air System</td><td>54</td></tr><tr><td>Harrisburg International Airport</td><td>Airline/Carrier</td><td>15</td></tr><tr><td>Central Wisconsin Airport</td><td>Weather</td><td>22</td></tr><tr><td>Devils Lake Regional Airport</td><td>Weather</td><td>8</td></tr><tr><td>University of Illinois - Willard Airport</td><td>National Air System</td><td>21</td></tr><tr><td>Niagara Falls International Airport</td><td>Airline/Carrier</td><td>2</td></tr><tr><td>Muskegon County Airport</td><td>National Air System</td><td>3</td></tr><tr><td>Plattsburgh International Airport</td><td>Airline/Carrier</td><td>1</td></tr><tr><td>Fairbanks International Airport</td><td>Airline/Carrier</td><td>6</td></tr><tr><td>Waterloo Regional Airport</td><td>National Air System</td><td>8</td></tr><tr><td>Tucson International Airport</td><td>National Air System</td><td>7</td></tr><tr><td>Magic Valley Regional Airport (Joslin Field)</td><td>Weather</td><td>6</td></tr><tr><td>Brunswick Golden Isles Airport</td><td>Airline/Carrier</td><td>5</td></tr><tr><td>John Wayne Airport (Orange County Airport)</td><td>Security</td><td>1</td></tr><tr><td>Bellingham International Airport</td><td>Weather</td><td>1</td></tr><tr><td>Yeager Airport</td><td>Airline/Carrier</td><td>16</td></tr><tr><td>Kansas City International Airport</td><td>Airline/Carrier</td><td>118</td></tr><tr><td>Pittsburgh International Airport</td><td>Weather</td><td>132</td></tr><tr><td>Denver International Airport</td><td>Weather</td><td>846</td></tr><tr><td>Charlotte Douglas International Airport</td><td>Airline/Carrier</td><td>183</td></tr><tr><td>Seattle-Tacoma International Airport</td><td>Airline/Carrier</td><td>199</td></tr><tr><td>San Diego International Airport (Lindbergh Field)</td><td>National Air System</td><td>90</td></tr><tr><td>Eppley Airfield</td><td>National Air System</td><td>55</td></tr><tr><td>Buffalo Niagara International Airport</td><td>Weather</td><td>128</td></tr><tr><td>Central Illinois Regional Airport at Bloomington-Normal</td><td>Weather</td><td>61</td></tr><tr><td>Rapid City Regional Airport</td><td>Weather</td><td>27</td></tr><tr><td>Wiley Post-Will Rogers Memorial Airport</td><td>Airline/Carrier</td><td>4</td></tr><tr><td>Dubuque Regional Airport</td><td>Airline/Carrier</td><td>8</td></tr><tr><td>Cleveland Hopkins International Airport</td><td>Airline/Carrier</td><td>168</td></tr><tr><td>Arnold Palmer Regional Airport</td><td>National Air System</td><td>5</td></tr><tr><td>Seattle-Tacoma International Airport</td><td>Weather</td><td>114</td></tr><tr><td>Will Rogers World Airport</td><td>National Air System</td><td>29</td></tr><tr><td>Rapid City Regional Airport</td><td>National Air System</td><td>5</td></tr><tr><td>Shreveport Regional Airport</td><td>Weather</td><td>55</td></tr><tr><td>Laramie Regional Airport</td><td>Weather</td><td>10</td></tr><tr><td>Portland International Airport</td><td>National Air System</td><td>5</td></tr><tr><td>Glacier Park International Airport</td><td>Airline/Carrier</td><td>6</td></tr><tr><td>Rock Springs-Sweetwater County Airport</td><td>Airline/Carrier</td><td>4</td></tr><tr><td>Bozeman Yellowstone International Airport (Gallatin Field Airport)</td><td>National Air System</td><td>2</td></tr><tr><td>Merle K. (Mudhole) Smith Airport</td><td>Weather</td><td>2</td></tr><tr><td>Sioux Gateway Airport</td><td>Airline/Carrier</td><td>3</td></tr><tr><td>Melbourne International Airport</td><td>Airline/Carrier</td><td>2</td></tr><tr><td>Pueblo Memorial Airport</td><td>National Air System</td><td>2</td></tr><tr><td>Great Falls International Airport</td><td>National Air System</td><td>1</td></tr><tr><td>LaGuardia Airport (Marine Air Terminal)</td><td>National Air System</td><td>1063</td></tr><tr><td>St. Louis International Airport at Lambert Field</td><td>Airline/Carrier</td><td>140</td></tr><tr><td>Washington Dulles International Airport</td><td>Airline/Carrier</td><td>170</td></tr><tr><td>George Bush Intercontinental Airport</td><td>National Air System</td><td>404</td></tr><tr><td>Valley International Airport</td><td>Weather</td><td>20</td></tr><tr><td>Easterwood Airport</td><td>Weather</td><td>78</td></tr><tr><td>Jackson-Evers International Airport</td><td>National Air System</td><td>30</td></tr><tr><td>Grand Junction Regional Airport (Walker Field)</td><td>Airline/Carrier</td><td>10</td></tr><tr><td>Gainesville Regional Airport</td><td>National Air System</td><td>7</td></tr><tr><td>Louisville International Airport (Standiford Field)</td><td>Weather</td><td>116</td></tr><tr><td>Easterwood Airport</td><td>National Air System</td><td>14</td></tr><tr><td>Bismarck Municipal Airport</td><td>National Air System</td><td>7</td></tr><tr><td>Bill and Hillary Clinton National Airport (Adams Field)</td><td>Weather</td><td>119</td></tr><tr><td>Norfolk International Airport</td><td>Airline/Carrier</td><td>46</td></tr><tr><td>Columbia Regional Airport</td><td>Airline/Carrier</td><td>25</td></tr><tr><td>Nantucket Memorial Airport</td><td>Weather</td><td>3</td></tr><tr><td>Montgomery Regional Airport</td><td>Weather</td><td>32</td></tr><tr><td>Range Regional Airport (Chisholm-Hibbing Airport)</td><td>Airline/Carrier</td><td>8</td></tr><tr><td>Birmingham-Shuttlesworth International Airport</td><td>Airline/Carrier</td><td>41</td></tr><tr><td>General Wayne A. Downing Peoria International Airport</td><td>Airline/Carrier</td><td>15</td></tr><tr><td>Abilene Regional Airport</td><td>Weather</td><td>70</td></tr><tr><td>El Paso International Airport</td><td>Airline/Carrier</td><td>34</td></tr><tr><td>Fort Lauderdale-Hollywood International Airport</td><td>Airline/Carrier</td><td>171</td></tr><tr><td>Lawton-Fort Sill Regional Airport</td><td>National Air System</td><td>1</td></tr><tr><td>Roswell International Air Center</td><td>Weather</td><td>34</td></tr><tr><td>William P. Hobby Airport</td><td>National Air System</td><td>21</td></tr><tr><td>Waterloo Regional Airport</td><td>Weather</td><td>11</td></tr><tr><td>Wrangell Airport</td><td>Airline/Carrier</td><td>5</td></tr><tr><td>Mammoth Yosemite Airport</td><td>Weather</td><td>8</td></tr><tr><td>Eugene Airport (Mahlon Sweet Field)</td><td>Weather</td><td>14</td></tr><tr><td>Chippewa Valley Regional Airport</td><td>National Air System</td><td>5</td></tr><tr><td>Flagstaff Pulliam Airport</td><td>National Air System</td><td>4</td></tr><tr><td>Gillette-Campbell County Airport</td><td>National Air System</td><td>1</td></tr><tr><td>General Mitchell International Airport</td><td>Weather</td><td>238</td></tr><tr><td>Gerald R. Ford International Airport</td><td>National Air System</td><td>63</td></tr><tr><td>Dallas/Fort Worth International Airport</td><td>Weather</td><td>4023</td></tr><tr><td>Kansas City International Airport</td><td>Weather</td><td>176</td></tr><tr><td>McGhee Tyson Airport</td><td>Weather</td><td>64</td></tr><tr><td>Gerald R. Ford International Airport</td><td>Airline/Carrier</td><td>52</td></tr><tr><td>Monterey Regional Airport (Monterey Peninsula Airport)</td><td>National Air System</td><td>24</td></tr><tr><td>Fresno Yosemite International Airport</td><td>Airline/Carrier</td><td>27</td></tr><tr><td>Norman Y. Mineta San José International Airport</td><td>National Air System</td><td>14</td></tr><tr><td>Manchester-Boston Regional Airport</td><td>National Air System</td><td>28</td></tr><tr><td>Theodore Francis Green State Airport</td><td>National Air System</td><td>47</td></tr><tr><td>Harrisburg International Airport</td><td>National Air System</td><td>11</td></tr><tr><td>Lafayette Regional Airport</td><td>Weather</td><td>64</td></tr><tr><td>Aspen-Pitkin County Airport</td><td>Airline/Carrier</td><td>33</td></tr><tr><td>Bradley International Airport</td><td>Airline/Carrier</td><td>48</td></tr><tr><td>Seattle-Tacoma International Airport</td><td>National Air System</td><td>10</td></tr><tr><td>Salt Lake City International Airport</td><td>Airline/Carrier</td><td>109</td></tr><tr><td>Norman Y. Mineta San José International Airport</td><td>Weather</td><td>50</td></tr><tr><td>Redding Municipal Airport</td><td>Weather</td><td>7</td></tr><tr><td>East Texas Regional Airport</td><td>Weather</td><td>15</td></tr><tr><td>Midland International Airport</td><td>Weather</td><td>147</td></tr><tr><td>Fayetteville Regional Airport</td><td>Airline/Carrier</td><td>6</td></tr><tr><td>Cedar City Regional Airport</td><td>Weather</td><td>1</td></tr><tr><td>San Luis Obispo County Regional Airport (McChesney Field)</td><td>Weather</td><td>20</td></tr><tr><td>Sloulin Field International Airport</td><td>Weather</td><td>14</td></tr><tr><td>Nome Airport</td><td>Weather</td><td>11</td></tr><tr><td>Lehigh Valley International Airport</td><td>Weather</td><td>18</td></tr><tr><td>Sarasota-Bradenton International Airport</td><td>National Air System</td><td>6</td></tr><tr><td>McClellan-Palomar Airport</td><td>National Air System</td><td>1</td></tr><tr><td>Texarkana Regional Airport (Webb Field)</td><td>Airline/Carrier</td><td>11</td></tr><tr><td>El Paso International Airport</td><td>National Air System</td><td>11</td></tr><tr><td>Long Island MacArthur Airport</td><td>National Air System</td><td>4</td></tr><tr><td>Henry E. Rohlsen Airport</td><td>Weather</td><td>2</td></tr><tr><td>Toledo Express Airport</td><td>Airline/Carrier</td><td>12</td></tr><tr><td>Bethel Airport</td><td>Weather</td><td>3</td></tr><tr><td>Elko Regional Airport</td><td>National Air System</td><td>1</td></tr><tr><td>Akron-Canton Regional Airport</td><td>Weather</td><td>53</td></tr><tr><td>General Mitchell International Airport</td><td>National Air System</td><td>97</td></tr><tr><td>Central Illinois Regional Airport at Bloomington-Normal</td><td>National Air System</td><td>12</td></tr><tr><td>Hartsfield-Jackson Atlanta International Airport</td><td>National Air System</td><td>140</td></tr><tr><td>Des Moines International Airport</td><td>National Air System</td><td>54</td></tr><tr><td>General Mitchell International Airport</td><td>Airline/Carrier</td><td>122</td></tr><tr><td>Houghton County Memorial Airport</td><td>National Air System</td><td>2</td></tr><tr><td>Bob Hope Airport (Hollywood Burbank Airport)</td><td>Airline/Carrier</td><td>211</td></tr><tr><td>Savannah/Hilton Head International Airport</td><td>National Air System</td><td>43</td></tr><tr><td>Manchester-Boston Regional Airport</td><td>Weather</td><td>82</td></tr><tr><td>Fort Lauderdale-Hollywood International Airport</td><td>National Air System</td><td>75</td></tr><tr><td>Jacksonville International Airport</td><td>National Air System</td><td>41</td></tr><tr><td>Palm Beach International Airport</td><td>National Air System</td><td>43</td></tr><tr><td>Jacksonville International Airport</td><td>Weather</td><td>97</td></tr><tr><td>Aspen-Pitkin County Airport</td><td>Weather</td><td>169</td></tr><tr><td>Meadows Field</td><td>National Air System</td><td>3</td></tr><tr><td>Erie International Airport</td><td>National Air System</td><td>13</td></tr><tr><td>Phoenix Sky Harbor International Airport</td><td>Airline/Carrier</td><td>379</td></tr><tr><td>Brownsville/South Padre Island International Airport</td><td>Weather</td><td>30</td></tr><tr><td>Columbia Metropolitan Airport</td><td>Airline/Carrier</td><td>33</td></tr><tr><td>Destin-Fort Walton Beach Airport/Eglin AFB</td><td>Weather</td><td>52</td></tr><tr><td>East Texas Regional Airport</td><td>Airline/Carrier</td><td>12</td></tr><tr><td>Quad City International Airport</td><td>Weather</td><td>71</td></tr><tr><td>Abilene Regional Airport</td><td>Airline/Carrier</td><td>8</td></tr><tr><td>Tri-Cities Regional Airport</td><td>Weather</td><td>8</td></tr><tr><td>Jamestown Regional Airport</td><td>National Air System</td><td>22</td></tr><tr><td>Aberdeen Regional Airport</td><td>Airline/Carrier</td><td>5</td></tr><tr><td>Ontario International Airport</td><td>National Air System</td><td>8</td></tr><tr><td>Mercedita Airport</td><td>Airline/Carrier</td><td>4</td></tr><tr><td>Daytona Beach International Airport</td><td>Airline/Carrier</td><td>1</td></tr><tr><td>Waco Regional Airport</td><td>National Air System</td><td>2</td></tr><tr><td>Sitka Rocky Gutierrez Airport</td><td>Weather</td><td>2</td></tr><tr><td>Chicago O'Hare International Airport</td><td>Weather</td><td>3463</td></tr><tr><td>Lubbock Preston Smith International Airport</td><td>National Air System</td><td>10</td></tr><tr><td>Hartsfield-Jackson Atlanta International Airport</td><td>Weather</td><td>1472</td></tr><tr><td>Washington Dulles International Airport</td><td>National Air System</td><td>153</td></tr><tr><td>Baltimore-Washington International Airport</td><td>Airline/Carrier</td><td>302</td></tr><tr><td>Wichita Dwight D. Eisenhower National Airport (Wichita Mid-Continent Airport)</td><td>National Air System</td><td>29</td></tr><tr><td>The Eastern Iowa Airport</td><td>Weather</td><td>96</td></tr><tr><td>Chicago Midway International Airport</td><td>Weather</td><td>1010</td></tr><tr><td>Chicago Midway International Airport</td><td>Airline/Carrier</td><td>401</td></tr><tr><td>Chicago Midway International Airport</td><td>National Air System</td><td>53</td></tr><tr><td>Fort Wayne International Airport</td><td>Weather</td><td>72</td></tr><tr><td>McAllen-Miller International Airport (McAllen Miller International)</td><td>Airline/Carrier</td><td>17</td></tr><tr><td>Louis Armstrong New Orleans International Airport</td><td>Weather</td><td>207</td></tr><tr><td>Dothan Regional Airport</td><td>Weather</td><td>4</td></tr><tr><td>Tucson International Airport</td><td>Airline/Carrier</td><td>53</td></tr><tr><td>Minot International Airport</td><td>Weather</td><td>8</td></tr><tr><td>Spokane International Airport</td><td>Airline/Carrier</td><td>19</td></tr><tr><td>Rhinelander-Oneida County Airport</td><td>Weather</td><td>5</td></tr><tr><td>Aspen-Pitkin County Airport</td><td>National Air System</td><td>7</td></tr><tr><td>Hays Regional Airport</td><td>Weather</td><td>5</td></tr><tr><td>Bismarck Municipal Airport</td><td>Weather</td><td>19</td></tr><tr><td>Chippewa County International Airport</td><td>Airline/Carrier</td><td>3</td></tr><tr><td>Yuma International Airport</td><td>Weather</td><td>2</td></tr><tr><td>Long Island MacArthur Airport</td><td>Airline/Carrier</td><td>14</td></tr><tr><td>Sarasota-Bradenton International Airport</td><td>Weather</td><td>19</td></tr><tr><td>Valdosta Regional Airport</td><td>Airline/Carrier</td><td>2</td></tr><tr><td>Great Falls International Airport</td><td>Airline/Carrier</td><td>5</td></tr><tr><td>Rogue Valley International Airport</td><td>Weather</td><td>14</td></tr><tr><td>Redding Municipal Airport</td><td>Airline/Carrier</td><td>7</td></tr><tr><td>Fort Smith Regional Airport</td><td>National Air System</td><td>1</td></tr><tr><td>San Francisco International Airport</td><td>Airline/Carrier</td><td>753</td></tr><tr><td>John Wayne Airport (Orange County Airport)</td><td>Weather</td><td>105</td></tr><tr><td>General Wayne A. Downing Peoria International Airport</td><td>Weather</td><td>71</td></tr><tr><td>LaGuardia Airport (Marine Air Terminal)</td><td>Airline/Carrier</td><td>990</td></tr><tr><td>Spokane International Airport</td><td>Weather</td><td>15</td></tr><tr><td>Gerald R. Ford International Airport</td><td>Weather</td><td>98</td></tr><tr><td>Duluth International Airport</td><td>Weather</td><td>28</td></tr><tr><td>Philadelphia International Airport</td><td>National Air System</td><td>76</td></tr><tr><td>Quad City International Airport</td><td>Airline/Carrier</td><td>29</td></tr><tr><td>Muskegon County Airport</td><td>Airline/Carrier</td><td>6</td></tr><tr><td>Fresno Yosemite International Airport</td><td>Weather</td><td>22</td></tr><tr><td>James M. Cox Dayton International Airport</td><td>Airline/Carrier</td><td>31</td></tr><tr><td>Eugene Airport (Mahlon Sweet Field)</td><td>National Air System</td><td>5</td></tr><tr><td>Jackson Hole Airport</td><td>Weather</td><td>13</td></tr><tr><td>Bismarck Municipal Airport</td><td>Airline/Carrier</td><td>18</td></tr><tr><td>Joplin Regional Airport</td><td>Airline/Carrier</td><td>13</td></tr><tr><td>Greenville-Spartanburg International Airport</td><td>Airline/Carrier</td><td>12</td></tr><tr><td>Port Columbus International Airport</td><td>National Air System</td><td>145</td></tr><tr><td>Birmingham-Shuttlesworth International Airport</td><td>Weather</td><td>81</td></tr><tr><td>Dothan Regional Airport</td><td>Airline/Carrier</td><td>4</td></tr><tr><td>Redmond Municipal Airport (Roberts Field)</td><td>Weather</td><td>12</td></tr><tr><td>Worcester Regional Airport</td><td>Airline/Carrier</td><td>7</td></tr><tr><td>Niagara Falls International Airport</td><td>Weather</td><td>7</td></tr><tr><td>Erie International Airport</td><td>Airline/Carrier</td><td>1</td></tr><tr><td>Guam International Airport</td><td>Weather</td><td>2</td></tr><tr><td>Minneapolis-Saint Paul International Airport</td><td>Airline/Carrier</td><td>263</td></tr><tr><td>Nashville International Airport</td><td>Weather</td><td>617</td></tr><tr><td>Portland International Airport</td><td>Airline/Carrier</td><td>95</td></tr><tr><td>Roanoke Regional Airport (Woodrum Field)</td><td>Airline/Carrier</td><td>3</td></tr><tr><td>Arnold Palmer Regional Airport</td><td>Airline/Carrier</td><td>12</td></tr><tr><td>John Wayne Airport (Orange County Airport)</td><td>National Air System</td><td>24</td></tr><tr><td>Dane County Regional Airport</td><td>Airline/Carrier</td><td>54</td></tr><tr><td>Ted Stevens Anchorage International Airport</td><td>Weather</td><td>36</td></tr><tr><td>McGhee Tyson Airport</td><td>National Air System</td><td>44</td></tr><tr><td>Tulsa International Airport</td><td>Weather</td><td>105</td></tr><tr><td>Fort Wayne International Airport</td><td>National Air System</td><td>32</td></tr><tr><td>Miami International Airport</td><td>National Air System</td><td>33</td></tr><tr><td>Charleston International Airport/Charleston AFB</td><td>Airline/Carrier</td><td>38</td></tr><tr><td>Dickinson Theodore Roosevelt Regional Airport</td><td>Weather</td><td>8</td></tr><tr><td>Blue Grass Airport</td><td>National Air System</td><td>33</td></tr><tr><td>University of Illinois - Willard Airport</td><td>Weather</td><td>47</td></tr><tr><td>Mobile Regional Airport</td><td>National Air System</td><td>11</td></tr><tr><td>Idaho Falls Regional Airport</td><td>Airline/Carrier</td><td>3</td></tr><tr><td>Delta County Airport</td><td>Airline/Carrier</td><td>4</td></tr><tr><td>Tri-Cities Airport</td><td>National Air System</td><td>4</td></tr><tr><td>Hays Regional Airport</td><td>National Air System</td><td>3</td></tr><tr><td>Pueblo Memorial Airport</td><td>Airline/Carrier</td><td>4</td></tr><tr><td>Fort Smith Regional Airport</td><td>Weather</td><td>26</td></tr><tr><td>Yellowstone Regional Airport</td><td>Airline/Carrier</td><td>3</td></tr><tr><td>Lehigh Valley International Airport</td><td>Airline/Carrier</td><td>8</td></tr><tr><td>Southwest Georgia Regional Airport</td><td>Airline/Carrier</td><td>3</td></tr><tr><td>Jamestown Regional Airport</td><td>Airline/Carrier</td><td>2</td></tr><tr><td>Billings Logan International Airport</td><td>National Air System</td><td>2</td></tr><tr><td>Cincinnati/Northern Kentucky International Airport</td><td>National Air System</td><td>144</td></tr><tr><td>Jackson-Evers International Airport</td><td>Weather</td><td>89</td></tr><tr><td>City of Colorado Springs Municipal Airport</td><td>Weather</td><td>53</td></tr><tr><td>Roanoke Regional Airport (Woodrum Field)</td><td>National Air System</td><td>7</td></tr><tr><td>Bill and Hillary Clinton National Airport (Adams Field)</td><td>National Air System</td><td>49</td></tr><tr><td>Tampa International Airport</td><td>Airline/Carrier</td><td>175</td></tr><tr><td>Baton Rouge Metropolitan Airport</td><td>Weather</td><td>59</td></tr><tr><td>Portland International Jetport</td><td>National Air System</td><td>46</td></tr><tr><td>Worcester Regional Airport</td><td>Weather</td><td>15</td></tr><tr><td>Erie International Airport</td><td>Weather</td><td>17</td></tr><tr><td>Charlotte Douglas International Airport</td><td>National Air System</td><td>156</td></tr><tr><td>Gainesville Regional Airport</td><td>Airline/Carrier</td><td>18</td></tr><tr><td>Dickinson Theodore Roosevelt Regional Airport</td><td>National Air System</td><td>5</td></tr><tr><td>Laredo International Airport</td><td>Weather</td><td>39</td></tr><tr><td>Natrona County International Airport</td><td>Weather</td><td>13</td></tr><tr><td>Yampa Valley Airport (Yampa Valley Regional)</td><td>Airline/Carrier</td><td>3</td></tr><tr><td>Oakland International Airport</td><td>National Air System</td><td>17</td></tr><tr><td>Falls International Airport</td><td>Airline/Carrier</td><td>5</td></tr><tr><td>Palm Springs International Airport</td><td>Airline/Carrier</td><td>44</td></tr><tr><td>Elko Regional Airport</td><td>Airline/Carrier</td><td>1</td></tr><tr><td>Devils Lake Regional Airport</td><td>Airline/Carrier</td><td>3</td></tr><tr><td>Central Nebraska Regional Airport</td><td>Airline/Carrier</td><td>3</td></tr><tr><td>Friedman Memorial Airport</td><td>Airline/Carrier</td><td>1</td></tr><tr><td>Helena Regional Airport</td><td>Weather</td><td>2</td></tr><tr><td>Luis Muñoz Marín International Airport</td><td>Security</td><td>1</td></tr><tr><td>Yellowstone Regional Airport</td><td>National Air System</td><td>1</td></tr><tr><td>Wichita Falls Municipal Airport/Sheppard AFB</td><td>Airline/Carrier</td><td>23</td></tr><tr><td>Northwest Arkansas Regional Airport</td><td>Weather</td><td>113</td></tr><tr><td>Luis Muñoz Marín International Airport</td><td>National Air System</td><td>9</td></tr><tr><td>Springfield-Branson National Airport</td><td>Weather</td><td>104</td></tr><tr><td>Laredo International Airport</td><td>Airline/Carrier</td><td>7</td></tr><tr><td>Cleveland Hopkins International Airport</td><td>Weather</td><td>213</td></tr><tr><td>McCarran International Airport</td><td>Airline/Carrier</td><td>426</td></tr><tr><td>Jack Brooks Regional Airport (Southeast Texas Regional)</td><td>Weather</td><td>24</td></tr><tr><td>McAllen-Miller International Airport (McAllen Miller International)</td><td>Weather</td><td>63</td></tr><tr><td>Dubuque Regional Airport</td><td>National Air System</td><td>14</td></tr><tr><td>Cincinnati/Northern Kentucky International Airport</td><td>Airline/Carrier</td><td>89</td></tr><tr><td>Tyler Pounds Regional Airport</td><td>Weather</td><td>45</td></tr><tr><td>Myrtle Beach International Airport</td><td>Weather</td><td>50</td></tr><tr><td>Northwest Arkansas Regional Airport</td><td>Airline/Carrier</td><td>61</td></tr><tr><td>McCarran International Airport</td><td>National Air System</td><td>51</td></tr><tr><td>Kodiak Airport</td><td>Weather</td><td>16</td></tr><tr><td>Elko Regional Airport</td><td>Weather</td><td>3</td></tr><tr><td>Mobile Regional Airport</td><td>Weather</td><td>48</td></tr><tr><td>Salt Lake City International Airport</td><td>National Air System</td><td>22</td></tr><tr><td>Central Wisconsin Airport</td><td>National Air System</td><td>15</td></tr><tr><td>Gunnison-Crested Butte Regional Airport</td><td>Weather</td><td>15</td></tr><tr><td>St. George Regional Airport</td><td>Weather</td><td>1</td></tr><tr><td>Pensacola International Airport (Pensacola Gulf Coast Regional Airport)</td><td>National Air System</td><td>8</td></tr><tr><td>Santa Barbara Municipal Airport (Santa Barbara Airport)</td><td>National Air System</td><td>14</td></tr><tr><td>Corpus Christi International Airport</td><td>Airline/Carrier</td><td>54</td></tr><tr><td>Elmira/Corning Regional Airport</td><td>Airline/Carrier</td><td>9</td></tr><tr><td>Monroe Regional Airport</td><td>Weather</td><td>30</td></tr><tr><td>Yellowstone Regional Airport</td><td>Weather</td><td>6</td></tr><tr><td>Wilmington Airport</td><td>Airline/Carrier</td><td>5</td></tr><tr><td>Sloulin Field International Airport</td><td>Airline/Carrier</td><td>2</td></tr><tr><td>Magic Valley Regional Airport (Joslin Field)</td><td>Airline/Carrier</td><td>3</td></tr><tr><td>Kodiak Airport</td><td>Airline/Carrier</td><td>2</td></tr></tbody></table></div>"
      ]
     },
     "metadata": {
      "application/vnd.databricks.v1+output": {
       "overflow": false,
       "datasetInfos": [],
       "data": [
        [
         "Los Angeles International Airport",
         "Airline/Carrier",
         "1066"
        ],
        [
         "Port Columbus International Airport",
         "Weather",
         "196"
        ],
        [
         "Bradley International Airport",
         "Weather",
         "245"
        ],
        [
         "Dallas Love Field",
         "National Air System",
         "55"
        ],
        [
         "Jacksonville International Airport",
         "Airline/Carrier",
         "39"
        ],
        [
         "Missoula International Airport",
         "National Air System",
         "4"
        ],
        [
         "La Crosse Regional Airport",
         "Weather",
         "20"
        ],
        [
         "Augusta Regional Airport (Bush Field)",
         "Airline/Carrier",
         "6"
        ],
        [
         "Friedman Memorial Airport",
         "Weather",
         "35"
        ],
        [
         "Valley International Airport",
         "Airline/Carrier",
         "9"
        ],
        [
         "Lafayette Regional Airport",
         "Airline/Carrier",
         "27"
        ],
        [
         "Westchester County Airport",
         "Weather",
         "141"
        ],
        [
         "Columbia Metropolitan Airport",
         "National Air System",
         "17"
        ],
        [
         "Arcata Airport",
         "Airline/Carrier",
         "10"
        ],
        [
         "Cincinnati/Northern Kentucky International Airport",
         "Weather",
         "183"
        ],
        [
         "Indianapolis International Airport",
         "Weather",
         "147"
        ],
        [
         "Richmond International Airport",
         "Weather",
         "166"
        ],
        [
         "Mercedita Airport",
         "Weather",
         "6"
        ],
        [
         "Greater Rochester International Airport",
         "Weather",
         "59"
        ],
        [
         "San Angelo Regional Airport (Mathis Field)",
         "Weather",
         "46"
        ],
        [
         "Central Nebraska Regional Airport",
         "National Air System",
         "1"
        ],
        [
         "Roswell International Air Center",
         "Airline/Carrier",
         "4"
        ],
        [
         "Golden Triangle Regional Airport",
         "Weather",
         "8"
        ],
        [
         "Ithaca Tompkins Regional Airport",
         "Airline/Carrier",
         "2"
        ],
        [
         "Sawyer International Airport",
         "National Air System",
         "2"
        ],
        [
         "Louis Armstrong New Orleans International Airport",
         "Security",
         "3"
        ],
        [
         "Niagara Falls International Airport",
         "National Air System",
         "1"
        ],
        [
         "San Angelo Regional Airport (Mathis Field)",
         "Airline/Carrier",
         "21"
        ],
        [
         "Alpena County Regional Airport",
         "Airline/Carrier",
         "9"
        ],
        [
         "Piedmont Triad International Airport",
         "Weather",
         "72"
        ],
        [
         "Rock Springs-Sweetwater County Airport",
         "National Air System",
         "1"
        ],
        [
         "LaGuardia Airport (Marine Air Terminal)",
         "Weather",
         "2080"
        ],
        [
         "Dane County Regional Airport",
         "Weather",
         "109"
        ],
        [
         "Detroit Metropolitan Airport",
         "Weather",
         "534"
        ],
        [
         "Austin-Bergstrom International Airport",
         "Airline/Carrier",
         "145"
        ],
        [
         "St. Louis International Airport at Lambert Field",
         "National Air System",
         "115"
        ],
        [
         "The Eastern Iowa Airport",
         "National Air System",
         "45"
        ],
        [
         "Westchester County Airport",
         "Airline/Carrier",
         "36"
        ],
        [
         "Raleigh-Durham International Airport",
         "Weather",
         "341"
        ],
        [
         "Sacramento International Airport",
         "National Air System",
         "20"
        ],
        [
         "Southwest Georgia Regional Airport",
         "Weather",
         "4"
        ],
        [
         "Santa Barbara Municipal Airport (Santa Barbara Airport)",
         "Weather",
         "31"
        ],
        [
         "Long Beach Airport (Daugherty Field)",
         "Weather",
         "12"
        ],
        [
         "Sioux Falls Regional Airport",
         "Weather",
         "64"
        ],
        [
         "Pensacola International Airport (Pensacola Gulf Coast Regional Airport)",
         "Airline/Carrier",
         "15"
        ],
        [
         "Missoula International Airport",
         "Weather",
         "5"
        ],
        [
         "Pittsburgh International Airport",
         "Airline/Carrier",
         "136"
        ],
        [
         "Arcata Airport",
         "Weather",
         "22"
        ],
        [
         "Hector International Airport",
         "National Air System",
         "26"
        ],
        [
         "Harrisburg International Airport",
         "Weather",
         "24"
        ],
        [
         "Shreveport Regional Airport",
         "Airline/Carrier",
         "65"
        ],
        [
         "McGhee Tyson Airport",
         "Airline/Carrier",
         "48"
        ],
        [
         "Gulfport-Biloxi International Airport",
         "Airline/Carrier",
         "11"
        ],
        [
         "Wilkes-Barre/Scranton International Airport",
         "National Air System",
         "5"
        ],
        [
         "Duluth International Airport",
         "National Air System",
         "2"
        ],
        [
         "Asheville Regional Airport",
         "Weather",
         "14"
        ],
        [
         "Akron-Canton Regional Airport",
         "Airline/Carrier",
         "8"
        ],
        [
         "Fairbanks International Airport",
         "Weather",
         "3"
        ],
        [
         "Monroe Regional Airport",
         "National Air System",
         "6"
        ],
        [
         "Hays Regional Airport",
         "Airline/Carrier",
         "1"
        ],
        [
         "Brownsville/South Padre Island International Airport",
         "National Air System",
         "10"
        ],
        [
         "Natrona County International Airport",
         "Airline/Carrier",
         "7"
        ],
        [
         "Valley International Airport",
         "National Air System",
         "7"
        ],
        [
         "Sarasota-Bradenton International Airport",
         "Airline/Carrier",
         "8"
        ],
        [
         "Alpena County Regional Airport",
         "National Air System",
         "1"
        ],
        [
         "Adak Airport",
         "Weather",
         "2"
        ],
        [
         "Bert Mooney Airport",
         "National Air System",
         "2"
        ],
        [
         "Sawyer International Airport",
         "Weather",
         "2"
        ],
        [
         "Friedman Memorial Airport",
         "National Air System",
         "2"
        ],
        [
         "Tampa International Airport",
         "Weather",
         "325"
        ],
        [
         "Burlington International Airport",
         "Weather",
         "23"
        ],
        [
         "Chicago O'Hare International Airport",
         "Airline/Carrier",
         "1269"
        ],
        [
         "John F. Kennedy International Airport (New York International Airport)",
         "Airline/Carrier",
         "247"
        ],
        [
         "Santa Fe Municipal Airport",
         "Weather",
         "27"
        ],
        [
         "Los Angeles International Airport",
         "Weather",
         "489"
        ],
        [
         "Tyler Pounds Regional Airport",
         "Airline/Carrier",
         "33"
        ],
        [
         "Bishop International Airport",
         "Weather",
         "40"
        ],
        [
         "Burlington International Airport",
         "Airline/Carrier",
         "7"
        ],
        [
         "Fort Wayne International Airport",
         "Airline/Carrier",
         "39"
        ],
        [
         "Quad City International Airport",
         "National Air System",
         "31"
        ],
        [
         "Manchester-Boston Regional Airport",
         "Airline/Carrier",
         "26"
        ],
        [
         "Sioux Falls Regional Airport",
         "National Air System",
         "24"
        ],
        [
         "Green Bay-Austin Straubel International Airport",
         "National Air System",
         "50"
        ],
        [
         "Santa Barbara Municipal Airport (Santa Barbara Airport)",
         "Airline/Carrier",
         "54"
        ],
        [
         "Cherry Capital Airport",
         "National Air System",
         "30"
        ],
        [
         "Hector International Airport",
         "Weather",
         "39"
        ],
        [
         "Brownsville/South Padre Island International Airport",
         "Airline/Carrier",
         "39"
        ],
        [
         "University Park Airport",
         "Airline/Carrier",
         "2"
        ],
        [
         "San Francisco International Airport",
         "National Air System",
         "263"
        ],
        [
         "Boise Airport (Boise Air Terminal)",
         "Weather",
         "40"
        ],
        [
         "Wilkes-Barre/Scranton International Airport",
         "Airline/Carrier",
         "2"
        ],
        [
         "Asheville Regional Airport",
         "National Air System",
         "11"
        ],
        [
         "Lake Charles Regional Airport",
         "National Air System",
         "6"
        ],
        [
         "Albuquerque International Sunport",
         "National Air System",
         "10"
        ],
        [
         "Reno/Tahoe International Airport",
         "National Air System",
         "6"
        ],
        [
         "Brunswick Golden Isles Airport",
         "Weather",
         "2"
        ],
        [
         "Great Falls International Airport",
         "Weather",
         "7"
        ],
        [
         "Newport News/Williamsburg International Airport",
         "National Air System",
         "2"
        ],
        [
         "Grand Junction Regional Airport (Walker Field)",
         "National Air System",
         "6"
        ],
        [
         "Billings Logan International Airport",
         "Airline/Carrier",
         "5"
        ],
        [
         "Orlando International Airport",
         "Airline/Carrier",
         "319"
        ],
        [
         "Sacramento International Airport",
         "Weather",
         "85"
        ],
        [
         "Hartsfield-Jackson Atlanta International Airport",
         "Airline/Carrier",
         "574"
        ],
        [
         "William P. Hobby Airport",
         "Airline/Carrier",
         "259"
        ],
        [
         "Norman Y. Mineta San José International Airport",
         "Airline/Carrier",
         "282"
        ],
        [
         "Gen. Edward Lawrence Logan International Airport",
         "National Air System",
         "294"
        ],
        [
         "Southwest Florida International Airport",
         "National Air System",
         "18"
        ],
        [
         "San Francisco International Airport",
         "Weather",
         "611"
        ],
        [
         "Buffalo Niagara International Airport",
         "National Air System",
         "70"
        ],
        [
         "City of Colorado Springs Municipal Airport",
         "Airline/Carrier",
         "30"
        ],
        [
         "Green Bay-Austin Straubel International Airport",
         "Weather",
         "56"
        ],
        [
         "Dallas Love Field",
         "Weather",
         "374"
        ],
        [
         "Kalamazoo/Battle Creek International Airport",
         "National Air System",
         "21"
        ],
        [
         "Blue Grass Airport",
         "Airline/Carrier",
         "29"
        ],
        [
         "Northwest Florida Beaches International Airport",
         "National Air System",
         "3"
        ],
        [
         "Durango-La Plata County Airport",
         "Airline/Carrier",
         "12"
        ],
        [
         "Pensacola International Airport (Pensacola Gulf Coast Regional Airport)",
         "Weather",
         "73"
        ],
        [
         "Charleston International Airport/Charleston AFB",
         "Weather",
         "108"
        ],
        [
         "Jamestown Regional Airport",
         "Weather",
         "14"
        ],
        [
         "Wichita Dwight D. Eisenhower National Airport (Wichita Mid-Continent Airport)",
         "Weather",
         "74"
        ],
        [
         "Ralph Wien Memorial Airport",
         "Airline/Carrier",
         "3"
        ],
        [
         "Syracuse Hancock International Airport",
         "National Air System",
         "58"
        ],
        [
         "Myrtle Beach International Airport",
         "Airline/Carrier",
         "22"
        ],
        [
         "Texarkana Regional Airport (Webb Field)",
         "Weather",
         "40"
        ],
        [
         "Key West International Airport",
         "Airline/Carrier",
         "9"
        ],
        [
         "Hattiesburg-Laurel Regional Airport",
         "Airline/Carrier",
         "6"
        ],
        [
         "Gainesville Regional Airport",
         "Weather",
         "8"
        ],
        [
         "Rick Husband Amarillo International Airport",
         "Airline/Carrier",
         "29"
        ],
        [
         "Henry E. Rohlsen Airport",
         "National Air System",
         "1"
        ],
        [
         "Dickinson Theodore Roosevelt Regional Airport",
         "Airline/Carrier",
         "4"
        ],
        [
         "Waterloo Regional Airport",
         "Airline/Carrier",
         "7"
        ],
        [
         "Bemidji Regional Airport",
         "Weather",
         "2"
        ],
        [
         "Lihue Airport",
         "National Air System",
         "1"
        ],
        [
         "Guam International Airport",
         "Airline/Carrier",
         "1"
        ],
        [
         "Kona International Airport at Keahole",
         "Weather",
         "2"
        ],
        [
         "Sitka Rocky Gutierrez Airport",
         "National Air System",
         "1"
        ],
        [
         "San Francisco International Airport",
         "Security",
         "1"
        ],
        [
         "Jack Brooks Regional Airport (Southeast Texas Regional)",
         "National Air System",
         "1"
        ],
        [
         "Barnstable Municipal Airport",
         "Airline/Carrier",
         "1"
        ],
        [
         "Bozeman Yellowstone International Airport (Gallatin Field Airport)",
         "Airline/Carrier",
         "13"
        ],
        [
         "Port Columbus International Airport",
         "Airline/Carrier",
         "126"
        ],
        [
         "Green Bay-Austin Straubel International Airport",
         "Airline/Carrier",
         "15"
        ],
        [
         "Tri-Cities Airport",
         "Airline/Carrier",
         "13"
        ],
        [
         "Ronald Reagan Washington National Airport",
         "National Air System",
         "359"
        ],
        [
         "Bishop International Airport",
         "National Air System",
         "25"
        ],
        [
         "Ronald Reagan Washington National Airport",
         "Weather",
         "1014"
        ],
        [
         "Newark Liberty International Airport",
         "National Air System",
         "1346"
        ],
        [
         "Killeen-Fort Hood Regional Airport",
         "Airline/Carrier",
         "43"
        ],
        [
         "Barkley Regional Airport",
         "National Air System",
         "2"
        ],
        [
         "McCarran International Airport",
         "Weather",
         "295"
        ],
        [
         "Greenville-Spartanburg International Airport",
         "National Air System",
         "44"
        ],
        [
         "MBS International Airport",
         "Weather",
         "36"
        ],
        [
         "Greater Rochester International Airport",
         "Airline/Carrier",
         "36"
        ],
        [
         "Corpus Christi International Airport",
         "Weather",
         "63"
        ],
        [
         "Alexandria International Airport",
         "Airline/Carrier",
         "13"
        ],
        [
         "South Bend International Airport (South Bend Regional)",
         "Airline/Carrier",
         "22"
        ],
        [
         "Honolulu International Airport",
         "National Air System",
         "3"
        ],
        [
         "Golden Triangle Regional Airport",
         "Airline/Carrier",
         "5"
        ],
        [
         "Honolulu International Airport",
         "Weather",
         "7"
        ],
        [
         "San Antonio International Airport",
         "National Air System",
         "13"
        ],
        [
         "Houghton County Memorial Airport",
         "Airline/Carrier",
         "5"
        ],
        [
         "Roanoke Regional Airport (Woodrum Field)",
         "Weather",
         "33"
        ],
        [
         "Newport News/Williamsburg International Airport",
         "Airline/Carrier",
         "4"
        ],
        [
         "McClellan-Palomar Airport",
         "Airline/Carrier",
         "5"
        ],
        [
         "McClellan-Palomar Airport",
         "Weather",
         "7"
        ],
        [
         "Glacier Park International Airport",
         "National Air System",
         "3"
        ],
        [
         "Mobile Regional Airport",
         "Airline/Carrier",
         "18"
        ],
        [
         "Eagle County Regional Airport",
         "Airline/Carrier",
         "6"
        ],
        [
         "Boise Airport (Boise Air Terminal)",
         "National Air System",
         "4"
        ],
        [
         "Kahului Airport",
         "Weather",
         "2"
        ],
        [
         "Tri-Cities Regional Airport",
         "National Air System",
         "2"
        ],
        [
         "Nashville International Airport",
         "National Air System",
         "169"
        ],
        [
         "Des Moines International Airport",
         "Airline/Carrier",
         "49"
        ],
        [
         "Miami International Airport",
         "Airline/Carrier",
         "231"
        ],
        [
         "Appleton International Airport",
         "Weather",
         "18"
        ],
        [
         "Indianapolis International Airport",
         "National Air System",
         "127"
        ],
        [
         "Bob Hope Airport (Hollywood Burbank Airport)",
         "National Air System",
         "9"
        ],
        [
         "Myrtle Beach International Airport",
         "National Air System",
         "15"
        ],
        [
         "Des Moines International Airport",
         "Weather",
         "105"
        ],
        [
         "Atlantic City International Airport",
         "Airline/Carrier",
         "14"
        ],
        [
         "Syracuse Hancock International Airport",
         "Airline/Carrier",
         "22"
        ],
        [
         "Alexandria International Airport",
         "Weather",
         "54"
        ],
        [
         "Syracuse Hancock International Airport",
         "Weather",
         "42"
        ],
        [
         "The Eastern Iowa Airport",
         "Airline/Carrier",
         "42"
        ],
        [
         "Garden City Regional Airport",
         "Weather",
         "15"
        ],
        [
         "McAllen-Miller International Airport (McAllen Miller International)",
         "National Air System",
         "10"
        ],
        [
         "Meridian Regional Airport",
         "Airline/Carrier",
         "12"
        ],
        [
         "Fresno Yosemite International Airport",
         "National Air System",
         "2"
        ],
        [
         "Gillette-Campbell County Airport",
         "Airline/Carrier",
         "3"
        ],
        [
         "Lake Charles Regional Airport",
         "Airline/Carrier",
         "5"
        ],
        [
         "Charlottesville-Albemarle Airport",
         "Security",
         "1"
        ],
        [
         "Theodore Francis Green State Airport",
         "Weather",
         "164"
        ],
        [
         "Ronald Reagan Washington National Airport",
         "Airline/Carrier",
         "445"
        ],
        [
         "George Bush Intercontinental Airport",
         "Airline/Carrier",
         "422"
        ],
        [
         "Westchester County Airport",
         "National Air System",
         "62"
        ],
        [
         "Boise Airport (Boise Air Terminal)",
         "Airline/Carrier",
         "29"
        ],
        [
         "John F. Kennedy International Airport (New York International Airport)",
         "National Air System",
         "459"
        ],
        [
         "Lincoln Airport (Lincoln Municipal)",
         "National Air System",
         "20"
        ],
        [
         "Wiley Post-Will Rogers Memorial Airport",
         "Weather",
         "20"
        ],
        [
         "Meadows Field",
         "Airline/Carrier",
         "16"
        ],
        [
         "Range Regional Airport (Chisholm-Hibbing Airport)",
         "Weather",
         "10"
        ],
        [
         "Midland International Airport",
         "Airline/Carrier",
         "49"
        ],
        [
         "Delta County Airport",
         "Weather",
         "4"
        ],
        [
         "Palm Springs International Airport",
         "Weather",
         "26"
        ],
        [
         "Greenville-Spartanburg International Airport",
         "Weather",
         "60"
        ],
        [
         "Alexandria International Airport",
         "National Air System",
         "7"
        ],
        [
         "Glacier Park International Airport",
         "Weather",
         "5"
        ],
        [
         "Toledo Express Airport",
         "Weather",
         "21"
        ],
        [
         "Southwest Georgia Regional Airport",
         "National Air System",
         "2"
        ],
        [
         "Killeen-Fort Hood Regional Airport",
         "Weather",
         "91"
        ],
        [
         "Ralph Wien Memorial Airport",
         "Weather",
         "12"
        ],
        [
         "Rhinelander-Oneida County Airport",
         "Airline/Carrier",
         "5"
        ],
        [
         "Wrangell Airport",
         "Weather",
         "3"
        ],
        [
         "Rick Husband Amarillo International Airport",
         "Weather",
         "73"
        ],
        [
         "MBS International Airport",
         "Airline/Carrier",
         "9"
        ],
        [
         "Lincoln Airport (Lincoln Municipal)",
         "Airline/Carrier",
         "7"
        ],
        [
         "Bob Hope Airport (Hollywood Burbank Airport)",
         "Weather",
         "29"
        ],
        [
         "Capital Region International Airport ( Lansing Capital City)",
         "National Air System",
         "10"
        ],
        [
         "St. George Regional Airport",
         "Airline/Carrier",
         "3"
        ],
        [
         "Valdez Airport",
         "Weather",
         "6"
        ],
        [
         "University Park Airport",
         "Weather",
         "7"
        ],
        [
         "Lubbock Preston Smith International Airport",
         "Airline/Carrier",
         "10"
        ],
        [
         "Texarkana Regional Airport (Webb Field)",
         "National Air System",
         "1"
        ],
        [
         "Brainerd Lakes Regional Airport",
         "Airline/Carrier",
         "2"
        ],
        [
         "Bemidji Regional Airport",
         "Airline/Carrier",
         "1"
        ],
        [
         "Pocatello Regional Airport",
         "Weather",
         "1"
        ],
        [
         "William P. Hobby Airport",
         "Security",
         "1"
        ],
        [
         "San Diego International Airport (Lindbergh Field)",
         "Airline/Carrier",
         "320"
        ],
        [
         "Oakland International Airport",
         "Airline/Carrier",
         "399"
        ],
        [
         "Tucson International Airport",
         "Weather",
         "56"
        ],
        [
         "Buffalo Niagara International Airport",
         "Airline/Carrier",
         "65"
        ],
        [
         "Destin-Fort Walton Beach Airport/Eglin AFB",
         "Airline/Carrier",
         "22"
        ],
        [
         "Northwest Arkansas Regional Airport",
         "National Air System",
         "72"
        ],
        [
         "Richmond International Airport",
         "National Air System",
         "102"
        ],
        [
         "Appleton International Airport",
         "National Air System",
         "33"
        ],
        [
         "John F. Kennedy International Airport (New York International Airport)",
         "Weather",
         "1089"
        ],
        [
         "Albuquerque International Sunport",
         "Weather",
         "94"
        ],
        [
         "Gulfport-Biloxi International Airport",
         "National Air System",
         "13"
        ],
        [
         "San Antonio International Airport",
         "Weather",
         "153"
        ],
        [
         "Kansas City International Airport",
         "National Air System",
         "51"
        ],
        [
         "Santa Maria Public Airport (Capt G. Allan Hancock Field)",
         "National Air System",
         "1"
        ],
        [
         "Sioux Gateway Airport",
         "Weather",
         "9"
        ],
        [
         "San Luis Obispo County Regional Airport (McChesney Field)",
         "Airline/Carrier",
         "23"
        ],
        [
         "Petersburg James A. Johnson Airport",
         "Airline/Carrier",
         "6"
        ],
        [
         "Del Norte County Airport (Jack McNamara Field)",
         "Airline/Carrier",
         "2"
        ],
        [
         "La Crosse Regional Airport",
         "Airline/Carrier",
         "9"
        ],
        [
         "Capital Region International Airport ( Lansing Capital City)",
         "Weather",
         "17"
        ],
        [
         "Redding Municipal Airport",
         "National Air System",
         "1"
        ],
        [
         "Santa Maria Public Airport (Capt G. Allan Hancock Field)",
         "Airline/Carrier",
         "2"
        ],
        [
         "Ford Airport",
         "Airline/Carrier",
         "1"
        ],
        [
         "General Mitchell International Airport",
         "Security",
         "1"
        ],
        [
         "Laramie Regional Airport",
         "National Air System",
         "1"
        ],
        [
         "Greater Binghamton Airport",
         "Weather",
         "1"
        ],
        [
         "Toledo Express Airport",
         "National Air System",
         "19"
        ],
        [
         "Gulfport-Biloxi International Airport",
         "Weather",
         "45"
        ],
        [
         "Reno/Tahoe International Airport",
         "Airline/Carrier",
         "64"
        ],
        [
         "Orlando International Airport",
         "Weather",
         "596"
        ],
        [
         "Ontario International Airport",
         "Airline/Carrier",
         "81"
        ],
        [
         "Norfolk International Airport",
         "National Air System",
         "72"
        ],
        [
         "Sioux Gateway Airport",
         "National Air System",
         "10"
        ],
        [
         "Chippewa Valley Regional Airport",
         "Weather",
         "17"
        ],
        [
         "Eugene Airport (Mahlon Sweet Field)",
         "Airline/Carrier",
         "27"
        ],
        [
         "Midland International Airport",
         "National Air System",
         "20"
        ],
        [
         "Sitka Rocky Gutierrez Airport",
         "Airline/Carrier",
         "6"
        ],
        [
         "Santa Fe Municipal Airport",
         "National Air System",
         "5"
        ],
        [
         "Pellston Regional Airport of Emmet County",
         "Airline/Carrier",
         "12"
        ],
        [
         "Gustavus Airport",
         "Weather",
         "1"
        ],
        [
         "University Park Airport",
         "National Air System",
         "7"
        ],
        [
         "Dallas Love Field",
         "Airline/Carrier",
         "222"
        ],
        [
         "Houghton County Memorial Airport",
         "Weather",
         "29"
        ],
        [
         "Pittsburgh International Airport",
         "National Air System",
         "47"
        ],
        [
         "Santa Fe Municipal Airport",
         "Airline/Carrier",
         "19"
        ],
        [
         "Columbus Metropolitan Airport",
         "Weather",
         "3"
        ],
        [
         "Rick Husband Amarillo International Airport",
         "National Air System",
         "7"
        ],
        [
         "Rafael Hernández Airport",
         "Weather",
         "5"
        ],
        [
         "Tri-Cities Regional Airport",
         "Airline/Carrier",
         "8"
        ],
        [
         "Augusta Regional Airport (Bush Field)",
         "Weather",
         "4"
        ],
        [
         "Albert J. Ellis Airport",
         "Weather",
         "7"
        ],
        [
         "Canyonlands Field",
         "Weather",
         "1"
        ],
        [
         "Stewart International Airport",
         "Weather",
         "4"
        ],
        [
         "Melbourne International Airport",
         "Weather",
         "1"
        ],
        [
         "Southwest Florida International Airport",
         "Weather",
         "184"
        ],
        [
         "San Antonio International Airport",
         "Airline/Carrier",
         "100"
        ],
        [
         "Monterey Regional Airport (Monterey Peninsula Airport)",
         "Airline/Carrier",
         "34"
        ],
        [
         "Miami International Airport",
         "Weather",
         "417"
        ],
        [
         "Luis Muñoz Marín International Airport",
         "Weather",
         "104"
        ],
        [
         "Orlando International Airport",
         "National Air System",
         "82"
        ],
        [
         "Lawton-Fort Sill Regional Airport",
         "Airline/Carrier",
         "29"
        ],
        [
         "Gunnison-Crested Butte Regional Airport",
         "Airline/Carrier",
         "2"
        ],
        [
         "Abraham Lincoln Capital Airport",
         "Weather",
         "34"
        ],
        [
         "Huntsville International Airport",
         "Airline/Carrier",
         "19"
        ],
        [
         "Kona International Airport at Keahole",
         "Airline/Carrier",
         "32"
        ],
        [
         "Phoenix Sky Harbor International Airport",
         "National Air System",
         "50"
        ],
        [
         "Muskegon County Airport",
         "Weather",
         "31"
        ],
        [
         "Cyril E. King Airport",
         "Airline/Carrier",
         "22"
        ],
        [
         "Northeast Florida Regional Airport (St. Augustine Airport)",
         "Weather",
         "4"
        ],
        [
         "Ontario International Airport",
         "Weather",
         "50"
        ],
        [
         "Los Angeles International Airport",
         "National Air System",
         "213"
        ],
        [
         "Trenton Mercer Airport",
         "Weather",
         "22"
        ],
        [
         "Chippewa Valley Regional Airport",
         "Airline/Carrier",
         "6"
        ],
        [
         "Deadhorse Airport (Prudhoe Bay Airport)",
         "Weather",
         "12"
        ],
        [
         "Grand Forks International Airport",
         "Airline/Carrier",
         "1"
        ],
        [
         "Trenton Mercer Airport",
         "Airline/Carrier",
         "17"
        ],
        [
         "Missoula International Airport",
         "Airline/Carrier",
         "5"
        ],
        [
         "Billings Logan International Airport",
         "Weather",
         "2"
        ],
        [
         "Chattanooga Metropolitan Airport (Lovell Field)",
         "National Air System",
         "9"
        ],
        [
         "Gillette-Campbell County Airport",
         "Weather",
         "5"
        ],
        [
         "Petersburg James A. Johnson Airport",
         "Weather",
         "2"
        ],
        [
         "Dothan Regional Airport",
         "National Air System",
         "6"
        ],
        [
         "Capital Region International Airport ( Lansing Capital City)",
         "Airline/Carrier",
         "3"
        ],
        [
         "Minneapolis-Saint Paul International Airport",
         "Weather",
         "307"
        ],
        [
         "George Bush Intercontinental Airport",
         "Weather",
         "944"
        ],
        [
         "Denver International Airport",
         "Airline/Carrier",
         "448"
        ],
        [
         "Piedmont Triad International Airport",
         "National Air System",
         "85"
        ],
        [
         "Kalamazoo/Battle Creek International Airport",
         "Weather",
         "45"
        ],
        [
         "Merle K. (Mudhole) Smith Airport",
         "Airline/Carrier",
         "5"
        ],
        [
         "Long Island MacArthur Airport",
         "Weather",
         "113"
        ],
        [
         "Norfolk International Airport",
         "Weather",
         "109"
        ],
        [
         "Eppley Airfield",
         "Airline/Carrier",
         "59"
        ],
        [
         "Springfield-Branson National Airport",
         "National Air System",
         "27"
        ],
        [
         "Evansville Regional Airport",
         "Weather",
         "48"
        ],
        [
         "Albuquerque International Sunport",
         "Airline/Carrier",
         "56"
        ],
        [
         "Minot International Airport",
         "Airline/Carrier",
         "11"
        ],
        [
         "Destin-Fort Walton Beach Airport/Eglin AFB",
         "National Air System",
         "5"
        ],
        [
         "Montrose Regional Airport",
         "Airline/Carrier",
         "8"
        ],
        [
         "Charlottesville-Albemarle Airport",
         "Airline/Carrier",
         "37"
        ],
        [
         "El Paso International Airport",
         "Weather",
         "51"
        ],
        [
         "Redmond Municipal Airport (Roberts Field)",
         "National Air System",
         "3"
        ],
        [
         "Central Illinois Regional Airport at Bloomington-Normal",
         "Airline/Carrier",
         "12"
        ],
        [
         "Bishop International Airport",
         "Airline/Carrier",
         "15"
        ],
        [
         "Sloulin Field International Airport",
         "National Air System",
         "8"
        ],
        [
         "Hilo International Airport",
         "Airline/Carrier",
         "8"
        ],
        [
         "Joplin Regional Airport",
         "Weather",
         "18"
        ],
        [
         "Deadhorse Airport (Prudhoe Bay Airport)",
         "Airline/Carrier",
         "3"
        ],
        [
         "Northwest Florida Beaches International Airport",
         "Weather",
         "11"
        ],
        [
         "University of Illinois - Willard Airport",
         "Airline/Carrier",
         "15"
        ],
        [
         "Daytona Beach International Airport",
         "Weather",
         "3"
        ],
        [
         "Southwest Oregon Regional Airport (North Bend Municipal)",
         "Airline/Carrier",
         "2"
        ],
        [
         "Plattsburgh International Airport",
         "Weather",
         "1"
        ],
        [
         "Sawyer International Airport",
         "Airline/Carrier",
         "2"
        ],
        [
         "Fort Lauderdale-Hollywood International Airport",
         "Weather",
         "452"
        ],
        [
         "Raleigh-Durham International Airport",
         "Airline/Carrier",
         "182"
        ],
        [
         "Baltimore-Washington International Airport",
         "Weather",
         "962"
        ],
        [
         "Will Rogers World Airport",
         "Airline/Carrier",
         "73"
        ],
        [
         "Barkley Regional Airport",
         "Weather",
         "24"
        ],
        [
         "Ted Stevens Anchorage International Airport",
         "Airline/Carrier",
         "50"
        ],
        [
         "Cherry Capital Airport",
         "Weather",
         "31"
        ],
        [
         "Appleton International Airport",
         "Airline/Carrier",
         "11"
        ],
        [
         "Austin-Bergstrom International Airport",
         "National Air System",
         "17"
        ],
        [
         "Elmira/Corning Regional Airport",
         "Weather",
         "16"
        ],
        [
         "Lubbock Preston Smith International Airport",
         "Weather",
         "91"
        ],
        [
         "Redmond Municipal Airport (Roberts Field)",
         "Airline/Carrier",
         "6"
        ],
        [
         "Northwest Florida Beaches International Airport",
         "Airline/Carrier",
         "3"
        ],
        [
         "Tri-Cities Airport",
         "Weather",
         "4"
        ],
        [
         "Albert J. Ellis Airport",
         "Airline/Carrier",
         "4"
        ],
        [
         "Brainerd Lakes Regional Airport",
         "Weather",
         "2"
        ],
        [
         "Meadows Field",
         "Weather",
         "13"
        ],
        [
         "Yuma International Airport",
         "Airline/Carrier",
         "15"
        ],
        [
         "Palm Springs International Airport",
         "National Air System",
         "3"
        ],
        [
         "South Bend International Airport (South Bend Regional)",
         "Weather",
         "32"
        ],
        [
         "Dallas/Fort Worth International Airport",
         "National Air System",
         "110"
        ],
        [
         "Natrona County International Airport",
         "National Air System",
         "5"
        ],
        [
         "Lea County Regional Airport",
         "Weather",
         "8"
        ],
        [
         "Devils Lake Regional Airport",
         "National Air System",
         "21"
        ],
        [
         "Stewart International Airport",
         "Airline/Carrier",
         "8"
        ],
        [
         "Valdosta Regional Airport",
         "Weather",
         "4"
        ],
        [
         "Columbus Metropolitan Airport",
         "Airline/Carrier",
         "3"
        ],
        [
         "Greater Binghamton Airport",
         "Airline/Carrier",
         "1"
        ],
        [
         "Bangor International Airport",
         "Airline/Carrier",
         "2"
        ],
        [
         "Orlando International Airport",
         "Security",
         "1"
        ],
        [
         "Gunnison-Crested Butte Regional Airport",
         "National Air System",
         "3"
        ],
        [
         "Aberdeen Regional Airport",
         "Weather",
         "1"
        ],
        [
         "LaGuardia Airport (Marine Air Terminal)",
         "Security",
         "1"
        ],
        [
         "Eppley Airfield",
         "Weather",
         "98"
        ],
        [
         "Laramie Regional Airport",
         "Airline/Carrier",
         "7"
        ],
        [
         "Tallahassee International Airport",
         "Airline/Carrier",
         "12"
        ],
        [
         "Wilmington International Airport",
         "Weather",
         "9"
        ],
        [
         "Baton Rouge Metropolitan Airport",
         "Airline/Carrier",
         "58"
        ],
        [
         "Chicago O'Hare International Airport",
         "National Air System",
         "1853"
        ],
        [
         "Central Nebraska Regional Airport",
         "Weather",
         "18"
        ],
        [
         "Rafael Hernández Airport",
         "National Air System",
         "2"
        ],
        [
         "Bill and Hillary Clinton National Airport (Adams Field)",
         "Airline/Carrier",
         "58"
        ],
        [
         "Theodore Francis Green State Airport",
         "Airline/Carrier",
         "36"
        ],
        [
         "Washington Dulles International Airport",
         "Weather",
         "177"
        ],
        [
         "Louisville International Airport (Standiford Field)",
         "National Air System",
         "59"
        ],
        [
         "Yeager Airport",
         "Weather",
         "21"
        ],
        [
         "Springfield-Branson National Airport",
         "Airline/Carrier",
         "20"
        ],
        [
         "Abraham Lincoln Capital Airport",
         "Airline/Carrier",
         "15"
        ],
        [
         "MBS International Airport",
         "National Air System",
         "6"
        ],
        [
         "Atlantic City International Airport",
         "National Air System",
         "6"
        ],
        [
         "Waco Regional Airport",
         "Airline/Carrier",
         "22"
        ],
        [
         "Albert J. Ellis Airport",
         "National Air System",
         "1"
        ],
        [
         "Arnold Palmer Regional Airport",
         "Weather",
         "14"
        ],
        [
         "Key West International Airport",
         "Weather",
         "7"
        ],
        [
         "Garden City Regional Airport",
         "Airline/Carrier",
         "6"
        ],
        [
         "St. Cloud Regional Airport",
         "Weather",
         "4"
        ],
        [
         "Nantucket Memorial Airport",
         "Airline/Carrier",
         "1"
        ],
        [
         "Indianapolis International Airport",
         "Airline/Carrier",
         "86"
        ],
        [
         "Luis Muñoz Marín International Airport",
         "Airline/Carrier",
         "60"
        ],
        [
         "Tampa International Airport",
         "National Air System",
         "52"
        ],
        [
         "Louis Armstrong New Orleans International Airport",
         "National Air System",
         "28"
        ],
        [
         "Charlotte Douglas International Airport",
         "Weather",
         "659"
        ],
        [
         "Cherry Capital Airport",
         "Airline/Carrier",
         "10"
        ],
        [
         "Savannah/Hilton Head International Airport",
         "Airline/Carrier",
         "26"
        ],
        [
         "Charlottesville-Albemarle Airport",
         "National Air System",
         "14"
        ],
        [
         "Austin-Bergstrom International Airport",
         "Weather",
         "214"
        ],
        [
         "Columbia Regional Airport",
         "Weather",
         "25"
        ],
        [
         "Lake Charles Regional Airport",
         "Weather",
         "31"
        ],
        [
         "Chattanooga Metropolitan Airport (Lovell Field)",
         "Airline/Carrier",
         "23"
        ],
        [
         "Yeager Airport",
         "National Air System",
         "10"
        ],
        [
         "General Wayne A. Downing Peoria International Airport",
         "National Air System",
         "33"
        ],
        [
         "Jackson-Evers International Airport",
         "Airline/Carrier",
         "30"
        ],
        [
         "Bert Mooney Airport",
         "Weather",
         "9"
        ],
        [
         "Albany International Airport",
         "Airline/Carrier",
         "18"
        ],
        [
         "Wilmington International Airport",
         "Airline/Carrier",
         "4"
        ],
        [
         "La Crosse Regional Airport",
         "National Air System",
         "19"
        ],
        [
         "Juneau International Airport",
         "Airline/Carrier",
         "12"
        ],
        [
         "Northeast Florida Regional Airport (St. Augustine Airport)",
         "Airline/Carrier",
         "6"
        ],
        [
         "Kalamazoo/Battle Creek International Airport",
         "Airline/Carrier",
         "14"
        ],
        [
         "Rock Springs-Sweetwater County Airport",
         "Weather",
         "6"
        ],
        [
         "Idaho Falls Regional Airport",
         "Weather",
         "9"
        ],
        [
         "Yampa Valley Airport (Yampa Valley Regional)",
         "Weather",
         "5"
        ],
        [
         "Flagstaff Pulliam Airport",
         "Weather",
         "14"
        ],
        [
         "Garden City Regional Airport",
         "National Air System",
         "1"
        ],
        [
         "Chippewa County International Airport",
         "Weather",
         "5"
        ],
        [
         "Blue Grass Airport",
         "Weather",
         "83"
        ],
        [
         "James M. Cox Dayton International Airport",
         "National Air System",
         "98"
        ],
        [
         "Wilkes-Barre/Scranton International Airport",
         "Weather",
         "18"
        ],
        [
         "Manhattan Regional Airport",
         "National Air System",
         "15"
        ],
        [
         "Sioux Falls Regional Airport",
         "Airline/Carrier",
         "38"
        ],
        [
         "John Wayne Airport (Orange County Airport)",
         "Airline/Carrier",
         "152"
        ],
        [
         "Palm Beach International Airport",
         "Airline/Carrier",
         "51"
        ],
        [
         "Lihue Airport",
         "Airline/Carrier",
         "33"
        ],
        [
         "Long Beach Airport (Daugherty Field)",
         "Airline/Carrier",
         "38"
        ],
        [
         "Louisville International Airport (Standiford Field)",
         "Airline/Carrier",
         "26"
        ],
        [
         "Durango-La Plata County Airport",
         "Weather",
         "23"
        ],
        [
         "Evansville Regional Airport",
         "Airline/Carrier",
         "23"
        ],
        [
         "Gen. Edward Lawrence Logan International Airport",
         "Weather",
         "1827"
        ],
        [
         "San Luis Obispo County Regional Airport (McChesney Field)",
         "National Air System",
         "11"
        ],
        [
         "Juneau International Airport",
         "Weather",
         "18"
        ],
        [
         "South Bend International Airport (South Bend Regional)",
         "National Air System",
         "23"
        ],
        [
         "Portland International Jetport",
         "Weather",
         "46"
        ],
        [
         "Rochester International Airport",
         "National Air System",
         "16"
        ],
        [
         "Portland International Jetport",
         "Airline/Carrier",
         "24"
        ],
        [
         "Portland International Airport",
         "Weather",
         "53"
        ],
        [
         "Charlottesville-Albemarle Airport",
         "Weather",
         "37"
        ],
        [
         "Rochester International Airport",
         "Weather",
         "29"
        ],
        [
         "Montgomery Regional Airport",
         "Airline/Carrier",
         "12"
        ],
        [
         "Rogue Valley International Airport",
         "National Air System",
         "3"
        ],
        [
         "Huntsville International Airport",
         "National Air System",
         "17"
        ],
        [
         "Santa Maria Public Airport (Capt G. Allan Hancock Field)",
         "Weather",
         "3"
        ],
        [
         "Shreveport Regional Airport",
         "National Air System",
         "11"
        ],
        [
         "Easterwood Airport",
         "Airline/Carrier",
         "10"
        ],
        [
         "Elmira/Corning Regional Airport",
         "National Air System",
         "6"
        ],
        [
         "Coastal Carolina Regional Airport (Craven County Regional)",
         "Airline/Carrier",
         "3"
        ],
        [
         "Jackson Hole Airport",
         "National Air System",
         "11"
        ],
        [
         "Eagle County Regional Airport",
         "Weather",
         "16"
        ],
        [
         "Delta County Airport",
         "National Air System",
         "5"
        ],
        [
         "Helena Regional Airport",
         "National Air System",
         "1"
        ],
        [
         "Gen. Edward Lawrence Logan International Airport",
         "Airline/Carrier",
         "362"
        ],
        [
         "Newark Liberty International Airport",
         "Airline/Carrier",
         "323"
        ],
        [
         "Detroit Metropolitan Airport",
         "Airline/Carrier",
         "324"
        ],
        [
         "Minneapolis-Saint Paul International Airport",
         "National Air System",
         "86"
        ],
        [
         "Baton Rouge Metropolitan Airport",
         "National Air System",
         "25"
        ],
        [
         "Tulsa International Airport",
         "Airline/Carrier",
         "48"
        ],
        [
         "Oakland International Airport",
         "Weather",
         "45"
        ],
        [
         "Tallahassee International Airport",
         "Weather",
         "25"
        ],
        [
         "Manhattan Regional Airport",
         "Weather",
         "35"
        ],
        [
         "Wichita Dwight D. Eisenhower National Airport (Wichita Mid-Continent Airport)",
         "Airline/Carrier",
         "43"
        ],
        [
         "Laredo International Airport",
         "National Air System",
         "9"
        ],
        [
         "Tulsa International Airport",
         "National Air System",
         "34"
        ],
        [
         "Ketchikan International Airport",
         "Weather",
         "14"
        ],
        [
         "Evansville Regional Airport",
         "National Air System",
         "24"
        ],
        [
         "Lehigh Valley International Airport",
         "National Air System",
         "3"
        ],
        [
         "Akron-Canton Regional Airport",
         "National Air System",
         "22"
        ],
        [
         "Monroe Regional Airport",
         "Airline/Carrier",
         "31"
        ],
        [
         "Abraham Lincoln Capital Airport",
         "National Air System",
         "3"
        ],
        [
         "Fayetteville Regional Airport",
         "Weather",
         "7"
        ],
        [
         "Columbia Regional Airport",
         "National Air System",
         "7"
        ],
        [
         "Corpus Christi International Airport",
         "National Air System",
         "15"
        ],
        [
         "Barkley Regional Airport",
         "Airline/Carrier",
         "6"
        ],
        [
         "Jackson Hole Airport",
         "Airline/Carrier",
         "11"
        ],
        [
         "Minot International Airport",
         "National Air System",
         "2"
        ],
        [
         "Lea County Regional Airport",
         "National Air System",
         "6"
        ],
        [
         "Montrose Regional Airport",
         "Weather",
         "15"
        ],
        [
         "Montrose Regional Airport",
         "National Air System",
         "2"
        ],
        [
         "Del Norte County Airport (Jack McNamara Field)",
         "Weather",
         "14"
        ],
        [
         "Ford Airport",
         "Weather",
         "6"
        ],
        [
         "Worcester Regional Airport",
         "National Air System",
         "1"
        ],
        [
         "Salt Lake City International Airport",
         "Weather",
         "158"
        ],
        [
         "Philadelphia International Airport",
         "Weather",
         "728"
        ],
        [
         "Lawton-Fort Sill Regional Airport",
         "Weather",
         "45"
        ],
        [
         "Flagstaff Pulliam Airport",
         "Airline/Carrier",
         "9"
        ],
        [
         "Wichita Falls Municipal Airport/Sheppard AFB",
         "Weather",
         "32"
        ],
        [
         "Helena Regional Airport",
         "Airline/Carrier",
         "3"
        ],
        [
         "Lafayette Regional Airport",
         "National Air System",
         "18"
        ],
        [
         "Baltimore-Washington International Airport",
         "National Air System",
         "133"
        ],
        [
         "Kahului Airport",
         "Airline/Carrier",
         "99"
        ],
        [
         "Duluth International Airport",
         "Airline/Carrier",
         "7"
        ],
        [
         "Jack Brooks Regional Airport (Southeast Texas Regional)",
         "Airline/Carrier",
         "28"
        ],
        [
         "City of Colorado Springs Municipal Airport",
         "National Air System",
         "11"
        ],
        [
         "Rogue Valley International Airport",
         "Airline/Carrier",
         "11"
        ],
        [
         "Nashville International Airport",
         "Airline/Carrier",
         "160"
        ],
        [
         "Newport News/Williamsburg International Airport",
         "Weather",
         "16"
        ],
        [
         "Bradley International Airport",
         "National Air System",
         "39"
        ],
        [
         "Rafael Hernández Airport",
         "Airline/Carrier",
         "3"
        ],
        [
         "Falls International Airport",
         "Weather",
         "2"
        ],
        [
         "Bellingham International Airport",
         "Airline/Carrier",
         "1"
        ],
        [
         "Cyril E. King Airport",
         "Weather",
         "20"
        ],
        [
         "Yakutat Airport",
         "Airline/Carrier",
         "4"
        ],
        [
         "Rochester International Airport",
         "Airline/Carrier",
         "9"
        ],
        [
         "Asheville Regional Airport",
         "Airline/Carrier",
         "15"
        ],
        [
         "Manhattan Regional Airport",
         "Airline/Carrier",
         "8"
        ],
        [
         "Nome Airport",
         "Airline/Carrier",
         "3"
        ],
        [
         "Pueblo Memorial Airport",
         "Weather",
         "5"
        ],
        [
         "Southwest Oregon Regional Airport (North Bend Municipal)",
         "Weather",
         "2"
        ],
        [
         "Long Beach Airport (Daugherty Field)",
         "National Air System",
         "4"
        ],
        [
         "Mammoth Yosemite Airport",
         "Airline/Carrier",
         "1"
        ],
        [
         "St. Cloud Regional Airport",
         "Airline/Carrier",
         "1"
        ],
        [
         "Central Wisconsin Airport",
         "Airline/Carrier",
         "2"
        ],
        [
         "Yuma International Airport",
         "National Air System",
         "1"
        ],
        [
         "St. Louis International Airport at Lambert Field",
         "Weather",
         "313"
        ],
        [
         "Fort Smith Regional Airport",
         "Airline/Carrier",
         "23"
        ],
        [
         "Hector International Airport",
         "Airline/Carrier",
         "25"
        ],
        [
         "William P. Hobby Airport",
         "Weather",
         "357"
        ],
        [
         "Reno/Tahoe International Airport",
         "Weather",
         "29"
        ],
        [
         "Memphis International Airport",
         "Weather",
         "146"
        ],
        [
         "Atlantic City International Airport",
         "Weather",
         "19"
        ],
        [
         "Pellston Regional Airport of Emmet County",
         "Weather",
         "4"
        ],
        [
         "Piedmont Triad International Airport",
         "Airline/Carrier",
         "80"
        ],
        [
         "Palm Beach International Airport",
         "Weather",
         "225"
        ],
        [
         "Waco Regional Airport",
         "Weather",
         "44"
        ],
        [
         "Cleveland Hopkins International Airport",
         "National Air System",
         "249"
        ],
        [
         "Louis Armstrong New Orleans International Airport",
         "Airline/Carrier",
         "123"
        ],
        [
         "Detroit Metropolitan Airport",
         "National Air System",
         "188"
        ],
        [
         "Honolulu International Airport",
         "Airline/Carrier",
         "141"
        ],
        [
         "Rapid City Regional Airport",
         "Airline/Carrier",
         "11"
        ],
        [
         "Memphis International Airport",
         "Airline/Carrier",
         "49"
        ],
        [
         "Savannah/Hilton Head International Airport",
         "Weather",
         "59"
        ],
        [
         "Bethel Airport",
         "Airline/Carrier",
         "5"
        ],
        [
         "Monterey Regional Airport (Monterey Peninsula Airport)",
         "Weather",
         "52"
        ],
        [
         "Albany International Airport",
         "Weather",
         "72"
        ],
        [
         "Birmingham-Shuttlesworth International Airport",
         "National Air System",
         "28"
        ],
        [
         "Ketchikan International Airport",
         "Airline/Carrier",
         "11"
        ],
        [
         "James M. Cox Dayton International Airport",
         "Weather",
         "107"
        ],
        [
         "Southwest Florida International Airport",
         "Airline/Carrier",
         "74"
        ],
        [
         "Columbia Metropolitan Airport",
         "Weather",
         "32"
        ],
        [
         "Grand Junction Regional Airport (Walker Field)",
         "Weather",
         "15"
        ],
        [
         "Montgomery Regional Airport",
         "National Air System",
         "3"
        ],
        [
         "Albany International Airport",
         "National Air System",
         "8"
        ],
        [
         "Dubuque Regional Airport",
         "Weather",
         "22"
        ],
        [
         "Bozeman Yellowstone International Airport (Gallatin Field Airport)",
         "Weather",
         "7"
        ],
        [
         "Coastal Carolina Regional Airport (Craven County Regional)",
         "Weather",
         "2"
        ],
        [
         "Yakutat Airport",
         "Weather",
         "1"
        ],
        [
         "Pocatello Regional Airport",
         "Airline/Carrier",
         "1"
        ],
        [
         "Dallas/Fort Worth International Airport",
         "Airline/Carrier",
         "1248"
        ],
        [
         "San Diego International Airport (Lindbergh Field)",
         "Weather",
         "168"
        ],
        [
         "Phoenix Sky Harbor International Airport",
         "Weather",
         "277"
        ],
        [
         "Will Rogers World Airport",
         "Weather",
         "122"
        ],
        [
         "Denver International Airport",
         "National Air System",
         "180"
        ],
        [
         "Newark Liberty International Airport",
         "Weather",
         "1032"
        ],
        [
         "Philadelphia International Airport",
         "Airline/Carrier",
         "183"
        ],
        [
         "Chattanooga Metropolitan Airport (Lovell Field)",
         "Weather",
         "31"
        ],
        [
         "Alpena County Regional Airport",
         "Weather",
         "7"
        ],
        [
         "Memphis International Airport",
         "National Air System",
         "103"
        ],
        [
         "Tyler Pounds Regional Airport",
         "National Air System",
         "8"
        ],
        [
         "Raleigh-Durham International Airport",
         "National Air System",
         "148"
        ],
        [
         "Richmond International Airport",
         "Airline/Carrier",
         "96"
        ],
        [
         "Lincoln Airport (Lincoln Municipal)",
         "Weather",
         "28"
        ],
        [
         "Dane County Regional Airport",
         "National Air System",
         "73"
        ],
        [
         "Huntsville International Airport",
         "Weather",
         "36"
        ],
        [
         "Burlington International Airport",
         "National Air System",
         "32"
        ],
        [
         "Charleston International Airport/Charleston AFB",
         "National Air System",
         "59"
        ],
        [
         "Sacramento International Airport",
         "Airline/Carrier",
         "170"
        ],
        [
         "Killeen-Fort Hood Regional Airport",
         "National Air System",
         "10"
        ],
        [
         "Greater Rochester International Airport",
         "National Air System",
         "54"
        ],
        [
         "Harrisburg International Airport",
         "Airline/Carrier",
         "15"
        ],
        [
         "Central Wisconsin Airport",
         "Weather",
         "22"
        ],
        [
         "Devils Lake Regional Airport",
         "Weather",
         "8"
        ],
        [
         "University of Illinois - Willard Airport",
         "National Air System",
         "21"
        ],
        [
         "Niagara Falls International Airport",
         "Airline/Carrier",
         "2"
        ],
        [
         "Muskegon County Airport",
         "National Air System",
         "3"
        ],
        [
         "Plattsburgh International Airport",
         "Airline/Carrier",
         "1"
        ],
        [
         "Fairbanks International Airport",
         "Airline/Carrier",
         "6"
        ],
        [
         "Waterloo Regional Airport",
         "National Air System",
         "8"
        ],
        [
         "Tucson International Airport",
         "National Air System",
         "7"
        ],
        [
         "Magic Valley Regional Airport (Joslin Field)",
         "Weather",
         "6"
        ],
        [
         "Brunswick Golden Isles Airport",
         "Airline/Carrier",
         "5"
        ],
        [
         "John Wayne Airport (Orange County Airport)",
         "Security",
         "1"
        ],
        [
         "Bellingham International Airport",
         "Weather",
         "1"
        ],
        [
         "Yeager Airport",
         "Airline/Carrier",
         "16"
        ],
        [
         "Kansas City International Airport",
         "Airline/Carrier",
         "118"
        ],
        [
         "Pittsburgh International Airport",
         "Weather",
         "132"
        ],
        [
         "Denver International Airport",
         "Weather",
         "846"
        ],
        [
         "Charlotte Douglas International Airport",
         "Airline/Carrier",
         "183"
        ],
        [
         "Seattle-Tacoma International Airport",
         "Airline/Carrier",
         "199"
        ],
        [
         "San Diego International Airport (Lindbergh Field)",
         "National Air System",
         "90"
        ],
        [
         "Eppley Airfield",
         "National Air System",
         "55"
        ],
        [
         "Buffalo Niagara International Airport",
         "Weather",
         "128"
        ],
        [
         "Central Illinois Regional Airport at Bloomington-Normal",
         "Weather",
         "61"
        ],
        [
         "Rapid City Regional Airport",
         "Weather",
         "27"
        ],
        [
         "Wiley Post-Will Rogers Memorial Airport",
         "Airline/Carrier",
         "4"
        ],
        [
         "Dubuque Regional Airport",
         "Airline/Carrier",
         "8"
        ],
        [
         "Cleveland Hopkins International Airport",
         "Airline/Carrier",
         "168"
        ],
        [
         "Arnold Palmer Regional Airport",
         "National Air System",
         "5"
        ],
        [
         "Seattle-Tacoma International Airport",
         "Weather",
         "114"
        ],
        [
         "Will Rogers World Airport",
         "National Air System",
         "29"
        ],
        [
         "Rapid City Regional Airport",
         "National Air System",
         "5"
        ],
        [
         "Shreveport Regional Airport",
         "Weather",
         "55"
        ],
        [
         "Laramie Regional Airport",
         "Weather",
         "10"
        ],
        [
         "Portland International Airport",
         "National Air System",
         "5"
        ],
        [
         "Glacier Park International Airport",
         "Airline/Carrier",
         "6"
        ],
        [
         "Rock Springs-Sweetwater County Airport",
         "Airline/Carrier",
         "4"
        ],
        [
         "Bozeman Yellowstone International Airport (Gallatin Field Airport)",
         "National Air System",
         "2"
        ],
        [
         "Merle K. (Mudhole) Smith Airport",
         "Weather",
         "2"
        ],
        [
         "Sioux Gateway Airport",
         "Airline/Carrier",
         "3"
        ],
        [
         "Melbourne International Airport",
         "Airline/Carrier",
         "2"
        ],
        [
         "Pueblo Memorial Airport",
         "National Air System",
         "2"
        ],
        [
         "Great Falls International Airport",
         "National Air System",
         "1"
        ],
        [
         "LaGuardia Airport (Marine Air Terminal)",
         "National Air System",
         "1063"
        ],
        [
         "St. Louis International Airport at Lambert Field",
         "Airline/Carrier",
         "140"
        ],
        [
         "Washington Dulles International Airport",
         "Airline/Carrier",
         "170"
        ],
        [
         "George Bush Intercontinental Airport",
         "National Air System",
         "404"
        ],
        [
         "Valley International Airport",
         "Weather",
         "20"
        ],
        [
         "Easterwood Airport",
         "Weather",
         "78"
        ],
        [
         "Jackson-Evers International Airport",
         "National Air System",
         "30"
        ],
        [
         "Grand Junction Regional Airport (Walker Field)",
         "Airline/Carrier",
         "10"
        ],
        [
         "Gainesville Regional Airport",
         "National Air System",
         "7"
        ],
        [
         "Louisville International Airport (Standiford Field)",
         "Weather",
         "116"
        ],
        [
         "Easterwood Airport",
         "National Air System",
         "14"
        ],
        [
         "Bismarck Municipal Airport",
         "National Air System",
         "7"
        ],
        [
         "Bill and Hillary Clinton National Airport (Adams Field)",
         "Weather",
         "119"
        ],
        [
         "Norfolk International Airport",
         "Airline/Carrier",
         "46"
        ],
        [
         "Columbia Regional Airport",
         "Airline/Carrier",
         "25"
        ],
        [
         "Nantucket Memorial Airport",
         "Weather",
         "3"
        ],
        [
         "Montgomery Regional Airport",
         "Weather",
         "32"
        ],
        [
         "Range Regional Airport (Chisholm-Hibbing Airport)",
         "Airline/Carrier",
         "8"
        ],
        [
         "Birmingham-Shuttlesworth International Airport",
         "Airline/Carrier",
         "41"
        ],
        [
         "General Wayne A. Downing Peoria International Airport",
         "Airline/Carrier",
         "15"
        ],
        [
         "Abilene Regional Airport",
         "Weather",
         "70"
        ],
        [
         "El Paso International Airport",
         "Airline/Carrier",
         "34"
        ],
        [
         "Fort Lauderdale-Hollywood International Airport",
         "Airline/Carrier",
         "171"
        ],
        [
         "Lawton-Fort Sill Regional Airport",
         "National Air System",
         "1"
        ],
        [
         "Roswell International Air Center",
         "Weather",
         "34"
        ],
        [
         "William P. Hobby Airport",
         "National Air System",
         "21"
        ],
        [
         "Waterloo Regional Airport",
         "Weather",
         "11"
        ],
        [
         "Wrangell Airport",
         "Airline/Carrier",
         "5"
        ],
        [
         "Mammoth Yosemite Airport",
         "Weather",
         "8"
        ],
        [
         "Eugene Airport (Mahlon Sweet Field)",
         "Weather",
         "14"
        ],
        [
         "Chippewa Valley Regional Airport",
         "National Air System",
         "5"
        ],
        [
         "Flagstaff Pulliam Airport",
         "National Air System",
         "4"
        ],
        [
         "Gillette-Campbell County Airport",
         "National Air System",
         "1"
        ],
        [
         "General Mitchell International Airport",
         "Weather",
         "238"
        ],
        [
         "Gerald R. Ford International Airport",
         "National Air System",
         "63"
        ],
        [
         "Dallas/Fort Worth International Airport",
         "Weather",
         "4023"
        ],
        [
         "Kansas City International Airport",
         "Weather",
         "176"
        ],
        [
         "McGhee Tyson Airport",
         "Weather",
         "64"
        ],
        [
         "Gerald R. Ford International Airport",
         "Airline/Carrier",
         "52"
        ],
        [
         "Monterey Regional Airport (Monterey Peninsula Airport)",
         "National Air System",
         "24"
        ],
        [
         "Fresno Yosemite International Airport",
         "Airline/Carrier",
         "27"
        ],
        [
         "Norman Y. Mineta San José International Airport",
         "National Air System",
         "14"
        ],
        [
         "Manchester-Boston Regional Airport",
         "National Air System",
         "28"
        ],
        [
         "Theodore Francis Green State Airport",
         "National Air System",
         "47"
        ],
        [
         "Harrisburg International Airport",
         "National Air System",
         "11"
        ],
        [
         "Lafayette Regional Airport",
         "Weather",
         "64"
        ],
        [
         "Aspen-Pitkin County Airport",
         "Airline/Carrier",
         "33"
        ],
        [
         "Bradley International Airport",
         "Airline/Carrier",
         "48"
        ],
        [
         "Seattle-Tacoma International Airport",
         "National Air System",
         "10"
        ],
        [
         "Salt Lake City International Airport",
         "Airline/Carrier",
         "109"
        ],
        [
         "Norman Y. Mineta San José International Airport",
         "Weather",
         "50"
        ],
        [
         "Redding Municipal Airport",
         "Weather",
         "7"
        ],
        [
         "East Texas Regional Airport",
         "Weather",
         "15"
        ],
        [
         "Midland International Airport",
         "Weather",
         "147"
        ],
        [
         "Fayetteville Regional Airport",
         "Airline/Carrier",
         "6"
        ],
        [
         "Cedar City Regional Airport",
         "Weather",
         "1"
        ],
        [
         "San Luis Obispo County Regional Airport (McChesney Field)",
         "Weather",
         "20"
        ],
        [
         "Sloulin Field International Airport",
         "Weather",
         "14"
        ],
        [
         "Nome Airport",
         "Weather",
         "11"
        ],
        [
         "Lehigh Valley International Airport",
         "Weather",
         "18"
        ],
        [
         "Sarasota-Bradenton International Airport",
         "National Air System",
         "6"
        ],
        [
         "McClellan-Palomar Airport",
         "National Air System",
         "1"
        ],
        [
         "Texarkana Regional Airport (Webb Field)",
         "Airline/Carrier",
         "11"
        ],
        [
         "El Paso International Airport",
         "National Air System",
         "11"
        ],
        [
         "Long Island MacArthur Airport",
         "National Air System",
         "4"
        ],
        [
         "Henry E. Rohlsen Airport",
         "Weather",
         "2"
        ],
        [
         "Toledo Express Airport",
         "Airline/Carrier",
         "12"
        ],
        [
         "Bethel Airport",
         "Weather",
         "3"
        ],
        [
         "Elko Regional Airport",
         "National Air System",
         "1"
        ],
        [
         "Akron-Canton Regional Airport",
         "Weather",
         "53"
        ],
        [
         "General Mitchell International Airport",
         "National Air System",
         "97"
        ],
        [
         "Central Illinois Regional Airport at Bloomington-Normal",
         "National Air System",
         "12"
        ],
        [
         "Hartsfield-Jackson Atlanta International Airport",
         "National Air System",
         "140"
        ],
        [
         "Des Moines International Airport",
         "National Air System",
         "54"
        ],
        [
         "General Mitchell International Airport",
         "Airline/Carrier",
         "122"
        ],
        [
         "Houghton County Memorial Airport",
         "National Air System",
         "2"
        ],
        [
         "Bob Hope Airport (Hollywood Burbank Airport)",
         "Airline/Carrier",
         "211"
        ],
        [
         "Savannah/Hilton Head International Airport",
         "National Air System",
         "43"
        ],
        [
         "Manchester-Boston Regional Airport",
         "Weather",
         "82"
        ],
        [
         "Fort Lauderdale-Hollywood International Airport",
         "National Air System",
         "75"
        ],
        [
         "Jacksonville International Airport",
         "National Air System",
         "41"
        ],
        [
         "Palm Beach International Airport",
         "National Air System",
         "43"
        ],
        [
         "Jacksonville International Airport",
         "Weather",
         "97"
        ],
        [
         "Aspen-Pitkin County Airport",
         "Weather",
         "169"
        ],
        [
         "Meadows Field",
         "National Air System",
         "3"
        ],
        [
         "Erie International Airport",
         "National Air System",
         "13"
        ],
        [
         "Phoenix Sky Harbor International Airport",
         "Airline/Carrier",
         "379"
        ],
        [
         "Brownsville/South Padre Island International Airport",
         "Weather",
         "30"
        ],
        [
         "Columbia Metropolitan Airport",
         "Airline/Carrier",
         "33"
        ],
        [
         "Destin-Fort Walton Beach Airport/Eglin AFB",
         "Weather",
         "52"
        ],
        [
         "East Texas Regional Airport",
         "Airline/Carrier",
         "12"
        ],
        [
         "Quad City International Airport",
         "Weather",
         "71"
        ],
        [
         "Abilene Regional Airport",
         "Airline/Carrier",
         "8"
        ],
        [
         "Tri-Cities Regional Airport",
         "Weather",
         "8"
        ],
        [
         "Jamestown Regional Airport",
         "National Air System",
         "22"
        ],
        [
         "Aberdeen Regional Airport",
         "Airline/Carrier",
         "5"
        ],
        [
         "Ontario International Airport",
         "National Air System",
         "8"
        ],
        [
         "Mercedita Airport",
         "Airline/Carrier",
         "4"
        ],
        [
         "Daytona Beach International Airport",
         "Airline/Carrier",
         "1"
        ],
        [
         "Waco Regional Airport",
         "National Air System",
         "2"
        ],
        [
         "Sitka Rocky Gutierrez Airport",
         "Weather",
         "2"
        ],
        [
         "Chicago O'Hare International Airport",
         "Weather",
         "3463"
        ],
        [
         "Lubbock Preston Smith International Airport",
         "National Air System",
         "10"
        ],
        [
         "Hartsfield-Jackson Atlanta International Airport",
         "Weather",
         "1472"
        ],
        [
         "Washington Dulles International Airport",
         "National Air System",
         "153"
        ],
        [
         "Baltimore-Washington International Airport",
         "Airline/Carrier",
         "302"
        ],
        [
         "Wichita Dwight D. Eisenhower National Airport (Wichita Mid-Continent Airport)",
         "National Air System",
         "29"
        ],
        [
         "The Eastern Iowa Airport",
         "Weather",
         "96"
        ],
        [
         "Chicago Midway International Airport",
         "Weather",
         "1010"
        ],
        [
         "Chicago Midway International Airport",
         "Airline/Carrier",
         "401"
        ],
        [
         "Chicago Midway International Airport",
         "National Air System",
         "53"
        ],
        [
         "Fort Wayne International Airport",
         "Weather",
         "72"
        ],
        [
         "McAllen-Miller International Airport (McAllen Miller International)",
         "Airline/Carrier",
         "17"
        ],
        [
         "Louis Armstrong New Orleans International Airport",
         "Weather",
         "207"
        ],
        [
         "Dothan Regional Airport",
         "Weather",
         "4"
        ],
        [
         "Tucson International Airport",
         "Airline/Carrier",
         "53"
        ],
        [
         "Minot International Airport",
         "Weather",
         "8"
        ],
        [
         "Spokane International Airport",
         "Airline/Carrier",
         "19"
        ],
        [
         "Rhinelander-Oneida County Airport",
         "Weather",
         "5"
        ],
        [
         "Aspen-Pitkin County Airport",
         "National Air System",
         "7"
        ],
        [
         "Hays Regional Airport",
         "Weather",
         "5"
        ],
        [
         "Bismarck Municipal Airport",
         "Weather",
         "19"
        ],
        [
         "Chippewa County International Airport",
         "Airline/Carrier",
         "3"
        ],
        [
         "Yuma International Airport",
         "Weather",
         "2"
        ],
        [
         "Long Island MacArthur Airport",
         "Airline/Carrier",
         "14"
        ],
        [
         "Sarasota-Bradenton International Airport",
         "Weather",
         "19"
        ],
        [
         "Valdosta Regional Airport",
         "Airline/Carrier",
         "2"
        ],
        [
         "Great Falls International Airport",
         "Airline/Carrier",
         "5"
        ],
        [
         "Rogue Valley International Airport",
         "Weather",
         "14"
        ],
        [
         "Redding Municipal Airport",
         "Airline/Carrier",
         "7"
        ],
        [
         "Fort Smith Regional Airport",
         "National Air System",
         "1"
        ],
        [
         "San Francisco International Airport",
         "Airline/Carrier",
         "753"
        ],
        [
         "John Wayne Airport (Orange County Airport)",
         "Weather",
         "105"
        ],
        [
         "General Wayne A. Downing Peoria International Airport",
         "Weather",
         "71"
        ],
        [
         "LaGuardia Airport (Marine Air Terminal)",
         "Airline/Carrier",
         "990"
        ],
        [
         "Spokane International Airport",
         "Weather",
         "15"
        ],
        [
         "Gerald R. Ford International Airport",
         "Weather",
         "98"
        ],
        [
         "Duluth International Airport",
         "Weather",
         "28"
        ],
        [
         "Philadelphia International Airport",
         "National Air System",
         "76"
        ],
        [
         "Quad City International Airport",
         "Airline/Carrier",
         "29"
        ],
        [
         "Muskegon County Airport",
         "Airline/Carrier",
         "6"
        ],
        [
         "Fresno Yosemite International Airport",
         "Weather",
         "22"
        ],
        [
         "James M. Cox Dayton International Airport",
         "Airline/Carrier",
         "31"
        ],
        [
         "Eugene Airport (Mahlon Sweet Field)",
         "National Air System",
         "5"
        ],
        [
         "Jackson Hole Airport",
         "Weather",
         "13"
        ],
        [
         "Bismarck Municipal Airport",
         "Airline/Carrier",
         "18"
        ],
        [
         "Joplin Regional Airport",
         "Airline/Carrier",
         "13"
        ],
        [
         "Greenville-Spartanburg International Airport",
         "Airline/Carrier",
         "12"
        ],
        [
         "Port Columbus International Airport",
         "National Air System",
         "145"
        ],
        [
         "Birmingham-Shuttlesworth International Airport",
         "Weather",
         "81"
        ],
        [
         "Dothan Regional Airport",
         "Airline/Carrier",
         "4"
        ],
        [
         "Redmond Municipal Airport (Roberts Field)",
         "Weather",
         "12"
        ],
        [
         "Worcester Regional Airport",
         "Airline/Carrier",
         "7"
        ],
        [
         "Niagara Falls International Airport",
         "Weather",
         "7"
        ],
        [
         "Erie International Airport",
         "Airline/Carrier",
         "1"
        ],
        [
         "Guam International Airport",
         "Weather",
         "2"
        ],
        [
         "Minneapolis-Saint Paul International Airport",
         "Airline/Carrier",
         "263"
        ],
        [
         "Nashville International Airport",
         "Weather",
         "617"
        ],
        [
         "Portland International Airport",
         "Airline/Carrier",
         "95"
        ],
        [
         "Roanoke Regional Airport (Woodrum Field)",
         "Airline/Carrier",
         "3"
        ],
        [
         "Arnold Palmer Regional Airport",
         "Airline/Carrier",
         "12"
        ],
        [
         "John Wayne Airport (Orange County Airport)",
         "National Air System",
         "24"
        ],
        [
         "Dane County Regional Airport",
         "Airline/Carrier",
         "54"
        ],
        [
         "Ted Stevens Anchorage International Airport",
         "Weather",
         "36"
        ],
        [
         "McGhee Tyson Airport",
         "National Air System",
         "44"
        ],
        [
         "Tulsa International Airport",
         "Weather",
         "105"
        ],
        [
         "Fort Wayne International Airport",
         "National Air System",
         "32"
        ],
        [
         "Miami International Airport",
         "National Air System",
         "33"
        ],
        [
         "Charleston International Airport/Charleston AFB",
         "Airline/Carrier",
         "38"
        ],
        [
         "Dickinson Theodore Roosevelt Regional Airport",
         "Weather",
         "8"
        ],
        [
         "Blue Grass Airport",
         "National Air System",
         "33"
        ],
        [
         "University of Illinois - Willard Airport",
         "Weather",
         "47"
        ],
        [
         "Mobile Regional Airport",
         "National Air System",
         "11"
        ],
        [
         "Idaho Falls Regional Airport",
         "Airline/Carrier",
         "3"
        ],
        [
         "Delta County Airport",
         "Airline/Carrier",
         "4"
        ],
        [
         "Tri-Cities Airport",
         "National Air System",
         "4"
        ],
        [
         "Hays Regional Airport",
         "National Air System",
         "3"
        ],
        [
         "Pueblo Memorial Airport",
         "Airline/Carrier",
         "4"
        ],
        [
         "Fort Smith Regional Airport",
         "Weather",
         "26"
        ],
        [
         "Yellowstone Regional Airport",
         "Airline/Carrier",
         "3"
        ],
        [
         "Lehigh Valley International Airport",
         "Airline/Carrier",
         "8"
        ],
        [
         "Southwest Georgia Regional Airport",
         "Airline/Carrier",
         "3"
        ],
        [
         "Jamestown Regional Airport",
         "Airline/Carrier",
         "2"
        ],
        [
         "Billings Logan International Airport",
         "National Air System",
         "2"
        ],
        [
         "Cincinnati/Northern Kentucky International Airport",
         "National Air System",
         "144"
        ],
        [
         "Jackson-Evers International Airport",
         "Weather",
         "89"
        ],
        [
         "City of Colorado Springs Municipal Airport",
         "Weather",
         "53"
        ],
        [
         "Roanoke Regional Airport (Woodrum Field)",
         "National Air System",
         "7"
        ],
        [
         "Bill and Hillary Clinton National Airport (Adams Field)",
         "National Air System",
         "49"
        ],
        [
         "Tampa International Airport",
         "Airline/Carrier",
         "175"
        ],
        [
         "Baton Rouge Metropolitan Airport",
         "Weather",
         "59"
        ],
        [
         "Portland International Jetport",
         "National Air System",
         "46"
        ],
        [
         "Worcester Regional Airport",
         "Weather",
         "15"
        ],
        [
         "Erie International Airport",
         "Weather",
         "17"
        ],
        [
         "Charlotte Douglas International Airport",
         "National Air System",
         "156"
        ],
        [
         "Gainesville Regional Airport",
         "Airline/Carrier",
         "18"
        ],
        [
         "Dickinson Theodore Roosevelt Regional Airport",
         "National Air System",
         "5"
        ],
        [
         "Laredo International Airport",
         "Weather",
         "39"
        ],
        [
         "Natrona County International Airport",
         "Weather",
         "13"
        ],
        [
         "Yampa Valley Airport (Yampa Valley Regional)",
         "Airline/Carrier",
         "3"
        ],
        [
         "Oakland International Airport",
         "National Air System",
         "17"
        ],
        [
         "Falls International Airport",
         "Airline/Carrier",
         "5"
        ],
        [
         "Palm Springs International Airport",
         "Airline/Carrier",
         "44"
        ],
        [
         "Elko Regional Airport",
         "Airline/Carrier",
         "1"
        ],
        [
         "Devils Lake Regional Airport",
         "Airline/Carrier",
         "3"
        ],
        [
         "Central Nebraska Regional Airport",
         "Airline/Carrier",
         "3"
        ],
        [
         "Friedman Memorial Airport",
         "Airline/Carrier",
         "1"
        ],
        [
         "Helena Regional Airport",
         "Weather",
         "2"
        ],
        [
         "Luis Muñoz Marín International Airport",
         "Security",
         "1"
        ],
        [
         "Yellowstone Regional Airport",
         "National Air System",
         "1"
        ],
        [
         "Wichita Falls Municipal Airport/Sheppard AFB",
         "Airline/Carrier",
         "23"
        ],
        [
         "Northwest Arkansas Regional Airport",
         "Weather",
         "113"
        ],
        [
         "Luis Muñoz Marín International Airport",
         "National Air System",
         "9"
        ],
        [
         "Springfield-Branson National Airport",
         "Weather",
         "104"
        ],
        [
         "Laredo International Airport",
         "Airline/Carrier",
         "7"
        ],
        [
         "Cleveland Hopkins International Airport",
         "Weather",
         "213"
        ],
        [
         "McCarran International Airport",
         "Airline/Carrier",
         "426"
        ],
        [
         "Jack Brooks Regional Airport (Southeast Texas Regional)",
         "Weather",
         "24"
        ],
        [
         "McAllen-Miller International Airport (McAllen Miller International)",
         "Weather",
         "63"
        ],
        [
         "Dubuque Regional Airport",
         "National Air System",
         "14"
        ],
        [
         "Cincinnati/Northern Kentucky International Airport",
         "Airline/Carrier",
         "89"
        ],
        [
         "Tyler Pounds Regional Airport",
         "Weather",
         "45"
        ],
        [
         "Myrtle Beach International Airport",
         "Weather",
         "50"
        ],
        [
         "Northwest Arkansas Regional Airport",
         "Airline/Carrier",
         "61"
        ],
        [
         "McCarran International Airport",
         "National Air System",
         "51"
        ],
        [
         "Kodiak Airport",
         "Weather",
         "16"
        ],
        [
         "Elko Regional Airport",
         "Weather",
         "3"
        ],
        [
         "Mobile Regional Airport",
         "Weather",
         "48"
        ],
        [
         "Salt Lake City International Airport",
         "National Air System",
         "22"
        ],
        [
         "Central Wisconsin Airport",
         "National Air System",
         "15"
        ],
        [
         "Gunnison-Crested Butte Regional Airport",
         "Weather",
         "15"
        ],
        [
         "St. George Regional Airport",
         "Weather",
         "1"
        ],
        [
         "Pensacola International Airport (Pensacola Gulf Coast Regional Airport)",
         "National Air System",
         "8"
        ],
        [
         "Santa Barbara Municipal Airport (Santa Barbara Airport)",
         "National Air System",
         "14"
        ],
        [
         "Corpus Christi International Airport",
         "Airline/Carrier",
         "54"
        ],
        [
         "Elmira/Corning Regional Airport",
         "Airline/Carrier",
         "9"
        ],
        [
         "Monroe Regional Airport",
         "Weather",
         "30"
        ],
        [
         "Yellowstone Regional Airport",
         "Weather",
         "6"
        ],
        [
         "Wilmington Airport",
         "Airline/Carrier",
         "5"
        ],
        [
         "Sloulin Field International Airport",
         "Airline/Carrier",
         "2"
        ],
        [
         "Magic Valley Regional Airport (Joslin Field)",
         "Airline/Carrier",
         "3"
        ],
        [
         "Kodiak Airport",
         "Airline/Carrier",
         "2"
        ]
       ],
       "plotOptions": {
        "displayType": "plotlyBar",
        "customPlotOptions": {},
        "pivotColumns": null,
        "pivotAggregation": null,
        "xColumns": null,
        "yColumns": null
       },
       "columnCustomDisplayInfos": {},
       "aggType": "",
       "isJsonSchema": true,
       "removedWidgets": [],
       "aggSchema": [],
       "schema": [
        {
         "name": "AIRPORT",
         "type": "\"string\"",
         "metadata": "{}"
        },
        {
         "name": "CANCELLATION_REASON",
         "type": "\"string\"",
         "metadata": "{}"
        },
        {
         "name": "TOTAL",
         "type": "\"decimal(18,0)\"",
         "metadata": "{}"
        }
       ],
       "aggError": "",
       "aggData": [],
       "addedWidgets": {},
       "metadata": {},
       "dbfsResultPath": null,
       "type": "table",
       "aggOverflow": false,
       "aggSeriesLimitReached": false,
       "arguments": {}
      }
     },
     "output_type": "execute_result"
    }
   ],
   "source": [
    "%sql\n",
    "select * from view_report_4;"
   ]
  },
  {
   "cell_type": "code",
   "execution_count": 0,
   "metadata": {
    "application/vnd.databricks.v1+cell": {
     "title": "",
     "showTitle": false,
     "inputWidgets": {},
     "nuid": "b0e757a6-956d-4d50-b64e-9b771b467f1a"
    }
   },
   "outputs": [
    {
     "data": {
      "text/html": [
       "<style scoped>\n  .table-result-container {\n    max-height: 300px;\n    overflow: auto;\n  }\n  table, th, td {\n    border: 1px solid black;\n    border-collapse: collapse;\n  }\n  th, td {\n    padding: 5px;\n  }\n  th {\n    text-align: left;\n  }\n</style><div class='table-result-container'><table class='table-result'><thead style='background-color: white'><tr><th>AIRPORT</th><th>AIR_SYSTEM_DELAY</th><th>SECURITY_DELAY</th><th>AIRLINE_DELAY</th><th>LATE_AIRCRAFT_DELAY</th><th>WEATHER_DELAY</th></tr></thead><tbody><tr><td>Valdosta Regional Airport</td><td>1521</td><td>0</td><td>2669</td><td>3312</td><td>0</td></tr><tr><td>Greenville-Spartanburg International Airport</td><td>13495</td><td>13</td><td>14080</td><td>18685</td><td>865</td></tr><tr><td>Lafayette Regional Airport</td><td>15240</td><td>92</td><td>13942</td><td>21215</td><td>3856</td></tr><tr><td>San Antonio International Airport</td><td>39558</td><td>109</td><td>55159</td><td>103164</td><td>11260</td></tr><tr><td>East Texas Regional Airport</td><td>1399</td><td>0</td><td>1451</td><td>3277</td><td>119</td></tr><tr><td>Wichita Falls Municipal Airport/Sheppard AFB</td><td>2289</td><td>15</td><td>4159</td><td>5296</td><td>540</td></tr><tr><td>Ford Airport</td><td>617</td><td>0</td><td>972</td><td>1039</td><td>690</td></tr><tr><td>Southwest Georgia Regional Airport</td><td>840</td><td>0</td><td>3682</td><td>3328</td><td>0</td></tr><tr><td>Pellston Regional Airport of Emmet County</td><td>524</td><td>10</td><td>3023</td><td>4183</td><td>105</td></tr><tr><td>Sioux Gateway Airport</td><td>2639</td><td>23</td><td>1148</td><td>1492</td><td>1256</td></tr><tr><td>Santa Maria Public Airport (Capt G. Allan Hancock Field)</td><td>1416</td><td>102</td><td>2781</td><td>2464</td><td>153</td></tr><tr><td>Newark Liberty International Airport</td><td>223273</td><td>1267</td><td>365909</td><td>385398</td><td>52588</td></tr><tr><td>Oakland International Airport</td><td>46149</td><td>194</td><td>99929</td><td>151004</td><td>6744</td></tr><tr><td>Savannah/Hilton Head International Airport</td><td>26753</td><td>0</td><td>21262</td><td>26969</td><td>2773</td></tr><tr><td>Port Columbus International Airport</td><td>56214</td><td>121</td><td>68634</td><td>92683</td><td>13045</td></tr><tr><td>Brownsville/South Padre Island International Airport</td><td>4098</td><td>0</td><td>5295</td><td>9813</td><td>1409</td></tr><tr><td>General Wayne A. Downing Peoria International Airport</td><td>12117</td><td>18</td><td>14866</td><td>15141</td><td>2123</td></tr><tr><td>Fayetteville Regional Airport</td><td>1502</td><td>0</td><td>4727</td><td>7232</td><td>583</td></tr><tr><td>Yeager Airport</td><td>7172</td><td>0</td><td>6715</td><td>10947</td><td>2075</td></tr><tr><td>Fairbanks International Airport</td><td>1684</td><td>0</td><td>4210</td><td>7477</td><td>479</td></tr><tr><td>Wiley Post-Will Rogers Memorial Airport</td><td>302</td><td>7</td><td>332</td><td>4581</td><td>112</td></tr><tr><td>Chippewa County International Airport</td><td>589</td><td>0</td><td>2803</td><td>2426</td><td>448</td></tr><tr><td>San Francisco International Airport</td><td>212307</td><td>1074</td><td>406752</td><td>603472</td><td>17667</td></tr><tr><td>Billings Logan International Airport</td><td>2013</td><td>0</td><td>2970</td><td>6248</td><td>248</td></tr><tr><td>Sacramento International Airport</td><td>43174</td><td>38</td><td>70175</td><td>149926</td><td>4294</td></tr><tr><td>Monroe Regional Airport</td><td>4703</td><td>29</td><td>9294</td><td>14098</td><td>690</td></tr><tr><td>Miami International Airport</td><td>165879</td><td>582</td><td>247565</td><td>237278</td><td>39415</td></tr><tr><td>Ketchikan International Airport</td><td>2105</td><td>50</td><td>3540</td><td>11259</td><td>426</td></tr><tr><td>Gulfport-Biloxi International Airport</td><td>5949</td><td>10</td><td>6540</td><td>12176</td><td>1234</td></tr><tr><td>Erie International Airport</td><td>3442</td><td>0</td><td>1936</td><td>2325</td><td>707</td></tr><tr><td>Charlottesville-Albemarle Airport</td><td>5745</td><td>0</td><td>7809</td><td>12059</td><td>262</td></tr><tr><td>McAllen-Miller International Airport (McAllen Miller International)</td><td>5083</td><td>6</td><td>9475</td><td>15576</td><td>2648</td></tr><tr><td>Tyler Pounds Regional Airport</td><td>4783</td><td>6</td><td>6678</td><td>11563</td><td>1626</td></tr><tr><td>Wilkes-Barre/Scranton International Airport</td><td>3459</td><td>0</td><td>4624</td><td>3400</td><td>9</td></tr><tr><td>Kahului Airport</td><td>7465</td><td>253</td><td>36581</td><td>53516</td><td>2290</td></tr><tr><td>Phoenix Sky Harbor International Airport</td><td>222051</td><td>3801</td><td>412922</td><td>423374</td><td>27489</td></tr><tr><td>McCarran International Airport</td><td>233566</td><td>708</td><td>389369</td><td>544751</td><td>24812</td></tr><tr><td>John Wayne Airport (Orange County Airport)</td><td>55080</td><td>41</td><td>45236</td><td>100323</td><td>3432</td></tr><tr><td>Atlantic City International Airport</td><td>15239</td><td>24</td><td>10088</td><td>15965</td><td>1479</td></tr><tr><td>Destin-Fort Walton Beach Airport/Eglin AFB</td><td>9786</td><td>0</td><td>16072</td><td>21002</td><td>2670</td></tr><tr><td>Norman Y. Mineta San José International Airport</td><td>43316</td><td>120</td><td>70129</td><td>139138</td><td>8341</td></tr><tr><td>Texarkana Regional Airport (Webb Field)</td><td>1712</td><td>21</td><td>1486</td><td>2480</td><td>1088</td></tr><tr><td>Mobile Regional Airport</td><td>9736</td><td>0</td><td>12581</td><td>18945</td><td>1115</td></tr><tr><td>Sitka Rocky Gutierrez Airport</td><td>1095</td><td>135</td><td>1825</td><td>3507</td><td>905</td></tr><tr><td>Des Moines International Airport</td><td>21152</td><td>0</td><td>20817</td><td>40496</td><td>5103</td></tr><tr><td>Cyril E. King Airport</td><td>7847</td><td>123</td><td>13544</td><td>22614</td><td>673</td></tr><tr><td>Yuma International Airport</td><td>1516</td><td>0</td><td>4563</td><td>4826</td><td>410</td></tr><tr><td>Lewiston-Nez Perce County Airport</td><td>42</td><td>0</td><td>138</td><td>321</td><td>0</td></tr><tr><td>Alpena County Regional Airport</td><td>344</td><td>0</td><td>757</td><td>3563</td><td>228</td></tr><tr><td>Southwest Oregon Regional Airport (North Bend Municipal)</td><td>419</td><td>0</td><td>261</td><td>3063</td><td>0</td></tr><tr><td>Pensacola International Airport (Pensacola Gulf Coast Regional Airport)</td><td>10411</td><td>32</td><td>12758</td><td>27907</td><td>3948</td></tr><tr><td>Portland International Airport</td><td>65637</td><td>191</td><td>78740</td><td>112409</td><td>3044</td></tr><tr><td>Jack Brooks Regional Airport (Southeast Texas Regional)</td><td>3517</td><td>0</td><td>4406</td><td>5780</td><td>227</td></tr><tr><td>Wichita Dwight D. Eisenhower National Airport (Wichita Mid-Continent Airport)</td><td>19655</td><td>0</td><td>20437</td><td>34790</td><td>3589</td></tr><tr><td>Long Island MacArthur Airport</td><td>4326</td><td>59</td><td>9581</td><td>15815</td><td>1113</td></tr><tr><td>Fort Smith Regional Airport</td><td>3302</td><td>23</td><td>6328</td><td>8938</td><td>789</td></tr><tr><td>Mercedita Airport</td><td>492</td><td>0</td><td>866</td><td>3654</td><td>0</td></tr><tr><td>Dothan Regional Airport</td><td>2579</td><td>0</td><td>4522</td><td>5130</td><td>0</td></tr><tr><td>Garden City Regional Airport</td><td>1809</td><td>0</td><td>2859</td><td>1930</td><td>644</td></tr><tr><td>Santa Fe Municipal Airport</td><td>4260</td><td>11</td><td>6739</td><td>6022</td><td>609</td></tr><tr><td>Helena Regional Airport</td><td>1477</td><td>0</td><td>2369</td><td>648</td><td>69</td></tr><tr><td>Cedar City Regional Airport</td><td>206</td><td>0</td><td>1071</td><td>1558</td><td>107</td></tr><tr><td>Chippewa Valley Regional Airport</td><td>1866</td><td>0</td><td>967</td><td>3905</td><td>434</td></tr><tr><td>Dillingham Airport</td><td>19</td><td>35</td><td>81</td><td>174</td><td>0</td></tr><tr><td>Detroit Metropolitan Airport</td><td>236718</td><td>827</td><td>372560</td><td>281794</td><td>26762</td></tr><tr><td>Glacier Park International Airport</td><td>1474</td><td>0</td><td>3292</td><td>3959</td><td>212</td></tr><tr><td>Evansville Regional Airport</td><td>12991</td><td>0</td><td>9024</td><td>14770</td><td>1025</td></tr><tr><td>Jackson Hole Airport</td><td>5908</td><td>0</td><td>8258</td><td>12931</td><td>1097</td></tr><tr><td>Tri-Cities Airport</td><td>1236</td><td>0</td><td>3271</td><td>5782</td><td>154</td></tr><tr><td>Pueblo Memorial Airport</td><td>792</td><td>0</td><td>248</td><td>1392</td><td>48</td></tr><tr><td>Guam International Airport</td><td>258</td><td>0</td><td>3007</td><td>349</td><td>0</td></tr><tr><td>Pocatello Regional Airport</td><td>380</td><td>0</td><td>1714</td><td>468</td><td>530</td></tr><tr><td>Ralph Wien Memorial Airport</td><td>730</td><td>56</td><td>632</td><td>2485</td><td>766</td></tr><tr><td>Appleton International Airport</td><td>8483</td><td>0</td><td>4279</td><td>9959</td><td>1331</td></tr><tr><td>Bismarck Municipal Airport</td><td>8057</td><td>107</td><td>10542</td><td>11876</td><td>769</td></tr><tr><td>Pittsburgh International Airport</td><td>41566</td><td>0</td><td>45674</td><td>64965</td><td>9521</td></tr><tr><td>Sioux Falls Regional Airport</td><td>16855</td><td>17</td><td>14627</td><td>24065</td><td>2730</td></tr><tr><td>Southwest Florida International Airport</td><td>62342</td><td>82</td><td>55016</td><td>108965</td><td>6087</td></tr><tr><td>Fort Wayne International Airport</td><td>11905</td><td>154</td><td>21173</td><td>17590</td><td>3989</td></tr><tr><td>San Angelo Regional Airport (Mathis Field)</td><td>2794</td><td>41</td><td>3875</td><td>7828</td><td>1705</td></tr><tr><td>Key West International Airport</td><td>1384</td><td>64</td><td>3522</td><td>7061</td><td>1558</td></tr><tr><td>Niagara Falls International Airport</td><td>940</td><td>0</td><td>640</td><td>1823</td><td>56</td></tr><tr><td>Martha's Vineyard Airport</td><td>2303</td><td>7</td><td>487</td><td>1463</td><td>0</td></tr><tr><td>Grand Junction Regional Airport (Walker Field)</td><td>4414</td><td>0</td><td>5801</td><td>7486</td><td>896</td></tr><tr><td>Ithaca Tompkins Regional Airport</td><td>0</td><td>0</td><td>0</td><td>46</td><td>0</td></tr><tr><td>Orlando International Airport</td><td>270036</td><td>1115</td><td>319790</td><td>478401</td><td>89280</td></tr><tr><td>Bishop International Airport</td><td>8515</td><td>0</td><td>5026</td><td>12808</td><td>1220</td></tr><tr><td>Hector International Airport</td><td>16548</td><td>21</td><td>8426</td><td>21709</td><td>2091</td></tr><tr><td>Augusta Regional Airport (Bush Field)</td><td>5235</td><td>0</td><td>9206</td><td>7989</td><td>6</td></tr><tr><td>Waco Regional Airport</td><td>1617</td><td>15</td><td>3298</td><td>11656</td><td>106</td></tr><tr><td>Elko Regional Airport</td><td>274</td><td>0</td><td>837</td><td>830</td><td>0</td></tr><tr><td>Sawyer International Airport</td><td>1442</td><td>0</td><td>1097</td><td>0</td><td>10</td></tr><tr><td>Bangor International Airport</td><td>294</td><td>0</td><td>2284</td><td>188</td><td>19</td></tr><tr><td>Philadelphia International Airport</td><td>209966</td><td>1242</td><td>207671</td><td>221900</td><td>23637</td></tr><tr><td>Palm Beach International Airport</td><td>65616</td><td>1295</td><td>58231</td><td>96140</td><td>5113</td></tr><tr><td>Cincinnati/Northern Kentucky International Airport</td><td>61710</td><td>13</td><td>53204</td><td>76064</td><td>7500</td></tr><tr><td>Rapid City Regional Airport</td><td>4758</td><td>19</td><td>6596</td><td>11138</td><td>903</td></tr><tr><td>Asheville Regional Airport</td><td>7371</td><td>0</td><td>6672</td><td>9985</td><td>2209</td></tr><tr><td>James M. Cox Dayton International Airport</td><td>26265</td><td>70</td><td>15682</td><td>30597</td><td>2347</td></tr><tr><td>Tucson International Airport</td><td>25084</td><td>0</td><td>30559</td><td>44529</td><td>2920</td></tr><tr><td>Killeen-Fort Hood Regional Airport</td><td>5944</td><td>0</td><td>11225</td><td>18826</td><td>1438</td></tr><tr><td>Sloulin Field International Airport</td><td>4725</td><td>19</td><td>5751</td><td>7620</td><td>2355</td></tr><tr><td>Ted Stevens Anchorage International Airport</td><td>9426</td><td>21</td><td>30132</td><td>32997</td><td>2125</td></tr><tr><td>Lea County Regional Airport</td><td>1331</td><td>0</td><td>1659</td><td>1258</td><td>1325</td></tr><tr><td>Central Wisconsin Airport</td><td>5349</td><td>0</td><td>2827</td><td>5403</td><td>234</td></tr><tr><td>Houghton County Memorial Airport</td><td>918</td><td>18</td><td>1657</td><td>2118</td><td>273</td></tr><tr><td>Newport News/Williamsburg International Airport</td><td>1578</td><td>0</td><td>5641</td><td>5676</td><td>0</td></tr><tr><td>Rick Husband Amarillo International Airport</td><td>10529</td><td>77</td><td>10114</td><td>17110</td><td>1695</td></tr><tr><td>Columbus Metropolitan Airport</td><td>961</td><td>0</td><td>1713</td><td>4213</td><td>0</td></tr><tr><td>Theodore Francis Green State Airport</td><td>17927</td><td>0</td><td>21889</td><td>36288</td><td>3979</td></tr><tr><td>Memphis International Airport</td><td>34077</td><td>24</td><td>37453</td><td>50996</td><td>11174</td></tr><tr><td>Luis Muñoz Marín International Airport</td><td>28921</td><td>550</td><td>75730</td><td>105821</td><td>2140</td></tr><tr><td>Durango-La Plata County Airport</td><td>4478</td><td>0</td><td>5519</td><td>6804</td><td>2438</td></tr><tr><td>Jackson-Evers International Airport</td><td>20010</td><td>0</td><td>14058</td><td>27223</td><td>2125</td></tr><tr><td>Toledo Express Airport</td><td>3162</td><td>0</td><td>391</td><td>2836</td><td>82</td></tr><tr><td>Northeast Florida Regional Airport (St. Augustine Airport)</td><td>546</td><td>0</td><td>162</td><td>866</td><td>46</td></tr><tr><td>Salt Lake City International Airport</td><td>104416</td><td>397</td><td>196387</td><td>176731</td><td>16050</td></tr><tr><td>Los Angeles International Airport</td><td>341269</td><td>2009</td><td>540641</td><td>775316</td><td>25949</td></tr><tr><td>Dallas/Fort Worth International Airport</td><td>424732</td><td>4804</td><td>846666</td><td>854343</td><td>210654</td></tr><tr><td>Jacksonville International Airport</td><td>36008</td><td>23</td><td>40539</td><td>62469</td><td>4154</td></tr><tr><td>Washington Dulles International Airport</td><td>114579</td><td>50</td><td>127989</td><td>126549</td><td>21312</td></tr><tr><td>Ontario International Airport</td><td>22094</td><td>573</td><td>33651</td><td>70811</td><td>3184</td></tr><tr><td>Dallas Love Field</td><td>79190</td><td>199</td><td>168102</td><td>220918</td><td>29254</td></tr><tr><td>Buffalo Niagara International Airport</td><td>33082</td><td>32</td><td>31833</td><td>55668</td><td>5360</td></tr><tr><td>Nome Airport</td><td>468</td><td>176</td><td>626</td><td>3114</td><td>108</td></tr><tr><td>Canyonlands Field</td><td>4</td><td>0</td><td>0</td><td>161</td><td>0</td></tr><tr><td>Meadows Field</td><td>5142</td><td>0</td><td>6057</td><td>10632</td><td>441</td></tr><tr><td>Central Illinois Regional Airport at Bloomington-Normal</td><td>7270</td><td>0</td><td>9515</td><td>11206</td><td>1120</td></tr><tr><td>Meridian Regional Airport</td><td>1001</td><td>0</td><td>2595</td><td>8203</td><td>0</td></tr><tr><td>Capital Region International Airport ( Lansing Capital City)</td><td>5340</td><td>0</td><td>3456</td><td>6909</td><td>221</td></tr><tr><td>Delta County Airport</td><td>351</td><td>16</td><td>2016</td><td>1852</td><td>294</td></tr><tr><td>Greater Rochester International Airport</td><td>21142</td><td>3</td><td>17079</td><td>22626</td><td>2281</td></tr><tr><td>Portland International Jetport</td><td>15245</td><td>0</td><td>12379</td><td>15985</td><td>1507</td></tr><tr><td>Bozeman Yellowstone International Airport (Gallatin Field Airport)</td><td>4862</td><td>0</td><td>6515</td><td>9408</td><td>930</td></tr><tr><td>Great Falls International Airport</td><td>2092</td><td>5</td><td>3278</td><td>3336</td><td>8</td></tr><tr><td>Greater Binghamton Airport</td><td>267</td><td>0</td><td>1392</td><td>476</td><td>0</td></tr><tr><td>St. Louis International Airport at Lambert Field</td><td>73443</td><td>184</td><td>103016</td><td>188330</td><td>16997</td></tr><tr><td>Dane County Regional Airport</td><td>19162</td><td>0</td><td>17142</td><td>35747</td><td>1929</td></tr><tr><td>Alexandria International Airport</td><td>7099</td><td>106</td><td>12146</td><td>12309</td><td>2321</td></tr><tr><td>Myrtle Beach International Airport</td><td>19433</td><td>14</td><td>8466</td><td>24033</td><td>1383</td></tr><tr><td>Deadhorse Airport (Prudhoe Bay Airport)</td><td>515</td><td>48</td><td>446</td><td>2872</td><td>738</td></tr><tr><td>Eagle County Regional Airport</td><td>2883</td><td>19</td><td>3518</td><td>8667</td><td>1266</td></tr><tr><td>Rhinelander-Oneida County Airport</td><td>2830</td><td>0</td><td>1047</td><td>3569</td><td>176</td></tr><tr><td>Henry E. Rohlsen Airport</td><td>1204</td><td>23</td><td>2415</td><td>3487</td><td>0</td></tr><tr><td>Wilmington Airport</td><td>1073</td><td>0</td><td>600</td><td>1191</td><td>69</td></tr><tr><td>MBS International Airport</td><td>4378</td><td>0</td><td>2252</td><td>9451</td><td>772</td></tr><tr><td>Nashville International Airport</td><td>76302</td><td>217</td><td>105054</td><td>184309</td><td>23289</td></tr><tr><td>Bob Hope Airport (Hollywood Burbank Airport)</td><td>19903</td><td>69</td><td>19900</td><td>64143</td><td>4445</td></tr><tr><td>Syracuse Hancock International Airport</td><td>15913</td><td>0</td><td>10693</td><td>17033</td><td>384</td></tr><tr><td>Baton Rouge Metropolitan Airport</td><td>16169</td><td>0</td><td>37674</td><td>28025</td><td>1948</td></tr><tr><td>Green Bay-Austin Straubel International Airport</td><td>11721</td><td>0</td><td>6805</td><td>17710</td><td>946</td></tr><tr><td>Rogue Valley International Airport</td><td>5950</td><td>4</td><td>4171</td><td>9969</td><td>10</td></tr><tr><td>Columbia Regional Airport</td><td>4681</td><td>0</td><td>6622</td><td>5698</td><td>1901</td></tr><tr><td>Manhattan Regional Airport</td><td>4015</td><td>0</td><td>3119</td><td>6076</td><td>1255</td></tr><tr><td>Mammoth Yosemite Airport</td><td>681</td><td>0</td><td>150</td><td>848</td><td>0</td></tr><tr><td>Norfolk International Airport</td><td>20797</td><td>58</td><td>24015</td><td>31501</td><td>6281</td></tr><tr><td>Grand Forks International Airport</td><td>724</td><td>0</td><td>442</td><td>1892</td><td>199</td></tr><tr><td>Chicago O'Hare International Airport</td><td>737814</td><td>2166</td><td>988060</td><td>1209481</td><td>301661</td></tr><tr><td>Wilmington International Airport</td><td>1864</td><td>0</td><td>7230</td><td>4740</td><td>385</td></tr><tr><td>Corpus Christi International Airport</td><td>8984</td><td>41</td><td>8075</td><td>27258</td><td>3191</td></tr><tr><td>Sarasota-Bradenton International Airport</td><td>8115</td><td>50</td><td>8053</td><td>13281</td><td>382</td></tr><tr><td>Tallahassee International Airport</td><td>4890</td><td>20</td><td>8720</td><td>12300</td><td>706</td></tr><tr><td>Merle K. (Mudhole) Smith Airport</td><td>342</td><td>235</td><td>326</td><td>2146</td><td>0</td></tr><tr><td>Arcata Airport</td><td>3232</td><td>0</td><td>2130</td><td>9333</td><td>0</td></tr><tr><td>Rock Springs-Sweetwater County Airport</td><td>720</td><td>17</td><td>1282</td><td>2022</td><td>707</td></tr><tr><td>Brunswick Golden Isles Airport</td><td>1468</td><td>0</td><td>3350</td><td>2335</td><td>0</td></tr><tr><td>General Mitchell International Airport</td><td>57937</td><td>49</td><td>62090</td><td>106076</td><td>10816</td></tr><tr><td>San Luis Obispo County Regional Airport (McChesney Field)</td><td>10016</td><td>79</td><td>4009</td><td>11846</td><td>743</td></tr><tr><td>Idaho Falls Regional Airport</td><td>2218</td><td>0</td><td>3748</td><td>4514</td><td>428</td></tr><tr><td>Bert Mooney Airport</td><td>76</td><td>0</td><td>337</td><td>793</td><td>210</td></tr><tr><td>Falls International Airport</td><td>661</td><td>0</td><td>1708</td><td>1706</td><td>639</td></tr><tr><td>Lehigh Valley International Airport</td><td>6405</td><td>0</td><td>6784</td><td>8795</td><td>355</td></tr><tr><td>Brainerd Lakes Regional Airport</td><td>1308</td><td>35</td><td>636</td><td>831</td><td>29</td></tr><tr><td>Kodiak Airport</td><td>278</td><td>233</td><td>1159</td><td>841</td><td>39</td></tr><tr><td>King Salmon Airport</td><td>121</td><td>0</td><td>188</td><td>101</td><td>0</td></tr><tr><td>Minneapolis-Saint Paul International Airport</td><td>209065</td><td>454</td><td>266347</td><td>247258</td><td>24062</td></tr><tr><td>Charlotte Douglas International Airport</td><td>256742</td><td>4566</td><td>297895</td><td>225591</td><td>34099</td></tr><tr><td>William P. Hobby Airport</td><td>57690</td><td>467</td><td>174809</td><td>210293</td><td>24118</td></tr><tr><td>Lubbock Preston Smith International Airport</td><td>6851</td><td>0</td><td>7930</td><td>17391</td><td>3123</td></tr><tr><td>Seattle-Tacoma International Airport</td><td>165413</td><td>954</td><td>250300</td><td>220484</td><td>10600</td></tr><tr><td>Rochester International Airport</td><td>7100</td><td>1</td><td>4556</td><td>9064</td><td>946</td></tr><tr><td>Missoula International Airport</td><td>1054</td><td>0</td><td>3385</td><td>4637</td><td>151</td></tr><tr><td>Abraham Lincoln Capital Airport</td><td>4619</td><td>44</td><td>3061</td><td>6759</td><td>477</td></tr><tr><td>Duluth International Airport</td><td>4332</td><td>1</td><td>2821</td><td>5617</td><td>519</td></tr><tr><td>Friedman Memorial Airport</td><td>1525</td><td>0</td><td>1383</td><td>2808</td><td>518</td></tr><tr><td>Laramie Regional Airport</td><td>544</td><td>0</td><td>842</td><td>1587</td><td>29</td></tr><tr><td>Gustavus Airport</td><td>284</td><td>238</td><td>221</td><td>994</td><td>0</td></tr><tr><td>Cleveland Hopkins International Airport</td><td>96717</td><td>281</td><td>83480</td><td>113219</td><td>9269</td></tr><tr><td>Eugene Airport (Mahlon Sweet Field)</td><td>8213</td><td>29</td><td>7136</td><td>13551</td><td>167</td></tr><tr><td>Manchester-Boston Regional Airport</td><td>13897</td><td>0</td><td>11371</td><td>17226</td><td>1623</td></tr><tr><td>Shreveport Regional Airport</td><td>12700</td><td>0</td><td>27624</td><td>27604</td><td>1743</td></tr><tr><td>Lincoln Airport (Lincoln Municipal)</td><td>6354</td><td>0</td><td>5592</td><td>6839</td><td>545</td></tr><tr><td>Aberdeen Regional Airport</td><td>1066</td><td>9</td><td>3949</td><td>1986</td><td>101</td></tr><tr><td>Aspen-Pitkin County Airport</td><td>9112</td><td>155</td><td>9844</td><td>23270</td><td>4543</td></tr><tr><td>Arnold Palmer Regional Airport</td><td>7017</td><td>0</td><td>1291</td><td>8489</td><td>141</td></tr><tr><td>Bellingham International Airport</td><td>936</td><td>0</td><td>1371</td><td>989</td><td>157</td></tr><tr><td>Roanoke Regional Airport (Woodrum Field)</td><td>7371</td><td>0</td><td>5597</td><td>9090</td><td>1364</td></tr><tr><td>Kalamazoo/Battle Creek International Airport</td><td>3701</td><td>39</td><td>4034</td><td>5240</td><td>872</td></tr><tr><td>Hartsfield-Jackson Atlanta International Airport</td><td>499696</td><td>823</td><td>928065</td><td>803284</td><td>232577</td></tr><tr><td>Monterey Regional Airport (Monterey Peninsula Airport)</td><td>6831</td><td>0</td><td>5666</td><td>15275</td><td>316</td></tr><tr><td>McGhee Tyson Airport</td><td>24228</td><td>3</td><td>27857</td><td>27371</td><td>1982</td></tr><tr><td>Gainesville Regional Airport</td><td>3594</td><td>0</td><td>9548</td><td>12351</td><td>137</td></tr><tr><td>Minot International Airport</td><td>2400</td><td>0</td><td>3351</td><td>6904</td><td>1117</td></tr><tr><td>Flagstaff Pulliam Airport</td><td>2220</td><td>0</td><td>2704</td><td>5961</td><td>575</td></tr><tr><td>University of Illinois - Willard Airport</td><td>6546</td><td>0</td><td>6824</td><td>5408</td><td>3033</td></tr><tr><td>Redmond Municipal Airport (Roberts Field)</td><td>2643</td><td>4</td><td>6376</td><td>5879</td><td>102</td></tr><tr><td>Golden Triangle Regional Airport</td><td>1137</td><td>0</td><td>3796</td><td>3083</td><td>0</td></tr><tr><td>St. Cloud Regional Airport</td><td>494</td><td>0</td><td>160</td><td>1098</td><td>0</td></tr><tr><td>Charleston International Airport/Charleston AFB</td><td>35355</td><td>0</td><td>24721</td><td>36895</td><td>2153</td></tr><tr><td>Reno/Tahoe International Airport</td><td>25021</td><td>0</td><td>22073</td><td>52058</td><td>2254</td></tr><tr><td>Gerald R. Ford International Airport</td><td>20680</td><td>10</td><td>27966</td><td>38067</td><td>4431</td></tr><tr><td>Quad City International Airport</td><td>9678</td><td>15</td><td>9697</td><td>16423</td><td>1242</td></tr><tr><td>Columbia Metropolitan Airport</td><td>11326</td><td>0</td><td>20426</td><td>20261</td><td>1106</td></tr><tr><td>City of Colorado Springs Municipal Airport</td><td>13639</td><td>0</td><td>35383</td><td>14141</td><td>5903</td></tr><tr><td>Wrangell Airport</td><td>483</td><td>16</td><td>397</td><td>4836</td><td>26</td></tr><tr><td>Elmira/Corning Regional Airport</td><td>4389</td><td>0</td><td>6618</td><td>6232</td><td>446</td></tr><tr><td>Easterwood Airport</td><td>4443</td><td>0</td><td>4713</td><td>7123</td><td>1381</td></tr><tr><td>Harrisburg International Airport</td><td>8023</td><td>0</td><td>11394</td><td>12440</td><td>1122</td></tr><tr><td>Yellowstone Regional Airport</td><td>1825</td><td>50</td><td>2440</td><td>1729</td><td>967</td></tr><tr><td>Roswell International Air Center</td><td>2331</td><td>0</td><td>2141</td><td>3083</td><td>2856</td></tr><tr><td>Gunnison-Crested Butte Regional Airport</td><td>1222</td><td>0</td><td>1696</td><td>3556</td><td>117</td></tr><tr><td>Lake Charles Regional Airport</td><td>2546</td><td>42</td><td>4726</td><td>5922</td><td>960</td></tr><tr><td>Gen. Edward Lawrence Logan International Airport</td><td>339281</td><td>1478</td><td>274738</td><td>340488</td><td>49055</td></tr><tr><td>Melbourne International Airport</td><td>2517</td><td>0</td><td>2238</td><td>3645</td><td>534</td></tr><tr><td>South Bend International Airport (South Bend Regional)</td><td>8160</td><td>115</td><td>21461</td><td>14495</td><td>4823</td></tr><tr><td>Gillette-Campbell County Airport</td><td>608</td><td>15</td><td>856</td><td>2295</td><td>21</td></tr><tr><td>Louisville International Airport (Standiford Field)</td><td>24005</td><td>65</td><td>22442</td><td>36693</td><td>3898</td></tr><tr><td>Abilene Regional Airport</td><td>3823</td><td>46</td><td>5646</td><td>6000</td><td>3769</td></tr><tr><td>Magic Valley Regional Airport (Joslin Field)</td><td>297</td><td>0</td><td>222</td><td>1443</td><td>28</td></tr><tr><td>Bethel Airport</td><td>418</td><td>141</td><td>1116</td><td>3025</td><td>164</td></tr><tr><td>Chattanooga Metropolitan Airport (Lovell Field)</td><td>7956</td><td>0</td><td>9396</td><td>14081</td><td>592</td></tr><tr><td>Hilo International Airport</td><td>428</td><td>0</td><td>4705</td><td>10477</td><td>563</td></tr><tr><td>Lihue Airport</td><td>2615</td><td>137</td><td>14102</td><td>22799</td><td>671</td></tr><tr><td>Spokane International Airport</td><td>7169</td><td>3</td><td>23198</td><td>24926</td><td>1804</td></tr><tr><td>Kona International Airport at Keahole</td><td>2950</td><td>110</td><td>15681</td><td>24451</td><td>773</td></tr><tr><td>McClellan-Palomar Airport</td><td>1650</td><td>0</td><td>479</td><td>3326</td><td>407</td></tr><tr><td>Springfield-Branson National Airport</td><td>21055</td><td>118</td><td>17127</td><td>27101</td><td>5696</td></tr><tr><td>Albert J. Ellis Airport</td><td>1406</td><td>0</td><td>3335</td><td>5288</td><td>0</td></tr><tr><td>Coastal Carolina Regional Airport (Craven County Regional)</td><td>632</td><td>0</td><td>1834</td><td>1886</td><td>0</td></tr><tr><td>Yakutat Airport</td><td>221</td><td>0</td><td>133</td><td>2178</td><td>42</td></tr><tr><td>Bemidji Regional Airport</td><td>563</td><td>0</td><td>1785</td><td>1637</td><td>183</td></tr><tr><td>Rafael Hernández Airport</td><td>1238</td><td>0</td><td>1388</td><td>12198</td><td>46</td></tr><tr><td>Del Norte County Airport (Jack McNamara Field)</td><td>1821</td><td>0</td><td>165</td><td>1510</td><td>0</td></tr><tr><td>Nantucket Memorial Airport</td><td>1390</td><td>95</td><td>2456</td><td>3289</td><td>387</td></tr><tr><td>Westerly State Airport</td><td>70</td><td>0</td><td>205</td><td>451</td><td>22</td></tr><tr><td>Kansas City International Airport</td><td>61920</td><td>173</td><td>78717</td><td>144354</td><td>9821</td></tr><tr><td>Tampa International Airport</td><td>130904</td><td>213</td><td>139254</td><td>274740</td><td>40068</td></tr><tr><td>Baltimore-Washington International Airport</td><td>163254</td><td>1333</td><td>328542</td><td>320625</td><td>57631</td></tr><tr><td>Will Rogers World Airport</td><td>25989</td><td>36</td><td>37505</td><td>66163</td><td>10024</td></tr><tr><td>Midland International Airport</td><td>13648</td><td>15</td><td>14422</td><td>35678</td><td>4334</td></tr><tr><td>Westchester County Airport</td><td>21990</td><td>63</td><td>32361</td><td>30274</td><td>3732</td></tr><tr><td>Barkley Regional Airport</td><td>2553</td><td>0</td><td>911</td><td>2852</td><td>149</td></tr><tr><td>Cherry Capital Airport</td><td>7393</td><td>0</td><td>4917</td><td>8505</td><td>1302</td></tr><tr><td>Natrona County International Airport</td><td>2763</td><td>0</td><td>1382</td><td>4698</td><td>420</td></tr><tr><td>Juneau International Airport</td><td>5139</td><td>191</td><td>8065</td><td>14630</td><td>2258</td></tr><tr><td>Lawton-Fort Sill Regional Airport</td><td>2018</td><td>0</td><td>3883</td><td>7373</td><td>1896</td></tr><tr><td>Northwest Florida Beaches International Airport</td><td>5850</td><td>0</td><td>7806</td><td>13261</td><td>3151</td></tr><tr><td>Muskegon County Airport</td><td>1588</td><td>0</td><td>715</td><td>4560</td><td>140</td></tr><tr><td>Hattiesburg-Laurel Regional Airport</td><td>783</td><td>0</td><td>3732</td><td>1800</td><td>0</td></tr><tr><td>Worcester Regional Airport</td><td>1944</td><td>0</td><td>1105</td><td>1859</td><td>0</td></tr><tr><td>Adak Airport</td><td>173</td><td>485</td><td>43</td><td>188</td><td>32</td></tr><tr><td>Central Nebraska Regional Airport</td><td>955</td><td>0</td><td>2688</td><td>1582</td><td>257</td></tr><tr><td>Denver International Airport</td><td>394293</td><td>636</td><td>578770</td><td>795521</td><td>70688</td></tr><tr><td>Chicago Midway International Airport</td><td>117382</td><td>428</td><td>254342</td><td>311635</td><td>43387</td></tr><tr><td>Santa Barbara Municipal Airport (Santa Barbara Airport)</td><td>17731</td><td>0</td><td>8786</td><td>24346</td><td>1082</td></tr><tr><td>Richmond International Airport</td><td>43106</td><td>37</td><td>58323</td><td>40184</td><td>9286</td></tr><tr><td>Boise Airport (Boise Air Terminal)</td><td>20316</td><td>98</td><td>27566</td><td>37600</td><td>2226</td></tr><tr><td>Piedmont Triad International Airport</td><td>19913</td><td>9</td><td>22408</td><td>29625</td><td>973</td></tr><tr><td>University Park Airport</td><td>2633</td><td>0</td><td>4211</td><td>2932</td><td>602</td></tr><tr><td>Montrose Regional Airport</td><td>1455</td><td>1</td><td>1832</td><td>4943</td><td>58</td></tr><tr><td>Range Regional Airport (Chisholm-Hibbing Airport)</td><td>674</td><td>0</td><td>660</td><td>3217</td><td>277</td></tr><tr><td>Blue Grass Airport</td><td>13146</td><td>8</td><td>17399</td><td>21565</td><td>1322</td></tr><tr><td>Birmingham-Shuttlesworth International Airport</td><td>24124</td><td>0</td><td>34064</td><td>45898</td><td>4435</td></tr><tr><td>Long Beach Airport (Daugherty Field)</td><td>15160</td><td>0</td><td>16860</td><td>26441</td><td>1790</td></tr><tr><td>Albany International Airport</td><td>9144</td><td>93</td><td>17693</td><td>18323</td><td>2521</td></tr><tr><td>Indianapolis International Airport</td><td>48230</td><td>196</td><td>61498</td><td>89636</td><td>6585</td></tr><tr><td>Hays Regional Airport</td><td>1503</td><td>0</td><td>530</td><td>2167</td><td>29</td></tr><tr><td>Montgomery Regional Airport</td><td>5310</td><td>0</td><td>7386</td><td>14109</td><td>219</td></tr><tr><td>Petersburg James A. Johnson Airport</td><td>714</td><td>191</td><td>576</td><td>5098</td><td>61</td></tr><tr><td>St. George Regional Airport</td><td>853</td><td>0</td><td>2046</td><td>3185</td><td>415</td></tr><tr><td>Daytona Beach International Airport</td><td>2306</td><td>0</td><td>2107</td><td>3254</td><td>91</td></tr><tr><td>Joplin Regional Airport</td><td>1823</td><td>0</td><td>2388</td><td>2815</td><td>811</td></tr><tr><td>Pago Pago International Airport (Tafuna Airport)</td><td>0</td><td>15</td><td>562</td><td>712</td><td>0</td></tr><tr><td>Raleigh-Durham International Airport</td><td>84829</td><td>307</td><td>57100</td><td>124662</td><td>16330</td></tr><tr><td>Bill and Hillary Clinton National Airport (Adams Field)</td><td>27588</td><td>0</td><td>26466</td><td>41901</td><td>6839</td></tr><tr><td>Louis Armstrong New Orleans International Airport</td><td>74666</td><td>1036</td><td>60391</td><td>154027</td><td>18039</td></tr><tr><td>Ronald Reagan Washington National Airport</td><td>199870</td><td>585</td><td>138181</td><td>250699</td><td>45762</td></tr><tr><td>Akron-Canton Regional Airport</td><td>11321</td><td>0</td><td>11981</td><td>16260</td><td>2724</td></tr><tr><td>Palm Springs International Airport</td><td>21587</td><td>67</td><td>26881</td><td>31478</td><td>635</td></tr><tr><td>Bradley International Airport</td><td>31746</td><td>86</td><td>39511</td><td>58725</td><td>7068</td></tr><tr><td>The Eastern Iowa Airport</td><td>18565</td><td>0</td><td>22514</td><td>36136</td><td>4694</td></tr><tr><td>Jamestown Regional Airport</td><td>821</td><td>0</td><td>2666</td><td>3008</td><td>179</td></tr><tr><td>Fresno Yosemite International Airport</td><td>18312</td><td>0</td><td>29018</td><td>22781</td><td>1968</td></tr><tr><td>Tri-Cities Regional Airport</td><td>3555</td><td>0</td><td>5344</td><td>6541</td><td>476</td></tr><tr><td>Burlington International Airport</td><td>12265</td><td>0</td><td>6379</td><td>9972</td><td>586</td></tr><tr><td>Devils Lake Regional Airport</td><td>553</td><td>0</td><td>1413</td><td>1483</td><td>42</td></tr><tr><td>Plattsburgh International Airport</td><td>1300</td><td>0</td><td>459</td><td>1823</td><td>23</td></tr><tr><td>Yampa Valley Airport (Yampa Valley Regional)</td><td>1906</td><td>0</td><td>1736</td><td>4244</td><td>580</td></tr><tr><td>John F. Kennedy International Airport (New York International Airport)</td><td>259214</td><td>4075</td><td>339039</td><td>321330</td><td>88914</td></tr><tr><td>Fort Lauderdale-Hollywood International Airport</td><td>188203</td><td>1644</td><td>192916</td><td>237928</td><td>16187</td></tr><tr><td>Albuquerque International Sunport</td><td>27369</td><td>75</td><td>44070</td><td>72720</td><td>6503</td></tr><tr><td>San Diego International Airport (Lindbergh Field)</td><td>108525</td><td>613</td><td>133996</td><td>245908</td><td>10694</td></tr><tr><td>Eppley Airfield</td><td>28769</td><td>19</td><td>40232</td><td>55248</td><td>5949</td></tr><tr><td>Honolulu International Airport</td><td>13979</td><td>60</td><td>94123</td><td>72761</td><td>2409</td></tr><tr><td>Northwest Arkansas Regional Airport</td><td>32779</td><td>11</td><td>29555</td><td>45886</td><td>8350</td></tr><tr><td>El Paso International Airport</td><td>13740</td><td>73</td><td>24933</td><td>48291</td><td>3755</td></tr><tr><td>Trenton Mercer Airport</td><td>11320</td><td>0</td><td>10974</td><td>18764</td><td>1004</td></tr><tr><td>Redding Municipal Airport</td><td>441</td><td>0</td><td>1618</td><td>3025</td><td>0</td></tr><tr><td>La Crosse Regional Airport</td><td>4955</td><td>0</td><td>2424</td><td>4967</td><td>1375</td></tr><tr><td>Stewart International Airport</td><td>1626</td><td>0</td><td>3670</td><td>2126</td><td>123</td></tr><tr><td>Waterloo Regional Airport</td><td>1639</td><td>0</td><td>1064</td><td>2116</td><td>305</td></tr><tr><td>Dickinson Theodore Roosevelt Regional Airport</td><td>1630</td><td>0</td><td>2021</td><td>2374</td><td>851</td></tr><tr><td>Valdez Airport</td><td>57</td><td>0</td><td>719</td><td>540</td><td>17</td></tr><tr><td>LaGuardia Airport (Marine Air Terminal)</td><td>304287</td><td>483</td><td>285810</td><td>584252</td><td>54218</td></tr><tr><td>George Bush Intercontinental Airport</td><td>347417</td><td>1902</td><td>492694</td><td>512904</td><td>65478</td></tr><tr><td>Austin-Bergstrom International Airport</td><td>64982</td><td>148</td><td>91687</td><td>151162</td><td>13757</td></tr><tr><td>Laredo International Airport</td><td>3662</td><td>0</td><td>6209</td><td>5769</td><td>1275</td></tr><tr><td>Dubuque Regional Airport</td><td>2515</td><td>0</td><td>983</td><td>3033</td><td>1032</td></tr><tr><td>Huntsville International Airport</td><td>9891</td><td>0</td><td>11877</td><td>13479</td><td>2014</td></tr><tr><td>Tulsa International Airport</td><td>27093</td><td>55</td><td>24062</td><td>54102</td><td>7348</td></tr><tr><td>Valley International Airport</td><td>3595</td><td>0</td><td>2476</td><td>10157</td><td>583</td></tr><tr><td>Barnstable Municipal Airport</td><td>1171</td><td>0</td><td>152</td><td>487</td><td>0</td></tr></tbody></table></div>"
      ]
     },
     "metadata": {
      "application/vnd.databricks.v1+output": {
       "overflow": false,
       "datasetInfos": [],
       "data": [
        [
         "Valdosta Regional Airport",
         "1521",
         "0",
         "2669",
         "3312",
         "0"
        ],
        [
         "Greenville-Spartanburg International Airport",
         "13495",
         "13",
         "14080",
         "18685",
         "865"
        ],
        [
         "Lafayette Regional Airport",
         "15240",
         "92",
         "13942",
         "21215",
         "3856"
        ],
        [
         "San Antonio International Airport",
         "39558",
         "109",
         "55159",
         "103164",
         "11260"
        ],
        [
         "East Texas Regional Airport",
         "1399",
         "0",
         "1451",
         "3277",
         "119"
        ],
        [
         "Wichita Falls Municipal Airport/Sheppard AFB",
         "2289",
         "15",
         "4159",
         "5296",
         "540"
        ],
        [
         "Ford Airport",
         "617",
         "0",
         "972",
         "1039",
         "690"
        ],
        [
         "Southwest Georgia Regional Airport",
         "840",
         "0",
         "3682",
         "3328",
         "0"
        ],
        [
         "Pellston Regional Airport of Emmet County",
         "524",
         "10",
         "3023",
         "4183",
         "105"
        ],
        [
         "Sioux Gateway Airport",
         "2639",
         "23",
         "1148",
         "1492",
         "1256"
        ],
        [
         "Santa Maria Public Airport (Capt G. Allan Hancock Field)",
         "1416",
         "102",
         "2781",
         "2464",
         "153"
        ],
        [
         "Newark Liberty International Airport",
         "223273",
         "1267",
         "365909",
         "385398",
         "52588"
        ],
        [
         "Oakland International Airport",
         "46149",
         "194",
         "99929",
         "151004",
         "6744"
        ],
        [
         "Savannah/Hilton Head International Airport",
         "26753",
         "0",
         "21262",
         "26969",
         "2773"
        ],
        [
         "Port Columbus International Airport",
         "56214",
         "121",
         "68634",
         "92683",
         "13045"
        ],
        [
         "Brownsville/South Padre Island International Airport",
         "4098",
         "0",
         "5295",
         "9813",
         "1409"
        ],
        [
         "General Wayne A. Downing Peoria International Airport",
         "12117",
         "18",
         "14866",
         "15141",
         "2123"
        ],
        [
         "Fayetteville Regional Airport",
         "1502",
         "0",
         "4727",
         "7232",
         "583"
        ],
        [
         "Yeager Airport",
         "7172",
         "0",
         "6715",
         "10947",
         "2075"
        ],
        [
         "Fairbanks International Airport",
         "1684",
         "0",
         "4210",
         "7477",
         "479"
        ],
        [
         "Wiley Post-Will Rogers Memorial Airport",
         "302",
         "7",
         "332",
         "4581",
         "112"
        ],
        [
         "Chippewa County International Airport",
         "589",
         "0",
         "2803",
         "2426",
         "448"
        ],
        [
         "San Francisco International Airport",
         "212307",
         "1074",
         "406752",
         "603472",
         "17667"
        ],
        [
         "Billings Logan International Airport",
         "2013",
         "0",
         "2970",
         "6248",
         "248"
        ],
        [
         "Sacramento International Airport",
         "43174",
         "38",
         "70175",
         "149926",
         "4294"
        ],
        [
         "Monroe Regional Airport",
         "4703",
         "29",
         "9294",
         "14098",
         "690"
        ],
        [
         "Miami International Airport",
         "165879",
         "582",
         "247565",
         "237278",
         "39415"
        ],
        [
         "Ketchikan International Airport",
         "2105",
         "50",
         "3540",
         "11259",
         "426"
        ],
        [
         "Gulfport-Biloxi International Airport",
         "5949",
         "10",
         "6540",
         "12176",
         "1234"
        ],
        [
         "Erie International Airport",
         "3442",
         "0",
         "1936",
         "2325",
         "707"
        ],
        [
         "Charlottesville-Albemarle Airport",
         "5745",
         "0",
         "7809",
         "12059",
         "262"
        ],
        [
         "McAllen-Miller International Airport (McAllen Miller International)",
         "5083",
         "6",
         "9475",
         "15576",
         "2648"
        ],
        [
         "Tyler Pounds Regional Airport",
         "4783",
         "6",
         "6678",
         "11563",
         "1626"
        ],
        [
         "Wilkes-Barre/Scranton International Airport",
         "3459",
         "0",
         "4624",
         "3400",
         "9"
        ],
        [
         "Kahului Airport",
         "7465",
         "253",
         "36581",
         "53516",
         "2290"
        ],
        [
         "Phoenix Sky Harbor International Airport",
         "222051",
         "3801",
         "412922",
         "423374",
         "27489"
        ],
        [
         "McCarran International Airport",
         "233566",
         "708",
         "389369",
         "544751",
         "24812"
        ],
        [
         "John Wayne Airport (Orange County Airport)",
         "55080",
         "41",
         "45236",
         "100323",
         "3432"
        ],
        [
         "Atlantic City International Airport",
         "15239",
         "24",
         "10088",
         "15965",
         "1479"
        ],
        [
         "Destin-Fort Walton Beach Airport/Eglin AFB",
         "9786",
         "0",
         "16072",
         "21002",
         "2670"
        ],
        [
         "Norman Y. Mineta San José International Airport",
         "43316",
         "120",
         "70129",
         "139138",
         "8341"
        ],
        [
         "Texarkana Regional Airport (Webb Field)",
         "1712",
         "21",
         "1486",
         "2480",
         "1088"
        ],
        [
         "Mobile Regional Airport",
         "9736",
         "0",
         "12581",
         "18945",
         "1115"
        ],
        [
         "Sitka Rocky Gutierrez Airport",
         "1095",
         "135",
         "1825",
         "3507",
         "905"
        ],
        [
         "Des Moines International Airport",
         "21152",
         "0",
         "20817",
         "40496",
         "5103"
        ],
        [
         "Cyril E. King Airport",
         "7847",
         "123",
         "13544",
         "22614",
         "673"
        ],
        [
         "Yuma International Airport",
         "1516",
         "0",
         "4563",
         "4826",
         "410"
        ],
        [
         "Lewiston-Nez Perce County Airport",
         "42",
         "0",
         "138",
         "321",
         "0"
        ],
        [
         "Alpena County Regional Airport",
         "344",
         "0",
         "757",
         "3563",
         "228"
        ],
        [
         "Southwest Oregon Regional Airport (North Bend Municipal)",
         "419",
         "0",
         "261",
         "3063",
         "0"
        ],
        [
         "Pensacola International Airport (Pensacola Gulf Coast Regional Airport)",
         "10411",
         "32",
         "12758",
         "27907",
         "3948"
        ],
        [
         "Portland International Airport",
         "65637",
         "191",
         "78740",
         "112409",
         "3044"
        ],
        [
         "Jack Brooks Regional Airport (Southeast Texas Regional)",
         "3517",
         "0",
         "4406",
         "5780",
         "227"
        ],
        [
         "Wichita Dwight D. Eisenhower National Airport (Wichita Mid-Continent Airport)",
         "19655",
         "0",
         "20437",
         "34790",
         "3589"
        ],
        [
         "Long Island MacArthur Airport",
         "4326",
         "59",
         "9581",
         "15815",
         "1113"
        ],
        [
         "Fort Smith Regional Airport",
         "3302",
         "23",
         "6328",
         "8938",
         "789"
        ],
        [
         "Mercedita Airport",
         "492",
         "0",
         "866",
         "3654",
         "0"
        ],
        [
         "Dothan Regional Airport",
         "2579",
         "0",
         "4522",
         "5130",
         "0"
        ],
        [
         "Garden City Regional Airport",
         "1809",
         "0",
         "2859",
         "1930",
         "644"
        ],
        [
         "Santa Fe Municipal Airport",
         "4260",
         "11",
         "6739",
         "6022",
         "609"
        ],
        [
         "Helena Regional Airport",
         "1477",
         "0",
         "2369",
         "648",
         "69"
        ],
        [
         "Cedar City Regional Airport",
         "206",
         "0",
         "1071",
         "1558",
         "107"
        ],
        [
         "Chippewa Valley Regional Airport",
         "1866",
         "0",
         "967",
         "3905",
         "434"
        ],
        [
         "Dillingham Airport",
         "19",
         "35",
         "81",
         "174",
         "0"
        ],
        [
         "Detroit Metropolitan Airport",
         "236718",
         "827",
         "372560",
         "281794",
         "26762"
        ],
        [
         "Glacier Park International Airport",
         "1474",
         "0",
         "3292",
         "3959",
         "212"
        ],
        [
         "Evansville Regional Airport",
         "12991",
         "0",
         "9024",
         "14770",
         "1025"
        ],
        [
         "Jackson Hole Airport",
         "5908",
         "0",
         "8258",
         "12931",
         "1097"
        ],
        [
         "Tri-Cities Airport",
         "1236",
         "0",
         "3271",
         "5782",
         "154"
        ],
        [
         "Pueblo Memorial Airport",
         "792",
         "0",
         "248",
         "1392",
         "48"
        ],
        [
         "Guam International Airport",
         "258",
         "0",
         "3007",
         "349",
         "0"
        ],
        [
         "Pocatello Regional Airport",
         "380",
         "0",
         "1714",
         "468",
         "530"
        ],
        [
         "Ralph Wien Memorial Airport",
         "730",
         "56",
         "632",
         "2485",
         "766"
        ],
        [
         "Appleton International Airport",
         "8483",
         "0",
         "4279",
         "9959",
         "1331"
        ],
        [
         "Bismarck Municipal Airport",
         "8057",
         "107",
         "10542",
         "11876",
         "769"
        ],
        [
         "Pittsburgh International Airport",
         "41566",
         "0",
         "45674",
         "64965",
         "9521"
        ],
        [
         "Sioux Falls Regional Airport",
         "16855",
         "17",
         "14627",
         "24065",
         "2730"
        ],
        [
         "Southwest Florida International Airport",
         "62342",
         "82",
         "55016",
         "108965",
         "6087"
        ],
        [
         "Fort Wayne International Airport",
         "11905",
         "154",
         "21173",
         "17590",
         "3989"
        ],
        [
         "San Angelo Regional Airport (Mathis Field)",
         "2794",
         "41",
         "3875",
         "7828",
         "1705"
        ],
        [
         "Key West International Airport",
         "1384",
         "64",
         "3522",
         "7061",
         "1558"
        ],
        [
         "Niagara Falls International Airport",
         "940",
         "0",
         "640",
         "1823",
         "56"
        ],
        [
         "Martha's Vineyard Airport",
         "2303",
         "7",
         "487",
         "1463",
         "0"
        ],
        [
         "Grand Junction Regional Airport (Walker Field)",
         "4414",
         "0",
         "5801",
         "7486",
         "896"
        ],
        [
         "Ithaca Tompkins Regional Airport",
         "0",
         "0",
         "0",
         "46",
         "0"
        ],
        [
         "Orlando International Airport",
         "270036",
         "1115",
         "319790",
         "478401",
         "89280"
        ],
        [
         "Bishop International Airport",
         "8515",
         "0",
         "5026",
         "12808",
         "1220"
        ],
        [
         "Hector International Airport",
         "16548",
         "21",
         "8426",
         "21709",
         "2091"
        ],
        [
         "Augusta Regional Airport (Bush Field)",
         "5235",
         "0",
         "9206",
         "7989",
         "6"
        ],
        [
         "Waco Regional Airport",
         "1617",
         "15",
         "3298",
         "11656",
         "106"
        ],
        [
         "Elko Regional Airport",
         "274",
         "0",
         "837",
         "830",
         "0"
        ],
        [
         "Sawyer International Airport",
         "1442",
         "0",
         "1097",
         "0",
         "10"
        ],
        [
         "Bangor International Airport",
         "294",
         "0",
         "2284",
         "188",
         "19"
        ],
        [
         "Philadelphia International Airport",
         "209966",
         "1242",
         "207671",
         "221900",
         "23637"
        ],
        [
         "Palm Beach International Airport",
         "65616",
         "1295",
         "58231",
         "96140",
         "5113"
        ],
        [
         "Cincinnati/Northern Kentucky International Airport",
         "61710",
         "13",
         "53204",
         "76064",
         "7500"
        ],
        [
         "Rapid City Regional Airport",
         "4758",
         "19",
         "6596",
         "11138",
         "903"
        ],
        [
         "Asheville Regional Airport",
         "7371",
         "0",
         "6672",
         "9985",
         "2209"
        ],
        [
         "James M. Cox Dayton International Airport",
         "26265",
         "70",
         "15682",
         "30597",
         "2347"
        ],
        [
         "Tucson International Airport",
         "25084",
         "0",
         "30559",
         "44529",
         "2920"
        ],
        [
         "Killeen-Fort Hood Regional Airport",
         "5944",
         "0",
         "11225",
         "18826",
         "1438"
        ],
        [
         "Sloulin Field International Airport",
         "4725",
         "19",
         "5751",
         "7620",
         "2355"
        ],
        [
         "Ted Stevens Anchorage International Airport",
         "9426",
         "21",
         "30132",
         "32997",
         "2125"
        ],
        [
         "Lea County Regional Airport",
         "1331",
         "0",
         "1659",
         "1258",
         "1325"
        ],
        [
         "Central Wisconsin Airport",
         "5349",
         "0",
         "2827",
         "5403",
         "234"
        ],
        [
         "Houghton County Memorial Airport",
         "918",
         "18",
         "1657",
         "2118",
         "273"
        ],
        [
         "Newport News/Williamsburg International Airport",
         "1578",
         "0",
         "5641",
         "5676",
         "0"
        ],
        [
         "Rick Husband Amarillo International Airport",
         "10529",
         "77",
         "10114",
         "17110",
         "1695"
        ],
        [
         "Columbus Metropolitan Airport",
         "961",
         "0",
         "1713",
         "4213",
         "0"
        ],
        [
         "Theodore Francis Green State Airport",
         "17927",
         "0",
         "21889",
         "36288",
         "3979"
        ],
        [
         "Memphis International Airport",
         "34077",
         "24",
         "37453",
         "50996",
         "11174"
        ],
        [
         "Luis Muñoz Marín International Airport",
         "28921",
         "550",
         "75730",
         "105821",
         "2140"
        ],
        [
         "Durango-La Plata County Airport",
         "4478",
         "0",
         "5519",
         "6804",
         "2438"
        ],
        [
         "Jackson-Evers International Airport",
         "20010",
         "0",
         "14058",
         "27223",
         "2125"
        ],
        [
         "Toledo Express Airport",
         "3162",
         "0",
         "391",
         "2836",
         "82"
        ],
        [
         "Northeast Florida Regional Airport (St. Augustine Airport)",
         "546",
         "0",
         "162",
         "866",
         "46"
        ],
        [
         "Salt Lake City International Airport",
         "104416",
         "397",
         "196387",
         "176731",
         "16050"
        ],
        [
         "Los Angeles International Airport",
         "341269",
         "2009",
         "540641",
         "775316",
         "25949"
        ],
        [
         "Dallas/Fort Worth International Airport",
         "424732",
         "4804",
         "846666",
         "854343",
         "210654"
        ],
        [
         "Jacksonville International Airport",
         "36008",
         "23",
         "40539",
         "62469",
         "4154"
        ],
        [
         "Washington Dulles International Airport",
         "114579",
         "50",
         "127989",
         "126549",
         "21312"
        ],
        [
         "Ontario International Airport",
         "22094",
         "573",
         "33651",
         "70811",
         "3184"
        ],
        [
         "Dallas Love Field",
         "79190",
         "199",
         "168102",
         "220918",
         "29254"
        ],
        [
         "Buffalo Niagara International Airport",
         "33082",
         "32",
         "31833",
         "55668",
         "5360"
        ],
        [
         "Nome Airport",
         "468",
         "176",
         "626",
         "3114",
         "108"
        ],
        [
         "Canyonlands Field",
         "4",
         "0",
         "0",
         "161",
         "0"
        ],
        [
         "Meadows Field",
         "5142",
         "0",
         "6057",
         "10632",
         "441"
        ],
        [
         "Central Illinois Regional Airport at Bloomington-Normal",
         "7270",
         "0",
         "9515",
         "11206",
         "1120"
        ],
        [
         "Meridian Regional Airport",
         "1001",
         "0",
         "2595",
         "8203",
         "0"
        ],
        [
         "Capital Region International Airport ( Lansing Capital City)",
         "5340",
         "0",
         "3456",
         "6909",
         "221"
        ],
        [
         "Delta County Airport",
         "351",
         "16",
         "2016",
         "1852",
         "294"
        ],
        [
         "Greater Rochester International Airport",
         "21142",
         "3",
         "17079",
         "22626",
         "2281"
        ],
        [
         "Portland International Jetport",
         "15245",
         "0",
         "12379",
         "15985",
         "1507"
        ],
        [
         "Bozeman Yellowstone International Airport (Gallatin Field Airport)",
         "4862",
         "0",
         "6515",
         "9408",
         "930"
        ],
        [
         "Great Falls International Airport",
         "2092",
         "5",
         "3278",
         "3336",
         "8"
        ],
        [
         "Greater Binghamton Airport",
         "267",
         "0",
         "1392",
         "476",
         "0"
        ],
        [
         "St. Louis International Airport at Lambert Field",
         "73443",
         "184",
         "103016",
         "188330",
         "16997"
        ],
        [
         "Dane County Regional Airport",
         "19162",
         "0",
         "17142",
         "35747",
         "1929"
        ],
        [
         "Alexandria International Airport",
         "7099",
         "106",
         "12146",
         "12309",
         "2321"
        ],
        [
         "Myrtle Beach International Airport",
         "19433",
         "14",
         "8466",
         "24033",
         "1383"
        ],
        [
         "Deadhorse Airport (Prudhoe Bay Airport)",
         "515",
         "48",
         "446",
         "2872",
         "738"
        ],
        [
         "Eagle County Regional Airport",
         "2883",
         "19",
         "3518",
         "8667",
         "1266"
        ],
        [
         "Rhinelander-Oneida County Airport",
         "2830",
         "0",
         "1047",
         "3569",
         "176"
        ],
        [
         "Henry E. Rohlsen Airport",
         "1204",
         "23",
         "2415",
         "3487",
         "0"
        ],
        [
         "Wilmington Airport",
         "1073",
         "0",
         "600",
         "1191",
         "69"
        ],
        [
         "MBS International Airport",
         "4378",
         "0",
         "2252",
         "9451",
         "772"
        ],
        [
         "Nashville International Airport",
         "76302",
         "217",
         "105054",
         "184309",
         "23289"
        ],
        [
         "Bob Hope Airport (Hollywood Burbank Airport)",
         "19903",
         "69",
         "19900",
         "64143",
         "4445"
        ],
        [
         "Syracuse Hancock International Airport",
         "15913",
         "0",
         "10693",
         "17033",
         "384"
        ],
        [
         "Baton Rouge Metropolitan Airport",
         "16169",
         "0",
         "37674",
         "28025",
         "1948"
        ],
        [
         "Green Bay-Austin Straubel International Airport",
         "11721",
         "0",
         "6805",
         "17710",
         "946"
        ],
        [
         "Rogue Valley International Airport",
         "5950",
         "4",
         "4171",
         "9969",
         "10"
        ],
        [
         "Columbia Regional Airport",
         "4681",
         "0",
         "6622",
         "5698",
         "1901"
        ],
        [
         "Manhattan Regional Airport",
         "4015",
         "0",
         "3119",
         "6076",
         "1255"
        ],
        [
         "Mammoth Yosemite Airport",
         "681",
         "0",
         "150",
         "848",
         "0"
        ],
        [
         "Norfolk International Airport",
         "20797",
         "58",
         "24015",
         "31501",
         "6281"
        ],
        [
         "Grand Forks International Airport",
         "724",
         "0",
         "442",
         "1892",
         "199"
        ],
        [
         "Chicago O'Hare International Airport",
         "737814",
         "2166",
         "988060",
         "1209481",
         "301661"
        ],
        [
         "Wilmington International Airport",
         "1864",
         "0",
         "7230",
         "4740",
         "385"
        ],
        [
         "Corpus Christi International Airport",
         "8984",
         "41",
         "8075",
         "27258",
         "3191"
        ],
        [
         "Sarasota-Bradenton International Airport",
         "8115",
         "50",
         "8053",
         "13281",
         "382"
        ],
        [
         "Tallahassee International Airport",
         "4890",
         "20",
         "8720",
         "12300",
         "706"
        ],
        [
         "Merle K. (Mudhole) Smith Airport",
         "342",
         "235",
         "326",
         "2146",
         "0"
        ],
        [
         "Arcata Airport",
         "3232",
         "0",
         "2130",
         "9333",
         "0"
        ],
        [
         "Rock Springs-Sweetwater County Airport",
         "720",
         "17",
         "1282",
         "2022",
         "707"
        ],
        [
         "Brunswick Golden Isles Airport",
         "1468",
         "0",
         "3350",
         "2335",
         "0"
        ],
        [
         "General Mitchell International Airport",
         "57937",
         "49",
         "62090",
         "106076",
         "10816"
        ],
        [
         "San Luis Obispo County Regional Airport (McChesney Field)",
         "10016",
         "79",
         "4009",
         "11846",
         "743"
        ],
        [
         "Idaho Falls Regional Airport",
         "2218",
         "0",
         "3748",
         "4514",
         "428"
        ],
        [
         "Bert Mooney Airport",
         "76",
         "0",
         "337",
         "793",
         "210"
        ],
        [
         "Falls International Airport",
         "661",
         "0",
         "1708",
         "1706",
         "639"
        ],
        [
         "Lehigh Valley International Airport",
         "6405",
         "0",
         "6784",
         "8795",
         "355"
        ],
        [
         "Brainerd Lakes Regional Airport",
         "1308",
         "35",
         "636",
         "831",
         "29"
        ],
        [
         "Kodiak Airport",
         "278",
         "233",
         "1159",
         "841",
         "39"
        ],
        [
         "King Salmon Airport",
         "121",
         "0",
         "188",
         "101",
         "0"
        ],
        [
         "Minneapolis-Saint Paul International Airport",
         "209065",
         "454",
         "266347",
         "247258",
         "24062"
        ],
        [
         "Charlotte Douglas International Airport",
         "256742",
         "4566",
         "297895",
         "225591",
         "34099"
        ],
        [
         "William P. Hobby Airport",
         "57690",
         "467",
         "174809",
         "210293",
         "24118"
        ],
        [
         "Lubbock Preston Smith International Airport",
         "6851",
         "0",
         "7930",
         "17391",
         "3123"
        ],
        [
         "Seattle-Tacoma International Airport",
         "165413",
         "954",
         "250300",
         "220484",
         "10600"
        ],
        [
         "Rochester International Airport",
         "7100",
         "1",
         "4556",
         "9064",
         "946"
        ],
        [
         "Missoula International Airport",
         "1054",
         "0",
         "3385",
         "4637",
         "151"
        ],
        [
         "Abraham Lincoln Capital Airport",
         "4619",
         "44",
         "3061",
         "6759",
         "477"
        ],
        [
         "Duluth International Airport",
         "4332",
         "1",
         "2821",
         "5617",
         "519"
        ],
        [
         "Friedman Memorial Airport",
         "1525",
         "0",
         "1383",
         "2808",
         "518"
        ],
        [
         "Laramie Regional Airport",
         "544",
         "0",
         "842",
         "1587",
         "29"
        ],
        [
         "Gustavus Airport",
         "284",
         "238",
         "221",
         "994",
         "0"
        ],
        [
         "Cleveland Hopkins International Airport",
         "96717",
         "281",
         "83480",
         "113219",
         "9269"
        ],
        [
         "Eugene Airport (Mahlon Sweet Field)",
         "8213",
         "29",
         "7136",
         "13551",
         "167"
        ],
        [
         "Manchester-Boston Regional Airport",
         "13897",
         "0",
         "11371",
         "17226",
         "1623"
        ],
        [
         "Shreveport Regional Airport",
         "12700",
         "0",
         "27624",
         "27604",
         "1743"
        ],
        [
         "Lincoln Airport (Lincoln Municipal)",
         "6354",
         "0",
         "5592",
         "6839",
         "545"
        ],
        [
         "Aberdeen Regional Airport",
         "1066",
         "9",
         "3949",
         "1986",
         "101"
        ],
        [
         "Aspen-Pitkin County Airport",
         "9112",
         "155",
         "9844",
         "23270",
         "4543"
        ],
        [
         "Arnold Palmer Regional Airport",
         "7017",
         "0",
         "1291",
         "8489",
         "141"
        ],
        [
         "Bellingham International Airport",
         "936",
         "0",
         "1371",
         "989",
         "157"
        ],
        [
         "Roanoke Regional Airport (Woodrum Field)",
         "7371",
         "0",
         "5597",
         "9090",
         "1364"
        ],
        [
         "Kalamazoo/Battle Creek International Airport",
         "3701",
         "39",
         "4034",
         "5240",
         "872"
        ],
        [
         "Hartsfield-Jackson Atlanta International Airport",
         "499696",
         "823",
         "928065",
         "803284",
         "232577"
        ],
        [
         "Monterey Regional Airport (Monterey Peninsula Airport)",
         "6831",
         "0",
         "5666",
         "15275",
         "316"
        ],
        [
         "McGhee Tyson Airport",
         "24228",
         "3",
         "27857",
         "27371",
         "1982"
        ],
        [
         "Gainesville Regional Airport",
         "3594",
         "0",
         "9548",
         "12351",
         "137"
        ],
        [
         "Minot International Airport",
         "2400",
         "0",
         "3351",
         "6904",
         "1117"
        ],
        [
         "Flagstaff Pulliam Airport",
         "2220",
         "0",
         "2704",
         "5961",
         "575"
        ],
        [
         "University of Illinois - Willard Airport",
         "6546",
         "0",
         "6824",
         "5408",
         "3033"
        ],
        [
         "Redmond Municipal Airport (Roberts Field)",
         "2643",
         "4",
         "6376",
         "5879",
         "102"
        ],
        [
         "Golden Triangle Regional Airport",
         "1137",
         "0",
         "3796",
         "3083",
         "0"
        ],
        [
         "St. Cloud Regional Airport",
         "494",
         "0",
         "160",
         "1098",
         "0"
        ],
        [
         "Charleston International Airport/Charleston AFB",
         "35355",
         "0",
         "24721",
         "36895",
         "2153"
        ],
        [
         "Reno/Tahoe International Airport",
         "25021",
         "0",
         "22073",
         "52058",
         "2254"
        ],
        [
         "Gerald R. Ford International Airport",
         "20680",
         "10",
         "27966",
         "38067",
         "4431"
        ],
        [
         "Quad City International Airport",
         "9678",
         "15",
         "9697",
         "16423",
         "1242"
        ],
        [
         "Columbia Metropolitan Airport",
         "11326",
         "0",
         "20426",
         "20261",
         "1106"
        ],
        [
         "City of Colorado Springs Municipal Airport",
         "13639",
         "0",
         "35383",
         "14141",
         "5903"
        ],
        [
         "Wrangell Airport",
         "483",
         "16",
         "397",
         "4836",
         "26"
        ],
        [
         "Elmira/Corning Regional Airport",
         "4389",
         "0",
         "6618",
         "6232",
         "446"
        ],
        [
         "Easterwood Airport",
         "4443",
         "0",
         "4713",
         "7123",
         "1381"
        ],
        [
         "Harrisburg International Airport",
         "8023",
         "0",
         "11394",
         "12440",
         "1122"
        ],
        [
         "Yellowstone Regional Airport",
         "1825",
         "50",
         "2440",
         "1729",
         "967"
        ],
        [
         "Roswell International Air Center",
         "2331",
         "0",
         "2141",
         "3083",
         "2856"
        ],
        [
         "Gunnison-Crested Butte Regional Airport",
         "1222",
         "0",
         "1696",
         "3556",
         "117"
        ],
        [
         "Lake Charles Regional Airport",
         "2546",
         "42",
         "4726",
         "5922",
         "960"
        ],
        [
         "Gen. Edward Lawrence Logan International Airport",
         "339281",
         "1478",
         "274738",
         "340488",
         "49055"
        ],
        [
         "Melbourne International Airport",
         "2517",
         "0",
         "2238",
         "3645",
         "534"
        ],
        [
         "South Bend International Airport (South Bend Regional)",
         "8160",
         "115",
         "21461",
         "14495",
         "4823"
        ],
        [
         "Gillette-Campbell County Airport",
         "608",
         "15",
         "856",
         "2295",
         "21"
        ],
        [
         "Louisville International Airport (Standiford Field)",
         "24005",
         "65",
         "22442",
         "36693",
         "3898"
        ],
        [
         "Abilene Regional Airport",
         "3823",
         "46",
         "5646",
         "6000",
         "3769"
        ],
        [
         "Magic Valley Regional Airport (Joslin Field)",
         "297",
         "0",
         "222",
         "1443",
         "28"
        ],
        [
         "Bethel Airport",
         "418",
         "141",
         "1116",
         "3025",
         "164"
        ],
        [
         "Chattanooga Metropolitan Airport (Lovell Field)",
         "7956",
         "0",
         "9396",
         "14081",
         "592"
        ],
        [
         "Hilo International Airport",
         "428",
         "0",
         "4705",
         "10477",
         "563"
        ],
        [
         "Lihue Airport",
         "2615",
         "137",
         "14102",
         "22799",
         "671"
        ],
        [
         "Spokane International Airport",
         "7169",
         "3",
         "23198",
         "24926",
         "1804"
        ],
        [
         "Kona International Airport at Keahole",
         "2950",
         "110",
         "15681",
         "24451",
         "773"
        ],
        [
         "McClellan-Palomar Airport",
         "1650",
         "0",
         "479",
         "3326",
         "407"
        ],
        [
         "Springfield-Branson National Airport",
         "21055",
         "118",
         "17127",
         "27101",
         "5696"
        ],
        [
         "Albert J. Ellis Airport",
         "1406",
         "0",
         "3335",
         "5288",
         "0"
        ],
        [
         "Coastal Carolina Regional Airport (Craven County Regional)",
         "632",
         "0",
         "1834",
         "1886",
         "0"
        ],
        [
         "Yakutat Airport",
         "221",
         "0",
         "133",
         "2178",
         "42"
        ],
        [
         "Bemidji Regional Airport",
         "563",
         "0",
         "1785",
         "1637",
         "183"
        ],
        [
         "Rafael Hernández Airport",
         "1238",
         "0",
         "1388",
         "12198",
         "46"
        ],
        [
         "Del Norte County Airport (Jack McNamara Field)",
         "1821",
         "0",
         "165",
         "1510",
         "0"
        ],
        [
         "Nantucket Memorial Airport",
         "1390",
         "95",
         "2456",
         "3289",
         "387"
        ],
        [
         "Westerly State Airport",
         "70",
         "0",
         "205",
         "451",
         "22"
        ],
        [
         "Kansas City International Airport",
         "61920",
         "173",
         "78717",
         "144354",
         "9821"
        ],
        [
         "Tampa International Airport",
         "130904",
         "213",
         "139254",
         "274740",
         "40068"
        ],
        [
         "Baltimore-Washington International Airport",
         "163254",
         "1333",
         "328542",
         "320625",
         "57631"
        ],
        [
         "Will Rogers World Airport",
         "25989",
         "36",
         "37505",
         "66163",
         "10024"
        ],
        [
         "Midland International Airport",
         "13648",
         "15",
         "14422",
         "35678",
         "4334"
        ],
        [
         "Westchester County Airport",
         "21990",
         "63",
         "32361",
         "30274",
         "3732"
        ],
        [
         "Barkley Regional Airport",
         "2553",
         "0",
         "911",
         "2852",
         "149"
        ],
        [
         "Cherry Capital Airport",
         "7393",
         "0",
         "4917",
         "8505",
         "1302"
        ],
        [
         "Natrona County International Airport",
         "2763",
         "0",
         "1382",
         "4698",
         "420"
        ],
        [
         "Juneau International Airport",
         "5139",
         "191",
         "8065",
         "14630",
         "2258"
        ],
        [
         "Lawton-Fort Sill Regional Airport",
         "2018",
         "0",
         "3883",
         "7373",
         "1896"
        ],
        [
         "Northwest Florida Beaches International Airport",
         "5850",
         "0",
         "7806",
         "13261",
         "3151"
        ],
        [
         "Muskegon County Airport",
         "1588",
         "0",
         "715",
         "4560",
         "140"
        ],
        [
         "Hattiesburg-Laurel Regional Airport",
         "783",
         "0",
         "3732",
         "1800",
         "0"
        ],
        [
         "Worcester Regional Airport",
         "1944",
         "0",
         "1105",
         "1859",
         "0"
        ],
        [
         "Adak Airport",
         "173",
         "485",
         "43",
         "188",
         "32"
        ],
        [
         "Central Nebraska Regional Airport",
         "955",
         "0",
         "2688",
         "1582",
         "257"
        ],
        [
         "Denver International Airport",
         "394293",
         "636",
         "578770",
         "795521",
         "70688"
        ],
        [
         "Chicago Midway International Airport",
         "117382",
         "428",
         "254342",
         "311635",
         "43387"
        ],
        [
         "Santa Barbara Municipal Airport (Santa Barbara Airport)",
         "17731",
         "0",
         "8786",
         "24346",
         "1082"
        ],
        [
         "Richmond International Airport",
         "43106",
         "37",
         "58323",
         "40184",
         "9286"
        ],
        [
         "Boise Airport (Boise Air Terminal)",
         "20316",
         "98",
         "27566",
         "37600",
         "2226"
        ],
        [
         "Piedmont Triad International Airport",
         "19913",
         "9",
         "22408",
         "29625",
         "973"
        ],
        [
         "University Park Airport",
         "2633",
         "0",
         "4211",
         "2932",
         "602"
        ],
        [
         "Montrose Regional Airport",
         "1455",
         "1",
         "1832",
         "4943",
         "58"
        ],
        [
         "Range Regional Airport (Chisholm-Hibbing Airport)",
         "674",
         "0",
         "660",
         "3217",
         "277"
        ],
        [
         "Blue Grass Airport",
         "13146",
         "8",
         "17399",
         "21565",
         "1322"
        ],
        [
         "Birmingham-Shuttlesworth International Airport",
         "24124",
         "0",
         "34064",
         "45898",
         "4435"
        ],
        [
         "Long Beach Airport (Daugherty Field)",
         "15160",
         "0",
         "16860",
         "26441",
         "1790"
        ],
        [
         "Albany International Airport",
         "9144",
         "93",
         "17693",
         "18323",
         "2521"
        ],
        [
         "Indianapolis International Airport",
         "48230",
         "196",
         "61498",
         "89636",
         "6585"
        ],
        [
         "Hays Regional Airport",
         "1503",
         "0",
         "530",
         "2167",
         "29"
        ],
        [
         "Montgomery Regional Airport",
         "5310",
         "0",
         "7386",
         "14109",
         "219"
        ],
        [
         "Petersburg James A. Johnson Airport",
         "714",
         "191",
         "576",
         "5098",
         "61"
        ],
        [
         "St. George Regional Airport",
         "853",
         "0",
         "2046",
         "3185",
         "415"
        ],
        [
         "Daytona Beach International Airport",
         "2306",
         "0",
         "2107",
         "3254",
         "91"
        ],
        [
         "Joplin Regional Airport",
         "1823",
         "0",
         "2388",
         "2815",
         "811"
        ],
        [
         "Pago Pago International Airport (Tafuna Airport)",
         "0",
         "15",
         "562",
         "712",
         "0"
        ],
        [
         "Raleigh-Durham International Airport",
         "84829",
         "307",
         "57100",
         "124662",
         "16330"
        ],
        [
         "Bill and Hillary Clinton National Airport (Adams Field)",
         "27588",
         "0",
         "26466",
         "41901",
         "6839"
        ],
        [
         "Louis Armstrong New Orleans International Airport",
         "74666",
         "1036",
         "60391",
         "154027",
         "18039"
        ],
        [
         "Ronald Reagan Washington National Airport",
         "199870",
         "585",
         "138181",
         "250699",
         "45762"
        ],
        [
         "Akron-Canton Regional Airport",
         "11321",
         "0",
         "11981",
         "16260",
         "2724"
        ],
        [
         "Palm Springs International Airport",
         "21587",
         "67",
         "26881",
         "31478",
         "635"
        ],
        [
         "Bradley International Airport",
         "31746",
         "86",
         "39511",
         "58725",
         "7068"
        ],
        [
         "The Eastern Iowa Airport",
         "18565",
         "0",
         "22514",
         "36136",
         "4694"
        ],
        [
         "Jamestown Regional Airport",
         "821",
         "0",
         "2666",
         "3008",
         "179"
        ],
        [
         "Fresno Yosemite International Airport",
         "18312",
         "0",
         "29018",
         "22781",
         "1968"
        ],
        [
         "Tri-Cities Regional Airport",
         "3555",
         "0",
         "5344",
         "6541",
         "476"
        ],
        [
         "Burlington International Airport",
         "12265",
         "0",
         "6379",
         "9972",
         "586"
        ],
        [
         "Devils Lake Regional Airport",
         "553",
         "0",
         "1413",
         "1483",
         "42"
        ],
        [
         "Plattsburgh International Airport",
         "1300",
         "0",
         "459",
         "1823",
         "23"
        ],
        [
         "Yampa Valley Airport (Yampa Valley Regional)",
         "1906",
         "0",
         "1736",
         "4244",
         "580"
        ],
        [
         "John F. Kennedy International Airport (New York International Airport)",
         "259214",
         "4075",
         "339039",
         "321330",
         "88914"
        ],
        [
         "Fort Lauderdale-Hollywood International Airport",
         "188203",
         "1644",
         "192916",
         "237928",
         "16187"
        ],
        [
         "Albuquerque International Sunport",
         "27369",
         "75",
         "44070",
         "72720",
         "6503"
        ],
        [
         "San Diego International Airport (Lindbergh Field)",
         "108525",
         "613",
         "133996",
         "245908",
         "10694"
        ],
        [
         "Eppley Airfield",
         "28769",
         "19",
         "40232",
         "55248",
         "5949"
        ],
        [
         "Honolulu International Airport",
         "13979",
         "60",
         "94123",
         "72761",
         "2409"
        ],
        [
         "Northwest Arkansas Regional Airport",
         "32779",
         "11",
         "29555",
         "45886",
         "8350"
        ],
        [
         "El Paso International Airport",
         "13740",
         "73",
         "24933",
         "48291",
         "3755"
        ],
        [
         "Trenton Mercer Airport",
         "11320",
         "0",
         "10974",
         "18764",
         "1004"
        ],
        [
         "Redding Municipal Airport",
         "441",
         "0",
         "1618",
         "3025",
         "0"
        ],
        [
         "La Crosse Regional Airport",
         "4955",
         "0",
         "2424",
         "4967",
         "1375"
        ],
        [
         "Stewart International Airport",
         "1626",
         "0",
         "3670",
         "2126",
         "123"
        ],
        [
         "Waterloo Regional Airport",
         "1639",
         "0",
         "1064",
         "2116",
         "305"
        ],
        [
         "Dickinson Theodore Roosevelt Regional Airport",
         "1630",
         "0",
         "2021",
         "2374",
         "851"
        ],
        [
         "Valdez Airport",
         "57",
         "0",
         "719",
         "540",
         "17"
        ],
        [
         "LaGuardia Airport (Marine Air Terminal)",
         "304287",
         "483",
         "285810",
         "584252",
         "54218"
        ],
        [
         "George Bush Intercontinental Airport",
         "347417",
         "1902",
         "492694",
         "512904",
         "65478"
        ],
        [
         "Austin-Bergstrom International Airport",
         "64982",
         "148",
         "91687",
         "151162",
         "13757"
        ],
        [
         "Laredo International Airport",
         "3662",
         "0",
         "6209",
         "5769",
         "1275"
        ],
        [
         "Dubuque Regional Airport",
         "2515",
         "0",
         "983",
         "3033",
         "1032"
        ],
        [
         "Huntsville International Airport",
         "9891",
         "0",
         "11877",
         "13479",
         "2014"
        ],
        [
         "Tulsa International Airport",
         "27093",
         "55",
         "24062",
         "54102",
         "7348"
        ],
        [
         "Valley International Airport",
         "3595",
         "0",
         "2476",
         "10157",
         "583"
        ],
        [
         "Barnstable Municipal Airport",
         "1171",
         "0",
         "152",
         "487",
         "0"
        ]
       ],
       "plotOptions": {
        "displayType": "plotlyBar",
        "customPlotOptions": {},
        "pivotColumns": null,
        "pivotAggregation": null,
        "xColumns": null,
        "yColumns": null
       },
       "columnCustomDisplayInfos": {},
       "aggType": "",
       "isJsonSchema": true,
       "removedWidgets": [],
       "aggSchema": [],
       "schema": [
        {
         "name": "AIRPORT",
         "type": "\"string\"",
         "metadata": "{}"
        },
        {
         "name": "AIR_SYSTEM_DELAY",
         "type": "\"decimal(38,0)\"",
         "metadata": "{}"
        },
        {
         "name": "SECURITY_DELAY",
         "type": "\"decimal(38,0)\"",
         "metadata": "{}"
        },
        {
         "name": "AIRLINE_DELAY",
         "type": "\"decimal(38,0)\"",
         "metadata": "{}"
        },
        {
         "name": "LATE_AIRCRAFT_DELAY",
         "type": "\"decimal(38,0)\"",
         "metadata": "{}"
        },
        {
         "name": "WEATHER_DELAY",
         "type": "\"decimal(38,0)\"",
         "metadata": "{}"
        }
       ],
       "aggError": "",
       "aggData": [],
       "addedWidgets": {},
       "metadata": {},
       "dbfsResultPath": null,
       "type": "table",
       "aggOverflow": false,
       "aggSeriesLimitReached": false,
       "arguments": {}
      }
     },
     "output_type": "execute_result"
    }
   ],
   "source": [
    "%sql\n",
    "select * from view_report_5;"
   ]
  },
  {
   "cell_type": "code",
   "execution_count": 0,
   "metadata": {
    "application/vnd.databricks.v1+cell": {
     "title": "",
     "showTitle": false,
     "inputWidgets": {},
     "nuid": "458954b0-0a4a-4c72-a5a2-3589cb337269"
    }
   },
   "outputs": [
    {
     "data": {
      "text/html": [
       "<style scoped>\n  .table-result-container {\n    max-height: 300px;\n    overflow: auto;\n  }\n  table, th, td {\n    border: 1px solid black;\n    border-collapse: collapse;\n  }\n  th, td {\n    padding: 5px;\n  }\n  th {\n    text-align: left;\n  }\n</style><div class='table-result-container'><table class='table-result'><thead style='background-color: white'><tr><th>AIRLINE</th><th>ORIGIN_AIRPORT</th><th>DESTINATION_AIRPORT</th></tr></thead><tbody><tr><td>WN</td><td>PHX</td><td>SDF</td></tr><tr><td>EV</td><td>ORD</td><td>MOB</td></tr><tr><td>AS</td><td>JNU</td><td>KTN</td></tr><tr><td>DL</td><td>DTW</td><td>IND</td></tr><tr><td>F9</td><td>ORD</td><td>PHL</td></tr><tr><td>UA</td><td>SJC</td><td>DEN</td></tr><tr><td>DL</td><td>ATL</td><td>MOB</td></tr><tr><td>WN</td><td>IND</td><td>DAL</td></tr><tr><td>DL</td><td>ATL</td><td>DTW</td></tr><tr><td>NK</td><td>DEN</td><td>LAS</td></tr><tr><td>MQ</td><td>DAY</td><td>ORD</td></tr><tr><td>WN</td><td>MDW</td><td>SNA</td></tr><tr><td>WN</td><td>HOU</td><td>OAK</td></tr><tr><td>WN</td><td>LAS</td><td>FNT</td></tr><tr><td>EV</td><td>JAN</td><td>PIA</td></tr><tr><td>MQ</td><td>DFW</td><td>ICT</td></tr><tr><td>UA</td><td>IAH</td><td>RNO</td></tr><tr><td>AS</td><td>AUS</td><td>SEA</td></tr><tr><td>WN</td><td>BWI</td><td>ALB</td></tr><tr><td>UA</td><td>DEN</td><td>DSM</td></tr><tr><td>UA</td><td>MSY</td><td>IAD</td></tr><tr><td>NK</td><td>BWI</td><td>ORD</td></tr><tr><td>WN</td><td>PHX</td><td>EWR</td></tr><tr><td>AA</td><td>STT</td><td>PHL</td></tr><tr><td>EV</td><td>LGA</td><td>MKE</td></tr><tr><td>F9</td><td>MSP</td><td>TTN</td></tr><tr><td>EV</td><td>IAD</td><td>OKC</td></tr><tr><td>WN</td><td>ONT</td><td>DEN</td></tr><tr><td>OO</td><td>SFO</td><td>MFR</td></tr><tr><td>B6</td><td>BOS</td><td>PDX</td></tr><tr><td>OO</td><td>MSP</td><td>HLN</td></tr><tr><td>EV</td><td>ORF</td><td>IAH</td></tr><tr><td>DL</td><td>ANC</td><td>SEA</td></tr><tr><td>OO</td><td>IAH</td><td>JAC</td></tr><tr><td>MQ</td><td>ORD</td><td>LSE</td></tr><tr><td>DL</td><td>SEA</td><td>CVG</td></tr><tr><td>DL</td><td>CVG</td><td>STL</td></tr><tr><td>AA</td><td>DFW</td><td>TPA</td></tr><tr><td>US</td><td>RSW</td><td>CLT</td></tr><tr><td>OO</td><td>PDX</td><td>BZN</td></tr><tr><td>WN</td><td>FLL</td><td>BWI</td></tr><tr><td>WN</td><td>MSP</td><td>MCO</td></tr><tr><td>EV</td><td>MSN</td><td>LGA</td></tr><tr><td>AA</td><td>ORD</td><td>PBI</td></tr><tr><td>AA</td><td>IAH</td><td>DFW</td></tr><tr><td>OO</td><td>LEX</td><td>DTW</td></tr><tr><td>DL</td><td>OMA</td><td>SLC</td></tr><tr><td>F9</td><td>MKE</td><td>DEN</td></tr><tr><td>OO</td><td>MFR</td><td>SLC</td></tr><tr><td>DL</td><td>PVD</td><td>DTW</td></tr><tr><td>DL</td><td>SEA</td><td>SLC</td></tr><tr><td>EV</td><td>IAH</td><td>SAV</td></tr><tr><td>AA</td><td>LGA</td><td>PBI</td></tr><tr><td>US</td><td>ORD</td><td>CLT</td></tr><tr><td>F9</td><td>ATL</td><td>LAX</td></tr><tr><td>OO</td><td>PSC</td><td>DEN</td></tr><tr><td>UA</td><td>DTW</td><td>ORD</td></tr><tr><td>OO</td><td>SBP</td><td>PHX</td></tr><tr><td>EV</td><td>ATL</td><td>ILM</td></tr><tr><td>UA</td><td>DEN</td><td>TPA</td></tr><tr><td>US</td><td>DCA</td><td>PHL</td></tr><tr><td>AA</td><td>BOS</td><td>LAX</td></tr><tr><td>AS</td><td>ANC</td><td>OTZ</td></tr><tr><td>OO</td><td>SFO</td><td>PHX</td></tr><tr><td>EV</td><td>IAH</td><td>BHM</td></tr><tr><td>OO</td><td>SEA</td><td>LAS</td></tr><tr><td>US</td><td>GSO</td><td>CLT</td></tr><tr><td>DL</td><td>MSP</td><td>LAX</td></tr><tr><td>OO</td><td>MKE</td><td>DEN</td></tr><tr><td>DL</td><td>MIA</td><td>JFK</td></tr><tr><td>EV</td><td>ORD</td><td>LAN</td></tr><tr><td>EV</td><td>IAH</td><td>DTW</td></tr><tr><td>OO</td><td>SLC</td><td>WYS</td></tr><tr><td>MQ</td><td>TYR</td><td>DFW</td></tr><tr><td>UA</td><td>IAH</td><td>DFW</td></tr><tr><td>OO</td><td>SDF</td><td>DEN</td></tr><tr><td>AA</td><td>PBI</td><td>PHL</td></tr><tr><td>UA</td><td>PHL</td><td>SFO</td></tr><tr><td>F9</td><td>MEM</td><td>DEN</td></tr><tr><td>EV</td><td>DFW</td><td>CAE</td></tr><tr><td>DL</td><td>GSO</td><td>DTW</td></tr><tr><td>UA</td><td>RSW</td><td>ORD</td></tr><tr><td>UA</td><td>SMF</td><td>IAD</td></tr><tr><td>EV</td><td>MCO</td><td>ATL</td></tr><tr><td>OO</td><td>LAX</td><td>EUG</td></tr><tr><td>DL</td><td>BOS</td><td>CVG</td></tr><tr><td>WN</td><td>SEA</td><td>BNA</td></tr><tr><td>WN</td><td>SAN</td><td>SJC</td></tr><tr><td>UA</td><td>BQN</td><td>EWR</td></tr><tr><td>EV</td><td>BHM</td><td>ORD</td></tr><tr><td>OO</td><td>ORD</td><td>SPI</td></tr><tr><td>F9</td><td>MCO</td><td>OMA</td></tr><tr><td>OO</td><td>SLC</td><td>MFR</td></tr><tr><td>DL</td><td>FLL</td><td>DTW</td></tr><tr><td>DL</td><td>ALB</td><td>MSP</td></tr><tr><td>B6</td><td>BOS</td><td>MCO</td></tr><tr><td>EV</td><td>LGA</td><td>LEX</td></tr><tr><td>WN</td><td>DAY</td><td>BWI</td></tr><tr><td>AA</td><td>MIA</td><td>MSY</td></tr><tr><td>DL</td><td>MEM</td><td>MCO</td></tr><tr><td>EV</td><td>ROC</td><td>IAD</td></tr><tr><td>AA</td><td>LAS</td><td>DCA</td></tr><tr><td>AA</td><td>DCA</td><td>DFW</td></tr><tr><td>UA</td><td>RDU</td><td>ORD</td></tr><tr><td>EV</td><td>EWR</td><td>CMH</td></tr><tr><td>MQ</td><td>CMH</td><td>DCA</td></tr><tr><td>WN</td><td>BNA</td><td>DCA</td></tr><tr><td>B6</td><td>LAX</td><td>FLL</td></tr><tr><td>EV</td><td>DTW</td><td>CAK</td></tr><tr><td>AA</td><td>BDL</td><td>CLT</td></tr><tr><td>EV</td><td>MSP</td><td>LNK</td></tr><tr><td>OO</td><td>SLC</td><td>SNA</td></tr><tr><td>DL</td><td>ATL</td><td>CMH</td></tr><tr><td>US</td><td>MCO</td><td>PHL</td></tr><tr><td>AA</td><td>PHX</td><td>SJC</td></tr><tr><td>US</td><td>MSP</td><td>PHX</td></tr><tr><td>EV</td><td>CLE</td><td>LGA</td></tr><tr><td>MQ</td><td>FSD</td><td>ORD</td></tr><tr><td>AS</td><td>SJC</td><td>SLC</td></tr><tr><td>EV</td><td>TYR</td><td>DFW</td></tr><tr><td>WN</td><td>SEA</td><td>ABQ</td></tr><tr><td>EV</td><td>MLI</td><td>MSP</td></tr><tr><td>AA</td><td>SEA</td><td>CLT</td></tr><tr><td>DL</td><td>PDX</td><td>LAX</td></tr><tr><td>UA</td><td>LAX</td><td>IAH</td></tr><tr><td>WN</td><td>SFO</td><td>LAX</td></tr><tr><td>OO</td><td>ABQ</td><td>ORD</td></tr><tr><td>AA</td><td>OGG</td><td>PHX</td></tr><tr><td>WN</td><td>OAK</td><td>ABQ</td></tr><tr><td>EV</td><td>GUC</td><td>DEN</td></tr><tr><td>VX</td><td>LAX</td><td>JFK</td></tr><tr><td>AA</td><td>RSW</td><td>PHL</td></tr><tr><td>WN</td><td>SAT</td><td>STL</td></tr><tr><td>MQ</td><td>GSO</td><td>LGA</td></tr><tr><td>OO</td><td>MSP</td><td>LEX</td></tr><tr><td>MQ</td><td>BPT</td><td>DFW</td></tr><tr><td>WN</td><td>BOS</td><td>RSW</td></tr><tr><td>WN</td><td>HOU</td><td>MAF</td></tr><tr><td>WN</td><td>HOU</td><td>ATL</td></tr><tr><td>OO</td><td>LAX</td><td>PHX</td></tr><tr><td>NK</td><td>DTW</td><td>TPA</td></tr><tr><td>MQ</td><td>ABI</td><td>DFW</td></tr><tr><td>EV</td><td>ORF</td><td>MSP</td></tr><tr><td>EV</td><td>AVL</td><td>EWR</td></tr><tr><td>US</td><td>CLT</td><td>ALB</td></tr><tr><td>AA</td><td>MIA</td><td>BDL</td></tr><tr><td>WN</td><td>HOU</td><td>CLT</td></tr><tr><td>WN</td><td>SJC</td><td>PDX</td></tr><tr><td>MQ</td><td>EVV</td><td>ORD</td></tr><tr><td>AS</td><td>LIH</td><td>SAN</td></tr><tr><td>DL</td><td>DTW</td><td>MYR</td></tr><tr><td>OO</td><td>LAX</td><td>DFW</td></tr><tr><td>WN</td><td>DEN</td><td>EWR</td></tr><tr><td>UA</td><td>SFO</td><td>RNO</td></tr><tr><td>OO</td><td>SEA</td><td>JAC</td></tr><tr><td>WN</td><td>BHM</td><td>MCO</td></tr><tr><td>AA</td><td>LAS</td><td>DFW</td></tr><tr><td>EV</td><td>MKE</td><td>EWR</td></tr><tr><td>WN</td><td>BOS</td><td>ATL</td></tr><tr><td>WN</td><td>ROC</td><td>BWI</td></tr><tr><td>DL</td><td>MSP</td><td>ROC</td></tr><tr><td>EV</td><td>BTV</td><td>LGA</td></tr><tr><td>DL</td><td>MKE</td><td>DTW</td></tr><tr><td>MQ</td><td>DTW</td><td>LGA</td></tr><tr><td>EV</td><td>EWR</td><td>OKC</td></tr><tr><td>OO</td><td>MSP</td><td>CLE</td></tr><tr><td>EV</td><td>CWA</td><td>ORD</td></tr><tr><td>EV</td><td>IAH</td><td>IAD</td></tr><tr><td>AA</td><td>STX</td><td>CLT</td></tr><tr><td>NK</td><td>LAS</td><td>ATL</td></tr><tr><td>B6</td><td>JFK</td><td>BOS</td></tr><tr><td>AS</td><td>BOS</td><td>SAN</td></tr><tr><td>OO</td><td>BIL</td><td>SLC</td></tr><tr><td>B6</td><td>SEA</td><td>BOS</td></tr><tr><td>OO</td><td>SJC</td><td>DEN</td></tr><tr><td>OO</td><td>DEN</td><td>IDA</td></tr><tr><td>OO</td><td>SAT</td><td>DTW</td></tr><tr><td>EV</td><td>ATL</td><td>MLI</td></tr><tr><td>UA</td><td>SLC</td><td>SFO</td></tr><tr><td>OO</td><td>HDN</td><td>DEN</td></tr><tr><td>WN</td><td>OAK</td><td>BOI</td></tr><tr><td>WN</td><td>MCO</td><td>BOS</td></tr><tr><td>MQ</td><td>BHM</td><td>DFW</td></tr><tr><td>DL</td><td>MIA</td><td>DTW</td></tr><tr><td>AA</td><td>PDX</td><td>ORD</td></tr><tr><td>WN</td><td>SEA</td><td>MCI</td></tr><tr><td>WN</td><td>MDW</td><td>PNS</td></tr><tr><td>OO</td><td>LAS</td><td>SFO</td></tr><tr><td>EV</td><td>IAH</td><td>VPS</td></tr><tr><td>OO</td><td>GRR</td><td>IAH</td></tr><tr><td>WN</td><td>BOI</td><td>LAS</td></tr><tr><td>WN</td><td>RSW</td><td>ALB</td></tr><tr><td>DL</td><td>JFK</td><td>JAC</td></tr><tr><td>DL</td><td>PBI</td><td>LGA</td></tr><tr><td>WN</td><td>MKE</td><td>FLL</td></tr><tr><td>OO</td><td>SNA</td><td>SFO</td></tr><tr><td>WN</td><td>LAX</td><td>MSY</td></tr><tr><td>EV</td><td>SBN</td><td>ORD</td></tr><tr><td>WN</td><td>SLC</td><td>HOU</td></tr><tr><td>OO</td><td>SHV</td><td>IAH</td></tr><tr><td>OO</td><td>MTJ</td><td>PHX</td></tr><tr><td>WN</td><td>MCO</td><td>AUS</td></tr><tr><td>AS</td><td>SAN</td><td>KOA</td></tr><tr><td>EV</td><td>MCO</td><td>BDL</td></tr><tr><td>OO</td><td>IAH</td><td>MSY</td></tr><tr><td>MQ</td><td>TYS</td><td>LGA</td></tr><tr><td>EV</td><td>TUL</td><td>ATL</td></tr><tr><td>MQ</td><td>DFW</td><td>TYR</td></tr><tr><td>VX</td><td>SEA</td><td>LAX</td></tr><tr><td>UA</td><td>SFO</td><td>SAN</td></tr><tr><td>WN</td><td>BWI</td><td>PBI</td></tr><tr><td>F9</td><td>CVG</td><td>TTN</td></tr><tr><td>OO</td><td>COS</td><td>ORD</td></tr><tr><td>F9</td><td>DEN</td><td>TPA</td></tr><tr><td>UA</td><td>SJC</td><td>IAH</td></tr><tr><td>WN</td><td>ATL</td><td>OKC</td></tr><tr><td>DL</td><td>LGA</td><td>IND</td></tr><tr><td>US</td><td>RNO</td><td>PHX</td></tr><tr><td>UA</td><td>EWR</td><td>GRR</td></tr><tr><td>B6</td><td>DEN</td><td>JFK</td></tr><tr><td>AA</td><td>JFK</td><td>DFW</td></tr><tr><td>AA</td><td>ONT</td><td>PHX</td></tr><tr><td>F9</td><td>STL</td><td>IAD</td></tr><tr><td>AA</td><td>OGG</td><td>DFW</td></tr><tr><td>B6</td><td>PIT</td><td>FLL</td></tr><tr><td>US</td><td>ROC</td><td>CLT</td></tr><tr><td>AS</td><td>SNA</td><td>SEA</td></tr><tr><td>WN</td><td>BNA</td><td>DTW</td></tr><tr><td>UA</td><td>ORD</td><td>MCI</td></tr><tr><td>DL</td><td>ATL</td><td>PIT</td></tr><tr><td>EV</td><td>CLE</td><td>STL</td></tr><tr><td>DL</td><td>DTW</td><td>CVG</td></tr><tr><td>WN</td><td>PNS</td><td>HOU</td></tr><tr><td>DL</td><td>MSP</td><td>BOS</td></tr><tr><td>WN</td><td>LAX</td><td>MKE</td></tr><tr><td>EV</td><td>IAH</td><td>TUS</td></tr><tr><td>EV</td><td>MSP</td><td>SAT</td></tr><tr><td>EV</td><td>DTW</td><td>PIA</td></tr><tr><td>OO</td><td>RDU</td><td>CVG</td></tr><tr><td>AS</td><td>ATL</td><td>SEA</td></tr><tr><td>US</td><td>SJU</td><td>PHL</td></tr><tr><td>AS</td><td>BLI</td><td>SEA</td></tr><tr><td>OO</td><td>RNO</td><td>SLC</td></tr><tr><td>HA</td><td>OGG</td><td>HNL</td></tr><tr><td>DL</td><td>MTJ</td><td>ATL</td></tr><tr><td>F9</td><td>DEN</td><td>SEA</td></tr><tr><td>F9</td><td>AUS</td><td>LAS</td></tr><tr><td>DL</td><td>SRQ</td><td>DTW</td></tr><tr><td>WN</td><td>DCA</td><td>MCI</td></tr><tr><td>EV</td><td>ATL</td><td>TLH</td></tr><tr><td>WN</td><td>PIT</td><td>HOU</td></tr><tr><td>DL</td><td>LAX</td><td>ATL</td></tr><tr><td>WN</td><td>CLT</td><td>BWI</td></tr><tr><td>DL</td><td>HNL</td><td>JFK</td></tr><tr><td>DL</td><td>SEA</td><td>FAI</td></tr><tr><td>WN</td><td>HOU</td><td>BWI</td></tr><tr><td>B6</td><td>BOS</td><td>JFK</td></tr><tr><td>AA</td><td>DFW</td><td>MFE</td></tr><tr><td>OO</td><td>ORD</td><td>DTW</td></tr><tr><td>VX</td><td>LAX</td><td>FLL</td></tr><tr><td>F9</td><td>DEN</td><td>MDW</td></tr><tr><td>AA</td><td>LAX</td><td>PHL</td></tr><tr><td>EV</td><td>DFW</td><td>FSM</td></tr><tr><td>DL</td><td>RDU</td><td>ATL</td></tr><tr><td>EV</td><td>GRR</td><td>MSP</td></tr><tr><td>OO</td><td>MSP</td><td>STL</td></tr><tr><td>F9</td><td>MCO</td><td>IAD</td></tr><tr><td>B6</td><td>JFK</td><td>CLT</td></tr><tr><td>DL</td><td>JFK</td><td>AUS</td></tr><tr><td>DL</td><td>AVP</td><td>ATL</td></tr><tr><td>NK</td><td>STT</td><td>FLL</td></tr><tr><td>WN</td><td>TPA</td><td>BHM</td></tr><tr><td>WN</td><td>SAN</td><td>SMF</td></tr><tr><td>AA</td><td>DFW</td><td>OMA</td></tr><tr><td>DL</td><td>OGG</td><td>LAX</td></tr><tr><td>WN</td><td>MSY</td><td>MCI</td></tr><tr><td>WN</td><td>IND</td><td>DCA</td></tr><tr><td>OO</td><td>SLC</td><td>AUS</td></tr><tr><td>WN</td><td>MKE</td><td>MSY</td></tr><tr><td>AA</td><td>JAC</td><td>DFW</td></tr><tr><td>MQ</td><td>DRO</td><td>DFW</td></tr><tr><td>NK</td><td>DTW</td><td>ACY</td></tr><tr><td>EV</td><td>EWR</td><td>SAV</td></tr><tr><td>NK</td><td>ORD</td><td>PDX</td></tr><tr><td>UA</td><td>EGE</td><td>IAH</td></tr><tr><td>UA</td><td>IAD</td><td>SAN</td></tr><tr><td>WN</td><td>SDF</td><td>TPA</td></tr><tr><td>US</td><td>LAX</td><td>TPA</td></tr><tr><td>DL</td><td>LGA</td><td>MSY</td></tr><tr><td>B6</td><td>BOS</td><td>HOU</td></tr><tr><td>AS</td><td>FAI</td><td>SEA</td></tr><tr><td>UA</td><td>BOS</td><td>IAH</td></tr><tr><td>F9</td><td>MCO</td><td>ATL</td></tr><tr><td>WN</td><td>DAL</td><td>MSY</td></tr><tr><td>OO</td><td>DTW</td><td>SBN</td></tr><tr><td>OO</td><td>IAH</td><td>CLT</td></tr><tr><td>WN</td><td>ATL</td><td>DTW</td></tr><tr><td>DL</td><td>LGA</td><td>SRQ</td></tr><tr><td>WN</td><td>PNS</td><td>MDW</td></tr><tr><td>WN</td><td>PHX</td><td>PDX</td></tr><tr><td>EV</td><td>MCO</td><td>GRR</td></tr><tr><td>AA</td><td>PHL</td><td>FLL</td></tr><tr><td>WN</td><td>MCI</td><td>LAX</td></tr><tr><td>UA</td><td>DEN</td><td>SLC</td></tr><tr><td>B6</td><td>PBI</td><td>EWR</td></tr><tr><td>WN</td><td>BWI</td><td>OKC</td></tr><tr><td>OO</td><td>CLT</td><td>MSP</td></tr><tr><td>WN</td><td>RDU</td><td>BNA</td></tr><tr><td>WN</td><td>CLT</td><td>MDW</td></tr><tr><td>WN</td><td>PHX</td><td>ABQ</td></tr><tr><td>DL</td><td>TPA</td><td>DTW</td></tr><tr><td>OO</td><td>PSP</td><td>DEN</td></tr><tr><td>NK</td><td>MYR</td><td>DFW</td></tr><tr><td>MQ</td><td>JFK</td><td>CLE</td></tr><tr><td>UA</td><td>DEN</td><td>DFW</td></tr><tr><td>EV</td><td>IAH</td><td>MLU</td></tr><tr><td>MQ</td><td>DFW</td><td>JLN</td></tr><tr><td>B6</td><td>SAN</td><td>JFK</td></tr><tr><td>OO</td><td>TUL</td><td>SLC</td></tr><tr><td>OO</td><td>DEN</td><td>MSP</td></tr><tr><td>UA</td><td>IAD</td><td>HNL</td></tr><tr><td>WN</td><td>PHX</td><td>PHL</td></tr><tr><td>WN</td><td>MCO</td><td>MKE</td></tr><tr><td>EV</td><td>ATL</td><td>FNT</td></tr><tr><td>B6</td><td>SRQ</td><td>BOS</td></tr><tr><td>DL</td><td>ATL</td><td>RIC</td></tr><tr><td>NK</td><td>MCO</td><td>ACY</td></tr><tr><td>DL</td><td>ORD</td><td>CVG</td></tr><tr><td>US</td><td>CLT</td><td>STT</td></tr><tr><td>B6</td><td>BOS</td><td>SMF</td></tr><tr><td>WN</td><td>MSY</td><td>DEN</td></tr><tr><td>DL</td><td>ORF</td><td>ATL</td></tr><tr><td>WN</td><td>MCO</td><td>MEM</td></tr><tr><td>F9</td><td>OKC</td><td>DEN</td></tr><tr><td>UA</td><td>ORD</td><td>IAD</td></tr><tr><td>AS</td><td>SEA</td><td>FAI</td></tr><tr><td>UA</td><td>IAH</td><td>SNA</td></tr><tr><td>WN</td><td>IND</td><td>DEN</td></tr><tr><td>US</td><td>PHX</td><td>DFW</td></tr><tr><td>WN</td><td>PBI</td><td>PVD</td></tr><tr><td>UA</td><td>PSP</td><td>ORD</td></tr><tr><td>OO</td><td>MRY</td><td>LAX</td></tr><tr><td>OO</td><td>DFW</td><td>CVG</td></tr><tr><td>AA</td><td>LGA</td><td>CLT</td></tr><tr><td>UA</td><td>SEA</td><td>LAX</td></tr><tr><td>UA</td><td>ROC</td><td>ORD</td></tr><tr><td>US</td><td>CLT</td><td>TPA</td></tr><tr><td>DL</td><td>PIT</td><td>JFK</td></tr><tr><td>F9</td><td>DEN</td><td>IDA</td></tr><tr><td>AA</td><td>MCO</td><td>PHL</td></tr><tr><td>WN</td><td>AUS</td><td>LBB</td></tr><tr><td>DL</td><td>ABE</td><td>ATL</td></tr><tr><td>MQ</td><td>DFW</td><td>COU</td></tr><tr><td>WN</td><td>ATL</td><td>SAT</td></tr><tr><td>DL</td><td>LGA</td><td>MIA</td></tr><tr><td>MQ</td><td>DFW</td><td>ABI</td></tr><tr><td>OO</td><td>BZN</td><td>DEN</td></tr><tr><td>F9</td><td>DEN</td><td>LAX</td></tr><tr><td>AA</td><td>MSY</td><td>DCA</td></tr><tr><td>WN</td><td>TPA</td><td>MDW</td></tr><tr><td>US</td><td>PHL</td><td>MCO</td></tr><tr><td>AA</td><td>MSP</td><td>MIA</td></tr><tr><td>OO</td><td>DFW</td><td>DEN</td></tr><tr><td>OO</td><td>SBP</td><td>SFO</td></tr><tr><td>AS</td><td>GST</td><td>JNU</td></tr><tr><td>WN</td><td>BNA</td><td>SAN</td></tr><tr><td>WN</td><td>SFO</td><td>DAL</td></tr><tr><td>EV</td><td>BOS</td><td>DTW</td></tr><tr><td>US</td><td>PHL</td><td>JAX</td></tr><tr><td>MQ</td><td>BNA</td><td>LGA</td></tr><tr><td>OO</td><td>BMI</td><td>MSP</td></tr><tr><td>EV</td><td>LAW</td><td>DFW</td></tr><tr><td>OO</td><td>ORD</td><td>BZN</td></tr><tr><td>UA</td><td>LAX</td><td>EWR</td></tr><tr><td>AA</td><td>SAN</td><td>JFK</td></tr><tr><td>MQ</td><td>DFW</td><td>TYS</td></tr><tr><td>DL</td><td>ATL</td><td>AUS</td></tr><tr><td>OO</td><td>DEN</td><td>OTH</td></tr><tr><td>OO</td><td>SLC</td><td>PIH</td></tr><tr><td>EV</td><td>DFW</td><td>TLH</td></tr><tr><td>UA</td><td>IND</td><td>SFO</td></tr><tr><td>OO</td><td>MSP</td><td>FCA</td></tr><tr><td>US</td><td>PHL</td><td>TPA</td></tr><tr><td>VX</td><td>LAX</td><td>EWR</td></tr><tr><td>AA</td><td>CLT</td><td>SYR</td></tr><tr><td>AS</td><td>ANC</td><td>KOA</td></tr><tr><td>DL</td><td>CAK</td><td>ATL</td></tr><tr><td>EV</td><td>EWR</td><td>BOS</td></tr><tr><td>AS</td><td>SCC</td><td>BRW</td></tr><tr><td>OO</td><td>ATL</td><td>XNA</td></tr><tr><td>EV</td><td>MSY</td><td>IAH</td></tr><tr><td>MQ</td><td>HSV</td><td>DCA</td></tr><tr><td>UA</td><td>ORD</td><td>DCA</td></tr><tr><td>OO</td><td>BZN</td><td>ORD</td></tr><tr><td>WN</td><td>BNA</td><td>PHL</td></tr><tr><td>OO</td><td>SBA</td><td>PHX</td></tr><tr><td>DL</td><td>MSP</td><td>ATW</td></tr><tr><td>B6</td><td>DCA</td><td>ACK</td></tr><tr><td>WN</td><td>TPA</td><td>GRR</td></tr><tr><td>OO</td><td>CAE</td><td>ORD</td></tr><tr><td>EV</td><td>DEN</td><td>PIT</td></tr><tr><td>WN</td><td>TUS</td><td>SAN</td></tr><tr><td>DL</td><td>ATL</td><td>BHM</td></tr><tr><td>WN</td><td>DAL</td><td>BNA</td></tr><tr><td>WN</td><td>DEN</td><td>BWI</td></tr><tr><td>F9</td><td>PHL</td><td>IAH</td></tr><tr><td>EV</td><td>EWR</td><td>ORF</td></tr><tr><td>AA</td><td>CLT</td><td>DFW</td></tr><tr><td>OO</td><td>PIT</td><td>DEN</td></tr><tr><td>EV</td><td>AGS</td><td>LGA</td></tr><tr><td>OO</td><td>ORD</td><td>DEN</td></tr><tr><td>UA</td><td>MCO</td><td>ORD</td></tr><tr><td>AA</td><td>PHL</td><td>SJU</td></tr><tr><td>NK</td><td>LAX</td><td>FLL</td></tr><tr><td>UA</td><td>LIH</td><td>DEN</td></tr><tr><td>DL</td><td>MIA</td><td>LGA</td></tr><tr><td>EV</td><td>IAH</td><td>HSV</td></tr><tr><td>UA</td><td>DEN</td><td>GRR</td></tr><tr><td>DL</td><td>LAX</td><td>HNL</td></tr><tr><td>AA</td><td>JAC</td><td>ORD</td></tr><tr><td>VX</td><td>SFO</td><td>JFK</td></tr><tr><td>OO</td><td>DFW</td><td>ORD</td></tr><tr><td>UA</td><td>ABQ</td><td>DEN</td></tr><tr><td>US</td><td>DFW</td><td>CLT</td></tr><tr><td>NK</td><td>LAX</td><td>CLE</td></tr><tr><td>UA</td><td>ORD</td><td>SFO</td></tr><tr><td>OO</td><td>ORD</td><td>CAK</td></tr><tr><td>WN</td><td>HOU</td><td>SEA</td></tr><tr><td>UA</td><td>EWR</td><td>SJU</td></tr><tr><td>WN</td><td>MSY</td><td>EWR</td></tr><tr><td>UA</td><td>LGA</td><td>IAH</td></tr><tr><td>WN</td><td>DEN</td><td>SAN</td></tr><tr><td>OO</td><td>SLC</td><td>EKO</td></tr><tr><td>DL</td><td>DFW</td><td>MSP</td></tr><tr><td>UA</td><td>SAT</td><td>ORD</td></tr><tr><td>AS</td><td>BLI</td><td>LAS</td></tr><tr><td>MQ</td><td>OKC</td><td>ORD</td></tr><tr><td>OO</td><td>ORF</td><td>ORD</td></tr><tr><td>AA</td><td>PDX</td><td>LAX</td></tr><tr><td>OO</td><td>GRB</td><td>ATL</td></tr><tr><td>UA</td><td>SFO</td><td>EWR</td></tr><tr><td>AA</td><td>TPA</td><td>DFW</td></tr><tr><td>AA</td><td>PHX</td><td>LIH</td></tr><tr><td>F9</td><td>ATL</td><td>IAD</td></tr><tr><td>NK</td><td>LAS</td><td>DFW</td></tr><tr><td>UA</td><td>LAX</td><td>MSN</td></tr><tr><td>UA</td><td>CLE</td><td>IAH</td></tr><tr><td>EV</td><td>BTR</td><td>ATL</td></tr><tr><td>WN</td><td>DEN</td><td>PHL</td></tr><tr><td>EV</td><td>DSM</td><td>DEN</td></tr><tr><td>B6</td><td>PSE</td><td>MCO</td></tr><tr><td>EV</td><td>EWR</td><td>IAD</td></tr><tr><td>DL</td><td>PDX</td><td>SLC</td></tr><tr><td>OO</td><td>IAH</td><td>DCA</td></tr><tr><td>F9</td><td>PHL</td><td>TPA</td></tr><tr><td>WN</td><td>ECP</td><td>STL</td></tr><tr><td>EV</td><td>IAH</td><td>HDN</td></tr><tr><td>EV</td><td>MSP</td><td>MCI</td></tr><tr><td>OO</td><td>ORD</td><td>HDN</td></tr><tr><td>AS</td><td>SFO</td><td>SEA</td></tr><tr><td>EV</td><td>DTW</td><td>BDL</td></tr><tr><td>EV</td><td>DFW</td><td>SPS</td></tr><tr><td>OO</td><td>IAH</td><td>MKE</td></tr><tr><td>WN</td><td>MDW</td><td>PHL</td></tr><tr><td>OO</td><td>MLI</td><td>ORD</td></tr><tr><td>B6</td><td>BDL</td><td>TPA</td></tr><tr><td>OO</td><td>SLC</td><td>VEL</td></tr><tr><td>EV</td><td>CSG</td><td>ATL</td></tr><tr><td>WN</td><td>MAF</td><td>LAS</td></tr><tr><td>B6</td><td>TPA</td><td>DCA</td></tr><tr><td>AS</td><td>KOA</td><td>OAK</td></tr><tr><td>DL</td><td>LGA</td><td>SYR</td></tr><tr><td>EV</td><td>EWN</td><td>ATL</td></tr><tr><td>EV</td><td>BWI</td><td>DTW</td></tr><tr><td>AA</td><td>ORD</td><td>LAX</td></tr><tr><td>WN</td><td>SNA</td><td>SFO</td></tr><tr><td>DL</td><td>PDX</td><td>ATL</td></tr><tr><td>NK</td><td>LAS</td><td>MSP</td></tr><tr><td>EV</td><td>MSY</td><td>ORD</td></tr><tr><td>WN</td><td>BWI</td><td>SAT</td></tr><tr><td>UA</td><td>SJU</td><td>EWR</td></tr><tr><td>DL</td><td>LAX</td><td>IND</td></tr><tr><td>WN</td><td>BWI</td><td>DAL</td></tr><tr><td>DL</td><td>VPS</td><td>ATL</td></tr><tr><td>DL</td><td>LAX</td><td>PHX</td></tr><tr><td>EV</td><td>DTW</td><td>MBS</td></tr><tr><td>DL</td><td>DTW</td><td>IAH</td></tr><tr><td>WN</td><td>SJC</td><td>SNA</td></tr><tr><td>WN</td><td>MDW</td><td>DCA</td></tr><tr><td>OO</td><td>MKE</td><td>SEA</td></tr><tr><td>WN</td><td>LAS</td><td>LAX</td></tr><tr><td>US</td><td>PHL</td><td>ATL</td></tr><tr><td>WN</td><td>ONT</td><td>SJC</td></tr><tr><td>AA</td><td>DFW</td><td>RNO</td></tr><tr><td>EV</td><td>SAT</td><td>DEN</td></tr><tr><td>NK</td><td>FLL</td><td>BWI</td></tr><tr><td>WN</td><td>PVD</td><td>PBI</td></tr><tr><td>AS</td><td>PDX</td><td>LAS</td></tr><tr><td>MQ</td><td>GNV</td><td>MIA</td></tr><tr><td>OO</td><td>DEN</td><td>SJC</td></tr><tr><td>OO</td><td>ORD</td><td>MIA</td></tr><tr><td>OO</td><td>OMA</td><td>ORD</td></tr><tr><td>DL</td><td>JFK</td><td>CVG</td></tr><tr><td>EV</td><td>IAH</td><td>SLC</td></tr><tr><td>EV</td><td>IAD</td><td>BTV</td></tr><tr><td>HA</td><td>OGG</td><td>LAX</td></tr><tr><td>MQ</td><td>ORD</td><td>HSV</td></tr><tr><td>VX</td><td>PSP</td><td>SFO</td></tr><tr><td>EV</td><td>BUF</td><td>IAD</td></tr><tr><td>EV</td><td>ACT</td><td>DFW</td></tr><tr><td>DL</td><td>FLL</td><td>BOS</td></tr><tr><td>OO</td><td>FWA</td><td>ORD</td></tr><tr><td>DL</td><td>MSP</td><td>JFK</td></tr><tr><td>MQ</td><td>EWR</td><td>ORD</td></tr><tr><td>NK</td><td>DTW</td><td>DEN</td></tr><tr><td>EV</td><td>TXK</td><td>DFW</td></tr><tr><td>WN</td><td>BNA</td><td>FLL</td></tr><tr><td>AA</td><td>MIA</td><td>BWI</td></tr><tr><td>WN</td><td>SJU</td><td>TPA</td></tr><tr><td>DL</td><td>ATL</td><td>SFO</td></tr><tr><td>EV</td><td>JAX</td><td>BOS</td></tr><tr><td>AA</td><td>MFE</td><td>DFW</td></tr><tr><td>AA</td><td>DFW</td><td>PBI</td></tr><tr><td>MQ</td><td>DTW</td><td>ORD</td></tr><tr><td>WN</td><td>MDW</td><td>ATL</td></tr><tr><td>OO</td><td>HLN</td><td>MSP</td></tr><tr><td>AS</td><td>HNL</td><td>OAK</td></tr><tr><td>WN</td><td>GRR</td><td>MCO</td></tr><tr><td>WN</td><td>MDW</td><td>JAX</td></tr><tr><td>UA</td><td>ORD</td><td>TPA</td></tr><tr><td>DL</td><td>ATL</td><td>GRR</td></tr><tr><td>US</td><td>IND</td><td>CLT</td></tr><tr><td>EV</td><td>DFW</td><td>GSO</td></tr><tr><td>WN</td><td>STL</td><td>LGA</td></tr><tr><td>OO</td><td>ORD</td><td>PAH</td></tr><tr><td>OO</td><td>PHX</td><td>SBP</td></tr><tr><td>WN</td><td>STL</td><td>FLL</td></tr><tr><td>AA</td><td>STT</td><td>MIA</td></tr><tr><td>OO</td><td>DTW</td><td>EVV</td></tr><tr><td>WN</td><td>ALB</td><td>DEN</td></tr><tr><td>AS</td><td>WRG</td><td>PSG</td></tr><tr><td>OO</td><td>DTW</td><td>ORD</td></tr><tr><td>WN</td><td>MAF</td><td>DAL</td></tr><tr><td>EV</td><td>LGA</td><td>CLE</td></tr><tr><td>DL</td><td>ATL</td><td>LEX</td></tr><tr><td>UA</td><td>SRQ</td><td>EWR</td></tr><tr><td>WN</td><td>OMA</td><td>MDW</td></tr><tr><td>WN</td><td>BUF</td><td>MCO</td></tr><tr><td>OO</td><td>SLC</td><td>OAK</td></tr><tr><td>F9</td><td>MCO</td><td>MDT</td></tr><tr><td>OO</td><td>ORD</td><td>MLI</td></tr><tr><td>MQ</td><td>PIA</td><td>DFW</td></tr><tr><td>AA</td><td>CLT</td><td>AUS</td></tr><tr><td>DL</td><td>DEN</td><td>LGA</td></tr><tr><td>AA</td><td>AUS</td><td>CLT</td></tr><tr><td>NK</td><td>CLE</td><td>RSW</td></tr><tr><td>WN</td><td>MCI</td><td>LAS</td></tr><tr><td>UA</td><td>BOS</td><td>DEN</td></tr><tr><td>DL</td><td>DTW</td><td>GRR</td></tr><tr><td>MQ</td><td>DFW</td><td>JAN</td></tr><tr><td>B6</td><td>JFK</td><td>IAD</td></tr><tr><td>B6</td><td>BWI</td><td>BOS</td></tr><tr><td>WN</td><td>BWI</td><td>RSW</td></tr><tr><td>B6</td><td>JFK</td><td>HOU</td></tr><tr><td>EV</td><td>DTW</td><td>EWR</td></tr><tr><td>DL</td><td>BZN</td><td>MSP</td></tr><tr><td>B6</td><td>MCO</td><td>SYR</td></tr><tr><td>DL</td><td>ATL</td><td>DAL</td></tr><tr><td>EV</td><td>IAH</td><td>LIT</td></tr><tr><td>EV</td><td>IAH</td><td>PBI</td></tr><tr><td>WN</td><td>SNA</td><td>PHX</td></tr><tr><td>NK</td><td>TPA</td><td>IAH</td></tr><tr><td>OO</td><td>MSY</td><td>DEN</td></tr><tr><td>AA</td><td>CLT</td><td>SMF</td></tr><tr><td>EV</td><td>DEN</td><td>HDN</td></tr><tr><td>DL</td><td>SAT</td><td>SLC</td></tr><tr><td>UA</td><td>ORD</td><td>BWI</td></tr><tr><td>DL</td><td>ATL</td><td>PBI</td></tr><tr><td>OO</td><td>SEA</td><td>MKE</td></tr><tr><td>NK</td><td>LAS</td><td>OAK</td></tr><tr><td>OO</td><td>PHX</td><td>SAT</td></tr><tr><td>EV</td><td>MKE</td><td>IAH</td></tr><tr><td>EV</td><td>BGR</td><td>LGA</td></tr><tr><td>EV</td><td>EWR</td><td>DSM</td></tr><tr><td>EV</td><td>PWM</td><td>ORD</td></tr><tr><td>UA</td><td>SFO</td><td>BWI</td></tr><tr><td>F9</td><td>MSY</td><td>ATL</td></tr><tr><td>UA</td><td>TUL</td><td>IAH</td></tr><tr><td>MQ</td><td>JFK</td><td>ORF</td></tr><tr><td>EV</td><td>BHM</td><td>DTW</td></tr><tr><td>OO</td><td>MSP</td><td>BJI</td></tr><tr><td>OO</td><td>DEN</td><td>MSO</td></tr><tr><td>AA</td><td>MIA</td><td>TUL</td></tr><tr><td>WN</td><td>TPA</td><td>ATL</td></tr><tr><td>EV</td><td>IAH</td><td>CHS</td></tr><tr><td>EV</td><td>LEX</td><td>IAH</td></tr><tr><td>WN</td><td>DAL</td><td>OAK</td></tr><tr><td>EV</td><td>MKE</td><td>LGA</td></tr><tr><td>DL</td><td>AUS</td><td>JFK</td></tr><tr><td>AA</td><td>CLT</td><td>IND</td></tr><tr><td>MQ</td><td>ORD</td><td>CLE</td></tr><tr><td>AS</td><td>OGG</td><td>PDX</td></tr><tr><td>WN</td><td>SEA</td><td>DAL</td></tr><tr><td>MQ</td><td>EYW</td><td>MIA</td></tr><tr><td>MQ</td><td>LEX</td><td>DFW</td></tr><tr><td>EV</td><td>ELM</td><td>DTW</td></tr><tr><td>WN</td><td>PDX</td><td>AUS</td></tr><tr><td>B6</td><td>ORH</td><td>MCO</td></tr><tr><td>EV</td><td>ORD</td><td>TUL</td></tr><tr><td>OO</td><td>SEA</td><td>SLC</td></tr><tr><td>DL</td><td>SDF</td><td>ATL</td></tr><tr><td>EV</td><td>BNA</td><td>LGA</td></tr><tr><td>DL</td><td>ICT</td><td>MSP</td></tr><tr><td>EV</td><td>MOB</td><td>DFW</td></tr><tr><td>DL</td><td>CRW</td><td>ATL</td></tr><tr><td>UA</td><td>ORD</td><td>SJU</td></tr><tr><td>UA</td><td>OGG</td><td>DEN</td></tr><tr><td>DL</td><td>ATL</td><td>MDT</td></tr><tr><td>UA</td><td>SFO</td><td>PDX</td></tr><tr><td>WN</td><td>SFO</td><td>PHX</td></tr><tr><td>WN</td><td>DEN</td><td>STL</td></tr><tr><td>B6</td><td>JAX</td><td>FLL</td></tr><tr><td>WN</td><td>SNA</td><td>OAK</td></tr><tr><td>OO</td><td>HYS</td><td>DEN</td></tr><tr><td>HA</td><td>HNL</td><td>OAK</td></tr><tr><td>AS</td><td>HNL</td><td>SJC</td></tr><tr><td>AA</td><td>PHX</td><td>DEN</td></tr><tr><td>OO</td><td>DTW</td><td>APN</td></tr><tr><td>MQ</td><td>DFW</td><td>SAV</td></tr><tr><td>WN</td><td>CMH</td><td>MDW</td></tr><tr><td>US</td><td>PHX</td><td>MCO</td></tr><tr><td>DL</td><td>DTW</td><td>BDL</td></tr><tr><td>DL</td><td>DTW</td><td>MEM</td></tr><tr><td>DL</td><td>SAN</td><td>ATL</td></tr><tr><td>US</td><td>PHX</td><td>ORD</td></tr><tr><td>WN</td><td>DEN</td><td>MKE</td></tr><tr><td>UA</td><td>ATL</td><td>EWR</td></tr><tr><td>B6</td><td>BQN</td><td>MCO</td></tr><tr><td>EV</td><td>ATL</td><td>HOU</td></tr><tr><td>EV</td><td>DEN</td><td>GRR</td></tr><tr><td>VX</td><td>SFO</td><td>ORD</td></tr><tr><td>EV</td><td>ATL</td><td>LEX</td></tr><tr><td>WN</td><td>FLL</td><td>BNA</td></tr><tr><td>DL</td><td>ATL</td><td>FLL</td></tr><tr><td>EV</td><td>ORD</td><td>SCE</td></tr><tr><td>DL</td><td>ALB</td><td>ATL</td></tr><tr><td>EV</td><td>DTW</td><td>DCA</td></tr><tr><td>OO</td><td>MSP</td><td>HIB</td></tr><tr><td>AA</td><td>MIA</td><td>IAH</td></tr><tr><td>DL</td><td>RSW</td><td>MSP</td></tr><tr><td>OO</td><td>PDX</td><td>SFO</td></tr><tr><td>EV</td><td>MKE</td><td>MSP</td></tr><tr><td>AS</td><td>SEA</td><td>SAN</td></tr><tr><td>EV</td><td>ORD</td><td>CAK</td></tr><tr><td>OO</td><td>SAF</td><td>LAX</td></tr><tr><td>OO</td><td>MSY</td><td>ORD</td></tr><tr><td>AA</td><td>BNA</td><td>LAX</td></tr><tr><td>US</td><td>PHX</td><td>SEA</td></tr><tr><td>AA</td><td>LAX</td><td>PBI</td></tr><tr><td>B6</td><td>FLL</td><td>BUF</td></tr><tr><td>WN</td><td>OAK</td><td>SNA</td></tr><tr><td>EV</td><td>ORD</td><td>CAE</td></tr><tr><td>DL</td><td>MSP</td><td>PHL</td></tr><tr><td>AS</td><td>HNL</td><td>SAN</td></tr><tr><td>NK</td><td>ORD</td><td>RSW</td></tr><tr><td>OO</td><td>SEA</td><td>KTN</td></tr><tr><td>EV</td><td>BNA</td><td>ATL</td></tr><tr><td>OO</td><td>MAF</td><td>DEN</td></tr><tr><td>OO</td><td>DEN</td><td>TUL</td></tr><tr><td>OO</td><td>IAH</td><td>ORD</td></tr><tr><td>AA</td><td>IAD</td><td>CLT</td></tr><tr><td>UA</td><td>AUS</td><td>SFO</td></tr><tr><td>DL</td><td>BWI</td><td>ATL</td></tr><tr><td>NK</td><td>OAK</td><td>LAS</td></tr><tr><td>US</td><td>DCA</td><td>MCI</td></tr><tr><td>EV</td><td>JAX</td><td>IAH</td></tr><tr><td>EV</td><td>JAX</td><td>IAD</td></tr><tr><td>EV</td><td>CLE</td><td>DFW</td></tr><tr><td>UA</td><td>AUS</td><td>ORD</td></tr><tr><td>DL</td><td>MSP</td><td>MEM</td></tr><tr><td>WN</td><td>TPA</td><td>AUS</td></tr><tr><td>OO</td><td>DIK</td><td>MSP</td></tr><tr><td>EV</td><td>IAH</td><td>LEX</td></tr><tr><td>MQ</td><td>DCA</td><td>JFK</td></tr><tr><td>WN</td><td>MKE</td><td>DEN</td></tr><tr><td>UA</td><td>IAD</td><td>SMF</td></tr><tr><td>UA</td><td>MCO</td><td>SFO</td></tr><tr><td>WN</td><td>LAX</td><td>AUS</td></tr><tr><td>OO</td><td>SLC</td><td>TUS</td></tr><tr><td>OO</td><td>MTJ</td><td>ORD</td></tr><tr><td>OO</td><td>SLC</td><td>ONT</td></tr><tr><td>AA</td><td>ORD</td><td>RDU</td></tr><tr><td>OO</td><td>ATL</td><td>SBN</td></tr><tr><td>WN</td><td>TPA</td><td>ROC</td></tr><tr><td>US</td><td>BOS</td><td>LGA</td></tr><tr><td>DL</td><td>JFK</td><td>SEA</td></tr><tr><td>EV</td><td>DFW</td><td>ICT</td></tr><tr><td>EV</td><td>ROA</td><td>ORD</td></tr><tr><td>B6</td><td>JFK</td><td>SJC</td></tr><tr><td>DL</td><td>ILM</td><td>ATL</td></tr><tr><td>AA</td><td>JFK</td><td>SAN</td></tr><tr><td>B6</td><td>LAS</td><td>SFO</td></tr><tr><td>EV</td><td>TYS</td><td>DTW</td></tr><tr><td>UA</td><td>BTV</td><td>ORD</td></tr><tr><td>EV</td><td>LGA</td><td>OMA</td></tr><tr><td>OO</td><td>DTW</td><td>MCI</td></tr><tr><td>VX</td><td>FLL</td><td>JFK</td></tr><tr><td>B6</td><td>MCO</td><td>HPN</td></tr><tr><td>MQ</td><td>ORD</td><td>MSP</td></tr><tr><td>WN</td><td>CAK</td><td>BOS</td></tr><tr><td>UA</td><td>SEA</td><td>EWR</td></tr><tr><td>EV</td><td>DTW</td><td>GRB</td></tr><tr><td>OO</td><td>IAH</td><td>RAP</td></tr><tr><td>DL</td><td>MSP</td><td>RSW</td></tr><tr><td>US</td><td>PHL</td><td>BWI</td></tr><tr><td>UA</td><td>SFO</td><td>LAS</td></tr><tr><td>EV</td><td>ILM</td><td>LGA</td></tr><tr><td>EV</td><td>OKC</td><td>MSP</td></tr><tr><td>WN</td><td>LAS</td><td>OMA</td></tr><tr><td>EV</td><td>MBS</td><td>DTW</td></tr><tr><td>OO</td><td>RAP</td><td>DEN</td></tr><tr><td>WN</td><td>CAK</td><td>DCA</td></tr><tr><td>OO</td><td>MSP</td><td>PSC</td></tr><tr><td>US</td><td>HNL</td><td>PHX</td></tr><tr><td>EV</td><td>EWR</td><td>CLE</td></tr><tr><td>MQ</td><td>GRB</td><td>ORD</td></tr><tr><td>AA</td><td>PWM</td><td>CLT</td></tr><tr><td>EV</td><td>AEX</td><td>DFW</td></tr><tr><td>EV</td><td>ATW</td><td>DTW</td></tr><tr><td>AA</td><td>PHL</td><td>PBI</td></tr><tr><td>EV</td><td>MDT</td><td>ORD</td></tr><tr><td>WN</td><td>MCI</td><td>PDX</td></tr><tr><td>WN</td><td>ABQ</td><td>OAK</td></tr><tr><td>OO</td><td>LAX</td><td>SAT</td></tr><tr><td>WN</td><td>STL</td><td>BWI</td></tr><tr><td>DL</td><td>ALB</td><td>DTW</td></tr><tr><td>EV</td><td>DEN</td><td>OMA</td></tr><tr><td>WN</td><td>FNT</td><td>TPA</td></tr><tr><td>WN</td><td>TPA</td><td>CMH</td></tr><tr><td>AA</td><td>PHL</td><td>AUS</td></tr><tr><td>EV</td><td>SLC</td><td>DEN</td></tr><tr><td>UA</td><td>ICT</td><td>DEN</td></tr><tr><td>NK</td><td>SJU</td><td>FLL</td></tr><tr><td>WN</td><td>TUS</td><td>LAS</td></tr><tr><td>EV</td><td>GRB</td><td>DTW</td></tr><tr><td>US</td><td>SFO</td><td>PHX</td></tr><tr><td>VX</td><td>LAX</td><td>SEA</td></tr><tr><td>OO</td><td>SMF</td><td>SLC</td></tr><tr><td>AA</td><td>ANC</td><td>DFW</td></tr><tr><td>NK</td><td>CLE</td><td>MCO</td></tr><tr><td>WN</td><td>MDW</td><td>ABQ</td></tr><tr><td>WN</td><td>DTW</td><td>DEN</td></tr><tr><td>OO</td><td>DEN</td><td>HDN</td></tr><tr><td>WN</td><td>SAN</td><td>SFO</td></tr><tr><td>MQ</td><td>DFW</td><td>GPT</td></tr><tr><td>DL</td><td>ATL</td><td>ABQ</td></tr><tr><td>OO</td><td>OKC</td><td>IAH</td></tr><tr><td>WN</td><td>TUS</td><td>MDW</td></tr><tr><td>US</td><td>GEG</td><td>PHX</td></tr><tr><td>UA</td><td>STL</td><td>ORD</td></tr><tr><td>DL</td><td>ATL</td><td>LFT</td></tr><tr><td>NK</td><td>IAH</td><td>MSP</td></tr><tr><td>NK</td><td>LAS</td><td>BWI</td></tr><tr><td>WN</td><td>TPA</td><td>MKE</td></tr><tr><td>WN</td><td>SNA</td><td>SEA</td></tr><tr><td>DL</td><td>MSP</td><td>XNA</td></tr><tr><td>UA</td><td>ORD</td><td>OKC</td></tr><tr><td>UA</td><td>BNA</td><td>DEN</td></tr><tr><td>WN</td><td>STL</td><td>ECP</td></tr><tr><td>DL</td><td>MSN</td><td>ATL</td></tr><tr><td>DL</td><td>SLC</td><td>DCA</td></tr><tr><td>UA</td><td>ORD</td><td>BTV</td></tr><tr><td>OO</td><td>PIT</td><td>CVG</td></tr><tr><td>OO</td><td>SEA</td><td>OKC</td></tr><tr><td>DL</td><td>PBI</td><td>ATL</td></tr><tr><td>DL</td><td>ATL</td><td>SAV</td></tr><tr><td>F9</td><td>SAN</td><td>DEN</td></tr><tr><td>DL</td><td>SLC</td><td>IND</td></tr><tr><td>OO</td><td>ORD</td><td>MKG</td></tr><tr><td>AA</td><td>ORD</td><td>EGE</td></tr><tr><td>OO</td><td>BUR</td><td>PHX</td></tr><tr><td>UA</td><td>BOI</td><td>DEN</td></tr><tr><td>OO</td><td>IAH</td><td>ICT</td></tr><tr><td>DL</td><td>LAX</td><td>CVG</td></tr><tr><td>DL</td><td>ATL</td><td>STL</td></tr><tr><td>DL</td><td>SJU</td><td>DTW</td></tr><tr><td>NK</td><td>IAH</td><td>DTW</td></tr><tr><td>UA</td><td>LAS</td><td>LAX</td></tr><tr><td>UA</td><td>EWR</td><td>PHX</td></tr><tr><td>AA</td><td>BUF</td><td>CLT</td></tr><tr><td>OO</td><td>ORD</td><td>SBN</td></tr><tr><td>DL</td><td>LGA</td><td>CLE</td></tr><tr><td>OO</td><td>CMH</td><td>DTW</td></tr><tr><td>MQ</td><td>DFW</td><td>MEM</td></tr><tr><td>WN</td><td>BUR</td><td>OAK</td></tr><tr><td>WN</td><td>PHX</td><td>RDU</td></tr><tr><td>MQ</td><td>ORD</td><td>FSD</td></tr><tr><td>AA</td><td>BDL</td><td>MIA</td></tr><tr><td>EV</td><td>GSO</td><td>IAD</td></tr><tr><td>OO</td><td>BHM</td><td>ORD</td></tr><tr><td>WN</td><td>MSY</td><td>ATL</td></tr><tr><td>EV</td><td>DFW</td><td>CLL</td></tr><tr><td>EV</td><td>CVG</td><td>EWR</td></tr><tr><td>DL</td><td>DTW</td><td>DEN</td></tr><tr><td>UA</td><td>PIT</td><td>SFO</td></tr><tr><td>OO</td><td>IAH</td><td>IAD</td></tr><tr><td>WN</td><td>SAN</td><td>PDX</td></tr><tr><td>EV</td><td>DFW</td><td>DTW</td></tr><tr><td>DL</td><td>CVG</td><td>BOS</td></tr><tr><td>OO</td><td>MFE</td><td>IAH</td></tr><tr><td>DL</td><td>ATL</td><td>SNA</td></tr><tr><td>OO</td><td>PUB</td><td>DEN</td></tr><tr><td>MQ</td><td>ORD</td><td>BDL</td></tr><tr><td>EV</td><td>CRW</td><td>ATL</td></tr><tr><td>AA</td><td>MIA</td><td>SAT</td></tr><tr><td>UA</td><td>IAH</td><td>JAC</td></tr><tr><td>UA</td><td>CLE</td><td>MCO</td></tr><tr><td>MQ</td><td>DFW</td><td>LBB</td></tr><tr><td>F9</td><td>DEN</td><td>SLC</td></tr><tr><td>EV</td><td>MKE</td><td>CLE</td></tr><tr><td>WN</td><td>CMH</td><td>RSW</td></tr><tr><td>OO</td><td>DSM</td><td>MSP</td></tr><tr><td>EV</td><td>MLI</td><td>DFW</td></tr><tr><td>EV</td><td>RAP</td><td>IAH</td></tr><tr><td>OO</td><td>XNA</td><td>ORD</td></tr><tr><td>AA</td><td>SJU</td><td>MIA</td></tr><tr><td>US</td><td>CLT</td><td>SJU</td></tr><tr><td>US</td><td>PDX</td><td>PHX</td></tr><tr><td>US</td><td>PDX</td><td>CLT</td></tr><tr><td>AS</td><td>SNA</td><td>PDX</td></tr><tr><td>UA</td><td>SNA</td><td>ORD</td></tr><tr><td>AA</td><td>ABQ</td><td>DFW</td></tr><tr><td>DL</td><td>LAX</td><td>OGG</td></tr><tr><td>WN</td><td>MDW</td><td>EWR</td></tr><tr><td>WN</td><td>MDW</td><td>PHX</td></tr><tr><td>OO</td><td>PHX</td><td>MRY</td></tr><tr><td>DL</td><td>DTW</td><td>EWR</td></tr><tr><td>MQ</td><td>AZO</td><td>ORD</td></tr><tr><td>EV</td><td>ORD</td><td>IND</td></tr><tr><td>WN</td><td>PDX</td><td>MCI</td></tr><tr><td>WN</td><td>LAX</td><td>BNA</td></tr><tr><td>US</td><td>LAS</td><td>PHL</td></tr><tr><td>DL</td><td>ATL</td><td>DEN</td></tr><tr><td>EV</td><td>DTW</td><td>AVP</td></tr><tr><td>WN</td><td>TUL</td><td>LAS</td></tr><tr><td>WN</td><td>SAT</td><td>LAS</td></tr><tr><td>EV</td><td>STL</td><td>DTW</td></tr><tr><td>EV</td><td>GRR</td><td>ORD</td></tr><tr><td>F9</td><td>RDU</td><td>DEN</td></tr><tr><td>OO</td><td>BUF</td><td>ORD</td></tr><tr><td>AA</td><td>IND</td><td>CLT</td></tr><tr><td>DL</td><td>DTW</td><td>MDW</td></tr><tr><td>DL</td><td>MCO</td><td>CVG</td></tr><tr><td>DL</td><td>TUL</td><td>DTW</td></tr><tr><td>EV</td><td>DEN</td><td>TUL</td></tr><tr><td>OO</td><td>MSP</td><td>BZN</td></tr><tr><td>EV</td><td>ORF</td><td>ORD</td></tr><tr><td>B6</td><td>LAS</td><td>JFK</td></tr><tr><td>DL</td><td>MSP</td><td>BZN</td></tr><tr><td>EV</td><td>DEN</td><td>COS</td></tr><tr><td>WN</td><td>OAK</td><td>SEA</td></tr><tr><td>AA</td><td>PHL</td><td>RDU</td></tr><tr><td>OO</td><td>GTF</td><td>MSP</td></tr><tr><td>WN</td><td>MDW</td><td>LAX</td></tr><tr><td>UA</td><td>LAX</td><td>BOS</td></tr><tr><td>MQ</td><td>DFW</td><td>FSD</td></tr><tr><td>NK</td><td>LGA</td><td>DTW</td></tr><tr><td>WN</td><td>BNA</td><td>SEA</td></tr><tr><td>EV</td><td>DFW</td><td>TXK</td></tr><tr><td>MQ</td><td>DFW</td><td>GSP</td></tr><tr><td>WN</td><td>PHX</td><td>ELP</td></tr><tr><td>WN</td><td>MCO</td><td>HOU</td></tr><tr><td>B6</td><td>JFK</td><td>SLC</td></tr><tr><td>UA</td><td>SFO</td><td>ORD</td></tr><tr><td>UA</td><td>DSM</td><td>ORD</td></tr><tr><td>B6</td><td>PDX</td><td>LGB</td></tr><tr><td>NK</td><td>PHX</td><td>MSP</td></tr><tr><td>EV</td><td>DTW</td><td>SAT</td></tr><tr><td>OO</td><td>CVG</td><td>MSN</td></tr><tr><td>AA</td><td>CLT</td><td>EWR</td></tr><tr><td>OO</td><td>ATW</td><td>MSP</td></tr><tr><td>EV</td><td>ATL</td><td>STL</td></tr><tr><td>AS</td><td>PDX</td><td>SEA</td></tr><tr><td>US</td><td>MCI</td><td>CLT</td></tr><tr><td>EV</td><td>DRO</td><td>DEN</td></tr><tr><td>DL</td><td>SLC</td><td>ORD</td></tr><tr><td>OO</td><td>AGS</td><td>ATL</td></tr><tr><td>F9</td><td>MSN</td><td>MCO</td></tr><tr><td>AA</td><td>LAX</td><td>PIT</td></tr><tr><td>OO</td><td>SEA</td><td>BZN</td></tr><tr><td>DL</td><td>MSP</td><td>MIA</td></tr><tr><td>AA</td><td>EGE</td><td>LAX</td></tr><tr><td>AA</td><td>PHX</td><td>STL</td></tr><tr><td>EV</td><td>LGA</td><td>ROC</td></tr><tr><td>DL</td><td>SFO</td><td>LAX</td></tr><tr><td>US</td><td>CLT</td><td>MDT</td></tr><tr><td>UA</td><td>SFO</td><td>SEA</td></tr><tr><td>US</td><td>LGA</td><td>CLT</td></tr><tr><td>OO</td><td>SLC</td><td>DFW</td></tr><tr><td>EV</td><td>CLT</td><td>LGA</td></tr><tr><td>WN</td><td>MSY</td><td>MDW</td></tr><tr><td>OO</td><td>SLC</td><td>MSP</td></tr><tr><td>AA</td><td>PHL</td><td>SAN</td></tr><tr><td>UA</td><td>OKC</td><td>IAH</td></tr><tr><td>WN</td><td>DEN</td><td>MSP</td></tr><tr><td>NK</td><td>TPA</td><td>ACY</td></tr><tr><td>MQ</td><td>DFW</td><td>TXK</td></tr><tr><td>AS</td><td>ANC</td><td>OME</td></tr><tr><td>DL</td><td>MKE</td><td>MSP</td></tr><tr><td>DL</td><td>CLT</td><td>ATL</td></tr><tr><td>WN</td><td>RDU</td><td>BWI</td></tr><tr><td>OO</td><td>BDL</td><td>DTW</td></tr><tr><td>AS</td><td>SEA</td><td>BOS</td></tr><tr><td>AA</td><td>SEA</td><td>DFW</td></tr><tr><td>UA</td><td>SFO</td><td>JFK</td></tr><tr><td>EV</td><td>MCO</td><td>MKE</td></tr><tr><td>WN</td><td>MDW</td><td>ORF</td></tr><tr><td>DL</td><td>DAY</td><td>MSP</td></tr><tr><td>WN</td><td>TPA</td><td>ALB</td></tr><tr><td>EV</td><td>ORD</td><td>AVP</td></tr><tr><td>EV</td><td>RIC</td><td>IAH</td></tr><tr><td>UA</td><td>SDF</td><td>ORD</td></tr><tr><td>WN</td><td>OKC</td><td>LAS</td></tr><tr><td>MQ</td><td>DSM</td><td>DFW</td></tr><tr><td>F9</td><td>DEN</td><td>MSY</td></tr><tr><td>NK</td><td>TPA</td><td>LBE</td></tr><tr><td>NK</td><td>MSP</td><td>IAH</td></tr><tr><td>WN</td><td>MCO</td><td>ROC</td></tr><tr><td>EV</td><td>ALB</td><td>DTW</td></tr><tr><td>MQ</td><td>ALO</td><td>ORD</td></tr><tr><td>AA</td><td>RNO</td><td>ORD</td></tr><tr><td>EV</td><td>ORD</td><td>SYR</td></tr><tr><td>OO</td><td>EVV</td><td>DTW</td></tr><tr><td>EV</td><td>MSN</td><td>DFW</td></tr><tr><td>DL</td><td>CAK</td><td>DTW</td></tr><tr><td>B6</td><td>HYA</td><td>JFK</td></tr><tr><td>UA</td><td>PSP</td><td>DEN</td></tr><tr><td>MQ</td><td>LGA</td><td>BNA</td></tr><tr><td>NK</td><td>MCO</td><td>ORD</td></tr><tr><td>MQ</td><td>MIA</td><td>RIC</td></tr><tr><td>UA</td><td>SLC</td><td>ORD</td></tr><tr><td>MQ</td><td>DAY</td><td>LGA</td></tr><tr><td>WN</td><td>ATL</td><td>BOS</td></tr><tr><td>UA</td><td>ANC</td><td>IAH</td></tr><tr><td>DL</td><td>PHX</td><td>CVG</td></tr><tr><td>DL</td><td>HSV</td><td>ATL</td></tr><tr><td>EV</td><td>RAP</td><td>ORD</td></tr><tr><td>WN</td><td>STL</td><td>TUL</td></tr><tr><td>EV</td><td>ATL</td><td>EWR</td></tr><tr><td>OO</td><td>BJI</td><td>MSP</td></tr><tr><td>AA</td><td>DFW</td><td>PIT</td></tr><tr><td>MQ</td><td>DFW</td><td>BMI</td></tr><tr><td>HA</td><td>OAK</td><td>LIH</td></tr><tr><td>WN</td><td>MDW</td><td>ROC</td></tr><tr><td>OO</td><td>IAD</td><td>ORD</td></tr><tr><td>WN</td><td>BOS</td><td>MDW</td></tr><tr><td>WN</td><td>TPA</td><td>ORF</td></tr><tr><td>US</td><td>SAT</td><td>PHL</td></tr><tr><td>WN</td><td>DCA</td><td>MDW</td></tr><tr><td>WN</td><td>MSP</td><td>ATL</td></tr><tr><td>OO</td><td>MSO</td><td>SLC</td></tr><tr><td>B6</td><td>ACK</td><td>BOS</td></tr><tr><td>EV</td><td>EWR</td><td>RDU</td></tr><tr><td>AA</td><td>MCO</td><td>CLT</td></tr><tr><td>AS</td><td>IAH</td><td>SEA</td></tr><tr><td>OO</td><td>CLD</td><td>LAX</td></tr><tr><td>US</td><td>STL</td><td>CLT</td></tr><tr><td>UA</td><td>TPA</td><td>IAD</td></tr><tr><td>WN</td><td>MDW</td><td>AUS</td></tr><tr><td>OO</td><td>LBB</td><td>DEN</td></tr><tr><td>EV</td><td>EWR</td><td>JAX</td></tr><tr><td>AA</td><td>DFW</td><td>HDN</td></tr><tr><td>UA</td><td>RDU</td><td>IAH</td></tr><tr><td>NK</td><td>ATL</td><td>LAS</td></tr><tr><td>NK</td><td>SAN</td><td>ORD</td></tr><tr><td>AA</td><td>CLT</td><td>BDL</td></tr><tr><td>EV</td><td>IAH</td><td>PSP</td></tr><tr><td>OO</td><td>SLC</td><td>RDM</td></tr><tr><td>US</td><td>PHX</td><td>PDX</td></tr><tr><td>OO</td><td>SFO</td><td>TUS</td></tr><tr><td>OO</td><td>FLG</td><td>PHX</td></tr><tr><td>AA</td><td>DFW</td><td>JFK</td></tr><tr><td>DL</td><td>HNL</td><td>ATL</td></tr><tr><td>WN</td><td>CMH</td><td>TPA</td></tr><tr><td>EV</td><td>MEI</td><td>PIB</td></tr><tr><td>AA</td><td>RDU</td><td>DFW</td></tr><tr><td>OO</td><td>IAH</td><td>IND</td></tr><tr><td>US</td><td>CLT</td><td>DTW</td></tr><tr><td>EV</td><td>ORD</td><td>ATL</td></tr><tr><td>AA</td><td>BOS</td><td>DFW</td></tr><tr><td>EV</td><td>RST</td><td>DTW</td></tr><tr><td>EV</td><td>GRR</td><td>IAH</td></tr><tr><td>EV</td><td>IND</td><td>IAH</td></tr><tr><td>WN</td><td>BHM</td><td>MDW</td></tr><tr><td>OO</td><td>TUL</td><td>DEN</td></tr><tr><td>OO</td><td>TUL</td><td>DTW</td></tr><tr><td>DL</td><td>SEA</td><td>DTW</td></tr><tr><td>MQ</td><td>MIA</td><td>ORF</td></tr><tr><td>DL</td><td>ATL</td><td>SJC</td></tr><tr><td>OO</td><td>IAH</td><td>ABQ</td></tr></tbody></table>Showing the first 1000 rows.</div>"
      ]
     },
     "metadata": {
      "application/vnd.databricks.v1+output": {
       "overflow": true,
       "datasetInfos": [],
       "data": [
        [
         "WN",
         "PHX",
         "SDF"
        ],
        [
         "EV",
         "ORD",
         "MOB"
        ],
        [
         "AS",
         "JNU",
         "KTN"
        ],
        [
         "DL",
         "DTW",
         "IND"
        ],
        [
         "F9",
         "ORD",
         "PHL"
        ],
        [
         "UA",
         "SJC",
         "DEN"
        ],
        [
         "DL",
         "ATL",
         "MOB"
        ],
        [
         "WN",
         "IND",
         "DAL"
        ],
        [
         "DL",
         "ATL",
         "DTW"
        ],
        [
         "NK",
         "DEN",
         "LAS"
        ],
        [
         "MQ",
         "DAY",
         "ORD"
        ],
        [
         "WN",
         "MDW",
         "SNA"
        ],
        [
         "WN",
         "HOU",
         "OAK"
        ],
        [
         "WN",
         "LAS",
         "FNT"
        ],
        [
         "EV",
         "JAN",
         "PIA"
        ],
        [
         "MQ",
         "DFW",
         "ICT"
        ],
        [
         "UA",
         "IAH",
         "RNO"
        ],
        [
         "AS",
         "AUS",
         "SEA"
        ],
        [
         "WN",
         "BWI",
         "ALB"
        ],
        [
         "UA",
         "DEN",
         "DSM"
        ],
        [
         "UA",
         "MSY",
         "IAD"
        ],
        [
         "NK",
         "BWI",
         "ORD"
        ],
        [
         "WN",
         "PHX",
         "EWR"
        ],
        [
         "AA",
         "STT",
         "PHL"
        ],
        [
         "EV",
         "LGA",
         "MKE"
        ],
        [
         "F9",
         "MSP",
         "TTN"
        ],
        [
         "EV",
         "IAD",
         "OKC"
        ],
        [
         "WN",
         "ONT",
         "DEN"
        ],
        [
         "OO",
         "SFO",
         "MFR"
        ],
        [
         "B6",
         "BOS",
         "PDX"
        ],
        [
         "OO",
         "MSP",
         "HLN"
        ],
        [
         "EV",
         "ORF",
         "IAH"
        ],
        [
         "DL",
         "ANC",
         "SEA"
        ],
        [
         "OO",
         "IAH",
         "JAC"
        ],
        [
         "MQ",
         "ORD",
         "LSE"
        ],
        [
         "DL",
         "SEA",
         "CVG"
        ],
        [
         "DL",
         "CVG",
         "STL"
        ],
        [
         "AA",
         "DFW",
         "TPA"
        ],
        [
         "US",
         "RSW",
         "CLT"
        ],
        [
         "OO",
         "PDX",
         "BZN"
        ],
        [
         "WN",
         "FLL",
         "BWI"
        ],
        [
         "WN",
         "MSP",
         "MCO"
        ],
        [
         "EV",
         "MSN",
         "LGA"
        ],
        [
         "AA",
         "ORD",
         "PBI"
        ],
        [
         "AA",
         "IAH",
         "DFW"
        ],
        [
         "OO",
         "LEX",
         "DTW"
        ],
        [
         "DL",
         "OMA",
         "SLC"
        ],
        [
         "F9",
         "MKE",
         "DEN"
        ],
        [
         "OO",
         "MFR",
         "SLC"
        ],
        [
         "DL",
         "PVD",
         "DTW"
        ],
        [
         "DL",
         "SEA",
         "SLC"
        ],
        [
         "EV",
         "IAH",
         "SAV"
        ],
        [
         "AA",
         "LGA",
         "PBI"
        ],
        [
         "US",
         "ORD",
         "CLT"
        ],
        [
         "F9",
         "ATL",
         "LAX"
        ],
        [
         "OO",
         "PSC",
         "DEN"
        ],
        [
         "UA",
         "DTW",
         "ORD"
        ],
        [
         "OO",
         "SBP",
         "PHX"
        ],
        [
         "EV",
         "ATL",
         "ILM"
        ],
        [
         "UA",
         "DEN",
         "TPA"
        ],
        [
         "US",
         "DCA",
         "PHL"
        ],
        [
         "AA",
         "BOS",
         "LAX"
        ],
        [
         "AS",
         "ANC",
         "OTZ"
        ],
        [
         "OO",
         "SFO",
         "PHX"
        ],
        [
         "EV",
         "IAH",
         "BHM"
        ],
        [
         "OO",
         "SEA",
         "LAS"
        ],
        [
         "US",
         "GSO",
         "CLT"
        ],
        [
         "DL",
         "MSP",
         "LAX"
        ],
        [
         "OO",
         "MKE",
         "DEN"
        ],
        [
         "DL",
         "MIA",
         "JFK"
        ],
        [
         "EV",
         "ORD",
         "LAN"
        ],
        [
         "EV",
         "IAH",
         "DTW"
        ],
        [
         "OO",
         "SLC",
         "WYS"
        ],
        [
         "MQ",
         "TYR",
         "DFW"
        ],
        [
         "UA",
         "IAH",
         "DFW"
        ],
        [
         "OO",
         "SDF",
         "DEN"
        ],
        [
         "AA",
         "PBI",
         "PHL"
        ],
        [
         "UA",
         "PHL",
         "SFO"
        ],
        [
         "F9",
         "MEM",
         "DEN"
        ],
        [
         "EV",
         "DFW",
         "CAE"
        ],
        [
         "DL",
         "GSO",
         "DTW"
        ],
        [
         "UA",
         "RSW",
         "ORD"
        ],
        [
         "UA",
         "SMF",
         "IAD"
        ],
        [
         "EV",
         "MCO",
         "ATL"
        ],
        [
         "OO",
         "LAX",
         "EUG"
        ],
        [
         "DL",
         "BOS",
         "CVG"
        ],
        [
         "WN",
         "SEA",
         "BNA"
        ],
        [
         "WN",
         "SAN",
         "SJC"
        ],
        [
         "UA",
         "BQN",
         "EWR"
        ],
        [
         "EV",
         "BHM",
         "ORD"
        ],
        [
         "OO",
         "ORD",
         "SPI"
        ],
        [
         "F9",
         "MCO",
         "OMA"
        ],
        [
         "OO",
         "SLC",
         "MFR"
        ],
        [
         "DL",
         "FLL",
         "DTW"
        ],
        [
         "DL",
         "ALB",
         "MSP"
        ],
        [
         "B6",
         "BOS",
         "MCO"
        ],
        [
         "EV",
         "LGA",
         "LEX"
        ],
        [
         "WN",
         "DAY",
         "BWI"
        ],
        [
         "AA",
         "MIA",
         "MSY"
        ],
        [
         "DL",
         "MEM",
         "MCO"
        ],
        [
         "EV",
         "ROC",
         "IAD"
        ],
        [
         "AA",
         "LAS",
         "DCA"
        ],
        [
         "AA",
         "DCA",
         "DFW"
        ],
        [
         "UA",
         "RDU",
         "ORD"
        ],
        [
         "EV",
         "EWR",
         "CMH"
        ],
        [
         "MQ",
         "CMH",
         "DCA"
        ],
        [
         "WN",
         "BNA",
         "DCA"
        ],
        [
         "B6",
         "LAX",
         "FLL"
        ],
        [
         "EV",
         "DTW",
         "CAK"
        ],
        [
         "AA",
         "BDL",
         "CLT"
        ],
        [
         "EV",
         "MSP",
         "LNK"
        ],
        [
         "OO",
         "SLC",
         "SNA"
        ],
        [
         "DL",
         "ATL",
         "CMH"
        ],
        [
         "US",
         "MCO",
         "PHL"
        ],
        [
         "AA",
         "PHX",
         "SJC"
        ],
        [
         "US",
         "MSP",
         "PHX"
        ],
        [
         "EV",
         "CLE",
         "LGA"
        ],
        [
         "MQ",
         "FSD",
         "ORD"
        ],
        [
         "AS",
         "SJC",
         "SLC"
        ],
        [
         "EV",
         "TYR",
         "DFW"
        ],
        [
         "WN",
         "SEA",
         "ABQ"
        ],
        [
         "EV",
         "MLI",
         "MSP"
        ],
        [
         "AA",
         "SEA",
         "CLT"
        ],
        [
         "DL",
         "PDX",
         "LAX"
        ],
        [
         "UA",
         "LAX",
         "IAH"
        ],
        [
         "WN",
         "SFO",
         "LAX"
        ],
        [
         "OO",
         "ABQ",
         "ORD"
        ],
        [
         "AA",
         "OGG",
         "PHX"
        ],
        [
         "WN",
         "OAK",
         "ABQ"
        ],
        [
         "EV",
         "GUC",
         "DEN"
        ],
        [
         "VX",
         "LAX",
         "JFK"
        ],
        [
         "AA",
         "RSW",
         "PHL"
        ],
        [
         "WN",
         "SAT",
         "STL"
        ],
        [
         "MQ",
         "GSO",
         "LGA"
        ],
        [
         "OO",
         "MSP",
         "LEX"
        ],
        [
         "MQ",
         "BPT",
         "DFW"
        ],
        [
         "WN",
         "BOS",
         "RSW"
        ],
        [
         "WN",
         "HOU",
         "MAF"
        ],
        [
         "WN",
         "HOU",
         "ATL"
        ],
        [
         "OO",
         "LAX",
         "PHX"
        ],
        [
         "NK",
         "DTW",
         "TPA"
        ],
        [
         "MQ",
         "ABI",
         "DFW"
        ],
        [
         "EV",
         "ORF",
         "MSP"
        ],
        [
         "EV",
         "AVL",
         "EWR"
        ],
        [
         "US",
         "CLT",
         "ALB"
        ],
        [
         "AA",
         "MIA",
         "BDL"
        ],
        [
         "WN",
         "HOU",
         "CLT"
        ],
        [
         "WN",
         "SJC",
         "PDX"
        ],
        [
         "MQ",
         "EVV",
         "ORD"
        ],
        [
         "AS",
         "LIH",
         "SAN"
        ],
        [
         "DL",
         "DTW",
         "MYR"
        ],
        [
         "OO",
         "LAX",
         "DFW"
        ],
        [
         "WN",
         "DEN",
         "EWR"
        ],
        [
         "UA",
         "SFO",
         "RNO"
        ],
        [
         "OO",
         "SEA",
         "JAC"
        ],
        [
         "WN",
         "BHM",
         "MCO"
        ],
        [
         "AA",
         "LAS",
         "DFW"
        ],
        [
         "EV",
         "MKE",
         "EWR"
        ],
        [
         "WN",
         "BOS",
         "ATL"
        ],
        [
         "WN",
         "ROC",
         "BWI"
        ],
        [
         "DL",
         "MSP",
         "ROC"
        ],
        [
         "EV",
         "BTV",
         "LGA"
        ],
        [
         "DL",
         "MKE",
         "DTW"
        ],
        [
         "MQ",
         "DTW",
         "LGA"
        ],
        [
         "EV",
         "EWR",
         "OKC"
        ],
        [
         "OO",
         "MSP",
         "CLE"
        ],
        [
         "EV",
         "CWA",
         "ORD"
        ],
        [
         "EV",
         "IAH",
         "IAD"
        ],
        [
         "AA",
         "STX",
         "CLT"
        ],
        [
         "NK",
         "LAS",
         "ATL"
        ],
        [
         "B6",
         "JFK",
         "BOS"
        ],
        [
         "AS",
         "BOS",
         "SAN"
        ],
        [
         "OO",
         "BIL",
         "SLC"
        ],
        [
         "B6",
         "SEA",
         "BOS"
        ],
        [
         "OO",
         "SJC",
         "DEN"
        ],
        [
         "OO",
         "DEN",
         "IDA"
        ],
        [
         "OO",
         "SAT",
         "DTW"
        ],
        [
         "EV",
         "ATL",
         "MLI"
        ],
        [
         "UA",
         "SLC",
         "SFO"
        ],
        [
         "OO",
         "HDN",
         "DEN"
        ],
        [
         "WN",
         "OAK",
         "BOI"
        ],
        [
         "WN",
         "MCO",
         "BOS"
        ],
        [
         "MQ",
         "BHM",
         "DFW"
        ],
        [
         "DL",
         "MIA",
         "DTW"
        ],
        [
         "AA",
         "PDX",
         "ORD"
        ],
        [
         "WN",
         "SEA",
         "MCI"
        ],
        [
         "WN",
         "MDW",
         "PNS"
        ],
        [
         "OO",
         "LAS",
         "SFO"
        ],
        [
         "EV",
         "IAH",
         "VPS"
        ],
        [
         "OO",
         "GRR",
         "IAH"
        ],
        [
         "WN",
         "BOI",
         "LAS"
        ],
        [
         "WN",
         "RSW",
         "ALB"
        ],
        [
         "DL",
         "JFK",
         "JAC"
        ],
        [
         "DL",
         "PBI",
         "LGA"
        ],
        [
         "WN",
         "MKE",
         "FLL"
        ],
        [
         "OO",
         "SNA",
         "SFO"
        ],
        [
         "WN",
         "LAX",
         "MSY"
        ],
        [
         "EV",
         "SBN",
         "ORD"
        ],
        [
         "WN",
         "SLC",
         "HOU"
        ],
        [
         "OO",
         "SHV",
         "IAH"
        ],
        [
         "OO",
         "MTJ",
         "PHX"
        ],
        [
         "WN",
         "MCO",
         "AUS"
        ],
        [
         "AS",
         "SAN",
         "KOA"
        ],
        [
         "EV",
         "MCO",
         "BDL"
        ],
        [
         "OO",
         "IAH",
         "MSY"
        ],
        [
         "MQ",
         "TYS",
         "LGA"
        ],
        [
         "EV",
         "TUL",
         "ATL"
        ],
        [
         "MQ",
         "DFW",
         "TYR"
        ],
        [
         "VX",
         "SEA",
         "LAX"
        ],
        [
         "UA",
         "SFO",
         "SAN"
        ],
        [
         "WN",
         "BWI",
         "PBI"
        ],
        [
         "F9",
         "CVG",
         "TTN"
        ],
        [
         "OO",
         "COS",
         "ORD"
        ],
        [
         "F9",
         "DEN",
         "TPA"
        ],
        [
         "UA",
         "SJC",
         "IAH"
        ],
        [
         "WN",
         "ATL",
         "OKC"
        ],
        [
         "DL",
         "LGA",
         "IND"
        ],
        [
         "US",
         "RNO",
         "PHX"
        ],
        [
         "UA",
         "EWR",
         "GRR"
        ],
        [
         "B6",
         "DEN",
         "JFK"
        ],
        [
         "AA",
         "JFK",
         "DFW"
        ],
        [
         "AA",
         "ONT",
         "PHX"
        ],
        [
         "F9",
         "STL",
         "IAD"
        ],
        [
         "AA",
         "OGG",
         "DFW"
        ],
        [
         "B6",
         "PIT",
         "FLL"
        ],
        [
         "US",
         "ROC",
         "CLT"
        ],
        [
         "AS",
         "SNA",
         "SEA"
        ],
        [
         "WN",
         "BNA",
         "DTW"
        ],
        [
         "UA",
         "ORD",
         "MCI"
        ],
        [
         "DL",
         "ATL",
         "PIT"
        ],
        [
         "EV",
         "CLE",
         "STL"
        ],
        [
         "DL",
         "DTW",
         "CVG"
        ],
        [
         "WN",
         "PNS",
         "HOU"
        ],
        [
         "DL",
         "MSP",
         "BOS"
        ],
        [
         "WN",
         "LAX",
         "MKE"
        ],
        [
         "EV",
         "IAH",
         "TUS"
        ],
        [
         "EV",
         "MSP",
         "SAT"
        ],
        [
         "EV",
         "DTW",
         "PIA"
        ],
        [
         "OO",
         "RDU",
         "CVG"
        ],
        [
         "AS",
         "ATL",
         "SEA"
        ],
        [
         "US",
         "SJU",
         "PHL"
        ],
        [
         "AS",
         "BLI",
         "SEA"
        ],
        [
         "OO",
         "RNO",
         "SLC"
        ],
        [
         "HA",
         "OGG",
         "HNL"
        ],
        [
         "DL",
         "MTJ",
         "ATL"
        ],
        [
         "F9",
         "DEN",
         "SEA"
        ],
        [
         "F9",
         "AUS",
         "LAS"
        ],
        [
         "DL",
         "SRQ",
         "DTW"
        ],
        [
         "WN",
         "DCA",
         "MCI"
        ],
        [
         "EV",
         "ATL",
         "TLH"
        ],
        [
         "WN",
         "PIT",
         "HOU"
        ],
        [
         "DL",
         "LAX",
         "ATL"
        ],
        [
         "WN",
         "CLT",
         "BWI"
        ],
        [
         "DL",
         "HNL",
         "JFK"
        ],
        [
         "DL",
         "SEA",
         "FAI"
        ],
        [
         "WN",
         "HOU",
         "BWI"
        ],
        [
         "B6",
         "BOS",
         "JFK"
        ],
        [
         "AA",
         "DFW",
         "MFE"
        ],
        [
         "OO",
         "ORD",
         "DTW"
        ],
        [
         "VX",
         "LAX",
         "FLL"
        ],
        [
         "F9",
         "DEN",
         "MDW"
        ],
        [
         "AA",
         "LAX",
         "PHL"
        ],
        [
         "EV",
         "DFW",
         "FSM"
        ],
        [
         "DL",
         "RDU",
         "ATL"
        ],
        [
         "EV",
         "GRR",
         "MSP"
        ],
        [
         "OO",
         "MSP",
         "STL"
        ],
        [
         "F9",
         "MCO",
         "IAD"
        ],
        [
         "B6",
         "JFK",
         "CLT"
        ],
        [
         "DL",
         "JFK",
         "AUS"
        ],
        [
         "DL",
         "AVP",
         "ATL"
        ],
        [
         "NK",
         "STT",
         "FLL"
        ],
        [
         "WN",
         "TPA",
         "BHM"
        ],
        [
         "WN",
         "SAN",
         "SMF"
        ],
        [
         "AA",
         "DFW",
         "OMA"
        ],
        [
         "DL",
         "OGG",
         "LAX"
        ],
        [
         "WN",
         "MSY",
         "MCI"
        ],
        [
         "WN",
         "IND",
         "DCA"
        ],
        [
         "OO",
         "SLC",
         "AUS"
        ],
        [
         "WN",
         "MKE",
         "MSY"
        ],
        [
         "AA",
         "JAC",
         "DFW"
        ],
        [
         "MQ",
         "DRO",
         "DFW"
        ],
        [
         "NK",
         "DTW",
         "ACY"
        ],
        [
         "EV",
         "EWR",
         "SAV"
        ],
        [
         "NK",
         "ORD",
         "PDX"
        ],
        [
         "UA",
         "EGE",
         "IAH"
        ],
        [
         "UA",
         "IAD",
         "SAN"
        ],
        [
         "WN",
         "SDF",
         "TPA"
        ],
        [
         "US",
         "LAX",
         "TPA"
        ],
        [
         "DL",
         "LGA",
         "MSY"
        ],
        [
         "B6",
         "BOS",
         "HOU"
        ],
        [
         "AS",
         "FAI",
         "SEA"
        ],
        [
         "UA",
         "BOS",
         "IAH"
        ],
        [
         "F9",
         "MCO",
         "ATL"
        ],
        [
         "WN",
         "DAL",
         "MSY"
        ],
        [
         "OO",
         "DTW",
         "SBN"
        ],
        [
         "OO",
         "IAH",
         "CLT"
        ],
        [
         "WN",
         "ATL",
         "DTW"
        ],
        [
         "DL",
         "LGA",
         "SRQ"
        ],
        [
         "WN",
         "PNS",
         "MDW"
        ],
        [
         "WN",
         "PHX",
         "PDX"
        ],
        [
         "EV",
         "MCO",
         "GRR"
        ],
        [
         "AA",
         "PHL",
         "FLL"
        ],
        [
         "WN",
         "MCI",
         "LAX"
        ],
        [
         "UA",
         "DEN",
         "SLC"
        ],
        [
         "B6",
         "PBI",
         "EWR"
        ],
        [
         "WN",
         "BWI",
         "OKC"
        ],
        [
         "OO",
         "CLT",
         "MSP"
        ],
        [
         "WN",
         "RDU",
         "BNA"
        ],
        [
         "WN",
         "CLT",
         "MDW"
        ],
        [
         "WN",
         "PHX",
         "ABQ"
        ],
        [
         "DL",
         "TPA",
         "DTW"
        ],
        [
         "OO",
         "PSP",
         "DEN"
        ],
        [
         "NK",
         "MYR",
         "DFW"
        ],
        [
         "MQ",
         "JFK",
         "CLE"
        ],
        [
         "UA",
         "DEN",
         "DFW"
        ],
        [
         "EV",
         "IAH",
         "MLU"
        ],
        [
         "MQ",
         "DFW",
         "JLN"
        ],
        [
         "B6",
         "SAN",
         "JFK"
        ],
        [
         "OO",
         "TUL",
         "SLC"
        ],
        [
         "OO",
         "DEN",
         "MSP"
        ],
        [
         "UA",
         "IAD",
         "HNL"
        ],
        [
         "WN",
         "PHX",
         "PHL"
        ],
        [
         "WN",
         "MCO",
         "MKE"
        ],
        [
         "EV",
         "ATL",
         "FNT"
        ],
        [
         "B6",
         "SRQ",
         "BOS"
        ],
        [
         "DL",
         "ATL",
         "RIC"
        ],
        [
         "NK",
         "MCO",
         "ACY"
        ],
        [
         "DL",
         "ORD",
         "CVG"
        ],
        [
         "US",
         "CLT",
         "STT"
        ],
        [
         "B6",
         "BOS",
         "SMF"
        ],
        [
         "WN",
         "MSY",
         "DEN"
        ],
        [
         "DL",
         "ORF",
         "ATL"
        ],
        [
         "WN",
         "MCO",
         "MEM"
        ],
        [
         "F9",
         "OKC",
         "DEN"
        ],
        [
         "UA",
         "ORD",
         "IAD"
        ],
        [
         "AS",
         "SEA",
         "FAI"
        ],
        [
         "UA",
         "IAH",
         "SNA"
        ],
        [
         "WN",
         "IND",
         "DEN"
        ],
        [
         "US",
         "PHX",
         "DFW"
        ],
        [
         "WN",
         "PBI",
         "PVD"
        ],
        [
         "UA",
         "PSP",
         "ORD"
        ],
        [
         "OO",
         "MRY",
         "LAX"
        ],
        [
         "OO",
         "DFW",
         "CVG"
        ],
        [
         "AA",
         "LGA",
         "CLT"
        ],
        [
         "UA",
         "SEA",
         "LAX"
        ],
        [
         "UA",
         "ROC",
         "ORD"
        ],
        [
         "US",
         "CLT",
         "TPA"
        ],
        [
         "DL",
         "PIT",
         "JFK"
        ],
        [
         "F9",
         "DEN",
         "IDA"
        ],
        [
         "AA",
         "MCO",
         "PHL"
        ],
        [
         "WN",
         "AUS",
         "LBB"
        ],
        [
         "DL",
         "ABE",
         "ATL"
        ],
        [
         "MQ",
         "DFW",
         "COU"
        ],
        [
         "WN",
         "ATL",
         "SAT"
        ],
        [
         "DL",
         "LGA",
         "MIA"
        ],
        [
         "MQ",
         "DFW",
         "ABI"
        ],
        [
         "OO",
         "BZN",
         "DEN"
        ],
        [
         "F9",
         "DEN",
         "LAX"
        ],
        [
         "AA",
         "MSY",
         "DCA"
        ],
        [
         "WN",
         "TPA",
         "MDW"
        ],
        [
         "US",
         "PHL",
         "MCO"
        ],
        [
         "AA",
         "MSP",
         "MIA"
        ],
        [
         "OO",
         "DFW",
         "DEN"
        ],
        [
         "OO",
         "SBP",
         "SFO"
        ],
        [
         "AS",
         "GST",
         "JNU"
        ],
        [
         "WN",
         "BNA",
         "SAN"
        ],
        [
         "WN",
         "SFO",
         "DAL"
        ],
        [
         "EV",
         "BOS",
         "DTW"
        ],
        [
         "US",
         "PHL",
         "JAX"
        ],
        [
         "MQ",
         "BNA",
         "LGA"
        ],
        [
         "OO",
         "BMI",
         "MSP"
        ],
        [
         "EV",
         "LAW",
         "DFW"
        ],
        [
         "OO",
         "ORD",
         "BZN"
        ],
        [
         "UA",
         "LAX",
         "EWR"
        ],
        [
         "AA",
         "SAN",
         "JFK"
        ],
        [
         "MQ",
         "DFW",
         "TYS"
        ],
        [
         "DL",
         "ATL",
         "AUS"
        ],
        [
         "OO",
         "DEN",
         "OTH"
        ],
        [
         "OO",
         "SLC",
         "PIH"
        ],
        [
         "EV",
         "DFW",
         "TLH"
        ],
        [
         "UA",
         "IND",
         "SFO"
        ],
        [
         "OO",
         "MSP",
         "FCA"
        ],
        [
         "US",
         "PHL",
         "TPA"
        ],
        [
         "VX",
         "LAX",
         "EWR"
        ],
        [
         "AA",
         "CLT",
         "SYR"
        ],
        [
         "AS",
         "ANC",
         "KOA"
        ],
        [
         "DL",
         "CAK",
         "ATL"
        ],
        [
         "EV",
         "EWR",
         "BOS"
        ],
        [
         "AS",
         "SCC",
         "BRW"
        ],
        [
         "OO",
         "ATL",
         "XNA"
        ],
        [
         "EV",
         "MSY",
         "IAH"
        ],
        [
         "MQ",
         "HSV",
         "DCA"
        ],
        [
         "UA",
         "ORD",
         "DCA"
        ],
        [
         "OO",
         "BZN",
         "ORD"
        ],
        [
         "WN",
         "BNA",
         "PHL"
        ],
        [
         "OO",
         "SBA",
         "PHX"
        ],
        [
         "DL",
         "MSP",
         "ATW"
        ],
        [
         "B6",
         "DCA",
         "ACK"
        ],
        [
         "WN",
         "TPA",
         "GRR"
        ],
        [
         "OO",
         "CAE",
         "ORD"
        ],
        [
         "EV",
         "DEN",
         "PIT"
        ],
        [
         "WN",
         "TUS",
         "SAN"
        ],
        [
         "DL",
         "ATL",
         "BHM"
        ],
        [
         "WN",
         "DAL",
         "BNA"
        ],
        [
         "WN",
         "DEN",
         "BWI"
        ],
        [
         "F9",
         "PHL",
         "IAH"
        ],
        [
         "EV",
         "EWR",
         "ORF"
        ],
        [
         "AA",
         "CLT",
         "DFW"
        ],
        [
         "OO",
         "PIT",
         "DEN"
        ],
        [
         "EV",
         "AGS",
         "LGA"
        ],
        [
         "OO",
         "ORD",
         "DEN"
        ],
        [
         "UA",
         "MCO",
         "ORD"
        ],
        [
         "AA",
         "PHL",
         "SJU"
        ],
        [
         "NK",
         "LAX",
         "FLL"
        ],
        [
         "UA",
         "LIH",
         "DEN"
        ],
        [
         "DL",
         "MIA",
         "LGA"
        ],
        [
         "EV",
         "IAH",
         "HSV"
        ],
        [
         "UA",
         "DEN",
         "GRR"
        ],
        [
         "DL",
         "LAX",
         "HNL"
        ],
        [
         "AA",
         "JAC",
         "ORD"
        ],
        [
         "VX",
         "SFO",
         "JFK"
        ],
        [
         "OO",
         "DFW",
         "ORD"
        ],
        [
         "UA",
         "ABQ",
         "DEN"
        ],
        [
         "US",
         "DFW",
         "CLT"
        ],
        [
         "NK",
         "LAX",
         "CLE"
        ],
        [
         "UA",
         "ORD",
         "SFO"
        ],
        [
         "OO",
         "ORD",
         "CAK"
        ],
        [
         "WN",
         "HOU",
         "SEA"
        ],
        [
         "UA",
         "EWR",
         "SJU"
        ],
        [
         "WN",
         "MSY",
         "EWR"
        ],
        [
         "UA",
         "LGA",
         "IAH"
        ],
        [
         "WN",
         "DEN",
         "SAN"
        ],
        [
         "OO",
         "SLC",
         "EKO"
        ],
        [
         "DL",
         "DFW",
         "MSP"
        ],
        [
         "UA",
         "SAT",
         "ORD"
        ],
        [
         "AS",
         "BLI",
         "LAS"
        ],
        [
         "MQ",
         "OKC",
         "ORD"
        ],
        [
         "OO",
         "ORF",
         "ORD"
        ],
        [
         "AA",
         "PDX",
         "LAX"
        ],
        [
         "OO",
         "GRB",
         "ATL"
        ],
        [
         "UA",
         "SFO",
         "EWR"
        ],
        [
         "AA",
         "TPA",
         "DFW"
        ],
        [
         "AA",
         "PHX",
         "LIH"
        ],
        [
         "F9",
         "ATL",
         "IAD"
        ],
        [
         "NK",
         "LAS",
         "DFW"
        ],
        [
         "UA",
         "LAX",
         "MSN"
        ],
        [
         "UA",
         "CLE",
         "IAH"
        ],
        [
         "EV",
         "BTR",
         "ATL"
        ],
        [
         "WN",
         "DEN",
         "PHL"
        ],
        [
         "EV",
         "DSM",
         "DEN"
        ],
        [
         "B6",
         "PSE",
         "MCO"
        ],
        [
         "EV",
         "EWR",
         "IAD"
        ],
        [
         "DL",
         "PDX",
         "SLC"
        ],
        [
         "OO",
         "IAH",
         "DCA"
        ],
        [
         "F9",
         "PHL",
         "TPA"
        ],
        [
         "WN",
         "ECP",
         "STL"
        ],
        [
         "EV",
         "IAH",
         "HDN"
        ],
        [
         "EV",
         "MSP",
         "MCI"
        ],
        [
         "OO",
         "ORD",
         "HDN"
        ],
        [
         "AS",
         "SFO",
         "SEA"
        ],
        [
         "EV",
         "DTW",
         "BDL"
        ],
        [
         "EV",
         "DFW",
         "SPS"
        ],
        [
         "OO",
         "IAH",
         "MKE"
        ],
        [
         "WN",
         "MDW",
         "PHL"
        ],
        [
         "OO",
         "MLI",
         "ORD"
        ],
        [
         "B6",
         "BDL",
         "TPA"
        ],
        [
         "OO",
         "SLC",
         "VEL"
        ],
        [
         "EV",
         "CSG",
         "ATL"
        ],
        [
         "WN",
         "MAF",
         "LAS"
        ],
        [
         "B6",
         "TPA",
         "DCA"
        ],
        [
         "AS",
         "KOA",
         "OAK"
        ],
        [
         "DL",
         "LGA",
         "SYR"
        ],
        [
         "EV",
         "EWN",
         "ATL"
        ],
        [
         "EV",
         "BWI",
         "DTW"
        ],
        [
         "AA",
         "ORD",
         "LAX"
        ],
        [
         "WN",
         "SNA",
         "SFO"
        ],
        [
         "DL",
         "PDX",
         "ATL"
        ],
        [
         "NK",
         "LAS",
         "MSP"
        ],
        [
         "EV",
         "MSY",
         "ORD"
        ],
        [
         "WN",
         "BWI",
         "SAT"
        ],
        [
         "UA",
         "SJU",
         "EWR"
        ],
        [
         "DL",
         "LAX",
         "IND"
        ],
        [
         "WN",
         "BWI",
         "DAL"
        ],
        [
         "DL",
         "VPS",
         "ATL"
        ],
        [
         "DL",
         "LAX",
         "PHX"
        ],
        [
         "EV",
         "DTW",
         "MBS"
        ],
        [
         "DL",
         "DTW",
         "IAH"
        ],
        [
         "WN",
         "SJC",
         "SNA"
        ],
        [
         "WN",
         "MDW",
         "DCA"
        ],
        [
         "OO",
         "MKE",
         "SEA"
        ],
        [
         "WN",
         "LAS",
         "LAX"
        ],
        [
         "US",
         "PHL",
         "ATL"
        ],
        [
         "WN",
         "ONT",
         "SJC"
        ],
        [
         "AA",
         "DFW",
         "RNO"
        ],
        [
         "EV",
         "SAT",
         "DEN"
        ],
        [
         "NK",
         "FLL",
         "BWI"
        ],
        [
         "WN",
         "PVD",
         "PBI"
        ],
        [
         "AS",
         "PDX",
         "LAS"
        ],
        [
         "MQ",
         "GNV",
         "MIA"
        ],
        [
         "OO",
         "DEN",
         "SJC"
        ],
        [
         "OO",
         "ORD",
         "MIA"
        ],
        [
         "OO",
         "OMA",
         "ORD"
        ],
        [
         "DL",
         "JFK",
         "CVG"
        ],
        [
         "EV",
         "IAH",
         "SLC"
        ],
        [
         "EV",
         "IAD",
         "BTV"
        ],
        [
         "HA",
         "OGG",
         "LAX"
        ],
        [
         "MQ",
         "ORD",
         "HSV"
        ],
        [
         "VX",
         "PSP",
         "SFO"
        ],
        [
         "EV",
         "BUF",
         "IAD"
        ],
        [
         "EV",
         "ACT",
         "DFW"
        ],
        [
         "DL",
         "FLL",
         "BOS"
        ],
        [
         "OO",
         "FWA",
         "ORD"
        ],
        [
         "DL",
         "MSP",
         "JFK"
        ],
        [
         "MQ",
         "EWR",
         "ORD"
        ],
        [
         "NK",
         "DTW",
         "DEN"
        ],
        [
         "EV",
         "TXK",
         "DFW"
        ],
        [
         "WN",
         "BNA",
         "FLL"
        ],
        [
         "AA",
         "MIA",
         "BWI"
        ],
        [
         "WN",
         "SJU",
         "TPA"
        ],
        [
         "DL",
         "ATL",
         "SFO"
        ],
        [
         "EV",
         "JAX",
         "BOS"
        ],
        [
         "AA",
         "MFE",
         "DFW"
        ],
        [
         "AA",
         "DFW",
         "PBI"
        ],
        [
         "MQ",
         "DTW",
         "ORD"
        ],
        [
         "WN",
         "MDW",
         "ATL"
        ],
        [
         "OO",
         "HLN",
         "MSP"
        ],
        [
         "AS",
         "HNL",
         "OAK"
        ],
        [
         "WN",
         "GRR",
         "MCO"
        ],
        [
         "WN",
         "MDW",
         "JAX"
        ],
        [
         "UA",
         "ORD",
         "TPA"
        ],
        [
         "DL",
         "ATL",
         "GRR"
        ],
        [
         "US",
         "IND",
         "CLT"
        ],
        [
         "EV",
         "DFW",
         "GSO"
        ],
        [
         "WN",
         "STL",
         "LGA"
        ],
        [
         "OO",
         "ORD",
         "PAH"
        ],
        [
         "OO",
         "PHX",
         "SBP"
        ],
        [
         "WN",
         "STL",
         "FLL"
        ],
        [
         "AA",
         "STT",
         "MIA"
        ],
        [
         "OO",
         "DTW",
         "EVV"
        ],
        [
         "WN",
         "ALB",
         "DEN"
        ],
        [
         "AS",
         "WRG",
         "PSG"
        ],
        [
         "OO",
         "DTW",
         "ORD"
        ],
        [
         "WN",
         "MAF",
         "DAL"
        ],
        [
         "EV",
         "LGA",
         "CLE"
        ],
        [
         "DL",
         "ATL",
         "LEX"
        ],
        [
         "UA",
         "SRQ",
         "EWR"
        ],
        [
         "WN",
         "OMA",
         "MDW"
        ],
        [
         "WN",
         "BUF",
         "MCO"
        ],
        [
         "OO",
         "SLC",
         "OAK"
        ],
        [
         "F9",
         "MCO",
         "MDT"
        ],
        [
         "OO",
         "ORD",
         "MLI"
        ],
        [
         "MQ",
         "PIA",
         "DFW"
        ],
        [
         "AA",
         "CLT",
         "AUS"
        ],
        [
         "DL",
         "DEN",
         "LGA"
        ],
        [
         "AA",
         "AUS",
         "CLT"
        ],
        [
         "NK",
         "CLE",
         "RSW"
        ],
        [
         "WN",
         "MCI",
         "LAS"
        ],
        [
         "UA",
         "BOS",
         "DEN"
        ],
        [
         "DL",
         "DTW",
         "GRR"
        ],
        [
         "MQ",
         "DFW",
         "JAN"
        ],
        [
         "B6",
         "JFK",
         "IAD"
        ],
        [
         "B6",
         "BWI",
         "BOS"
        ],
        [
         "WN",
         "BWI",
         "RSW"
        ],
        [
         "B6",
         "JFK",
         "HOU"
        ],
        [
         "EV",
         "DTW",
         "EWR"
        ],
        [
         "DL",
         "BZN",
         "MSP"
        ],
        [
         "B6",
         "MCO",
         "SYR"
        ],
        [
         "DL",
         "ATL",
         "DAL"
        ],
        [
         "EV",
         "IAH",
         "LIT"
        ],
        [
         "EV",
         "IAH",
         "PBI"
        ],
        [
         "WN",
         "SNA",
         "PHX"
        ],
        [
         "NK",
         "TPA",
         "IAH"
        ],
        [
         "OO",
         "MSY",
         "DEN"
        ],
        [
         "AA",
         "CLT",
         "SMF"
        ],
        [
         "EV",
         "DEN",
         "HDN"
        ],
        [
         "DL",
         "SAT",
         "SLC"
        ],
        [
         "UA",
         "ORD",
         "BWI"
        ],
        [
         "DL",
         "ATL",
         "PBI"
        ],
        [
         "OO",
         "SEA",
         "MKE"
        ],
        [
         "NK",
         "LAS",
         "OAK"
        ],
        [
         "OO",
         "PHX",
         "SAT"
        ],
        [
         "EV",
         "MKE",
         "IAH"
        ],
        [
         "EV",
         "BGR",
         "LGA"
        ],
        [
         "EV",
         "EWR",
         "DSM"
        ],
        [
         "EV",
         "PWM",
         "ORD"
        ],
        [
         "UA",
         "SFO",
         "BWI"
        ],
        [
         "F9",
         "MSY",
         "ATL"
        ],
        [
         "UA",
         "TUL",
         "IAH"
        ],
        [
         "MQ",
         "JFK",
         "ORF"
        ],
        [
         "EV",
         "BHM",
         "DTW"
        ],
        [
         "OO",
         "MSP",
         "BJI"
        ],
        [
         "OO",
         "DEN",
         "MSO"
        ],
        [
         "AA",
         "MIA",
         "TUL"
        ],
        [
         "WN",
         "TPA",
         "ATL"
        ],
        [
         "EV",
         "IAH",
         "CHS"
        ],
        [
         "EV",
         "LEX",
         "IAH"
        ],
        [
         "WN",
         "DAL",
         "OAK"
        ],
        [
         "EV",
         "MKE",
         "LGA"
        ],
        [
         "DL",
         "AUS",
         "JFK"
        ],
        [
         "AA",
         "CLT",
         "IND"
        ],
        [
         "MQ",
         "ORD",
         "CLE"
        ],
        [
         "AS",
         "OGG",
         "PDX"
        ],
        [
         "WN",
         "SEA",
         "DAL"
        ],
        [
         "MQ",
         "EYW",
         "MIA"
        ],
        [
         "MQ",
         "LEX",
         "DFW"
        ],
        [
         "EV",
         "ELM",
         "DTW"
        ],
        [
         "WN",
         "PDX",
         "AUS"
        ],
        [
         "B6",
         "ORH",
         "MCO"
        ],
        [
         "EV",
         "ORD",
         "TUL"
        ],
        [
         "OO",
         "SEA",
         "SLC"
        ],
        [
         "DL",
         "SDF",
         "ATL"
        ],
        [
         "EV",
         "BNA",
         "LGA"
        ],
        [
         "DL",
         "ICT",
         "MSP"
        ],
        [
         "EV",
         "MOB",
         "DFW"
        ],
        [
         "DL",
         "CRW",
         "ATL"
        ],
        [
         "UA",
         "ORD",
         "SJU"
        ],
        [
         "UA",
         "OGG",
         "DEN"
        ],
        [
         "DL",
         "ATL",
         "MDT"
        ],
        [
         "UA",
         "SFO",
         "PDX"
        ],
        [
         "WN",
         "SFO",
         "PHX"
        ],
        [
         "WN",
         "DEN",
         "STL"
        ],
        [
         "B6",
         "JAX",
         "FLL"
        ],
        [
         "WN",
         "SNA",
         "OAK"
        ],
        [
         "OO",
         "HYS",
         "DEN"
        ],
        [
         "HA",
         "HNL",
         "OAK"
        ],
        [
         "AS",
         "HNL",
         "SJC"
        ],
        [
         "AA",
         "PHX",
         "DEN"
        ],
        [
         "OO",
         "DTW",
         "APN"
        ],
        [
         "MQ",
         "DFW",
         "SAV"
        ],
        [
         "WN",
         "CMH",
         "MDW"
        ],
        [
         "US",
         "PHX",
         "MCO"
        ],
        [
         "DL",
         "DTW",
         "BDL"
        ],
        [
         "DL",
         "DTW",
         "MEM"
        ],
        [
         "DL",
         "SAN",
         "ATL"
        ],
        [
         "US",
         "PHX",
         "ORD"
        ],
        [
         "WN",
         "DEN",
         "MKE"
        ],
        [
         "UA",
         "ATL",
         "EWR"
        ],
        [
         "B6",
         "BQN",
         "MCO"
        ],
        [
         "EV",
         "ATL",
         "HOU"
        ],
        [
         "EV",
         "DEN",
         "GRR"
        ],
        [
         "VX",
         "SFO",
         "ORD"
        ],
        [
         "EV",
         "ATL",
         "LEX"
        ],
        [
         "WN",
         "FLL",
         "BNA"
        ],
        [
         "DL",
         "ATL",
         "FLL"
        ],
        [
         "EV",
         "ORD",
         "SCE"
        ],
        [
         "DL",
         "ALB",
         "ATL"
        ],
        [
         "EV",
         "DTW",
         "DCA"
        ],
        [
         "OO",
         "MSP",
         "HIB"
        ],
        [
         "AA",
         "MIA",
         "IAH"
        ],
        [
         "DL",
         "RSW",
         "MSP"
        ],
        [
         "OO",
         "PDX",
         "SFO"
        ],
        [
         "EV",
         "MKE",
         "MSP"
        ],
        [
         "AS",
         "SEA",
         "SAN"
        ],
        [
         "EV",
         "ORD",
         "CAK"
        ],
        [
         "OO",
         "SAF",
         "LAX"
        ],
        [
         "OO",
         "MSY",
         "ORD"
        ],
        [
         "AA",
         "BNA",
         "LAX"
        ],
        [
         "US",
         "PHX",
         "SEA"
        ],
        [
         "AA",
         "LAX",
         "PBI"
        ],
        [
         "B6",
         "FLL",
         "BUF"
        ],
        [
         "WN",
         "OAK",
         "SNA"
        ],
        [
         "EV",
         "ORD",
         "CAE"
        ],
        [
         "DL",
         "MSP",
         "PHL"
        ],
        [
         "AS",
         "HNL",
         "SAN"
        ],
        [
         "NK",
         "ORD",
         "RSW"
        ],
        [
         "OO",
         "SEA",
         "KTN"
        ],
        [
         "EV",
         "BNA",
         "ATL"
        ],
        [
         "OO",
         "MAF",
         "DEN"
        ],
        [
         "OO",
         "DEN",
         "TUL"
        ],
        [
         "OO",
         "IAH",
         "ORD"
        ],
        [
         "AA",
         "IAD",
         "CLT"
        ],
        [
         "UA",
         "AUS",
         "SFO"
        ],
        [
         "DL",
         "BWI",
         "ATL"
        ],
        [
         "NK",
         "OAK",
         "LAS"
        ],
        [
         "US",
         "DCA",
         "MCI"
        ],
        [
         "EV",
         "JAX",
         "IAH"
        ],
        [
         "EV",
         "JAX",
         "IAD"
        ],
        [
         "EV",
         "CLE",
         "DFW"
        ],
        [
         "UA",
         "AUS",
         "ORD"
        ],
        [
         "DL",
         "MSP",
         "MEM"
        ],
        [
         "WN",
         "TPA",
         "AUS"
        ],
        [
         "OO",
         "DIK",
         "MSP"
        ],
        [
         "EV",
         "IAH",
         "LEX"
        ],
        [
         "MQ",
         "DCA",
         "JFK"
        ],
        [
         "WN",
         "MKE",
         "DEN"
        ],
        [
         "UA",
         "IAD",
         "SMF"
        ],
        [
         "UA",
         "MCO",
         "SFO"
        ],
        [
         "WN",
         "LAX",
         "AUS"
        ],
        [
         "OO",
         "SLC",
         "TUS"
        ],
        [
         "OO",
         "MTJ",
         "ORD"
        ],
        [
         "OO",
         "SLC",
         "ONT"
        ],
        [
         "AA",
         "ORD",
         "RDU"
        ],
        [
         "OO",
         "ATL",
         "SBN"
        ],
        [
         "WN",
         "TPA",
         "ROC"
        ],
        [
         "US",
         "BOS",
         "LGA"
        ],
        [
         "DL",
         "JFK",
         "SEA"
        ],
        [
         "EV",
         "DFW",
         "ICT"
        ],
        [
         "EV",
         "ROA",
         "ORD"
        ],
        [
         "B6",
         "JFK",
         "SJC"
        ],
        [
         "DL",
         "ILM",
         "ATL"
        ],
        [
         "AA",
         "JFK",
         "SAN"
        ],
        [
         "B6",
         "LAS",
         "SFO"
        ],
        [
         "EV",
         "TYS",
         "DTW"
        ],
        [
         "UA",
         "BTV",
         "ORD"
        ],
        [
         "EV",
         "LGA",
         "OMA"
        ],
        [
         "OO",
         "DTW",
         "MCI"
        ],
        [
         "VX",
         "FLL",
         "JFK"
        ],
        [
         "B6",
         "MCO",
         "HPN"
        ],
        [
         "MQ",
         "ORD",
         "MSP"
        ],
        [
         "WN",
         "CAK",
         "BOS"
        ],
        [
         "UA",
         "SEA",
         "EWR"
        ],
        [
         "EV",
         "DTW",
         "GRB"
        ],
        [
         "OO",
         "IAH",
         "RAP"
        ],
        [
         "DL",
         "MSP",
         "RSW"
        ],
        [
         "US",
         "PHL",
         "BWI"
        ],
        [
         "UA",
         "SFO",
         "LAS"
        ],
        [
         "EV",
         "ILM",
         "LGA"
        ],
        [
         "EV",
         "OKC",
         "MSP"
        ],
        [
         "WN",
         "LAS",
         "OMA"
        ],
        [
         "EV",
         "MBS",
         "DTW"
        ],
        [
         "OO",
         "RAP",
         "DEN"
        ],
        [
         "WN",
         "CAK",
         "DCA"
        ],
        [
         "OO",
         "MSP",
         "PSC"
        ],
        [
         "US",
         "HNL",
         "PHX"
        ],
        [
         "EV",
         "EWR",
         "CLE"
        ],
        [
         "MQ",
         "GRB",
         "ORD"
        ],
        [
         "AA",
         "PWM",
         "CLT"
        ],
        [
         "EV",
         "AEX",
         "DFW"
        ],
        [
         "EV",
         "ATW",
         "DTW"
        ],
        [
         "AA",
         "PHL",
         "PBI"
        ],
        [
         "EV",
         "MDT",
         "ORD"
        ],
        [
         "WN",
         "MCI",
         "PDX"
        ],
        [
         "WN",
         "ABQ",
         "OAK"
        ],
        [
         "OO",
         "LAX",
         "SAT"
        ],
        [
         "WN",
         "STL",
         "BWI"
        ],
        [
         "DL",
         "ALB",
         "DTW"
        ],
        [
         "EV",
         "DEN",
         "OMA"
        ],
        [
         "WN",
         "FNT",
         "TPA"
        ],
        [
         "WN",
         "TPA",
         "CMH"
        ],
        [
         "AA",
         "PHL",
         "AUS"
        ],
        [
         "EV",
         "SLC",
         "DEN"
        ],
        [
         "UA",
         "ICT",
         "DEN"
        ],
        [
         "NK",
         "SJU",
         "FLL"
        ],
        [
         "WN",
         "TUS",
         "LAS"
        ],
        [
         "EV",
         "GRB",
         "DTW"
        ],
        [
         "US",
         "SFO",
         "PHX"
        ],
        [
         "VX",
         "LAX",
         "SEA"
        ],
        [
         "OO",
         "SMF",
         "SLC"
        ],
        [
         "AA",
         "ANC",
         "DFW"
        ],
        [
         "NK",
         "CLE",
         "MCO"
        ],
        [
         "WN",
         "MDW",
         "ABQ"
        ],
        [
         "WN",
         "DTW",
         "DEN"
        ],
        [
         "OO",
         "DEN",
         "HDN"
        ],
        [
         "WN",
         "SAN",
         "SFO"
        ],
        [
         "MQ",
         "DFW",
         "GPT"
        ],
        [
         "DL",
         "ATL",
         "ABQ"
        ],
        [
         "OO",
         "OKC",
         "IAH"
        ],
        [
         "WN",
         "TUS",
         "MDW"
        ],
        [
         "US",
         "GEG",
         "PHX"
        ],
        [
         "UA",
         "STL",
         "ORD"
        ],
        [
         "DL",
         "ATL",
         "LFT"
        ],
        [
         "NK",
         "IAH",
         "MSP"
        ],
        [
         "NK",
         "LAS",
         "BWI"
        ],
        [
         "WN",
         "TPA",
         "MKE"
        ],
        [
         "WN",
         "SNA",
         "SEA"
        ],
        [
         "DL",
         "MSP",
         "XNA"
        ],
        [
         "UA",
         "ORD",
         "OKC"
        ],
        [
         "UA",
         "BNA",
         "DEN"
        ],
        [
         "WN",
         "STL",
         "ECP"
        ],
        [
         "DL",
         "MSN",
         "ATL"
        ],
        [
         "DL",
         "SLC",
         "DCA"
        ],
        [
         "UA",
         "ORD",
         "BTV"
        ],
        [
         "OO",
         "PIT",
         "CVG"
        ],
        [
         "OO",
         "SEA",
         "OKC"
        ],
        [
         "DL",
         "PBI",
         "ATL"
        ],
        [
         "DL",
         "ATL",
         "SAV"
        ],
        [
         "F9",
         "SAN",
         "DEN"
        ],
        [
         "DL",
         "SLC",
         "IND"
        ],
        [
         "OO",
         "ORD",
         "MKG"
        ],
        [
         "AA",
         "ORD",
         "EGE"
        ],
        [
         "OO",
         "BUR",
         "PHX"
        ],
        [
         "UA",
         "BOI",
         "DEN"
        ],
        [
         "OO",
         "IAH",
         "ICT"
        ],
        [
         "DL",
         "LAX",
         "CVG"
        ],
        [
         "DL",
         "ATL",
         "STL"
        ],
        [
         "DL",
         "SJU",
         "DTW"
        ],
        [
         "NK",
         "IAH",
         "DTW"
        ],
        [
         "UA",
         "LAS",
         "LAX"
        ],
        [
         "UA",
         "EWR",
         "PHX"
        ],
        [
         "AA",
         "BUF",
         "CLT"
        ],
        [
         "OO",
         "ORD",
         "SBN"
        ],
        [
         "DL",
         "LGA",
         "CLE"
        ],
        [
         "OO",
         "CMH",
         "DTW"
        ],
        [
         "MQ",
         "DFW",
         "MEM"
        ],
        [
         "WN",
         "BUR",
         "OAK"
        ],
        [
         "WN",
         "PHX",
         "RDU"
        ],
        [
         "MQ",
         "ORD",
         "FSD"
        ],
        [
         "AA",
         "BDL",
         "MIA"
        ],
        [
         "EV",
         "GSO",
         "IAD"
        ],
        [
         "OO",
         "BHM",
         "ORD"
        ],
        [
         "WN",
         "MSY",
         "ATL"
        ],
        [
         "EV",
         "DFW",
         "CLL"
        ],
        [
         "EV",
         "CVG",
         "EWR"
        ],
        [
         "DL",
         "DTW",
         "DEN"
        ],
        [
         "UA",
         "PIT",
         "SFO"
        ],
        [
         "OO",
         "IAH",
         "IAD"
        ],
        [
         "WN",
         "SAN",
         "PDX"
        ],
        [
         "EV",
         "DFW",
         "DTW"
        ],
        [
         "DL",
         "CVG",
         "BOS"
        ],
        [
         "OO",
         "MFE",
         "IAH"
        ],
        [
         "DL",
         "ATL",
         "SNA"
        ],
        [
         "OO",
         "PUB",
         "DEN"
        ],
        [
         "MQ",
         "ORD",
         "BDL"
        ],
        [
         "EV",
         "CRW",
         "ATL"
        ],
        [
         "AA",
         "MIA",
         "SAT"
        ],
        [
         "UA",
         "IAH",
         "JAC"
        ],
        [
         "UA",
         "CLE",
         "MCO"
        ],
        [
         "MQ",
         "DFW",
         "LBB"
        ],
        [
         "F9",
         "DEN",
         "SLC"
        ],
        [
         "EV",
         "MKE",
         "CLE"
        ],
        [
         "WN",
         "CMH",
         "RSW"
        ],
        [
         "OO",
         "DSM",
         "MSP"
        ],
        [
         "EV",
         "MLI",
         "DFW"
        ],
        [
         "EV",
         "RAP",
         "IAH"
        ],
        [
         "OO",
         "XNA",
         "ORD"
        ],
        [
         "AA",
         "SJU",
         "MIA"
        ],
        [
         "US",
         "CLT",
         "SJU"
        ],
        [
         "US",
         "PDX",
         "PHX"
        ],
        [
         "US",
         "PDX",
         "CLT"
        ],
        [
         "AS",
         "SNA",
         "PDX"
        ],
        [
         "UA",
         "SNA",
         "ORD"
        ],
        [
         "AA",
         "ABQ",
         "DFW"
        ],
        [
         "DL",
         "LAX",
         "OGG"
        ],
        [
         "WN",
         "MDW",
         "EWR"
        ],
        [
         "WN",
         "MDW",
         "PHX"
        ],
        [
         "OO",
         "PHX",
         "MRY"
        ],
        [
         "DL",
         "DTW",
         "EWR"
        ],
        [
         "MQ",
         "AZO",
         "ORD"
        ],
        [
         "EV",
         "ORD",
         "IND"
        ],
        [
         "WN",
         "PDX",
         "MCI"
        ],
        [
         "WN",
         "LAX",
         "BNA"
        ],
        [
         "US",
         "LAS",
         "PHL"
        ],
        [
         "DL",
         "ATL",
         "DEN"
        ],
        [
         "EV",
         "DTW",
         "AVP"
        ],
        [
         "WN",
         "TUL",
         "LAS"
        ],
        [
         "WN",
         "SAT",
         "LAS"
        ],
        [
         "EV",
         "STL",
         "DTW"
        ],
        [
         "EV",
         "GRR",
         "ORD"
        ],
        [
         "F9",
         "RDU",
         "DEN"
        ],
        [
         "OO",
         "BUF",
         "ORD"
        ],
        [
         "AA",
         "IND",
         "CLT"
        ],
        [
         "DL",
         "DTW",
         "MDW"
        ],
        [
         "DL",
         "MCO",
         "CVG"
        ],
        [
         "DL",
         "TUL",
         "DTW"
        ],
        [
         "EV",
         "DEN",
         "TUL"
        ],
        [
         "OO",
         "MSP",
         "BZN"
        ],
        [
         "EV",
         "ORF",
         "ORD"
        ],
        [
         "B6",
         "LAS",
         "JFK"
        ],
        [
         "DL",
         "MSP",
         "BZN"
        ],
        [
         "EV",
         "DEN",
         "COS"
        ],
        [
         "WN",
         "OAK",
         "SEA"
        ],
        [
         "AA",
         "PHL",
         "RDU"
        ],
        [
         "OO",
         "GTF",
         "MSP"
        ],
        [
         "WN",
         "MDW",
         "LAX"
        ],
        [
         "UA",
         "LAX",
         "BOS"
        ],
        [
         "MQ",
         "DFW",
         "FSD"
        ],
        [
         "NK",
         "LGA",
         "DTW"
        ],
        [
         "WN",
         "BNA",
         "SEA"
        ],
        [
         "EV",
         "DFW",
         "TXK"
        ],
        [
         "MQ",
         "DFW",
         "GSP"
        ],
        [
         "WN",
         "PHX",
         "ELP"
        ],
        [
         "WN",
         "MCO",
         "HOU"
        ],
        [
         "B6",
         "JFK",
         "SLC"
        ],
        [
         "UA",
         "SFO",
         "ORD"
        ],
        [
         "UA",
         "DSM",
         "ORD"
        ],
        [
         "B6",
         "PDX",
         "LGB"
        ],
        [
         "NK",
         "PHX",
         "MSP"
        ],
        [
         "EV",
         "DTW",
         "SAT"
        ],
        [
         "OO",
         "CVG",
         "MSN"
        ],
        [
         "AA",
         "CLT",
         "EWR"
        ],
        [
         "OO",
         "ATW",
         "MSP"
        ],
        [
         "EV",
         "ATL",
         "STL"
        ],
        [
         "AS",
         "PDX",
         "SEA"
        ],
        [
         "US",
         "MCI",
         "CLT"
        ],
        [
         "EV",
         "DRO",
         "DEN"
        ],
        [
         "DL",
         "SLC",
         "ORD"
        ],
        [
         "OO",
         "AGS",
         "ATL"
        ],
        [
         "F9",
         "MSN",
         "MCO"
        ],
        [
         "AA",
         "LAX",
         "PIT"
        ],
        [
         "OO",
         "SEA",
         "BZN"
        ],
        [
         "DL",
         "MSP",
         "MIA"
        ],
        [
         "AA",
         "EGE",
         "LAX"
        ],
        [
         "AA",
         "PHX",
         "STL"
        ],
        [
         "EV",
         "LGA",
         "ROC"
        ],
        [
         "DL",
         "SFO",
         "LAX"
        ],
        [
         "US",
         "CLT",
         "MDT"
        ],
        [
         "UA",
         "SFO",
         "SEA"
        ],
        [
         "US",
         "LGA",
         "CLT"
        ],
        [
         "OO",
         "SLC",
         "DFW"
        ],
        [
         "EV",
         "CLT",
         "LGA"
        ],
        [
         "WN",
         "MSY",
         "MDW"
        ],
        [
         "OO",
         "SLC",
         "MSP"
        ],
        [
         "AA",
         "PHL",
         "SAN"
        ],
        [
         "UA",
         "OKC",
         "IAH"
        ],
        [
         "WN",
         "DEN",
         "MSP"
        ],
        [
         "NK",
         "TPA",
         "ACY"
        ],
        [
         "MQ",
         "DFW",
         "TXK"
        ],
        [
         "AS",
         "ANC",
         "OME"
        ],
        [
         "DL",
         "MKE",
         "MSP"
        ],
        [
         "DL",
         "CLT",
         "ATL"
        ],
        [
         "WN",
         "RDU",
         "BWI"
        ],
        [
         "OO",
         "BDL",
         "DTW"
        ],
        [
         "AS",
         "SEA",
         "BOS"
        ],
        [
         "AA",
         "SEA",
         "DFW"
        ],
        [
         "UA",
         "SFO",
         "JFK"
        ],
        [
         "EV",
         "MCO",
         "MKE"
        ],
        [
         "WN",
         "MDW",
         "ORF"
        ],
        [
         "DL",
         "DAY",
         "MSP"
        ],
        [
         "WN",
         "TPA",
         "ALB"
        ],
        [
         "EV",
         "ORD",
         "AVP"
        ],
        [
         "EV",
         "RIC",
         "IAH"
        ],
        [
         "UA",
         "SDF",
         "ORD"
        ],
        [
         "WN",
         "OKC",
         "LAS"
        ],
        [
         "MQ",
         "DSM",
         "DFW"
        ],
        [
         "F9",
         "DEN",
         "MSY"
        ],
        [
         "NK",
         "TPA",
         "LBE"
        ],
        [
         "NK",
         "MSP",
         "IAH"
        ],
        [
         "WN",
         "MCO",
         "ROC"
        ],
        [
         "EV",
         "ALB",
         "DTW"
        ],
        [
         "MQ",
         "ALO",
         "ORD"
        ],
        [
         "AA",
         "RNO",
         "ORD"
        ],
        [
         "EV",
         "ORD",
         "SYR"
        ],
        [
         "OO",
         "EVV",
         "DTW"
        ],
        [
         "EV",
         "MSN",
         "DFW"
        ],
        [
         "DL",
         "CAK",
         "DTW"
        ],
        [
         "B6",
         "HYA",
         "JFK"
        ],
        [
         "UA",
         "PSP",
         "DEN"
        ],
        [
         "MQ",
         "LGA",
         "BNA"
        ],
        [
         "NK",
         "MCO",
         "ORD"
        ],
        [
         "MQ",
         "MIA",
         "RIC"
        ],
        [
         "UA",
         "SLC",
         "ORD"
        ],
        [
         "MQ",
         "DAY",
         "LGA"
        ],
        [
         "WN",
         "ATL",
         "BOS"
        ],
        [
         "UA",
         "ANC",
         "IAH"
        ],
        [
         "DL",
         "PHX",
         "CVG"
        ],
        [
         "DL",
         "HSV",
         "ATL"
        ],
        [
         "EV",
         "RAP",
         "ORD"
        ],
        [
         "WN",
         "STL",
         "TUL"
        ],
        [
         "EV",
         "ATL",
         "EWR"
        ],
        [
         "OO",
         "BJI",
         "MSP"
        ],
        [
         "AA",
         "DFW",
         "PIT"
        ],
        [
         "MQ",
         "DFW",
         "BMI"
        ],
        [
         "HA",
         "OAK",
         "LIH"
        ],
        [
         "WN",
         "MDW",
         "ROC"
        ],
        [
         "OO",
         "IAD",
         "ORD"
        ],
        [
         "WN",
         "BOS",
         "MDW"
        ],
        [
         "WN",
         "TPA",
         "ORF"
        ],
        [
         "US",
         "SAT",
         "PHL"
        ],
        [
         "WN",
         "DCA",
         "MDW"
        ],
        [
         "WN",
         "MSP",
         "ATL"
        ],
        [
         "OO",
         "MSO",
         "SLC"
        ],
        [
         "B6",
         "ACK",
         "BOS"
        ],
        [
         "EV",
         "EWR",
         "RDU"
        ],
        [
         "AA",
         "MCO",
         "CLT"
        ],
        [
         "AS",
         "IAH",
         "SEA"
        ],
        [
         "OO",
         "CLD",
         "LAX"
        ],
        [
         "US",
         "STL",
         "CLT"
        ],
        [
         "UA",
         "TPA",
         "IAD"
        ],
        [
         "WN",
         "MDW",
         "AUS"
        ],
        [
         "OO",
         "LBB",
         "DEN"
        ],
        [
         "EV",
         "EWR",
         "JAX"
        ],
        [
         "AA",
         "DFW",
         "HDN"
        ],
        [
         "UA",
         "RDU",
         "IAH"
        ],
        [
         "NK",
         "ATL",
         "LAS"
        ],
        [
         "NK",
         "SAN",
         "ORD"
        ],
        [
         "AA",
         "CLT",
         "BDL"
        ],
        [
         "EV",
         "IAH",
         "PSP"
        ],
        [
         "OO",
         "SLC",
         "RDM"
        ],
        [
         "US",
         "PHX",
         "PDX"
        ],
        [
         "OO",
         "SFO",
         "TUS"
        ],
        [
         "OO",
         "FLG",
         "PHX"
        ],
        [
         "AA",
         "DFW",
         "JFK"
        ],
        [
         "DL",
         "HNL",
         "ATL"
        ],
        [
         "WN",
         "CMH",
         "TPA"
        ],
        [
         "EV",
         "MEI",
         "PIB"
        ],
        [
         "AA",
         "RDU",
         "DFW"
        ],
        [
         "OO",
         "IAH",
         "IND"
        ],
        [
         "US",
         "CLT",
         "DTW"
        ],
        [
         "EV",
         "ORD",
         "ATL"
        ],
        [
         "AA",
         "BOS",
         "DFW"
        ],
        [
         "EV",
         "RST",
         "DTW"
        ],
        [
         "EV",
         "GRR",
         "IAH"
        ],
        [
         "EV",
         "IND",
         "IAH"
        ],
        [
         "WN",
         "BHM",
         "MDW"
        ],
        [
         "OO",
         "TUL",
         "DEN"
        ],
        [
         "OO",
         "TUL",
         "DTW"
        ],
        [
         "DL",
         "SEA",
         "DTW"
        ],
        [
         "MQ",
         "MIA",
         "ORF"
        ],
        [
         "DL",
         "ATL",
         "SJC"
        ],
        [
         "OO",
         "IAH",
         "ABQ"
        ]
       ],
       "plotOptions": {
        "displayType": "table",
        "customPlotOptions": {},
        "pivotColumns": null,
        "pivotAggregation": null,
        "xColumns": null,
        "yColumns": null
       },
       "columnCustomDisplayInfos": {},
       "aggType": "",
       "isJsonSchema": true,
       "removedWidgets": [],
       "aggSchema": [],
       "schema": [
        {
         "name": "AIRLINE",
         "type": "\"string\"",
         "metadata": "{}"
        },
        {
         "name": "ORIGIN_AIRPORT",
         "type": "\"string\"",
         "metadata": "{}"
        },
        {
         "name": "DESTINATION_AIRPORT",
         "type": "\"string\"",
         "metadata": "{}"
        }
       ],
       "aggError": "",
       "aggData": [],
       "addedWidgets": {},
       "metadata": {},
       "dbfsResultPath": null,
       "type": "table",
       "aggOverflow": false,
       "aggSeriesLimitReached": false,
       "arguments": {}
      }
     },
     "output_type": "execute_result"
    }
   ],
   "source": [
    "%sql\n",
    "select * from view_report_6;"
   ]
  },
  {
   "cell_type": "code",
   "execution_count": 0,
   "metadata": {
    "application/vnd.databricks.v1+cell": {
     "title": "",
     "showTitle": false,
     "inputWidgets": {},
     "nuid": "91b7ce67-ef60-44d1-a7c6-f81861b34411"
    }
   },
   "outputs": [
    {
     "data": {
      "text/html": [
       "<style scoped>\n  .ansiout {\n    display: block;\n    unicode-bidi: embed;\n    white-space: pre-wrap;\n    word-wrap: break-word;\n    word-break: break-all;\n    font-family: \"Source Code Pro\", \"Menlo\", monospace;;\n    font-size: 13px;\n    color: #555;\n    margin-left: 4px;\n    line-height: 19px;\n  }\n</style>"
      ]
     },
     "metadata": {
      "application/vnd.databricks.v1+output": {
       "data": "",
       "errorSummary": "",
       "metadata": {},
       "type": "ipynbError",
       "arguments": {}
      }
     },
     "output_type": "execute_result"
    }
   ],
   "source": [
    ""
   ]
  }
 ],
 "metadata": {
  "application/vnd.databricks.v1+notebook": {
   "notebookName": "snowflake_table_loads_and_reports",
   "dashboards": [
    {
     "elements": [
      {
       "elementNUID": "7a70248a-1ff0-4cca-b8ba-f531007a3c31",
       "guid": "0befbc73-88c1-4596-8d2a-47c59781b3be",
       "options": null,
       "position": {
        "x": 0.0,
        "y": 6.0,
        "height": 6.0,
        "width": 12.0,
        "z": null
       },
       "elementType": "command"
      },
      {
       "elementNUID": "458954b0-0a4a-4c72-a5a2-3589cb337269",
       "guid": "42140de5-0f37-4e32-8d81-b1ae5565a461",
       "options": null,
       "position": {
        "x": 0.0,
        "y": 30.0,
        "height": 6.0,
        "width": 12.0,
        "z": null
       },
       "elementType": "command"
      },
      {
       "elementNUID": "b0e757a6-956d-4d50-b64e-9b771b467f1a",
       "guid": "5eb97dd4-34ea-4e5d-99b5-0dfbfc7c5fcb",
       "options": null,
       "position": {
        "x": 0.0,
        "y": 24.0,
        "height": 6.0,
        "width": 12.0,
        "z": null
       },
       "elementType": "command"
      },
      {
       "elementNUID": "d83709c0-94c1-44af-8661-19c9c02dc131",
       "guid": "6b35c36d-1af8-4141-a3c4-8592f0247914",
       "options": null,
       "position": {
        "x": 0.0,
        "y": 18.0,
        "height": 6.0,
        "width": 12.0,
        "z": null
       },
       "elementType": "command"
      },
      {
       "elementNUID": "3bcee222-49fb-49b9-9b49-9b1e72d85bb2",
       "guid": "8b651423-ea35-4bca-93ba-b8c685a7625f",
       "options": null,
       "position": {
        "x": 0.0,
        "y": 0.0,
        "height": 6.0,
        "width": 12.0,
        "z": null
       },
       "elementType": "command"
      },
      {
       "elementNUID": "f3073458-6b6f-4abf-a4ce-dc7b7aaad96b",
       "guid": "8caeb598-7d3e-4e35-8e2a-139276b28722",
       "options": null,
       "position": {
        "x": 0.0,
        "y": 12.0,
        "height": 6.0,
        "width": 12.0,
        "z": null
       },
       "elementType": "command"
      }
     ],
     "guid": "cbe1ebd9-a57f-4635-8bbe-e61c4359491a",
     "layoutOption": {
      "stack": true,
      "grid": true
     },
     "version": "DashboardViewV1",
     "nuid": "26498fd2-8c95-46ba-adcc-67a8a129a125",
     "origId": 9.94077992798319E14,
     "title": "Untitled",
     "width": 1024.0,
     "globalVars": {}
    },
    {
     "elements": [
      {
       "elementNUID": "3bcee222-49fb-49b9-9b49-9b1e72d85bb2",
       "guid": "0834a82e-aa78-46e7-a03e-d0222e032e39",
       "options": null,
       "position": {
        "x": 0.0,
        "y": 0.0,
        "height": 6.0,
        "width": 12.0,
        "z": null
       },
       "elementType": "command"
      },
      {
       "elementNUID": "f3073458-6b6f-4abf-a4ce-dc7b7aaad96b",
       "guid": "3484678c-2cb9-4e62-a676-7a4f952de28b",
       "options": null,
       "position": {
        "x": 0.0,
        "y": 12.0,
        "height": 6.0,
        "width": 12.0,
        "z": null
       },
       "elementType": "command"
      },
      {
       "elementNUID": "d83709c0-94c1-44af-8661-19c9c02dc131",
       "guid": "4afa900a-98d3-4e05-ad7c-246d260fdcbd",
       "options": null,
       "position": {
        "x": 0.0,
        "y": 18.0,
        "height": 6.0,
        "width": 12.0,
        "z": null
       },
       "elementType": "command"
      },
      {
       "elementNUID": "458954b0-0a4a-4c72-a5a2-3589cb337269",
       "guid": "59900979-e922-4e7f-a4c2-54e3ce49ec28",
       "options": null,
       "position": {
        "x": 0.0,
        "y": 30.0,
        "height": 6.0,
        "width": 12.0,
        "z": null
       },
       "elementType": "command"
      },
      {
       "elementNUID": "b0e757a6-956d-4d50-b64e-9b771b467f1a",
       "guid": "ac932f86-3727-479c-a0ac-52c1bfbd4ed4",
       "options": {
        "titleAlign": "center",
        "autoScaleImg": false,
        "scale": 0.0,
        "showTitle": false
       },
       "position": {
        "x": 0.0,
        "y": 24.0,
        "height": 6.0,
        "width": 12.0,
        "z": null
       },
       "elementType": "command"
      },
      {
       "elementNUID": "7a70248a-1ff0-4cca-b8ba-f531007a3c31",
       "guid": "e57d2ef3-1804-4715-8c25-2acde473cabe",
       "options": null,
       "position": {
        "x": 0.0,
        "y": 6.0,
        "height": 6.0,
        "width": 12.0,
        "z": null
       },
       "elementType": "command"
      }
     ],
     "guid": "e67d24de-3eec-434b-b239-fb7b48918228",
     "layoutOption": {
      "stack": true,
      "grid": true
     },
     "version": "DashboardViewV1",
     "nuid": "5b8062c9-c818-4a70-9168-9ea786f9c52b",
     "origId": 9.94077992798323E14,
     "title": "Reports",
     "width": 1024.0,
     "globalVars": {}
    }
   ],
   "notebookMetadata": {
    "pythonIndentUnit": 2.0
   },
   "language": "python",
   "widgets": {},
   "notebookOrigID": 9.94077992798294E14
  }
 },
 "nbformat": 4,
 "nbformat_minor": 0
}
